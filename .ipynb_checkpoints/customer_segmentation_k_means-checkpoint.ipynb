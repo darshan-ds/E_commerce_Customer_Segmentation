{
 "cells": [
  {
   "cell_type": "markdown",
   "metadata": {},
   "source": [
    "# E-commerce Customer Segmentation"
   ]
  },
  {
   "cell_type": "markdown",
   "metadata": {},
   "source": [
    "### Abstract\n",
    "A key challenge for e-commerce businesses is to analyze the trend in the market to increase their sales. The trend can be easily observed if the companies can group the customers; based on their activity on the e-commerce site. This grouping can be done by applying different criteria like previous orders, mostly searched brands and so on. \n",
    "### Problem Statement\n",
    "Given the e-commerce data, use k-means clustering algorithm to cluster customers with similar interest."
   ]
  },
  {
   "cell_type": "markdown",
   "metadata": {},
   "source": [
    "### Dataset Information\n",
    "The data was collected from a well known e-commerce website over a period of time based on the customer’s search profile.\n",
    "### Variable Description\n",
    "* __Cust_ID__ : Unique numbering for customers\n",
    "* __Gender__ : Gender of the customer\n",
    "* __Orders__ : Number of orders placed by each customer in the past\n",
    "\n",
    "__Remaining 35 features (brands) contains the number of times customers have searched them__"
   ]
  },
  {
   "cell_type": "markdown",
   "metadata": {},
   "source": [
    "# Assigning working directory"
   ]
  },
  {
   "cell_type": "code",
   "execution_count": 1,
   "metadata": {},
   "outputs": [],
   "source": [
    "import os\n",
    "os.chdir('C:/Users/Darshan/Desktop/Customer_segmentation_project/')"
   ]
  },
  {
   "cell_type": "markdown",
   "metadata": {},
   "source": [
    "# Importing Libraries"
   ]
  },
  {
   "cell_type": "code",
   "execution_count": 2,
   "metadata": {},
   "outputs": [],
   "source": [
    "import numpy as np\n",
    "import pandas as pd\n",
    "import matplotlib.pyplot as plt\n",
    "import seaborn as sns"
   ]
  },
  {
   "cell_type": "code",
   "execution_count": 3,
   "metadata": {},
   "outputs": [],
   "source": [
    "pd.options.display.max_rows = 100\n",
    "pd.options.display.max_columns = 100\n",
    "pd.set_option('display.max_colwidth', None)\n",
    "\n",
    "import warnings\n",
    "warnings.filterwarnings('ignore')"
   ]
  },
  {
   "cell_type": "markdown",
   "metadata": {},
   "source": [
    "# Importing dataset"
   ]
  },
  {
   "cell_type": "code",
   "execution_count": 5,
   "metadata": {},
   "outputs": [],
   "source": [
    "df = pd.read_excel('C:/Users/Darshan/Desktop/Customer_segmentation_project/Dataset/cust_data.xlsx')"
   ]
  },
  {
   "cell_type": "code",
   "execution_count": 6,
   "metadata": {},
   "outputs": [
    {
     "data": {
      "text/html": [
       "<div>\n",
       "<style scoped>\n",
       "    .dataframe tbody tr th:only-of-type {\n",
       "        vertical-align: middle;\n",
       "    }\n",
       "\n",
       "    .dataframe tbody tr th {\n",
       "        vertical-align: top;\n",
       "    }\n",
       "\n",
       "    .dataframe thead th {\n",
       "        text-align: right;\n",
       "    }\n",
       "</style>\n",
       "<table border=\"1\" class=\"dataframe\">\n",
       "  <thead>\n",
       "    <tr style=\"text-align: right;\">\n",
       "      <th></th>\n",
       "      <th>Cust_ID</th>\n",
       "      <th>Gender</th>\n",
       "      <th>Orders</th>\n",
       "      <th>Jordan</th>\n",
       "      <th>Gatorade</th>\n",
       "      <th>Samsung</th>\n",
       "      <th>Asus</th>\n",
       "      <th>Udis</th>\n",
       "      <th>Mondelez International</th>\n",
       "      <th>Wrangler</th>\n",
       "      <th>Vans</th>\n",
       "      <th>Fila</th>\n",
       "      <th>Brooks</th>\n",
       "      <th>H&amp;M</th>\n",
       "      <th>Dairy Queen</th>\n",
       "      <th>Fendi</th>\n",
       "      <th>Hewlett Packard</th>\n",
       "      <th>Pladis</th>\n",
       "      <th>Asics</th>\n",
       "      <th>Siemens</th>\n",
       "      <th>J.M. Smucker</th>\n",
       "      <th>Pop Chips</th>\n",
       "      <th>Juniper</th>\n",
       "      <th>Huawei</th>\n",
       "      <th>Compaq</th>\n",
       "      <th>IBM</th>\n",
       "      <th>Burberry</th>\n",
       "      <th>Mi</th>\n",
       "      <th>LG</th>\n",
       "      <th>Dior</th>\n",
       "      <th>Scabal</th>\n",
       "      <th>Tommy Hilfiger</th>\n",
       "      <th>Hollister</th>\n",
       "      <th>Forever 21</th>\n",
       "      <th>Colavita</th>\n",
       "      <th>Microsoft</th>\n",
       "      <th>Jiffy mix</th>\n",
       "      <th>Kraft</th>\n",
       "    </tr>\n",
       "  </thead>\n",
       "  <tbody>\n",
       "    <tr>\n",
       "      <th>0</th>\n",
       "      <td>1</td>\n",
       "      <td>M</td>\n",
       "      <td>7</td>\n",
       "      <td>0</td>\n",
       "      <td>0</td>\n",
       "      <td>0</td>\n",
       "      <td>0</td>\n",
       "      <td>0</td>\n",
       "      <td>0</td>\n",
       "      <td>0</td>\n",
       "      <td>2</td>\n",
       "      <td>0</td>\n",
       "      <td>0</td>\n",
       "      <td>0</td>\n",
       "      <td>0</td>\n",
       "      <td>0</td>\n",
       "      <td>0</td>\n",
       "      <td>0</td>\n",
       "      <td>0</td>\n",
       "      <td>0</td>\n",
       "      <td>0</td>\n",
       "      <td>0</td>\n",
       "      <td>0</td>\n",
       "      <td>0</td>\n",
       "      <td>0</td>\n",
       "      <td>0</td>\n",
       "      <td>0</td>\n",
       "      <td>0</td>\n",
       "      <td>0</td>\n",
       "      <td>0</td>\n",
       "      <td>0</td>\n",
       "      <td>0</td>\n",
       "      <td>0</td>\n",
       "      <td>0</td>\n",
       "      <td>0</td>\n",
       "      <td>0</td>\n",
       "      <td>0</td>\n",
       "      <td>0</td>\n",
       "    </tr>\n",
       "    <tr>\n",
       "      <th>1</th>\n",
       "      <td>2</td>\n",
       "      <td>F</td>\n",
       "      <td>0</td>\n",
       "      <td>0</td>\n",
       "      <td>1</td>\n",
       "      <td>0</td>\n",
       "      <td>0</td>\n",
       "      <td>0</td>\n",
       "      <td>0</td>\n",
       "      <td>0</td>\n",
       "      <td>0</td>\n",
       "      <td>0</td>\n",
       "      <td>0</td>\n",
       "      <td>1</td>\n",
       "      <td>0</td>\n",
       "      <td>0</td>\n",
       "      <td>0</td>\n",
       "      <td>0</td>\n",
       "      <td>0</td>\n",
       "      <td>0</td>\n",
       "      <td>2</td>\n",
       "      <td>2</td>\n",
       "      <td>1</td>\n",
       "      <td>0</td>\n",
       "      <td>0</td>\n",
       "      <td>0</td>\n",
       "      <td>6</td>\n",
       "      <td>4</td>\n",
       "      <td>0</td>\n",
       "      <td>1</td>\n",
       "      <td>0</td>\n",
       "      <td>0</td>\n",
       "      <td>0</td>\n",
       "      <td>0</td>\n",
       "      <td>0</td>\n",
       "      <td>0</td>\n",
       "      <td>0</td>\n",
       "      <td>0</td>\n",
       "    </tr>\n",
       "    <tr>\n",
       "      <th>2</th>\n",
       "      <td>3</td>\n",
       "      <td>M</td>\n",
       "      <td>7</td>\n",
       "      <td>0</td>\n",
       "      <td>1</td>\n",
       "      <td>0</td>\n",
       "      <td>0</td>\n",
       "      <td>0</td>\n",
       "      <td>0</td>\n",
       "      <td>0</td>\n",
       "      <td>0</td>\n",
       "      <td>0</td>\n",
       "      <td>0</td>\n",
       "      <td>0</td>\n",
       "      <td>0</td>\n",
       "      <td>0</td>\n",
       "      <td>0</td>\n",
       "      <td>0</td>\n",
       "      <td>2</td>\n",
       "      <td>0</td>\n",
       "      <td>1</td>\n",
       "      <td>0</td>\n",
       "      <td>0</td>\n",
       "      <td>0</td>\n",
       "      <td>0</td>\n",
       "      <td>0</td>\n",
       "      <td>0</td>\n",
       "      <td>0</td>\n",
       "      <td>0</td>\n",
       "      <td>0</td>\n",
       "      <td>0</td>\n",
       "      <td>0</td>\n",
       "      <td>0</td>\n",
       "      <td>0</td>\n",
       "      <td>0</td>\n",
       "      <td>1</td>\n",
       "      <td>0</td>\n",
       "      <td>0</td>\n",
       "    </tr>\n",
       "    <tr>\n",
       "      <th>3</th>\n",
       "      <td>4</td>\n",
       "      <td>F</td>\n",
       "      <td>0</td>\n",
       "      <td>0</td>\n",
       "      <td>0</td>\n",
       "      <td>0</td>\n",
       "      <td>0</td>\n",
       "      <td>0</td>\n",
       "      <td>0</td>\n",
       "      <td>0</td>\n",
       "      <td>0</td>\n",
       "      <td>0</td>\n",
       "      <td>0</td>\n",
       "      <td>1</td>\n",
       "      <td>0</td>\n",
       "      <td>0</td>\n",
       "      <td>0</td>\n",
       "      <td>0</td>\n",
       "      <td>0</td>\n",
       "      <td>0</td>\n",
       "      <td>0</td>\n",
       "      <td>1</td>\n",
       "      <td>0</td>\n",
       "      <td>0</td>\n",
       "      <td>0</td>\n",
       "      <td>0</td>\n",
       "      <td>0</td>\n",
       "      <td>0</td>\n",
       "      <td>0</td>\n",
       "      <td>0</td>\n",
       "      <td>0</td>\n",
       "      <td>0</td>\n",
       "      <td>0</td>\n",
       "      <td>0</td>\n",
       "      <td>0</td>\n",
       "      <td>0</td>\n",
       "      <td>0</td>\n",
       "      <td>0</td>\n",
       "    </tr>\n",
       "    <tr>\n",
       "      <th>4</th>\n",
       "      <td>5</td>\n",
       "      <td>NaN</td>\n",
       "      <td>10</td>\n",
       "      <td>0</td>\n",
       "      <td>0</td>\n",
       "      <td>0</td>\n",
       "      <td>0</td>\n",
       "      <td>0</td>\n",
       "      <td>0</td>\n",
       "      <td>0</td>\n",
       "      <td>0</td>\n",
       "      <td>0</td>\n",
       "      <td>0</td>\n",
       "      <td>0</td>\n",
       "      <td>1</td>\n",
       "      <td>0</td>\n",
       "      <td>0</td>\n",
       "      <td>5</td>\n",
       "      <td>1</td>\n",
       "      <td>0</td>\n",
       "      <td>3</td>\n",
       "      <td>0</td>\n",
       "      <td>1</td>\n",
       "      <td>0</td>\n",
       "      <td>0</td>\n",
       "      <td>0</td>\n",
       "      <td>1</td>\n",
       "      <td>0</td>\n",
       "      <td>0</td>\n",
       "      <td>0</td>\n",
       "      <td>2</td>\n",
       "      <td>0</td>\n",
       "      <td>0</td>\n",
       "      <td>0</td>\n",
       "      <td>0</td>\n",
       "      <td>0</td>\n",
       "      <td>1</td>\n",
       "      <td>1</td>\n",
       "    </tr>\n",
       "  </tbody>\n",
       "</table>\n",
       "</div>"
      ],
      "text/plain": [
       "   Cust_ID Gender  Orders  Jordan  Gatorade  Samsung  Asus  Udis  \\\n",
       "0        1      M       7       0         0        0     0     0   \n",
       "1        2      F       0       0         1        0     0     0   \n",
       "2        3      M       7       0         1        0     0     0   \n",
       "3        4      F       0       0         0        0     0     0   \n",
       "4        5    NaN      10       0         0        0     0     0   \n",
       "\n",
       "   Mondelez International  Wrangler  Vans  Fila  Brooks  H&M  Dairy Queen  \\\n",
       "0                       0         0     2     0       0    0            0   \n",
       "1                       0         0     0     0       0    1            0   \n",
       "2                       0         0     0     0       0    0            0   \n",
       "3                       0         0     0     0       0    1            0   \n",
       "4                       0         0     0     0       0    0            1   \n",
       "\n",
       "   Fendi  Hewlett Packard  Pladis  Asics  Siemens  J.M. Smucker  Pop Chips  \\\n",
       "0      0                0       0      0        0             0          0   \n",
       "1      0                0       0      0        0             2          2   \n",
       "2      0                0       0      2        0             1          0   \n",
       "3      0                0       0      0        0             0          1   \n",
       "4      0                0       5      1        0             3          0   \n",
       "\n",
       "   Juniper  Huawei  Compaq  IBM  Burberry  Mi  LG  Dior  Scabal  \\\n",
       "0        0       0       0    0         0   0   0     0       0   \n",
       "1        1       0       0    0         6   4   0     1       0   \n",
       "2        0       0       0    0         0   0   0     0       0   \n",
       "3        0       0       0    0         0   0   0     0       0   \n",
       "4        1       0       0    0         1   0   0     0       2   \n",
       "\n",
       "   Tommy Hilfiger  Hollister  Forever 21  Colavita  Microsoft  Jiffy mix  \\\n",
       "0               0          0           0         0          0          0   \n",
       "1               0          0           0         0          0          0   \n",
       "2               0          0           0         0          1          0   \n",
       "3               0          0           0         0          0          0   \n",
       "4               0          0           0         0          0          1   \n",
       "\n",
       "   Kraft  \n",
       "0      0  \n",
       "1      0  \n",
       "2      0  \n",
       "3      0  \n",
       "4      1  "
      ]
     },
     "execution_count": 6,
     "metadata": {},
     "output_type": "execute_result"
    }
   ],
   "source": [
    "df.head()"
   ]
  },
  {
   "cell_type": "code",
   "execution_count": 7,
   "metadata": {},
   "outputs": [
    {
     "data": {
      "text/plain": [
       "(30000, 38)"
      ]
     },
     "execution_count": 7,
     "metadata": {},
     "output_type": "execute_result"
    }
   ],
   "source": [
    "df.shape"
   ]
  },
  {
   "cell_type": "markdown",
   "metadata": {},
   "source": [
    "# Basic commands"
   ]
  },
  {
   "cell_type": "code",
   "execution_count": 8,
   "metadata": {},
   "outputs": [
    {
     "data": {
      "text/html": [
       "<div>\n",
       "<style scoped>\n",
       "    .dataframe tbody tr th:only-of-type {\n",
       "        vertical-align: middle;\n",
       "    }\n",
       "\n",
       "    .dataframe tbody tr th {\n",
       "        vertical-align: top;\n",
       "    }\n",
       "\n",
       "    .dataframe thead th {\n",
       "        text-align: right;\n",
       "    }\n",
       "</style>\n",
       "<table border=\"1\" class=\"dataframe\">\n",
       "  <thead>\n",
       "    <tr style=\"text-align: right;\">\n",
       "      <th></th>\n",
       "      <th>Cust_ID</th>\n",
       "      <th>Gender</th>\n",
       "      <th>Orders</th>\n",
       "      <th>Jordan</th>\n",
       "      <th>Gatorade</th>\n",
       "      <th>Samsung</th>\n",
       "      <th>Asus</th>\n",
       "      <th>Udis</th>\n",
       "      <th>Mondelez International</th>\n",
       "      <th>Wrangler</th>\n",
       "      <th>Vans</th>\n",
       "      <th>Fila</th>\n",
       "      <th>Brooks</th>\n",
       "      <th>H&amp;M</th>\n",
       "      <th>Dairy Queen</th>\n",
       "      <th>Fendi</th>\n",
       "      <th>Hewlett Packard</th>\n",
       "      <th>Pladis</th>\n",
       "      <th>Asics</th>\n",
       "      <th>Siemens</th>\n",
       "      <th>J.M. Smucker</th>\n",
       "      <th>Pop Chips</th>\n",
       "      <th>Juniper</th>\n",
       "      <th>Huawei</th>\n",
       "      <th>Compaq</th>\n",
       "      <th>IBM</th>\n",
       "      <th>Burberry</th>\n",
       "      <th>Mi</th>\n",
       "      <th>LG</th>\n",
       "      <th>Dior</th>\n",
       "      <th>Scabal</th>\n",
       "      <th>Tommy Hilfiger</th>\n",
       "      <th>Hollister</th>\n",
       "      <th>Forever 21</th>\n",
       "      <th>Colavita</th>\n",
       "      <th>Microsoft</th>\n",
       "      <th>Jiffy mix</th>\n",
       "      <th>Kraft</th>\n",
       "    </tr>\n",
       "  </thead>\n",
       "  <tbody>\n",
       "    <tr>\n",
       "      <th>0</th>\n",
       "      <td>1</td>\n",
       "      <td>M</td>\n",
       "      <td>7</td>\n",
       "      <td>0</td>\n",
       "      <td>0</td>\n",
       "      <td>0</td>\n",
       "      <td>0</td>\n",
       "      <td>0</td>\n",
       "      <td>0</td>\n",
       "      <td>0</td>\n",
       "      <td>2</td>\n",
       "      <td>0</td>\n",
       "      <td>0</td>\n",
       "      <td>0</td>\n",
       "      <td>0</td>\n",
       "      <td>0</td>\n",
       "      <td>0</td>\n",
       "      <td>0</td>\n",
       "      <td>0</td>\n",
       "      <td>0</td>\n",
       "      <td>0</td>\n",
       "      <td>0</td>\n",
       "      <td>0</td>\n",
       "      <td>0</td>\n",
       "      <td>0</td>\n",
       "      <td>0</td>\n",
       "      <td>0</td>\n",
       "      <td>0</td>\n",
       "      <td>0</td>\n",
       "      <td>0</td>\n",
       "      <td>0</td>\n",
       "      <td>0</td>\n",
       "      <td>0</td>\n",
       "      <td>0</td>\n",
       "      <td>0</td>\n",
       "      <td>0</td>\n",
       "      <td>0</td>\n",
       "      <td>0</td>\n",
       "    </tr>\n",
       "    <tr>\n",
       "      <th>1</th>\n",
       "      <td>2</td>\n",
       "      <td>F</td>\n",
       "      <td>0</td>\n",
       "      <td>0</td>\n",
       "      <td>1</td>\n",
       "      <td>0</td>\n",
       "      <td>0</td>\n",
       "      <td>0</td>\n",
       "      <td>0</td>\n",
       "      <td>0</td>\n",
       "      <td>0</td>\n",
       "      <td>0</td>\n",
       "      <td>0</td>\n",
       "      <td>1</td>\n",
       "      <td>0</td>\n",
       "      <td>0</td>\n",
       "      <td>0</td>\n",
       "      <td>0</td>\n",
       "      <td>0</td>\n",
       "      <td>0</td>\n",
       "      <td>2</td>\n",
       "      <td>2</td>\n",
       "      <td>1</td>\n",
       "      <td>0</td>\n",
       "      <td>0</td>\n",
       "      <td>0</td>\n",
       "      <td>6</td>\n",
       "      <td>4</td>\n",
       "      <td>0</td>\n",
       "      <td>1</td>\n",
       "      <td>0</td>\n",
       "      <td>0</td>\n",
       "      <td>0</td>\n",
       "      <td>0</td>\n",
       "      <td>0</td>\n",
       "      <td>0</td>\n",
       "      <td>0</td>\n",
       "      <td>0</td>\n",
       "    </tr>\n",
       "    <tr>\n",
       "      <th>2</th>\n",
       "      <td>3</td>\n",
       "      <td>M</td>\n",
       "      <td>7</td>\n",
       "      <td>0</td>\n",
       "      <td>1</td>\n",
       "      <td>0</td>\n",
       "      <td>0</td>\n",
       "      <td>0</td>\n",
       "      <td>0</td>\n",
       "      <td>0</td>\n",
       "      <td>0</td>\n",
       "      <td>0</td>\n",
       "      <td>0</td>\n",
       "      <td>0</td>\n",
       "      <td>0</td>\n",
       "      <td>0</td>\n",
       "      <td>0</td>\n",
       "      <td>0</td>\n",
       "      <td>2</td>\n",
       "      <td>0</td>\n",
       "      <td>1</td>\n",
       "      <td>0</td>\n",
       "      <td>0</td>\n",
       "      <td>0</td>\n",
       "      <td>0</td>\n",
       "      <td>0</td>\n",
       "      <td>0</td>\n",
       "      <td>0</td>\n",
       "      <td>0</td>\n",
       "      <td>0</td>\n",
       "      <td>0</td>\n",
       "      <td>0</td>\n",
       "      <td>0</td>\n",
       "      <td>0</td>\n",
       "      <td>0</td>\n",
       "      <td>1</td>\n",
       "      <td>0</td>\n",
       "      <td>0</td>\n",
       "    </tr>\n",
       "    <tr>\n",
       "      <th>3</th>\n",
       "      <td>4</td>\n",
       "      <td>F</td>\n",
       "      <td>0</td>\n",
       "      <td>0</td>\n",
       "      <td>0</td>\n",
       "      <td>0</td>\n",
       "      <td>0</td>\n",
       "      <td>0</td>\n",
       "      <td>0</td>\n",
       "      <td>0</td>\n",
       "      <td>0</td>\n",
       "      <td>0</td>\n",
       "      <td>0</td>\n",
       "      <td>1</td>\n",
       "      <td>0</td>\n",
       "      <td>0</td>\n",
       "      <td>0</td>\n",
       "      <td>0</td>\n",
       "      <td>0</td>\n",
       "      <td>0</td>\n",
       "      <td>0</td>\n",
       "      <td>1</td>\n",
       "      <td>0</td>\n",
       "      <td>0</td>\n",
       "      <td>0</td>\n",
       "      <td>0</td>\n",
       "      <td>0</td>\n",
       "      <td>0</td>\n",
       "      <td>0</td>\n",
       "      <td>0</td>\n",
       "      <td>0</td>\n",
       "      <td>0</td>\n",
       "      <td>0</td>\n",
       "      <td>0</td>\n",
       "      <td>0</td>\n",
       "      <td>0</td>\n",
       "      <td>0</td>\n",
       "      <td>0</td>\n",
       "    </tr>\n",
       "    <tr>\n",
       "      <th>4</th>\n",
       "      <td>5</td>\n",
       "      <td>NaN</td>\n",
       "      <td>10</td>\n",
       "      <td>0</td>\n",
       "      <td>0</td>\n",
       "      <td>0</td>\n",
       "      <td>0</td>\n",
       "      <td>0</td>\n",
       "      <td>0</td>\n",
       "      <td>0</td>\n",
       "      <td>0</td>\n",
       "      <td>0</td>\n",
       "      <td>0</td>\n",
       "      <td>0</td>\n",
       "      <td>1</td>\n",
       "      <td>0</td>\n",
       "      <td>0</td>\n",
       "      <td>5</td>\n",
       "      <td>1</td>\n",
       "      <td>0</td>\n",
       "      <td>3</td>\n",
       "      <td>0</td>\n",
       "      <td>1</td>\n",
       "      <td>0</td>\n",
       "      <td>0</td>\n",
       "      <td>0</td>\n",
       "      <td>1</td>\n",
       "      <td>0</td>\n",
       "      <td>0</td>\n",
       "      <td>0</td>\n",
       "      <td>2</td>\n",
       "      <td>0</td>\n",
       "      <td>0</td>\n",
       "      <td>0</td>\n",
       "      <td>0</td>\n",
       "      <td>0</td>\n",
       "      <td>1</td>\n",
       "      <td>1</td>\n",
       "    </tr>\n",
       "  </tbody>\n",
       "</table>\n",
       "</div>"
      ],
      "text/plain": [
       "   Cust_ID Gender  Orders  Jordan  Gatorade  Samsung  Asus  Udis  \\\n",
       "0        1      M       7       0         0        0     0     0   \n",
       "1        2      F       0       0         1        0     0     0   \n",
       "2        3      M       7       0         1        0     0     0   \n",
       "3        4      F       0       0         0        0     0     0   \n",
       "4        5    NaN      10       0         0        0     0     0   \n",
       "\n",
       "   Mondelez International  Wrangler  Vans  Fila  Brooks  H&M  Dairy Queen  \\\n",
       "0                       0         0     2     0       0    0            0   \n",
       "1                       0         0     0     0       0    1            0   \n",
       "2                       0         0     0     0       0    0            0   \n",
       "3                       0         0     0     0       0    1            0   \n",
       "4                       0         0     0     0       0    0            1   \n",
       "\n",
       "   Fendi  Hewlett Packard  Pladis  Asics  Siemens  J.M. Smucker  Pop Chips  \\\n",
       "0      0                0       0      0        0             0          0   \n",
       "1      0                0       0      0        0             2          2   \n",
       "2      0                0       0      2        0             1          0   \n",
       "3      0                0       0      0        0             0          1   \n",
       "4      0                0       5      1        0             3          0   \n",
       "\n",
       "   Juniper  Huawei  Compaq  IBM  Burberry  Mi  LG  Dior  Scabal  \\\n",
       "0        0       0       0    0         0   0   0     0       0   \n",
       "1        1       0       0    0         6   4   0     1       0   \n",
       "2        0       0       0    0         0   0   0     0       0   \n",
       "3        0       0       0    0         0   0   0     0       0   \n",
       "4        1       0       0    0         1   0   0     0       2   \n",
       "\n",
       "   Tommy Hilfiger  Hollister  Forever 21  Colavita  Microsoft  Jiffy mix  \\\n",
       "0               0          0           0         0          0          0   \n",
       "1               0          0           0         0          0          0   \n",
       "2               0          0           0         0          1          0   \n",
       "3               0          0           0         0          0          0   \n",
       "4               0          0           0         0          0          1   \n",
       "\n",
       "   Kraft  \n",
       "0      0  \n",
       "1      0  \n",
       "2      0  \n",
       "3      0  \n",
       "4      1  "
      ]
     },
     "execution_count": 8,
     "metadata": {},
     "output_type": "execute_result"
    }
   ],
   "source": [
    "df.head()"
   ]
  },
  {
   "cell_type": "code",
   "execution_count": 9,
   "metadata": {},
   "outputs": [
    {
     "name": "stdout",
     "output_type": "stream",
     "text": [
      "<class 'pandas.core.frame.DataFrame'>\n",
      "RangeIndex: 30000 entries, 0 to 29999\n",
      "Data columns (total 38 columns):\n",
      " #   Column                  Non-Null Count  Dtype \n",
      "---  ------                  --------------  ----- \n",
      " 0   Cust_ID                 30000 non-null  int64 \n",
      " 1   Gender                  27276 non-null  object\n",
      " 2   Orders                  30000 non-null  int64 \n",
      " 3   Jordan                  30000 non-null  int64 \n",
      " 4   Gatorade                30000 non-null  int64 \n",
      " 5   Samsung                 30000 non-null  int64 \n",
      " 6   Asus                    30000 non-null  int64 \n",
      " 7   Udis                    30000 non-null  int64 \n",
      " 8   Mondelez International  30000 non-null  int64 \n",
      " 9   Wrangler                30000 non-null  int64 \n",
      " 10  Vans                    30000 non-null  int64 \n",
      " 11  Fila                    30000 non-null  int64 \n",
      " 12  Brooks                  30000 non-null  int64 \n",
      " 13  H&M                     30000 non-null  int64 \n",
      " 14  Dairy Queen             30000 non-null  int64 \n",
      " 15  Fendi                   30000 non-null  int64 \n",
      " 16  Hewlett Packard         30000 non-null  int64 \n",
      " 17  Pladis                  30000 non-null  int64 \n",
      " 18  Asics                   30000 non-null  int64 \n",
      " 19  Siemens                 30000 non-null  int64 \n",
      " 20  J.M. Smucker            30000 non-null  int64 \n",
      " 21  Pop Chips               30000 non-null  int64 \n",
      " 22  Juniper                 30000 non-null  int64 \n",
      " 23  Huawei                  30000 non-null  int64 \n",
      " 24  Compaq                  30000 non-null  int64 \n",
      " 25  IBM                     30000 non-null  int64 \n",
      " 26  Burberry                30000 non-null  int64 \n",
      " 27  Mi                      30000 non-null  int64 \n",
      " 28  LG                      30000 non-null  int64 \n",
      " 29  Dior                    30000 non-null  int64 \n",
      " 30  Scabal                  30000 non-null  int64 \n",
      " 31  Tommy Hilfiger          30000 non-null  int64 \n",
      " 32  Hollister               30000 non-null  int64 \n",
      " 33  Forever 21              30000 non-null  int64 \n",
      " 34  Colavita                30000 non-null  int64 \n",
      " 35  Microsoft               30000 non-null  int64 \n",
      " 36  Jiffy mix               30000 non-null  int64 \n",
      " 37  Kraft                   30000 non-null  int64 \n",
      "dtypes: int64(37), object(1)\n",
      "memory usage: 8.7+ MB\n"
     ]
    }
   ],
   "source": [
    "df.info()"
   ]
  },
  {
   "cell_type": "code",
   "execution_count": 11,
   "metadata": {},
   "outputs": [
    {
     "data": {
      "text/html": [
       "<div>\n",
       "<style scoped>\n",
       "    .dataframe tbody tr th:only-of-type {\n",
       "        vertical-align: middle;\n",
       "    }\n",
       "\n",
       "    .dataframe tbody tr th {\n",
       "        vertical-align: top;\n",
       "    }\n",
       "\n",
       "    .dataframe thead th {\n",
       "        text-align: right;\n",
       "    }\n",
       "</style>\n",
       "<table border=\"1\" class=\"dataframe\">\n",
       "  <thead>\n",
       "    <tr style=\"text-align: right;\">\n",
       "      <th></th>\n",
       "      <th>count</th>\n",
       "      <th>mean</th>\n",
       "      <th>std</th>\n",
       "      <th>min</th>\n",
       "      <th>25%</th>\n",
       "      <th>50%</th>\n",
       "      <th>75%</th>\n",
       "      <th>max</th>\n",
       "    </tr>\n",
       "  </thead>\n",
       "  <tbody>\n",
       "    <tr>\n",
       "      <th>Cust_ID</th>\n",
       "      <td>30000.0</td>\n",
       "      <td>15000.500000</td>\n",
       "      <td>8660.398374</td>\n",
       "      <td>1.0</td>\n",
       "      <td>7500.75</td>\n",
       "      <td>15000.5</td>\n",
       "      <td>22500.25</td>\n",
       "      <td>30000.0</td>\n",
       "    </tr>\n",
       "    <tr>\n",
       "      <th>Orders</th>\n",
       "      <td>30000.0</td>\n",
       "      <td>4.169800</td>\n",
       "      <td>3.590311</td>\n",
       "      <td>0.0</td>\n",
       "      <td>1.00</td>\n",
       "      <td>4.0</td>\n",
       "      <td>7.00</td>\n",
       "      <td>12.0</td>\n",
       "    </tr>\n",
       "    <tr>\n",
       "      <th>Jordan</th>\n",
       "      <td>30000.0</td>\n",
       "      <td>0.267433</td>\n",
       "      <td>0.804778</td>\n",
       "      <td>0.0</td>\n",
       "      <td>0.00</td>\n",
       "      <td>0.0</td>\n",
       "      <td>0.00</td>\n",
       "      <td>24.0</td>\n",
       "    </tr>\n",
       "    <tr>\n",
       "      <th>Gatorade</th>\n",
       "      <td>30000.0</td>\n",
       "      <td>0.252333</td>\n",
       "      <td>0.705368</td>\n",
       "      <td>0.0</td>\n",
       "      <td>0.00</td>\n",
       "      <td>0.0</td>\n",
       "      <td>0.00</td>\n",
       "      <td>15.0</td>\n",
       "    </tr>\n",
       "    <tr>\n",
       "      <th>Samsung</th>\n",
       "      <td>30000.0</td>\n",
       "      <td>0.222933</td>\n",
       "      <td>0.917494</td>\n",
       "      <td>0.0</td>\n",
       "      <td>0.00</td>\n",
       "      <td>0.0</td>\n",
       "      <td>0.00</td>\n",
       "      <td>27.0</td>\n",
       "    </tr>\n",
       "    <tr>\n",
       "      <th>Asus</th>\n",
       "      <td>30000.0</td>\n",
       "      <td>0.161333</td>\n",
       "      <td>0.740038</td>\n",
       "      <td>0.0</td>\n",
       "      <td>0.00</td>\n",
       "      <td>0.0</td>\n",
       "      <td>0.00</td>\n",
       "      <td>17.0</td>\n",
       "    </tr>\n",
       "    <tr>\n",
       "      <th>Udis</th>\n",
       "      <td>30000.0</td>\n",
       "      <td>0.143533</td>\n",
       "      <td>0.641258</td>\n",
       "      <td>0.0</td>\n",
       "      <td>0.00</td>\n",
       "      <td>0.0</td>\n",
       "      <td>0.00</td>\n",
       "      <td>14.0</td>\n",
       "    </tr>\n",
       "    <tr>\n",
       "      <th>Mondelez International</th>\n",
       "      <td>30000.0</td>\n",
       "      <td>0.139767</td>\n",
       "      <td>0.525840</td>\n",
       "      <td>0.0</td>\n",
       "      <td>0.00</td>\n",
       "      <td>0.0</td>\n",
       "      <td>0.00</td>\n",
       "      <td>31.0</td>\n",
       "    </tr>\n",
       "    <tr>\n",
       "      <th>Wrangler</th>\n",
       "      <td>30000.0</td>\n",
       "      <td>0.106933</td>\n",
       "      <td>0.515921</td>\n",
       "      <td>0.0</td>\n",
       "      <td>0.00</td>\n",
       "      <td>0.0</td>\n",
       "      <td>0.00</td>\n",
       "      <td>9.0</td>\n",
       "    </tr>\n",
       "    <tr>\n",
       "      <th>Vans</th>\n",
       "      <td>30000.0</td>\n",
       "      <td>0.111433</td>\n",
       "      <td>0.547990</td>\n",
       "      <td>0.0</td>\n",
       "      <td>0.00</td>\n",
       "      <td>0.0</td>\n",
       "      <td>0.00</td>\n",
       "      <td>16.0</td>\n",
       "    </tr>\n",
       "    <tr>\n",
       "      <th>Fila</th>\n",
       "      <td>30000.0</td>\n",
       "      <td>0.094267</td>\n",
       "      <td>0.531592</td>\n",
       "      <td>0.0</td>\n",
       "      <td>0.00</td>\n",
       "      <td>0.0</td>\n",
       "      <td>0.00</td>\n",
       "      <td>15.0</td>\n",
       "    </tr>\n",
       "    <tr>\n",
       "      <th>Brooks</th>\n",
       "      <td>30000.0</td>\n",
       "      <td>0.140133</td>\n",
       "      <td>0.471278</td>\n",
       "      <td>0.0</td>\n",
       "      <td>0.00</td>\n",
       "      <td>0.0</td>\n",
       "      <td>0.00</td>\n",
       "      <td>12.0</td>\n",
       "    </tr>\n",
       "    <tr>\n",
       "      <th>H&amp;M</th>\n",
       "      <td>30000.0</td>\n",
       "      <td>0.328200</td>\n",
       "      <td>0.807655</td>\n",
       "      <td>0.0</td>\n",
       "      <td>0.00</td>\n",
       "      <td>0.0</td>\n",
       "      <td>0.00</td>\n",
       "      <td>18.0</td>\n",
       "    </tr>\n",
       "    <tr>\n",
       "      <th>Dairy Queen</th>\n",
       "      <td>30000.0</td>\n",
       "      <td>0.209333</td>\n",
       "      <td>1.116820</td>\n",
       "      <td>0.0</td>\n",
       "      <td>0.00</td>\n",
       "      <td>0.0</td>\n",
       "      <td>0.00</td>\n",
       "      <td>114.0</td>\n",
       "    </tr>\n",
       "    <tr>\n",
       "      <th>Fendi</th>\n",
       "      <td>30000.0</td>\n",
       "      <td>0.141467</td>\n",
       "      <td>0.529210</td>\n",
       "      <td>0.0</td>\n",
       "      <td>0.00</td>\n",
       "      <td>0.0</td>\n",
       "      <td>0.00</td>\n",
       "      <td>18.0</td>\n",
       "    </tr>\n",
       "    <tr>\n",
       "      <th>Hewlett Packard</th>\n",
       "      <td>30000.0</td>\n",
       "      <td>0.161100</td>\n",
       "      <td>0.604835</td>\n",
       "      <td>0.0</td>\n",
       "      <td>0.00</td>\n",
       "      <td>0.0</td>\n",
       "      <td>0.00</td>\n",
       "      <td>10.0</td>\n",
       "    </tr>\n",
       "    <tr>\n",
       "      <th>Pladis</th>\n",
       "      <td>30000.0</td>\n",
       "      <td>0.106100</td>\n",
       "      <td>0.516512</td>\n",
       "      <td>0.0</td>\n",
       "      <td>0.00</td>\n",
       "      <td>0.0</td>\n",
       "      <td>0.00</td>\n",
       "      <td>26.0</td>\n",
       "    </tr>\n",
       "    <tr>\n",
       "      <th>Asics</th>\n",
       "      <td>30000.0</td>\n",
       "      <td>0.300233</td>\n",
       "      <td>1.119167</td>\n",
       "      <td>0.0</td>\n",
       "      <td>0.00</td>\n",
       "      <td>0.0</td>\n",
       "      <td>0.00</td>\n",
       "      <td>66.0</td>\n",
       "    </tr>\n",
       "    <tr>\n",
       "      <th>Siemens</th>\n",
       "      <td>30000.0</td>\n",
       "      <td>0.048067</td>\n",
       "      <td>0.338763</td>\n",
       "      <td>0.0</td>\n",
       "      <td>0.00</td>\n",
       "      <td>0.0</td>\n",
       "      <td>0.00</td>\n",
       "      <td>11.0</td>\n",
       "    </tr>\n",
       "    <tr>\n",
       "      <th>J.M. Smucker</th>\n",
       "      <td>30000.0</td>\n",
       "      <td>0.754800</td>\n",
       "      <td>1.262166</td>\n",
       "      <td>0.0</td>\n",
       "      <td>0.00</td>\n",
       "      <td>0.0</td>\n",
       "      <td>1.00</td>\n",
       "      <td>64.0</td>\n",
       "    </tr>\n",
       "    <tr>\n",
       "      <th>Pop Chips</th>\n",
       "      <td>30000.0</td>\n",
       "      <td>0.247900</td>\n",
       "      <td>0.724106</td>\n",
       "      <td>0.0</td>\n",
       "      <td>0.00</td>\n",
       "      <td>0.0</td>\n",
       "      <td>0.00</td>\n",
       "      <td>21.0</td>\n",
       "    </tr>\n",
       "    <tr>\n",
       "      <th>Juniper</th>\n",
       "      <td>30000.0</td>\n",
       "      <td>0.470833</td>\n",
       "      <td>1.346159</td>\n",
       "      <td>0.0</td>\n",
       "      <td>0.00</td>\n",
       "      <td>0.0</td>\n",
       "      <td>1.00</td>\n",
       "      <td>79.0</td>\n",
       "    </tr>\n",
       "    <tr>\n",
       "      <th>Huawei</th>\n",
       "      <td>30000.0</td>\n",
       "      <td>0.258000</td>\n",
       "      <td>0.848288</td>\n",
       "      <td>0.0</td>\n",
       "      <td>0.00</td>\n",
       "      <td>0.0</td>\n",
       "      <td>0.00</td>\n",
       "      <td>44.0</td>\n",
       "    </tr>\n",
       "    <tr>\n",
       "      <th>Compaq</th>\n",
       "      <td>30000.0</td>\n",
       "      <td>0.118767</td>\n",
       "      <td>0.597612</td>\n",
       "      <td>0.0</td>\n",
       "      <td>0.00</td>\n",
       "      <td>0.0</td>\n",
       "      <td>0.00</td>\n",
       "      <td>30.0</td>\n",
       "    </tr>\n",
       "    <tr>\n",
       "      <th>IBM</th>\n",
       "      <td>30000.0</td>\n",
       "      <td>0.031967</td>\n",
       "      <td>0.264475</td>\n",
       "      <td>0.0</td>\n",
       "      <td>0.00</td>\n",
       "      <td>0.0</td>\n",
       "      <td>0.00</td>\n",
       "      <td>11.0</td>\n",
       "    </tr>\n",
       "    <tr>\n",
       "      <th>Burberry</th>\n",
       "      <td>30000.0</td>\n",
       "      <td>0.428033</td>\n",
       "      <td>1.098876</td>\n",
       "      <td>0.0</td>\n",
       "      <td>0.00</td>\n",
       "      <td>0.0</td>\n",
       "      <td>0.00</td>\n",
       "      <td>37.0</td>\n",
       "    </tr>\n",
       "    <tr>\n",
       "      <th>Mi</th>\n",
       "      <td>30000.0</td>\n",
       "      <td>0.121333</td>\n",
       "      <td>0.478977</td>\n",
       "      <td>0.0</td>\n",
       "      <td>0.00</td>\n",
       "      <td>0.0</td>\n",
       "      <td>0.00</td>\n",
       "      <td>9.0</td>\n",
       "    </tr>\n",
       "    <tr>\n",
       "      <th>LG</th>\n",
       "      <td>30000.0</td>\n",
       "      <td>0.102533</td>\n",
       "      <td>0.486376</td>\n",
       "      <td>0.0</td>\n",
       "      <td>0.00</td>\n",
       "      <td>0.0</td>\n",
       "      <td>0.00</td>\n",
       "      <td>19.0</td>\n",
       "    </tr>\n",
       "    <tr>\n",
       "      <th>Dior</th>\n",
       "      <td>30000.0</td>\n",
       "      <td>0.271133</td>\n",
       "      <td>0.714682</td>\n",
       "      <td>0.0</td>\n",
       "      <td>0.00</td>\n",
       "      <td>0.0</td>\n",
       "      <td>0.00</td>\n",
       "      <td>12.0</td>\n",
       "    </tr>\n",
       "    <tr>\n",
       "      <th>Scabal</th>\n",
       "      <td>30000.0</td>\n",
       "      <td>0.370067</td>\n",
       "      <td>0.758465</td>\n",
       "      <td>0.0</td>\n",
       "      <td>0.00</td>\n",
       "      <td>0.0</td>\n",
       "      <td>1.00</td>\n",
       "      <td>11.0</td>\n",
       "    </tr>\n",
       "    <tr>\n",
       "      <th>Tommy Hilfiger</th>\n",
       "      <td>30000.0</td>\n",
       "      <td>0.158967</td>\n",
       "      <td>0.510527</td>\n",
       "      <td>0.0</td>\n",
       "      <td>0.00</td>\n",
       "      <td>0.0</td>\n",
       "      <td>0.00</td>\n",
       "      <td>8.0</td>\n",
       "    </tr>\n",
       "    <tr>\n",
       "      <th>Hollister</th>\n",
       "      <td>30000.0</td>\n",
       "      <td>0.077667</td>\n",
       "      <td>0.383370</td>\n",
       "      <td>0.0</td>\n",
       "      <td>0.00</td>\n",
       "      <td>0.0</td>\n",
       "      <td>0.00</td>\n",
       "      <td>9.0</td>\n",
       "    </tr>\n",
       "    <tr>\n",
       "      <th>Forever 21</th>\n",
       "      <td>30000.0</td>\n",
       "      <td>0.057333</td>\n",
       "      <td>0.300082</td>\n",
       "      <td>0.0</td>\n",
       "      <td>0.00</td>\n",
       "      <td>0.0</td>\n",
       "      <td>0.00</td>\n",
       "      <td>8.0</td>\n",
       "    </tr>\n",
       "    <tr>\n",
       "      <th>Colavita</th>\n",
       "      <td>30000.0</td>\n",
       "      <td>0.192200</td>\n",
       "      <td>0.641306</td>\n",
       "      <td>0.0</td>\n",
       "      <td>0.00</td>\n",
       "      <td>0.0</td>\n",
       "      <td>0.00</td>\n",
       "      <td>22.0</td>\n",
       "    </tr>\n",
       "    <tr>\n",
       "      <th>Microsoft</th>\n",
       "      <td>30000.0</td>\n",
       "      <td>0.116367</td>\n",
       "      <td>0.446578</td>\n",
       "      <td>0.0</td>\n",
       "      <td>0.00</td>\n",
       "      <td>0.0</td>\n",
       "      <td>0.00</td>\n",
       "      <td>14.0</td>\n",
       "    </tr>\n",
       "    <tr>\n",
       "      <th>Jiffy mix</th>\n",
       "      <td>30000.0</td>\n",
       "      <td>0.088033</td>\n",
       "      <td>0.399277</td>\n",
       "      <td>0.0</td>\n",
       "      <td>0.00</td>\n",
       "      <td>0.0</td>\n",
       "      <td>0.00</td>\n",
       "      <td>8.0</td>\n",
       "    </tr>\n",
       "    <tr>\n",
       "      <th>Kraft</th>\n",
       "      <td>30000.0</td>\n",
       "      <td>0.070900</td>\n",
       "      <td>0.387915</td>\n",
       "      <td>0.0</td>\n",
       "      <td>0.00</td>\n",
       "      <td>0.0</td>\n",
       "      <td>0.00</td>\n",
       "      <td>16.0</td>\n",
       "    </tr>\n",
       "  </tbody>\n",
       "</table>\n",
       "</div>"
      ],
      "text/plain": [
       "                          count          mean          std  min      25%  \\\n",
       "Cust_ID                 30000.0  15000.500000  8660.398374  1.0  7500.75   \n",
       "Orders                  30000.0      4.169800     3.590311  0.0     1.00   \n",
       "Jordan                  30000.0      0.267433     0.804778  0.0     0.00   \n",
       "Gatorade                30000.0      0.252333     0.705368  0.0     0.00   \n",
       "Samsung                 30000.0      0.222933     0.917494  0.0     0.00   \n",
       "Asus                    30000.0      0.161333     0.740038  0.0     0.00   \n",
       "Udis                    30000.0      0.143533     0.641258  0.0     0.00   \n",
       "Mondelez International  30000.0      0.139767     0.525840  0.0     0.00   \n",
       "Wrangler                30000.0      0.106933     0.515921  0.0     0.00   \n",
       "Vans                    30000.0      0.111433     0.547990  0.0     0.00   \n",
       "Fila                    30000.0      0.094267     0.531592  0.0     0.00   \n",
       "Brooks                  30000.0      0.140133     0.471278  0.0     0.00   \n",
       "H&M                     30000.0      0.328200     0.807655  0.0     0.00   \n",
       "Dairy Queen             30000.0      0.209333     1.116820  0.0     0.00   \n",
       "Fendi                   30000.0      0.141467     0.529210  0.0     0.00   \n",
       "Hewlett Packard         30000.0      0.161100     0.604835  0.0     0.00   \n",
       "Pladis                  30000.0      0.106100     0.516512  0.0     0.00   \n",
       "Asics                   30000.0      0.300233     1.119167  0.0     0.00   \n",
       "Siemens                 30000.0      0.048067     0.338763  0.0     0.00   \n",
       "J.M. Smucker            30000.0      0.754800     1.262166  0.0     0.00   \n",
       "Pop Chips               30000.0      0.247900     0.724106  0.0     0.00   \n",
       "Juniper                 30000.0      0.470833     1.346159  0.0     0.00   \n",
       "Huawei                  30000.0      0.258000     0.848288  0.0     0.00   \n",
       "Compaq                  30000.0      0.118767     0.597612  0.0     0.00   \n",
       "IBM                     30000.0      0.031967     0.264475  0.0     0.00   \n",
       "Burberry                30000.0      0.428033     1.098876  0.0     0.00   \n",
       "Mi                      30000.0      0.121333     0.478977  0.0     0.00   \n",
       "LG                      30000.0      0.102533     0.486376  0.0     0.00   \n",
       "Dior                    30000.0      0.271133     0.714682  0.0     0.00   \n",
       "Scabal                  30000.0      0.370067     0.758465  0.0     0.00   \n",
       "Tommy Hilfiger          30000.0      0.158967     0.510527  0.0     0.00   \n",
       "Hollister               30000.0      0.077667     0.383370  0.0     0.00   \n",
       "Forever 21              30000.0      0.057333     0.300082  0.0     0.00   \n",
       "Colavita                30000.0      0.192200     0.641306  0.0     0.00   \n",
       "Microsoft               30000.0      0.116367     0.446578  0.0     0.00   \n",
       "Jiffy mix               30000.0      0.088033     0.399277  0.0     0.00   \n",
       "Kraft                   30000.0      0.070900     0.387915  0.0     0.00   \n",
       "\n",
       "                            50%       75%      max  \n",
       "Cust_ID                 15000.5  22500.25  30000.0  \n",
       "Orders                      4.0      7.00     12.0  \n",
       "Jordan                      0.0      0.00     24.0  \n",
       "Gatorade                    0.0      0.00     15.0  \n",
       "Samsung                     0.0      0.00     27.0  \n",
       "Asus                        0.0      0.00     17.0  \n",
       "Udis                        0.0      0.00     14.0  \n",
       "Mondelez International      0.0      0.00     31.0  \n",
       "Wrangler                    0.0      0.00      9.0  \n",
       "Vans                        0.0      0.00     16.0  \n",
       "Fila                        0.0      0.00     15.0  \n",
       "Brooks                      0.0      0.00     12.0  \n",
       "H&M                         0.0      0.00     18.0  \n",
       "Dairy Queen                 0.0      0.00    114.0  \n",
       "Fendi                       0.0      0.00     18.0  \n",
       "Hewlett Packard             0.0      0.00     10.0  \n",
       "Pladis                      0.0      0.00     26.0  \n",
       "Asics                       0.0      0.00     66.0  \n",
       "Siemens                     0.0      0.00     11.0  \n",
       "J.M. Smucker                0.0      1.00     64.0  \n",
       "Pop Chips                   0.0      0.00     21.0  \n",
       "Juniper                     0.0      1.00     79.0  \n",
       "Huawei                      0.0      0.00     44.0  \n",
       "Compaq                      0.0      0.00     30.0  \n",
       "IBM                         0.0      0.00     11.0  \n",
       "Burberry                    0.0      0.00     37.0  \n",
       "Mi                          0.0      0.00      9.0  \n",
       "LG                          0.0      0.00     19.0  \n",
       "Dior                        0.0      0.00     12.0  \n",
       "Scabal                      0.0      1.00     11.0  \n",
       "Tommy Hilfiger              0.0      0.00      8.0  \n",
       "Hollister                   0.0      0.00      9.0  \n",
       "Forever 21                  0.0      0.00      8.0  \n",
       "Colavita                    0.0      0.00     22.0  \n",
       "Microsoft                   0.0      0.00     14.0  \n",
       "Jiffy mix                   0.0      0.00      8.0  \n",
       "Kraft                       0.0      0.00     16.0  "
      ]
     },
     "execution_count": 11,
     "metadata": {},
     "output_type": "execute_result"
    }
   ],
   "source": [
    "df.describe().T"
   ]
  },
  {
   "cell_type": "code",
   "execution_count": 12,
   "metadata": {},
   "outputs": [
    {
     "data": {
      "text/plain": [
       "(30000, 38)"
      ]
     },
     "execution_count": 12,
     "metadata": {},
     "output_type": "execute_result"
    }
   ],
   "source": [
    "df.shape"
   ]
  },
  {
   "cell_type": "code",
   "execution_count": 13,
   "metadata": {},
   "outputs": [
    {
     "data": {
      "text/plain": [
       "Cust_ID                      0\n",
       "Gender                    2724\n",
       "Orders                       0\n",
       "Jordan                       0\n",
       "Gatorade                     0\n",
       "Samsung                      0\n",
       "Asus                         0\n",
       "Udis                         0\n",
       "Mondelez International       0\n",
       "Wrangler                     0\n",
       "Vans                         0\n",
       "Fila                         0\n",
       "Brooks                       0\n",
       "H&M                          0\n",
       "Dairy Queen                  0\n",
       "Fendi                        0\n",
       "Hewlett Packard              0\n",
       "Pladis                       0\n",
       "Asics                        0\n",
       "Siemens                      0\n",
       "J.M. Smucker                 0\n",
       "Pop Chips                    0\n",
       "Juniper                      0\n",
       "Huawei                       0\n",
       "Compaq                       0\n",
       "IBM                          0\n",
       "Burberry                     0\n",
       "Mi                           0\n",
       "LG                           0\n",
       "Dior                         0\n",
       "Scabal                       0\n",
       "Tommy Hilfiger               0\n",
       "Hollister                    0\n",
       "Forever 21                   0\n",
       "Colavita                     0\n",
       "Microsoft                    0\n",
       "Jiffy mix                    0\n",
       "Kraft                        0\n",
       "dtype: int64"
      ]
     },
     "execution_count": 13,
     "metadata": {},
     "output_type": "execute_result"
    }
   ],
   "source": [
    "df.isnull().sum()"
   ]
  },
  {
   "cell_type": "markdown",
   "metadata": {},
   "source": [
    "# Exploratory Data Analysis (EDA)"
   ]
  },
  {
   "cell_type": "markdown",
   "metadata": {},
   "source": [
    "### Important functions"
   ]
  },
  {
   "cell_type": "code",
   "execution_count": 56,
   "metadata": {},
   "outputs": [],
   "source": [
    "def find_proportion(col, data):\n",
    "    for ind, i in enumerate(df[col].value_counts().index):\n",
    "        print(f'Proportion of {i}: ',round(df[col].value_counts().iloc[ind]/len(data[col]), 4) * 100, '%')"
   ]
  },
  {
   "cell_type": "code",
   "execution_count": 60,
   "metadata": {},
   "outputs": [],
   "source": [
    "zero = {}"
   ]
  },
  {
   "cell_type": "code",
   "execution_count": 16,
   "metadata": {
    "scrolled": true
   },
   "outputs": [
    {
     "data": {
      "text/plain": [
       "Index(['Cust_ID', 'Gender', 'Orders', 'Jordan', 'Gatorade', 'Samsung', 'Asus',\n",
       "       'Udis', 'Mondelez International', 'Wrangler', 'Vans', 'Fila', 'Brooks',\n",
       "       'H&M', 'Dairy Queen', 'Fendi', 'Hewlett Packard', 'Pladis', 'Asics',\n",
       "       'Siemens', 'J.M. Smucker', 'Pop Chips', 'Juniper', 'Huawei', 'Compaq',\n",
       "       'IBM', 'Burberry', 'Mi', 'LG', 'Dior', 'Scabal', 'Tommy Hilfiger',\n",
       "       'Hollister', 'Forever 21', 'Colavita', 'Microsoft', 'Jiffy mix',\n",
       "       'Kraft'],\n",
       "      dtype='object')"
      ]
     },
     "execution_count": 16,
     "metadata": {},
     "output_type": "execute_result"
    }
   ],
   "source": [
    "df.columns"
   ]
  },
  {
   "cell_type": "markdown",
   "metadata": {},
   "source": [
    "#### Gender"
   ]
  },
  {
   "cell_type": "code",
   "execution_count": 17,
   "metadata": {},
   "outputs": [
    {
     "data": {
      "text/plain": [
       "0      M\n",
       "1      F\n",
       "2      M\n",
       "3      F\n",
       "4    NaN\n",
       "Name: Gender, dtype: object"
      ]
     },
     "execution_count": 17,
     "metadata": {},
     "output_type": "execute_result"
    }
   ],
   "source": [
    "df.Gender.head()"
   ]
  },
  {
   "cell_type": "code",
   "execution_count": 18,
   "metadata": {},
   "outputs": [
    {
     "data": {
      "text/plain": [
       "F    22054\n",
       "M     5222\n",
       "Name: Gender, dtype: int64"
      ]
     },
     "execution_count": 18,
     "metadata": {},
     "output_type": "execute_result"
    }
   ],
   "source": [
    "df.Gender.value_counts()"
   ]
  },
  {
   "cell_type": "code",
   "execution_count": 19,
   "metadata": {},
   "outputs": [
    {
     "data": {
      "text/plain": [
       "<matplotlib.axes._subplots.AxesSubplot at 0x283775842b0>"
      ]
     },
     "execution_count": 19,
     "metadata": {},
     "output_type": "execute_result"
    },
    {
     "data": {
      "image/png": "[encoded data removed]",
      "text/plain": [
       "<Figure size 432x288 with 1 Axes>"
      ]
     },
     "metadata": {
      "needs_background": "light"
     },
     "output_type": "display_data"
    }
   ],
   "source": [
    "sns.countplot(df.Gender)"
   ]
  },
  {
   "cell_type": "code",
   "execution_count": null,
   "metadata": {},
   "outputs": [],
   "source": [
    "# Most of the customers are females"
   ]
  },
  {
   "cell_type": "code",
   "execution_count": 21,
   "metadata": {},
   "outputs": [
    {
     "name": "stdout",
     "output_type": "stream",
     "text": [
      "Proportion of F:  73.50999999999999 %\n",
      "Proportion of M:  17.41 %\n"
     ]
    }
   ],
   "source": [
    "find_proportion('Gender', df)"
   ]
  },
  {
   "cell_type": "code",
   "execution_count": 22,
   "metadata": {},
   "outputs": [
    {
     "data": {
      "text/plain": [
       "<matplotlib.axes._subplots.AxesSubplot at 0x28379f4d610>"
      ]
     },
     "execution_count": 22,
     "metadata": {},
     "output_type": "execute_result"
    },
    {
     "data": {
      "image/png": "[encoded data removed]",
      "text/plain": [
       "<Figure size 432x288 with 1 Axes>"
      ]
     },
     "metadata": {
      "needs_background": "light"
     },
     "output_type": "display_data"
    }
   ],
   "source": [
    "sns.boxplot(df.Gender, df.Orders)"
   ]
  },
  {
   "cell_type": "code",
   "execution_count": 108,
   "metadata": {},
   "outputs": [
    {
     "data": {
      "text/plain": [
       "Gender\n",
       "F    4.231115\n",
       "M    4.301800\n",
       "Name: Orders, dtype: float64"
      ]
     },
     "execution_count": 108,
     "metadata": {},
     "output_type": "execute_result"
    }
   ],
   "source": [
    "df.groupby('Gender').mean()['Orders']"
   ]
  },
  {
   "cell_type": "code",
   "execution_count": null,
   "metadata": {},
   "outputs": [],
   "source": [
    "# Both Male and Female customers ordered on an average 4 products."
   ]
  },
  {
   "cell_type": "code",
   "execution_count": 26,
   "metadata": {},
   "outputs": [
    {
     "data": {
      "text/plain": [
       "Gender\n",
       "F    12\n",
       "M    12\n",
       "Name: Orders, dtype: int64"
      ]
     },
     "execution_count": 26,
     "metadata": {},
     "output_type": "execute_result"
    }
   ],
   "source": [
    "df.groupby('Gender').max()['Orders']"
   ]
  },
  {
   "cell_type": "code",
   "execution_count": null,
   "metadata": {},
   "outputs": [],
   "source": [
    "# The maximum orders placed by both Male and Female customers is 12"
   ]
  },
  {
   "cell_type": "code",
   "execution_count": 27,
   "metadata": {},
   "outputs": [
    {
     "data": {
      "text/plain": [
       "Gender\n",
       "F    0\n",
       "M    0\n",
       "Name: Orders, dtype: int64"
      ]
     },
     "execution_count": 27,
     "metadata": {},
     "output_type": "execute_result"
    }
   ],
   "source": [
    "df.groupby('Gender').min()['Orders']"
   ]
  },
  {
   "cell_type": "code",
   "execution_count": 28,
   "metadata": {},
   "outputs": [],
   "source": [
    "# The minimum orders placed by both Male and Female customers is 0"
   ]
  },
  {
   "cell_type": "markdown",
   "metadata": {},
   "source": [
    "#### Orders"
   ]
  },
  {
   "cell_type": "code",
   "execution_count": 29,
   "metadata": {},
   "outputs": [
    {
     "data": {
      "text/plain": [
       "0     7\n",
       "1     0\n",
       "2     7\n",
       "3     0\n",
       "4    10\n",
       "Name: Orders, dtype: int64"
      ]
     },
     "execution_count": 29,
     "metadata": {},
     "output_type": "execute_result"
    }
   ],
   "source": [
    "df.Orders.head()"
   ]
  },
  {
   "cell_type": "code",
   "execution_count": 30,
   "metadata": {},
   "outputs": [
    {
     "data": {
      "text/plain": [
       "0     7294\n",
       "1     2716\n",
       "2     2422\n",
       "7     2207\n",
       "3     2199\n",
       "4     2192\n",
       "8     2080\n",
       "6     2039\n",
       "5     2010\n",
       "9     1993\n",
       "10    1938\n",
       "12     469\n",
       "11     441\n",
       "Name: Orders, dtype: int64"
      ]
     },
     "execution_count": 30,
     "metadata": {},
     "output_type": "execute_result"
    }
   ],
   "source": [
    "df.Orders.value_counts()"
   ]
  },
  {
   "cell_type": "code",
   "execution_count": 31,
   "metadata": {},
   "outputs": [],
   "source": [
    "# The number of total orders ranges from 0 to 12 orders"
   ]
  },
  {
   "cell_type": "code",
   "execution_count": 33,
   "metadata": {},
   "outputs": [
    {
     "data": {
      "text/plain": [
       "<matplotlib.axes._subplots.AxesSubplot at 0x2837b78aeb0>"
      ]
     },
     "execution_count": 33,
     "metadata": {},
     "output_type": "execute_result"
    },
    {
     "data": {
      "image/png": "[encoded data removed]",
      "text/plain": [
       "<Figure size 648x360 with 1 Axes>"
      ]
     },
     "metadata": {
      "needs_background": "light"
     },
     "output_type": "display_data"
    }
   ],
   "source": [
    "plt.figure(figsize=(9,5))\n",
    "sns.countplot(df.Orders)"
   ]
  },
  {
   "cell_type": "code",
   "execution_count": 36,
   "metadata": {},
   "outputs": [
    {
     "data": {
      "text/plain": [
       "<matplotlib.axes._subplots.AxesSubplot at 0x28376a16df0>"
      ]
     },
     "execution_count": 36,
     "metadata": {},
     "output_type": "execute_result"
    },
    {
     "data": {
      "image/png": "[encoded data removed]",
      "text/plain": [
       "<Figure size 432x288 with 1 Axes>"
      ]
     },
     "metadata": {
      "needs_background": "light"
     },
     "output_type": "display_data"
    }
   ],
   "source": [
    "df.Orders.value_counts().plot(kind='line')"
   ]
  },
  {
   "cell_type": "code",
   "execution_count": 37,
   "metadata": {},
   "outputs": [],
   "source": [
    "# Most of the orders are from 0 category, which means most customers did not order any products.\n",
    "\n",
    "# As the number of products increases, the number of customers who bought it decreases."
   ]
  },
  {
   "cell_type": "code",
   "execution_count": 39,
   "metadata": {},
   "outputs": [
    {
     "data": {
      "text/plain": [
       "F    661\n",
       "M    185\n",
       "Name: Gender, dtype: int64"
      ]
     },
     "execution_count": 39,
     "metadata": {},
     "output_type": "execute_result"
    }
   ],
   "source": [
    "df[df.Orders>10].Gender.value_counts()"
   ]
  },
  {
   "cell_type": "code",
   "execution_count": 40,
   "metadata": {},
   "outputs": [],
   "source": [
    "# The number of customers who bought more than 10 orders are also dominated by Females."
   ]
  },
  {
   "cell_type": "code",
   "execution_count": 44,
   "metadata": {},
   "outputs": [
    {
     "data": {
      "text/plain": [
       "<matplotlib.axes._subplots.AxesSubplot at 0x283784dda00>"
      ]
     },
     "execution_count": 44,
     "metadata": {},
     "output_type": "execute_result"
    },
    {
     "data": {
      "image/png": "[encoded data removed]",
      "text/plain": [
       "<Figure size 432x288 with 1 Axes>"
      ]
     },
     "metadata": {
      "needs_background": "light"
     },
     "output_type": "display_data"
    }
   ],
   "source": [
    "sns.distplot(df.Orders)"
   ]
  },
  {
   "cell_type": "code",
   "execution_count": 69,
   "metadata": {},
   "outputs": [
    {
     "data": {
      "text/plain": [
       "0     7294\n",
       "1     2716\n",
       "2     2422\n",
       "7     2207\n",
       "3     2199\n",
       "4     2192\n",
       "8     2080\n",
       "6     2039\n",
       "5     2010\n",
       "9     1993\n",
       "10    1938\n",
       "12     469\n",
       "11     441\n",
       "Name: Orders, dtype: int64"
      ]
     },
     "execution_count": 69,
     "metadata": {},
     "output_type": "execute_result"
    }
   ],
   "source": [
    "df.Orders.value_counts()"
   ]
  },
  {
   "cell_type": "code",
   "execution_count": 89,
   "metadata": {},
   "outputs": [],
   "source": [
    "df['Order_cat'] = df['Orders']"
   ]
  },
  {
   "cell_type": "code",
   "execution_count": 90,
   "metadata": {},
   "outputs": [
    {
     "data": {
      "text/plain": [
       "array([ 7,  0, 10,  4,  6,  9,  1,  8,  5,  3,  2, 11, 12], dtype=int64)"
      ]
     },
     "execution_count": 90,
     "metadata": {},
     "output_type": "execute_result"
    }
   ],
   "source": [
    "df.Order_cat.unique()"
   ]
  },
  {
   "cell_type": "code",
   "execution_count": 91,
   "metadata": {},
   "outputs": [],
   "source": [
    "# Lets create a new column from Orders column based on the number of orders a customer made.\n",
    "\n",
    "df = df.replace({'Order_cat': {\n",
    "    0 : '0 order',\n",
    "    1 : '1 to 6 orders',\n",
    "    2 : '1 to 6 orders',\n",
    "    3 : '1 to 6 orders',\n",
    "    4 : '1 to 6 orders',\n",
    "    5 : '1 to 6 orders',\n",
    "    6 : '1 to 6 orders',\n",
    "    7 : '7 to 12 orders',\n",
    "    8 : '7 to 12 orders',\n",
    "    9 : '7 to 12 orders',\n",
    "    10 : '7 to 12 orders',\n",
    "    11 : '7 to 12 orders',\n",
    "    12 : '7 to 12 orders'\n",
    "}})"
   ]
  },
  {
   "cell_type": "code",
   "execution_count": 92,
   "metadata": {},
   "outputs": [
    {
     "data": {
      "text/plain": [
       "1 to 6 orders     13578\n",
       "7 to 12 orders     9128\n",
       "0 order            7294\n",
       "Name: Order_cat, dtype: int64"
      ]
     },
     "execution_count": 92,
     "metadata": {},
     "output_type": "execute_result"
    }
   ],
   "source": [
    "df['Order_cat'].value_counts()"
   ]
  },
  {
   "cell_type": "code",
   "execution_count": 93,
   "metadata": {},
   "outputs": [
    {
     "data": {
      "text/html": [
       "<div>\n",
       "<style scoped>\n",
       "    .dataframe tbody tr th:only-of-type {\n",
       "        vertical-align: middle;\n",
       "    }\n",
       "\n",
       "    .dataframe tbody tr th {\n",
       "        vertical-align: top;\n",
       "    }\n",
       "\n",
       "    .dataframe thead th {\n",
       "        text-align: right;\n",
       "    }\n",
       "</style>\n",
       "<table border=\"1\" class=\"dataframe\">\n",
       "  <thead>\n",
       "    <tr style=\"text-align: right;\">\n",
       "      <th></th>\n",
       "      <th>Cust_ID</th>\n",
       "      <th>Gender</th>\n",
       "      <th>Orders</th>\n",
       "      <th>Jordan</th>\n",
       "      <th>Gatorade</th>\n",
       "      <th>Samsung</th>\n",
       "      <th>Asus</th>\n",
       "      <th>Udis</th>\n",
       "      <th>Mondelez International</th>\n",
       "      <th>Wrangler</th>\n",
       "      <th>Vans</th>\n",
       "      <th>Fila</th>\n",
       "      <th>Brooks</th>\n",
       "      <th>H&amp;M</th>\n",
       "      <th>Dairy Queen</th>\n",
       "      <th>Fendi</th>\n",
       "      <th>Hewlett Packard</th>\n",
       "      <th>Pladis</th>\n",
       "      <th>Asics</th>\n",
       "      <th>Siemens</th>\n",
       "      <th>J.M. Smucker</th>\n",
       "      <th>Pop Chips</th>\n",
       "      <th>Juniper</th>\n",
       "      <th>Huawei</th>\n",
       "      <th>Compaq</th>\n",
       "      <th>IBM</th>\n",
       "      <th>Burberry</th>\n",
       "      <th>Mi</th>\n",
       "      <th>LG</th>\n",
       "      <th>Dior</th>\n",
       "      <th>Scabal</th>\n",
       "      <th>Tommy Hilfiger</th>\n",
       "      <th>Hollister</th>\n",
       "      <th>Forever 21</th>\n",
       "      <th>Colavita</th>\n",
       "      <th>Microsoft</th>\n",
       "      <th>Jiffy mix</th>\n",
       "      <th>Kraft</th>\n",
       "      <th>Order_cat</th>\n",
       "    </tr>\n",
       "  </thead>\n",
       "  <tbody>\n",
       "    <tr>\n",
       "      <th>0</th>\n",
       "      <td>1</td>\n",
       "      <td>M</td>\n",
       "      <td>7</td>\n",
       "      <td>0</td>\n",
       "      <td>0</td>\n",
       "      <td>0</td>\n",
       "      <td>0</td>\n",
       "      <td>0</td>\n",
       "      <td>0</td>\n",
       "      <td>0</td>\n",
       "      <td>2</td>\n",
       "      <td>0</td>\n",
       "      <td>0</td>\n",
       "      <td>0</td>\n",
       "      <td>0</td>\n",
       "      <td>0</td>\n",
       "      <td>0</td>\n",
       "      <td>0</td>\n",
       "      <td>0</td>\n",
       "      <td>0</td>\n",
       "      <td>0</td>\n",
       "      <td>0</td>\n",
       "      <td>0</td>\n",
       "      <td>0</td>\n",
       "      <td>0</td>\n",
       "      <td>0</td>\n",
       "      <td>0</td>\n",
       "      <td>0</td>\n",
       "      <td>0</td>\n",
       "      <td>0</td>\n",
       "      <td>0</td>\n",
       "      <td>0</td>\n",
       "      <td>0</td>\n",
       "      <td>0</td>\n",
       "      <td>0</td>\n",
       "      <td>0</td>\n",
       "      <td>0</td>\n",
       "      <td>0</td>\n",
       "      <td>7 to 12 orders</td>\n",
       "    </tr>\n",
       "    <tr>\n",
       "      <th>1</th>\n",
       "      <td>2</td>\n",
       "      <td>F</td>\n",
       "      <td>0</td>\n",
       "      <td>0</td>\n",
       "      <td>1</td>\n",
       "      <td>0</td>\n",
       "      <td>0</td>\n",
       "      <td>0</td>\n",
       "      <td>0</td>\n",
       "      <td>0</td>\n",
       "      <td>0</td>\n",
       "      <td>0</td>\n",
       "      <td>0</td>\n",
       "      <td>1</td>\n",
       "      <td>0</td>\n",
       "      <td>0</td>\n",
       "      <td>0</td>\n",
       "      <td>0</td>\n",
       "      <td>0</td>\n",
       "      <td>0</td>\n",
       "      <td>2</td>\n",
       "      <td>2</td>\n",
       "      <td>1</td>\n",
       "      <td>0</td>\n",
       "      <td>0</td>\n",
       "      <td>0</td>\n",
       "      <td>6</td>\n",
       "      <td>4</td>\n",
       "      <td>0</td>\n",
       "      <td>1</td>\n",
       "      <td>0</td>\n",
       "      <td>0</td>\n",
       "      <td>0</td>\n",
       "      <td>0</td>\n",
       "      <td>0</td>\n",
       "      <td>0</td>\n",
       "      <td>0</td>\n",
       "      <td>0</td>\n",
       "      <td>0 order</td>\n",
       "    </tr>\n",
       "    <tr>\n",
       "      <th>2</th>\n",
       "      <td>3</td>\n",
       "      <td>M</td>\n",
       "      <td>7</td>\n",
       "      <td>0</td>\n",
       "      <td>1</td>\n",
       "      <td>0</td>\n",
       "      <td>0</td>\n",
       "      <td>0</td>\n",
       "      <td>0</td>\n",
       "      <td>0</td>\n",
       "      <td>0</td>\n",
       "      <td>0</td>\n",
       "      <td>0</td>\n",
       "      <td>0</td>\n",
       "      <td>0</td>\n",
       "      <td>0</td>\n",
       "      <td>0</td>\n",
       "      <td>0</td>\n",
       "      <td>2</td>\n",
       "      <td>0</td>\n",
       "      <td>1</td>\n",
       "      <td>0</td>\n",
       "      <td>0</td>\n",
       "      <td>0</td>\n",
       "      <td>0</td>\n",
       "      <td>0</td>\n",
       "      <td>0</td>\n",
       "      <td>0</td>\n",
       "      <td>0</td>\n",
       "      <td>0</td>\n",
       "      <td>0</td>\n",
       "      <td>0</td>\n",
       "      <td>0</td>\n",
       "      <td>0</td>\n",
       "      <td>0</td>\n",
       "      <td>1</td>\n",
       "      <td>0</td>\n",
       "      <td>0</td>\n",
       "      <td>7 to 12 orders</td>\n",
       "    </tr>\n",
       "    <tr>\n",
       "      <th>3</th>\n",
       "      <td>4</td>\n",
       "      <td>F</td>\n",
       "      <td>0</td>\n",
       "      <td>0</td>\n",
       "      <td>0</td>\n",
       "      <td>0</td>\n",
       "      <td>0</td>\n",
       "      <td>0</td>\n",
       "      <td>0</td>\n",
       "      <td>0</td>\n",
       "      <td>0</td>\n",
       "      <td>0</td>\n",
       "      <td>0</td>\n",
       "      <td>1</td>\n",
       "      <td>0</td>\n",
       "      <td>0</td>\n",
       "      <td>0</td>\n",
       "      <td>0</td>\n",
       "      <td>0</td>\n",
       "      <td>0</td>\n",
       "      <td>0</td>\n",
       "      <td>1</td>\n",
       "      <td>0</td>\n",
       "      <td>0</td>\n",
       "      <td>0</td>\n",
       "      <td>0</td>\n",
       "      <td>0</td>\n",
       "      <td>0</td>\n",
       "      <td>0</td>\n",
       "      <td>0</td>\n",
       "      <td>0</td>\n",
       "      <td>0</td>\n",
       "      <td>0</td>\n",
       "      <td>0</td>\n",
       "      <td>0</td>\n",
       "      <td>0</td>\n",
       "      <td>0</td>\n",
       "      <td>0</td>\n",
       "      <td>0 order</td>\n",
       "    </tr>\n",
       "    <tr>\n",
       "      <th>4</th>\n",
       "      <td>5</td>\n",
       "      <td>NaN</td>\n",
       "      <td>10</td>\n",
       "      <td>0</td>\n",
       "      <td>0</td>\n",
       "      <td>0</td>\n",
       "      <td>0</td>\n",
       "      <td>0</td>\n",
       "      <td>0</td>\n",
       "      <td>0</td>\n",
       "      <td>0</td>\n",
       "      <td>0</td>\n",
       "      <td>0</td>\n",
       "      <td>0</td>\n",
       "      <td>1</td>\n",
       "      <td>0</td>\n",
       "      <td>0</td>\n",
       "      <td>5</td>\n",
       "      <td>1</td>\n",
       "      <td>0</td>\n",
       "      <td>3</td>\n",
       "      <td>0</td>\n",
       "      <td>1</td>\n",
       "      <td>0</td>\n",
       "      <td>0</td>\n",
       "      <td>0</td>\n",
       "      <td>1</td>\n",
       "      <td>0</td>\n",
       "      <td>0</td>\n",
       "      <td>0</td>\n",
       "      <td>2</td>\n",
       "      <td>0</td>\n",
       "      <td>0</td>\n",
       "      <td>0</td>\n",
       "      <td>0</td>\n",
       "      <td>0</td>\n",
       "      <td>1</td>\n",
       "      <td>1</td>\n",
       "      <td>7 to 12 orders</td>\n",
       "    </tr>\n",
       "  </tbody>\n",
       "</table>\n",
       "</div>"
      ],
      "text/plain": [
       "   Cust_ID Gender  Orders  Jordan  Gatorade  Samsung  Asus  Udis  \\\n",
       "0        1      M       7       0         0        0     0     0   \n",
       "1        2      F       0       0         1        0     0     0   \n",
       "2        3      M       7       0         1        0     0     0   \n",
       "3        4      F       0       0         0        0     0     0   \n",
       "4        5    NaN      10       0         0        0     0     0   \n",
       "\n",
       "   Mondelez International  Wrangler  Vans  Fila  Brooks  H&M  Dairy Queen  \\\n",
       "0                       0         0     2     0       0    0            0   \n",
       "1                       0         0     0     0       0    1            0   \n",
       "2                       0         0     0     0       0    0            0   \n",
       "3                       0         0     0     0       0    1            0   \n",
       "4                       0         0     0     0       0    0            1   \n",
       "\n",
       "   Fendi  Hewlett Packard  Pladis  Asics  Siemens  J.M. Smucker  Pop Chips  \\\n",
       "0      0                0       0      0        0             0          0   \n",
       "1      0                0       0      0        0             2          2   \n",
       "2      0                0       0      2        0             1          0   \n",
       "3      0                0       0      0        0             0          1   \n",
       "4      0                0       5      1        0             3          0   \n",
       "\n",
       "   Juniper  Huawei  Compaq  IBM  Burberry  Mi  LG  Dior  Scabal  \\\n",
       "0        0       0       0    0         0   0   0     0       0   \n",
       "1        1       0       0    0         6   4   0     1       0   \n",
       "2        0       0       0    0         0   0   0     0       0   \n",
       "3        0       0       0    0         0   0   0     0       0   \n",
       "4        1       0       0    0         1   0   0     0       2   \n",
       "\n",
       "   Tommy Hilfiger  Hollister  Forever 21  Colavita  Microsoft  Jiffy mix  \\\n",
       "0               0          0           0         0          0          0   \n",
       "1               0          0           0         0          0          0   \n",
       "2               0          0           0         0          1          0   \n",
       "3               0          0           0         0          0          0   \n",
       "4               0          0           0         0          0          1   \n",
       "\n",
       "   Kraft       Order_cat  \n",
       "0      0  7 to 12 orders  \n",
       "1      0         0 order  \n",
       "2      0  7 to 12 orders  \n",
       "3      0         0 order  \n",
       "4      1  7 to 12 orders  "
      ]
     },
     "execution_count": 93,
     "metadata": {},
     "output_type": "execute_result"
    }
   ],
   "source": [
    "df.head()"
   ]
  },
  {
   "cell_type": "code",
   "execution_count": 94,
   "metadata": {},
   "outputs": [
    {
     "data": {
      "text/plain": [
       "(array([0, 1, 2]), <a list of 3 Text major ticklabel objects>)"
      ]
     },
     "execution_count": 94,
     "metadata": {},
     "output_type": "execute_result"
    },
    {
     "data": {
      "image/png": "[encoded data removed]",
      "text/plain": [
       "<Figure size 432x288 with 1 Axes>"
      ]
     },
     "metadata": {
      "needs_background": "light"
     },
     "output_type": "display_data"
    }
   ],
   "source": [
    "sns.countplot(df.Order_cat)\n",
    "plt.xticks(rotation=30)"
   ]
  },
  {
   "cell_type": "markdown",
   "metadata": {},
   "source": [
    "#### Jordan"
   ]
  },
  {
   "cell_type": "code",
   "execution_count": 42,
   "metadata": {},
   "outputs": [
    {
     "data": {
      "text/plain": [
       "0    0\n",
       "1    0\n",
       "2    0\n",
       "3    0\n",
       "4    0\n",
       "Name: Jordan, dtype: int64"
      ]
     },
     "execution_count": 42,
     "metadata": {},
     "output_type": "execute_result"
    }
   ],
   "source": [
    "df.Jordan.head()"
   ]
  },
  {
   "cell_type": "code",
   "execution_count": 43,
   "metadata": {},
   "outputs": [
    {
     "data": {
      "text/plain": [
       "0     25188\n",
       "1      3099\n",
       "2       996\n",
       "3       371\n",
       "4       166\n",
       "5        86\n",
       "6        41\n",
       "7        19\n",
       "8        12\n",
       "9         8\n",
       "10        5\n",
       "12        3\n",
       "11        3\n",
       "13        1\n",
       "24        1\n",
       "22        1\n",
       "Name: Jordan, dtype: int64"
      ]
     },
     "execution_count": 43,
     "metadata": {},
     "output_type": "execute_result"
    }
   ],
   "source": [
    "df.Jordan.value_counts()"
   ]
  },
  {
   "cell_type": "code",
   "execution_count": 48,
   "metadata": {},
   "outputs": [
    {
     "name": "stdout",
     "output_type": "stream",
     "text": [
      "Out of 30000 customers, 4812 of them bought Jordan\n"
     ]
    }
   ],
   "source": [
    "print(f'Out of {len(df)} customers, {len(df[df.Jordan>0])} of them bought Jordan')"
   ]
  },
  {
   "cell_type": "code",
   "execution_count": 49,
   "metadata": {},
   "outputs": [
    {
     "data": {
      "text/plain": [
       "<matplotlib.axes._subplots.AxesSubplot at 0x28376e958b0>"
      ]
     },
     "execution_count": 49,
     "metadata": {},
     "output_type": "execute_result"
    },
    {
     "data": {
      "image/png": "[encoded data removed]",
      "text/plain": [
       "<Figure size 432x288 with 1 Axes>"
      ]
     },
     "metadata": {
      "needs_background": "light"
     },
     "output_type": "display_data"
    }
   ],
   "source": [
    "sns.countplot(df[df.Jordan>0].Jordan)"
   ]
  },
  {
   "cell_type": "code",
   "execution_count": 105,
   "metadata": {},
   "outputs": [
    {
     "data": {
      "text/plain": [
       "Gender\n",
       "F    1.674894\n",
       "M    1.643071\n",
       "Name: Jordan, dtype: float64"
      ]
     },
     "execution_count": 105,
     "metadata": {},
     "output_type": "execute_result"
    }
   ],
   "source": [
    "df[df.Jordan>0].groupby('Gender').mean()['Jordan']"
   ]
  },
  {
   "cell_type": "code",
   "execution_count": 109,
   "metadata": {},
   "outputs": [],
   "source": [
    "# On an average Male and Female customers ordered 1.6 (1-2) products from Jordan"
   ]
  },
  {
   "cell_type": "code",
   "execution_count": 52,
   "metadata": {},
   "outputs": [
    {
     "data": {
      "text/plain": [
       "array([   97,   195,   524,  5414,  8448,  8512,  8738, 15502, 15790,\n",
       "       17984, 18236, 22990, 25803, 28100], dtype=int64)"
      ]
     },
     "execution_count": 52,
     "metadata": {},
     "output_type": "execute_result"
    }
   ],
   "source": [
    "# Customers who bought more than or equal to 10 Jordan products\n",
    "\n",
    "df[df.Jordan>9].Cust_ID.values"
   ]
  },
  {
   "cell_type": "code",
   "execution_count": 122,
   "metadata": {},
   "outputs": [
    {
     "data": {
      "text/plain": [
       "Order_cat\n",
       "0 order           0.219907\n",
       "1 to 6 orders     0.288039\n",
       "7 to 12 orders    0.274759\n",
       "Name: Jordan, dtype: float64"
      ]
     },
     "execution_count": 122,
     "metadata": {},
     "output_type": "execute_result"
    }
   ],
   "source": [
    "df.groupby('Order_cat').mean()['Jordan']"
   ]
  },
  {
   "cell_type": "code",
   "execution_count": 59,
   "metadata": {},
   "outputs": [
    {
     "name": "stdout",
     "output_type": "stream",
     "text": [
      "Proportion of 0:  83.96000000000001 %\n",
      "Proportion of 1:  10.33 %\n",
      "Proportion of 2:  3.32 %\n",
      "Proportion of 3:  1.24 %\n",
      "Proportion of 4:  0.5499999999999999 %\n",
      "Proportion of 5:  0.29 %\n",
      "Proportion of 6:  0.13999999999999999 %\n",
      "Proportion of 7:  0.06 %\n",
      "Proportion of 8:  0.04 %\n",
      "Proportion of 9:  0.03 %\n",
      "Proportion of 10:  0.02 %\n",
      "Proportion of 12:  0.01 %\n",
      "Proportion of 11:  0.01 %\n",
      "Proportion of 13:  0.0 %\n",
      "Proportion of 24:  0.0 %\n",
      "Proportion of 22:  0.0 %\n"
     ]
    }
   ],
   "source": [
    "find_proportion('Jordan', df)"
   ]
  },
  {
   "cell_type": "code",
   "execution_count": 61,
   "metadata": {},
   "outputs": [],
   "source": [
    "zero['Jordan'] = 83.96"
   ]
  },
  {
   "cell_type": "markdown",
   "metadata": {},
   "source": [
    "#### Gatorade"
   ]
  },
  {
   "cell_type": "code",
   "execution_count": 53,
   "metadata": {},
   "outputs": [
    {
     "data": {
      "text/plain": [
       "0     25050\n",
       "1      3390\n",
       "2       971\n",
       "3       353\n",
       "4       123\n",
       "5        51\n",
       "6        28\n",
       "7        22\n",
       "8         7\n",
       "9         2\n",
       "15        1\n",
       "11        1\n",
       "10        1\n",
       "Name: Gatorade, dtype: int64"
      ]
     },
     "execution_count": 53,
     "metadata": {},
     "output_type": "execute_result"
    }
   ],
   "source": [
    "df.Gatorade.value_counts()"
   ]
  },
  {
   "cell_type": "code",
   "execution_count": 62,
   "metadata": {},
   "outputs": [
    {
     "data": {
      "text/plain": [
       "<matplotlib.axes._subplots.AxesSubplot at 0x283785d4bb0>"
      ]
     },
     "execution_count": 62,
     "metadata": {},
     "output_type": "execute_result"
    },
    {
     "data": {
      "image/png": "[encoded data removed]",
      "text/plain": [
       "<Figure size 432x288 with 1 Axes>"
      ]
     },
     "metadata": {
      "needs_background": "light"
     },
     "output_type": "display_data"
    }
   ],
   "source": [
    "sns.countplot(df.Gatorade)"
   ]
  },
  {
   "cell_type": "code",
   "execution_count": 110,
   "metadata": {},
   "outputs": [
    {
     "data": {
      "text/plain": [
       "Gender\n",
       "F    1.422340\n",
       "M    1.822568\n",
       "Name: Gatorade, dtype: float64"
      ]
     },
     "execution_count": 110,
     "metadata": {},
     "output_type": "execute_result"
    }
   ],
   "source": [
    "# Lets see if Male customers or Female customers prefer Gatorade\n",
    "\n",
    "df[df.Gatorade>0].groupby('Gender').mean()['Gatorade']"
   ]
  },
  {
   "cell_type": "code",
   "execution_count": 111,
   "metadata": {},
   "outputs": [],
   "source": [
    "# On an average Male customers ordered 1.8 (close to 2) products and female customers ordered 1.4 products from Gatorade."
   ]
  },
  {
   "cell_type": "code",
   "execution_count": 123,
   "metadata": {},
   "outputs": [
    {
     "data": {
      "text/plain": [
       "Order_cat\n",
       "0 order           0.199616\n",
       "1 to 6 orders     0.266534\n",
       "7 to 12 orders    0.273335\n",
       "Name: Gatorade, dtype: float64"
      ]
     },
     "execution_count": 123,
     "metadata": {},
     "output_type": "execute_result"
    }
   ],
   "source": [
    "df.groupby('Order_cat').mean()['Gatorade']"
   ]
  },
  {
   "cell_type": "code",
   "execution_count": 65,
   "metadata": {},
   "outputs": [
    {
     "name": "stdout",
     "output_type": "stream",
     "text": [
      "Proportion of 0:  83.5 %\n",
      "Proportion of 1:  11.3 %\n",
      "Proportion of 2:  3.2399999999999998 %\n",
      "Proportion of 3:  1.18 %\n",
      "Proportion of 4:  0.41000000000000003 %\n",
      "Proportion of 5:  0.16999999999999998 %\n",
      "Proportion of 6:  0.09 %\n",
      "Proportion of 7:  0.06999999999999999 %\n",
      "Proportion of 8:  0.02 %\n",
      "Proportion of 9:  0.01 %\n",
      "Proportion of 15:  0.0 %\n",
      "Proportion of 11:  0.0 %\n",
      "Proportion of 10:  0.0 %\n"
     ]
    }
   ],
   "source": [
    "find_proportion('Gatorade', df)"
   ]
  },
  {
   "cell_type": "code",
   "execution_count": 66,
   "metadata": {},
   "outputs": [],
   "source": [
    "zero['Gatorade'] = 83.5"
   ]
  },
  {
   "cell_type": "code",
   "execution_count": 95,
   "metadata": {},
   "outputs": [
    {
     "data": {
      "text/plain": [
       "<matplotlib.axes._subplots.AxesSubplot at 0x2837820bc10>"
      ]
     },
     "execution_count": 95,
     "metadata": {},
     "output_type": "execute_result"
    },
    {
     "data": {
      "image/png": "[encoded data removed]",
      "text/plain": [
       "<Figure size 432x288 with 1 Axes>"
      ]
     },
     "metadata": {
      "needs_background": "light"
     },
     "output_type": "display_data"
    }
   ],
   "source": [
    "# Lets see the customers who bought or didn't buy Jordan and Gatorade\n",
    "\n",
    "sns.scatterplot(df.Jordan, df.Gatorade, hue=df.Order_cat)"
   ]
  },
  {
   "cell_type": "code",
   "execution_count": 96,
   "metadata": {},
   "outputs": [],
   "source": [
    "# There is no particular pattern here"
   ]
  },
  {
   "cell_type": "markdown",
   "metadata": {},
   "source": [
    "#### Samsung"
   ]
  },
  {
   "cell_type": "code",
   "execution_count": 97,
   "metadata": {},
   "outputs": [
    {
     "data": {
      "text/plain": [
       "0     26900\n",
       "1      1685\n",
       "2       635\n",
       "3       279\n",
       "4       191\n",
       "5       107\n",
       "6        77\n",
       "7        47\n",
       "8        33\n",
       "9        11\n",
       "10       11\n",
       "12        8\n",
       "11        7\n",
       "14        2\n",
       "13        2\n",
       "22        1\n",
       "26        1\n",
       "27        1\n",
       "16        1\n",
       "15        1\n",
       "Name: Samsung, dtype: int64"
      ]
     },
     "execution_count": 97,
     "metadata": {},
     "output_type": "execute_result"
    }
   ],
   "source": [
    "df.Samsung.value_counts()"
   ]
  },
  {
   "cell_type": "code",
   "execution_count": 98,
   "metadata": {},
   "outputs": [
    {
     "data": {
      "text/plain": [
       "<matplotlib.axes._subplots.AxesSubplot at 0x283784a8640>"
      ]
     },
     "execution_count": 98,
     "metadata": {},
     "output_type": "execute_result"
    },
    {
     "data": {
      "image/png": "[encoded data removed]",
      "text/plain": [
       "<Figure size 432x288 with 1 Axes>"
      ]
     },
     "metadata": {
      "needs_background": "light"
     },
     "output_type": "display_data"
    }
   ],
   "source": [
    "sns.countplot(df.Samsung)"
   ]
  },
  {
   "cell_type": "code",
   "execution_count": 112,
   "metadata": {},
   "outputs": [
    {
     "data": {
      "text/plain": [
       "Gender\n",
       "F    2.151643\n",
       "M    2.159449\n",
       "Name: Samsung, dtype: float64"
      ]
     },
     "execution_count": 112,
     "metadata": {},
     "output_type": "execute_result"
    }
   ],
   "source": [
    "df[df.Samsung>0].groupby('Gender').mean()['Samsung']"
   ]
  },
  {
   "cell_type": "code",
   "execution_count": 113,
   "metadata": {},
   "outputs": [],
   "source": [
    "# On an average both male and female customers ordered 2.15 products from Samsung"
   ]
  },
  {
   "cell_type": "code",
   "execution_count": 124,
   "metadata": {},
   "outputs": [
    {
     "data": {
      "text/plain": [
       "Order_cat\n",
       "0 order           0.181930\n",
       "1 to 6 orders     0.238621\n",
       "7 to 12 orders    0.232362\n",
       "Name: Samsung, dtype: float64"
      ]
     },
     "execution_count": 124,
     "metadata": {},
     "output_type": "execute_result"
    }
   ],
   "source": [
    "df.groupby('Order_cat').mean()['Samsung']"
   ]
  },
  {
   "cell_type": "code",
   "execution_count": 115,
   "metadata": {},
   "outputs": [
    {
     "name": "stdout",
     "output_type": "stream",
     "text": [
      "Proportion of 0:  89.67 %\n",
      "Proportion of 1:  5.62 %\n",
      "Proportion of 2:  2.12 %\n",
      "Proportion of 3:  0.9299999999999999 %\n",
      "Proportion of 4:  0.64 %\n",
      "Proportion of 5:  0.36 %\n",
      "Proportion of 6:  0.26 %\n",
      "Proportion of 7:  0.16 %\n",
      "Proportion of 8:  0.11 %\n",
      "Proportion of 9:  0.04 %\n",
      "Proportion of 10:  0.04 %\n",
      "Proportion of 12:  0.03 %\n",
      "Proportion of 11:  0.02 %\n",
      "Proportion of 14:  0.01 %\n",
      "Proportion of 13:  0.01 %\n",
      "Proportion of 22:  0.0 %\n",
      "Proportion of 26:  0.0 %\n",
      "Proportion of 27:  0.0 %\n",
      "Proportion of 16:  0.0 %\n",
      "Proportion of 15:  0.0 %\n"
     ]
    }
   ],
   "source": [
    "find_proportion('Samsung', df)"
   ]
  },
  {
   "cell_type": "code",
   "execution_count": 116,
   "metadata": {},
   "outputs": [],
   "source": [
    "zero['Samsung'] = 89.67"
   ]
  },
  {
   "cell_type": "markdown",
   "metadata": {},
   "source": [
    "#### Asus"
   ]
  },
  {
   "cell_type": "code",
   "execution_count": 117,
   "metadata": {},
   "outputs": [
    {
     "data": {
      "text/plain": [
       "0     27597\n",
       "1      1389\n",
       "2       466\n",
       "3       219\n",
       "4       126\n",
       "5        72\n",
       "6        50\n",
       "7        32\n",
       "8        19\n",
       "9        10\n",
       "10        9\n",
       "11        4\n",
       "12        2\n",
       "15        2\n",
       "14        1\n",
       "17        1\n",
       "13        1\n",
       "Name: Asus, dtype: int64"
      ]
     },
     "execution_count": 117,
     "metadata": {},
     "output_type": "execute_result"
    }
   ],
   "source": [
    "df.Asus.value_counts()"
   ]
  },
  {
   "cell_type": "code",
   "execution_count": 118,
   "metadata": {},
   "outputs": [
    {
     "data": {
      "text/plain": [
       "<matplotlib.axes._subplots.AxesSubplot at 0x28378102c10>"
      ]
     },
     "execution_count": 118,
     "metadata": {},
     "output_type": "execute_result"
    },
    {
     "data": {
      "image/png": "[encoded data removed]",
      "text/plain": [
       "<Figure size 432x288 with 1 Axes>"
      ]
     },
     "metadata": {
      "needs_background": "light"
     },
     "output_type": "display_data"
    }
   ],
   "source": [
    "sns.countplot(df.Asus)"
   ]
  },
  {
   "cell_type": "code",
   "execution_count": 125,
   "metadata": {},
   "outputs": [
    {
     "data": {
      "text/plain": [
       "Gender\n",
       "F    2.037186\n",
       "M    1.142857\n",
       "Name: Asus, dtype: float64"
      ]
     },
     "execution_count": 125,
     "metadata": {},
     "output_type": "execute_result"
    }
   ],
   "source": [
    "df[df.Asus>0].groupby('Gender').mean()['Asus']"
   ]
  },
  {
   "cell_type": "code",
   "execution_count": 126,
   "metadata": {},
   "outputs": [],
   "source": [
    "# On an average female customers ordered 2 products and male customers ordered 1 product from Asus"
   ]
  },
  {
   "cell_type": "code",
   "execution_count": 127,
   "metadata": {},
   "outputs": [
    {
     "data": {
      "text/plain": [
       "Order_cat\n",
       "0 order           0.136413\n",
       "1 to 6 orders     0.166888\n",
       "7 to 12 orders    0.172984\n",
       "Name: Asus, dtype: float64"
      ]
     },
     "execution_count": 127,
     "metadata": {},
     "output_type": "execute_result"
    }
   ],
   "source": [
    "df.groupby('Order_cat').mean()['Asus']"
   ]
  },
  {
   "cell_type": "code",
   "execution_count": 128,
   "metadata": {},
   "outputs": [
    {
     "name": "stdout",
     "output_type": "stream",
     "text": [
      "Proportion of 0:  91.99000000000001 %\n",
      "Proportion of 1:  4.63 %\n",
      "Proportion of 2:  1.55 %\n",
      "Proportion of 3:  0.73 %\n",
      "Proportion of 4:  0.42 %\n",
      "Proportion of 5:  0.24 %\n",
      "Proportion of 6:  0.16999999999999998 %\n",
      "Proportion of 7:  0.11 %\n",
      "Proportion of 8:  0.06 %\n",
      "Proportion of 9:  0.03 %\n",
      "Proportion of 10:  0.03 %\n",
      "Proportion of 11:  0.01 %\n",
      "Proportion of 12:  0.01 %\n",
      "Proportion of 15:  0.01 %\n",
      "Proportion of 14:  0.0 %\n",
      "Proportion of 17:  0.0 %\n",
      "Proportion of 13:  0.0 %\n"
     ]
    }
   ],
   "source": [
    "find_proportion('Asus', df)"
   ]
  },
  {
   "cell_type": "code",
   "execution_count": 129,
   "metadata": {},
   "outputs": [],
   "source": [
    "zero['Asus'] = 91.99"
   ]
  },
  {
   "cell_type": "markdown",
   "metadata": {},
   "source": [
    "#### Udis"
   ]
  },
  {
   "cell_type": "code",
   "execution_count": 130,
   "metadata": {},
   "outputs": [
    {
     "data": {
      "text/plain": [
       "0     27588\n",
       "1      1527\n",
       "2       472\n",
       "3       168\n",
       "4        96\n",
       "5        62\n",
       "6        41\n",
       "7        17\n",
       "8        12\n",
       "9         7\n",
       "11        5\n",
       "10        3\n",
       "14        2\n",
       "Name: Udis, dtype: int64"
      ]
     },
     "execution_count": 130,
     "metadata": {},
     "output_type": "execute_result"
    }
   ],
   "source": [
    "df.Udis.value_counts()"
   ]
  },
  {
   "cell_type": "code",
   "execution_count": 131,
   "metadata": {},
   "outputs": [
    {
     "data": {
      "text/plain": [
       "<matplotlib.axes._subplots.AxesSubplot at 0x283786210d0>"
      ]
     },
     "execution_count": 131,
     "metadata": {},
     "output_type": "execute_result"
    },
    {
     "data": {
      "image/png": "[encoded data removed]",
      "text/plain": [
       "<Figure size 432x288 with 1 Axes>"
      ]
     },
     "metadata": {
      "needs_background": "light"
     },
     "output_type": "display_data"
    }
   ],
   "source": [
    "sns.countplot(df.Udis)"
   ]
  },
  {
   "cell_type": "code",
   "execution_count": 132,
   "metadata": {},
   "outputs": [
    {
     "data": {
      "text/plain": [
       "Gender\n",
       "F    1.821716\n",
       "M    1.495868\n",
       "Name: Udis, dtype: float64"
      ]
     },
     "execution_count": 132,
     "metadata": {},
     "output_type": "execute_result"
    }
   ],
   "source": [
    "df[df.Udis>0].groupby('Gender').mean()['Udis']"
   ]
  },
  {
   "cell_type": "code",
   "execution_count": 133,
   "metadata": {},
   "outputs": [
    {
     "data": {
      "text/plain": [
       "Order_cat\n",
       "0 order           0.127776\n",
       "1 to 6 orders     0.148402\n",
       "7 to 12 orders    0.148883\n",
       "Name: Udis, dtype: float64"
      ]
     },
     "execution_count": 133,
     "metadata": {},
     "output_type": "execute_result"
    }
   ],
   "source": [
    "df.groupby('Order_cat').mean()['Udis']"
   ]
  },
  {
   "cell_type": "code",
   "execution_count": 134,
   "metadata": {},
   "outputs": [
    {
     "name": "stdout",
     "output_type": "stream",
     "text": [
      "Proportion of 0:  91.96 %\n",
      "Proportion of 1:  5.09 %\n",
      "Proportion of 2:  1.5699999999999998 %\n",
      "Proportion of 3:  0.5599999999999999 %\n",
      "Proportion of 4:  0.32 %\n",
      "Proportion of 5:  0.21 %\n",
      "Proportion of 6:  0.13999999999999999 %\n",
      "Proportion of 7:  0.06 %\n",
      "Proportion of 8:  0.04 %\n",
      "Proportion of 9:  0.02 %\n",
      "Proportion of 11:  0.02 %\n",
      "Proportion of 10:  0.01 %\n",
      "Proportion of 14:  0.01 %\n"
     ]
    }
   ],
   "source": [
    "find_proportion('Udis', df)"
   ]
  },
  {
   "cell_type": "code",
   "execution_count": 135,
   "metadata": {},
   "outputs": [],
   "source": [
    "zero['Udis'] = 91.96"
   ]
  },
  {
   "cell_type": "markdown",
   "metadata": {},
   "source": [
    "#### Mondelez International"
   ]
  },
  {
   "cell_type": "code",
   "execution_count": 136,
   "metadata": {},
   "outputs": [
    {
     "data": {
      "text/plain": [
       "0     26917\n",
       "1      2406\n",
       "2       472\n",
       "3       105\n",
       "4        41\n",
       "5        38\n",
       "6        11\n",
       "8         4\n",
       "7         2\n",
       "31        1\n",
       "12        1\n",
       "10        1\n",
       "9         1\n",
       "Name: Mondelez International, dtype: int64"
      ]
     },
     "execution_count": 136,
     "metadata": {},
     "output_type": "execute_result"
    }
   ],
   "source": [
    "df['Mondelez International'].value_counts()"
   ]
  },
  {
   "cell_type": "code",
   "execution_count": 137,
   "metadata": {},
   "outputs": [
    {
     "data": {
      "text/plain": [
       "<matplotlib.axes._subplots.AxesSubplot at 0x2837861c820>"
      ]
     },
     "execution_count": 137,
     "metadata": {},
     "output_type": "execute_result"
    },
    {
     "data": {
      "image/png": "[encoded data removed]",
      "text/plain": [
       "<Figure size 432x288 with 1 Axes>"
      ]
     },
     "metadata": {
      "needs_background": "light"
     },
     "output_type": "display_data"
    }
   ],
   "source": [
    "sns.countplot(df['Mondelez International'])"
   ]
  },
  {
   "cell_type": "code",
   "execution_count": 138,
   "metadata": {},
   "outputs": [
    {
     "data": {
      "text/plain": [
       "Gender\n",
       "F    1.335809\n",
       "M    1.513158\n",
       "Name: Mondelez International, dtype: float64"
      ]
     },
     "execution_count": 138,
     "metadata": {},
     "output_type": "execute_result"
    }
   ],
   "source": [
    "df[df['Mondelez International']>0].groupby('Gender').mean()['Mondelez International']"
   ]
  },
  {
   "cell_type": "code",
   "execution_count": 152,
   "metadata": {},
   "outputs": [
    {
     "data": {
      "text/plain": [
       "Order_cat\n",
       "0 order           0.122566\n",
       "1 to 6 orders     0.147518\n",
       "7 to 12 orders    0.141981\n",
       "Name: Mondelez International, dtype: float64"
      ]
     },
     "execution_count": 152,
     "metadata": {},
     "output_type": "execute_result"
    }
   ],
   "source": [
    "df.groupby('Order_cat').mean()['Mondelez International']"
   ]
  },
  {
   "cell_type": "code",
   "execution_count": 140,
   "metadata": {},
   "outputs": [
    {
     "name": "stdout",
     "output_type": "stream",
     "text": [
      "Proportion of 0:  89.72 %\n",
      "Proportion of 1:  8.02 %\n",
      "Proportion of 2:  1.5699999999999998 %\n",
      "Proportion of 3:  0.35000000000000003 %\n",
      "Proportion of 4:  0.13999999999999999 %\n",
      "Proportion of 5:  0.13 %\n",
      "Proportion of 6:  0.04 %\n",
      "Proportion of 8:  0.01 %\n",
      "Proportion of 7:  0.01 %\n",
      "Proportion of 31:  0.0 %\n",
      "Proportion of 12:  0.0 %\n",
      "Proportion of 10:  0.0 %\n",
      "Proportion of 9:  0.0 %\n"
     ]
    }
   ],
   "source": [
    "find_proportion('Mondelez International', df)"
   ]
  },
  {
   "cell_type": "code",
   "execution_count": 141,
   "metadata": {},
   "outputs": [],
   "source": [
    "zero['Mondelez International'] = 89.72"
   ]
  },
  {
   "cell_type": "markdown",
   "metadata": {},
   "source": [
    "#### Wrangler"
   ]
  },
  {
   "cell_type": "code",
   "execution_count": 142,
   "metadata": {},
   "outputs": [
    {
     "data": {
      "text/plain": [
       "0    28164\n",
       "1     1099\n",
       "2      408\n",
       "3      168\n",
       "4       81\n",
       "5       40\n",
       "6       25\n",
       "7        7\n",
       "8        6\n",
       "9        2\n",
       "Name: Wrangler, dtype: int64"
      ]
     },
     "execution_count": 142,
     "metadata": {},
     "output_type": "execute_result"
    }
   ],
   "source": [
    "df.Wrangler.value_counts()"
   ]
  },
  {
   "cell_type": "code",
   "execution_count": 143,
   "metadata": {},
   "outputs": [
    {
     "data": {
      "text/plain": [
       "<matplotlib.axes._subplots.AxesSubplot at 0x283786367c0>"
      ]
     },
     "execution_count": 143,
     "metadata": {},
     "output_type": "execute_result"
    },
    {
     "data": {
      "image/png": "[encoded data removed]",
      "text/plain": [
       "<Figure size 432x288 with 1 Axes>"
      ]
     },
     "metadata": {
      "needs_background": "light"
     },
     "output_type": "display_data"
    }
   ],
   "source": [
    "sns.countplot(df.Wrangler)"
   ]
  },
  {
   "cell_type": "code",
   "execution_count": 144,
   "metadata": {},
   "outputs": [
    {
     "data": {
      "text/plain": [
       "Gender\n",
       "F    1.753153\n",
       "M    1.342857\n",
       "Name: Wrangler, dtype: float64"
      ]
     },
     "execution_count": 144,
     "metadata": {},
     "output_type": "execute_result"
    }
   ],
   "source": [
    "df[df['Wrangler']>0].groupby('Gender').mean()['Wrangler']"
   ]
  },
  {
   "cell_type": "code",
   "execution_count": 151,
   "metadata": {},
   "outputs": [
    {
     "data": {
      "text/plain": [
       "Order_cat\n",
       "0 order           0.094187\n",
       "1 to 6 orders     0.113640\n",
       "7 to 12 orders    0.107143\n",
       "Name: Wrangler, dtype: float64"
      ]
     },
     "execution_count": 151,
     "metadata": {},
     "output_type": "execute_result"
    }
   ],
   "source": [
    "df.groupby('Order_cat').mean()['Wrangler']"
   ]
  },
  {
   "cell_type": "code",
   "execution_count": 146,
   "metadata": {},
   "outputs": [
    {
     "name": "stdout",
     "output_type": "stream",
     "text": [
      "Proportion of 0:  93.88 %\n",
      "Proportion of 1:  3.66 %\n",
      "Proportion of 2:  1.3599999999999999 %\n",
      "Proportion of 3:  0.5599999999999999 %\n",
      "Proportion of 4:  0.27 %\n",
      "Proportion of 5:  0.13 %\n",
      "Proportion of 6:  0.08 %\n",
      "Proportion of 7:  0.02 %\n",
      "Proportion of 8:  0.02 %\n",
      "Proportion of 9:  0.01 %\n"
     ]
    }
   ],
   "source": [
    "find_proportion('Wrangler', df)"
   ]
  },
  {
   "cell_type": "code",
   "execution_count": 147,
   "metadata": {},
   "outputs": [],
   "source": [
    "zero['Wrangler'] = 93.88"
   ]
  },
  {
   "cell_type": "markdown",
   "metadata": {},
   "source": [
    "#### Vans"
   ]
  },
  {
   "cell_type": "code",
   "execution_count": 148,
   "metadata": {},
   "outputs": [
    {
     "data": {
      "text/plain": [
       "0     27985\n",
       "1      1390\n",
       "2       340\n",
       "3       108\n",
       "5        73\n",
       "4        55\n",
       "6        24\n",
       "7        12\n",
       "9         4\n",
       "8         3\n",
       "14        1\n",
       "13        1\n",
       "12        1\n",
       "11        1\n",
       "10        1\n",
       "16        1\n",
       "Name: Vans, dtype: int64"
      ]
     },
     "execution_count": 148,
     "metadata": {},
     "output_type": "execute_result"
    }
   ],
   "source": [
    "df.Vans.value_counts()"
   ]
  },
  {
   "cell_type": "code",
   "execution_count": 153,
   "metadata": {},
   "outputs": [
    {
     "data": {
      "text/plain": [
       "<matplotlib.axes._subplots.AxesSubplot at 0x28378088070>"
      ]
     },
     "execution_count": 153,
     "metadata": {},
     "output_type": "execute_result"
    },
    {
     "data": {
      "image/png": "[encoded data removed]",
      "text/plain": [
       "<Figure size 432x288 with 1 Axes>"
      ]
     },
     "metadata": {
      "needs_background": "light"
     },
     "output_type": "display_data"
    }
   ],
   "source": [
    "sns.countplot(df.Vans)"
   ]
  },
  {
   "cell_type": "code",
   "execution_count": 154,
   "metadata": {},
   "outputs": [
    {
     "data": {
      "text/plain": [
       "Gender\n",
       "F    1.363413\n",
       "M    2.171642\n",
       "Name: Vans, dtype: float64"
      ]
     },
     "execution_count": 154,
     "metadata": {},
     "output_type": "execute_result"
    }
   ],
   "source": [
    "df[df['Vans']>0].groupby('Gender').mean()['Vans']"
   ]
  },
  {
   "cell_type": "code",
   "execution_count": 155,
   "metadata": {},
   "outputs": [
    {
     "data": {
      "text/plain": [
       "Order_cat\n",
       "0 order           0.098574\n",
       "1 to 6 orders     0.114818\n",
       "7 to 12 orders    0.116674\n",
       "Name: Vans, dtype: float64"
      ]
     },
     "execution_count": 155,
     "metadata": {},
     "output_type": "execute_result"
    }
   ],
   "source": [
    "df.groupby('Order_cat').mean()['Vans']"
   ]
  },
  {
   "cell_type": "code",
   "execution_count": 156,
   "metadata": {},
   "outputs": [
    {
     "name": "stdout",
     "output_type": "stream",
     "text": [
      "Proportion of 0:  93.28 %\n",
      "Proportion of 1:  4.63 %\n",
      "Proportion of 2:  1.13 %\n",
      "Proportion of 3:  0.36 %\n",
      "Proportion of 5:  0.24 %\n",
      "Proportion of 4:  0.18 %\n",
      "Proportion of 6:  0.08 %\n",
      "Proportion of 7:  0.04 %\n",
      "Proportion of 9:  0.01 %\n",
      "Proportion of 8:  0.01 %\n",
      "Proportion of 14:  0.0 %\n",
      "Proportion of 13:  0.0 %\n",
      "Proportion of 12:  0.0 %\n",
      "Proportion of 11:  0.0 %\n",
      "Proportion of 10:  0.0 %\n",
      "Proportion of 16:  0.0 %\n"
     ]
    }
   ],
   "source": [
    "find_proportion('Vans', df)"
   ]
  },
  {
   "cell_type": "code",
   "execution_count": 157,
   "metadata": {},
   "outputs": [],
   "source": [
    "zero['Vans'] = 93.28"
   ]
  },
  {
   "cell_type": "markdown",
   "metadata": {},
   "source": [
    "#### Fila"
   ]
  },
  {
   "cell_type": "code",
   "execution_count": 158,
   "metadata": {},
   "outputs": [
    {
     "data": {
      "text/plain": [
       "0     28410\n",
       "1      1042\n",
       "2       246\n",
       "3       159\n",
       "4        49\n",
       "5        38\n",
       "6        21\n",
       "7        15\n",
       "10        5\n",
       "9         5\n",
       "8         4\n",
       "11        3\n",
       "15        1\n",
       "13        1\n",
       "12        1\n",
       "Name: Fila, dtype: int64"
      ]
     },
     "execution_count": 158,
     "metadata": {},
     "output_type": "execute_result"
    }
   ],
   "source": [
    "df.Fila.value_counts()"
   ]
  },
  {
   "cell_type": "code",
   "execution_count": 159,
   "metadata": {},
   "outputs": [
    {
     "data": {
      "text/plain": [
       "<matplotlib.axes._subplots.AxesSubplot at 0x28378496a30>"
      ]
     },
     "execution_count": 159,
     "metadata": {},
     "output_type": "execute_result"
    },
    {
     "data": {
      "image/png": "[encoded data removed]",
      "text/plain": [
       "<Figure size 432x288 with 1 Axes>"
      ]
     },
     "metadata": {
      "needs_background": "light"
     },
     "output_type": "display_data"
    }
   ],
   "source": [
    "sns.countplot(df.Fila)"
   ]
  },
  {
   "cell_type": "code",
   "execution_count": 160,
   "metadata": {},
   "outputs": [
    {
     "data": {
      "text/plain": [
       "Gender\n",
       "F    1.697256\n",
       "M    2.034247\n",
       "Name: Fila, dtype: float64"
      ]
     },
     "execution_count": 160,
     "metadata": {},
     "output_type": "execute_result"
    }
   ],
   "source": [
    "df[df['Fila']>0].groupby('Gender').mean()['Fila']"
   ]
  },
  {
   "cell_type": "code",
   "execution_count": 161,
   "metadata": {},
   "outputs": [
    {
     "data": {
      "text/plain": [
       "Order_cat\n",
       "0 order           0.101865\n",
       "1 to 6 orders     0.094049\n",
       "7 to 12 orders    0.088519\n",
       "Name: Fila, dtype: float64"
      ]
     },
     "execution_count": 161,
     "metadata": {},
     "output_type": "execute_result"
    }
   ],
   "source": [
    "df.groupby('Order_cat').mean()['Fila']"
   ]
  },
  {
   "cell_type": "code",
   "execution_count": 162,
   "metadata": {},
   "outputs": [
    {
     "name": "stdout",
     "output_type": "stream",
     "text": [
      "Proportion of 0:  94.69999999999999 %\n",
      "Proportion of 1:  3.47 %\n",
      "Proportion of 2:  0.8200000000000001 %\n",
      "Proportion of 3:  0.53 %\n",
      "Proportion of 4:  0.16 %\n",
      "Proportion of 5:  0.13 %\n",
      "Proportion of 6:  0.06999999999999999 %\n",
      "Proportion of 7:  0.05 %\n",
      "Proportion of 10:  0.02 %\n",
      "Proportion of 9:  0.02 %\n",
      "Proportion of 8:  0.01 %\n",
      "Proportion of 11:  0.01 %\n",
      "Proportion of 15:  0.0 %\n",
      "Proportion of 13:  0.0 %\n",
      "Proportion of 12:  0.0 %\n"
     ]
    }
   ],
   "source": [
    "find_proportion('Fila', df)"
   ]
  },
  {
   "cell_type": "code",
   "execution_count": 163,
   "metadata": {},
   "outputs": [],
   "source": [
    "zero['Fila'] = 94.69"
   ]
  },
  {
   "cell_type": "markdown",
   "metadata": {},
   "source": [
    "#### Brooks"
   ]
  },
  {
   "cell_type": "code",
   "execution_count": 164,
   "metadata": {
    "scrolled": true
   },
   "outputs": [
    {
     "data": {
      "text/plain": [
       "0     26700\n",
       "1      2700\n",
       "2       433\n",
       "3       102\n",
       "4        35\n",
       "5        14\n",
       "6         6\n",
       "7         5\n",
       "9         3\n",
       "12        2\n",
       "Name: Brooks, dtype: int64"
      ]
     },
     "execution_count": 164,
     "metadata": {},
     "output_type": "execute_result"
    }
   ],
   "source": [
    "df.Brooks.value_counts()"
   ]
  },
  {
   "cell_type": "code",
   "execution_count": 165,
   "metadata": {},
   "outputs": [
    {
     "data": {
      "text/plain": [
       "<matplotlib.axes._subplots.AxesSubplot at 0x283781cf910>"
      ]
     },
     "execution_count": 165,
     "metadata": {},
     "output_type": "execute_result"
    },
    {
     "data": {
      "image/png": "[encoded data removed]",
      "text/plain": [
       "<Figure size 432x288 with 1 Axes>"
      ]
     },
     "metadata": {
      "needs_background": "light"
     },
     "output_type": "display_data"
    }
   ],
   "source": [
    "sns.countplot(df.Brooks)"
   ]
  },
  {
   "cell_type": "code",
   "execution_count": 166,
   "metadata": {},
   "outputs": [
    {
     "data": {
      "text/plain": [
       "Gender\n",
       "F    1.270224\n",
       "M    1.293680\n",
       "Name: Brooks, dtype: float64"
      ]
     },
     "execution_count": 166,
     "metadata": {},
     "output_type": "execute_result"
    }
   ],
   "source": [
    "df[df['Brooks']>0].groupby('Gender').mean()['Brooks']"
   ]
  },
  {
   "cell_type": "code",
   "execution_count": 167,
   "metadata": {},
   "outputs": [
    {
     "data": {
      "text/plain": [
       "Order_cat\n",
       "0 order           0.126542\n",
       "1 to 6 orders     0.140890\n",
       "7 to 12 orders    0.149869\n",
       "Name: Brooks, dtype: float64"
      ]
     },
     "execution_count": 167,
     "metadata": {},
     "output_type": "execute_result"
    }
   ],
   "source": [
    "df.groupby('Order_cat').mean()['Brooks']"
   ]
  },
  {
   "cell_type": "code",
   "execution_count": 168,
   "metadata": {},
   "outputs": [
    {
     "name": "stdout",
     "output_type": "stream",
     "text": [
      "Proportion of 0:  89.0 %\n",
      "Proportion of 1:  9.0 %\n",
      "Proportion of 2:  1.44 %\n",
      "Proportion of 3:  0.33999999999999997 %\n",
      "Proportion of 4:  0.12 %\n",
      "Proportion of 5:  0.05 %\n",
      "Proportion of 6:  0.02 %\n",
      "Proportion of 7:  0.02 %\n",
      "Proportion of 9:  0.01 %\n",
      "Proportion of 12:  0.01 %\n"
     ]
    }
   ],
   "source": [
    "find_proportion('Brooks', df)"
   ]
  },
  {
   "cell_type": "code",
   "execution_count": 169,
   "metadata": {},
   "outputs": [],
   "source": [
    "zero['Brooks'] = 89.0"
   ]
  },
  {
   "cell_type": "markdown",
   "metadata": {},
   "source": [
    "#### H&M"
   ]
  },
  {
   "cell_type": "code",
   "execution_count": 164,
   "metadata": {
    "scrolled": true
   },
   "outputs": [
    {
     "data": {
      "text/plain": [
       "0     26700\n",
       "1      2700\n",
       "2       433\n",
       "3       102\n",
       "4        35\n",
       "5        14\n",
       "6         6\n",
       "7         5\n",
       "9         3\n",
       "12        2\n",
       "Name: Brooks, dtype: int64"
      ]
     },
     "execution_count": 164,
     "metadata": {},
     "output_type": "execute_result"
    }
   ],
   "source": [
    "df.Brooks.value_counts()"
   ]
  },
  {
   "cell_type": "code",
   "execution_count": 165,
   "metadata": {},
   "outputs": [
    {
     "data": {
      "text/plain": [
       "<matplotlib.axes._subplots.AxesSubplot at 0x283781cf910>"
      ]
     },
     "execution_count": 165,
     "metadata": {},
     "output_type": "execute_result"
    },
    {
     "data": {
      "image/png": "[encoded data removed]",
      "text/plain": [
       "<Figure size 432x288 with 1 Axes>"
      ]
     },
     "metadata": {
      "needs_background": "light"
     },
     "output_type": "display_data"
    }
   ],
   "source": [
    "sns.countplot(df.Brooks)"
   ]
  },
  {
   "cell_type": "code",
   "execution_count": 166,
   "metadata": {},
   "outputs": [
    {
     "data": {
      "text/plain": [
       "Gender\n",
       "F    1.270224\n",
       "M    1.293680\n",
       "Name: Brooks, dtype: float64"
      ]
     },
     "execution_count": 166,
     "metadata": {},
     "output_type": "execute_result"
    }
   ],
   "source": [
    "df[df['Brooks']>0].groupby('Gender').mean()['Brooks']"
   ]
  },
  {
   "cell_type": "code",
   "execution_count": 167,
   "metadata": {},
   "outputs": [
    {
     "data": {
      "text/plain": [
       "Order_cat\n",
       "0 order           0.126542\n",
       "1 to 6 orders     0.140890\n",
       "7 to 12 orders    0.149869\n",
       "Name: Brooks, dtype: float64"
      ]
     },
     "execution_count": 167,
     "metadata": {},
     "output_type": "execute_result"
    }
   ],
   "source": [
    "df.groupby('Order_cat').mean()['Brooks']"
   ]
  },
  {
   "cell_type": "code",
   "execution_count": 168,
   "metadata": {},
   "outputs": [
    {
     "name": "stdout",
     "output_type": "stream",
     "text": [
      "Proportion of 0:  89.0 %\n",
      "Proportion of 1:  9.0 %\n",
      "Proportion of 2:  1.44 %\n",
      "Proportion of 3:  0.33999999999999997 %\n",
      "Proportion of 4:  0.12 %\n",
      "Proportion of 5:  0.05 %\n",
      "Proportion of 6:  0.02 %\n",
      "Proportion of 7:  0.02 %\n",
      "Proportion of 9:  0.01 %\n",
      "Proportion of 12:  0.01 %\n"
     ]
    }
   ],
   "source": [
    "find_proportion('Brooks', df)"
   ]
  },
  {
   "cell_type": "code",
   "execution_count": 169,
   "metadata": {},
   "outputs": [],
   "source": [
    "zero['Brooks'] = 89.0"
   ]
  },
  {
   "cell_type": "code",
   "execution_count": null,
   "metadata": {},
   "outputs": [],
   "source": []
  },
  {
   "cell_type": "markdown",
   "metadata": {},
   "source": [
    "#### Dairy Queen"
   ]
  },
  {
   "cell_type": "code",
   "execution_count": 164,
   "metadata": {
    "scrolled": true
   },
   "outputs": [
    {
     "data": {
      "text/plain": [
       "0     26700\n",
       "1      2700\n",
       "2       433\n",
       "3       102\n",
       "4        35\n",
       "5        14\n",
       "6         6\n",
       "7         5\n",
       "9         3\n",
       "12        2\n",
       "Name: Brooks, dtype: int64"
      ]
     },
     "execution_count": 164,
     "metadata": {},
     "output_type": "execute_result"
    }
   ],
   "source": [
    "df.Brooks.value_counts()"
   ]
  },
  {
   "cell_type": "code",
   "execution_count": 165,
   "metadata": {},
   "outputs": [
    {
     "data": {
      "text/plain": [
       "<matplotlib.axes._subplots.AxesSubplot at 0x283781cf910>"
      ]
     },
     "execution_count": 165,
     "metadata": {},
     "output_type": "execute_result"
    },
    {
     "data": {
      "image/png": "[encoded data removed]",
      "text/plain": [
       "<Figure size 432x288 with 1 Axes>"
      ]
     },
     "metadata": {
      "needs_background": "light"
     },
     "output_type": "display_data"
    }
   ],
   "source": [
    "sns.countplot(df.Brooks)"
   ]
  },
  {
   "cell_type": "code",
   "execution_count": 166,
   "metadata": {},
   "outputs": [
    {
     "data": {
      "text/plain": [
       "Gender\n",
       "F    1.270224\n",
       "M    1.293680\n",
       "Name: Brooks, dtype: float64"
      ]
     },
     "execution_count": 166,
     "metadata": {},
     "output_type": "execute_result"
    }
   ],
   "source": [
    "df[df['Brooks']>0].groupby('Gender').mean()['Brooks']"
   ]
  },
  {
   "cell_type": "code",
   "execution_count": 167,
   "metadata": {},
   "outputs": [
    {
     "data": {
      "text/plain": [
       "Order_cat\n",
       "0 order           0.126542\n",
       "1 to 6 orders     0.140890\n",
       "7 to 12 orders    0.149869\n",
       "Name: Brooks, dtype: float64"
      ]
     },
     "execution_count": 167,
     "metadata": {},
     "output_type": "execute_result"
    }
   ],
   "source": [
    "df.groupby('Order_cat').mean()['Brooks']"
   ]
  },
  {
   "cell_type": "code",
   "execution_count": 168,
   "metadata": {},
   "outputs": [
    {
     "name": "stdout",
     "output_type": "stream",
     "text": [
      "Proportion of 0:  89.0 %\n",
      "Proportion of 1:  9.0 %\n",
      "Proportion of 2:  1.44 %\n",
      "Proportion of 3:  0.33999999999999997 %\n",
      "Proportion of 4:  0.12 %\n",
      "Proportion of 5:  0.05 %\n",
      "Proportion of 6:  0.02 %\n",
      "Proportion of 7:  0.02 %\n",
      "Proportion of 9:  0.01 %\n",
      "Proportion of 12:  0.01 %\n"
     ]
    }
   ],
   "source": [
    "find_proportion('Brooks', df)"
   ]
  },
  {
   "cell_type": "code",
   "execution_count": 177,
   "metadata": {},
   "outputs": [],
   "source": [
    "zero['Brooks'] = 89.0"
   ]
  },
  {
   "cell_type": "markdown",
   "metadata": {},
   "source": [
    "#### Fendi"
   ]
  },
  {
   "cell_type": "code",
   "execution_count": 170,
   "metadata": {
    "scrolled": true
   },
   "outputs": [
    {
     "data": {
      "text/plain": [
       "0     26931\n",
       "1      2411\n",
       "2       420\n",
       "3       106\n",
       "4        72\n",
       "5        24\n",
       "6        21\n",
       "7         5\n",
       "9         3\n",
       "12        2\n",
       "8         2\n",
       "11        1\n",
       "10        1\n",
       "18        1\n",
       "Name: Fendi, dtype: int64"
      ]
     },
     "execution_count": 170,
     "metadata": {},
     "output_type": "execute_result"
    }
   ],
   "source": [
    "df.Fendi.value_counts()"
   ]
  },
  {
   "cell_type": "code",
   "execution_count": 171,
   "metadata": {},
   "outputs": [
    {
     "data": {
      "text/plain": [
       "<matplotlib.axes._subplots.AxesSubplot at 0x28378614700>"
      ]
     },
     "execution_count": 171,
     "metadata": {},
     "output_type": "execute_result"
    },
    {
     "data": {
      "image/png": "[encoded data removed]",
      "text/plain": [
       "<Figure size 432x288 with 1 Axes>"
      ]
     },
     "metadata": {
      "needs_background": "light"
     },
     "output_type": "display_data"
    }
   ],
   "source": [
    "sns.countplot(df.Fendi)"
   ]
  },
  {
   "cell_type": "code",
   "execution_count": 172,
   "metadata": {},
   "outputs": [
    {
     "data": {
      "text/plain": [
       "Gender\n",
       "F    1.39060\n",
       "M    1.34472\n",
       "Name: Fendi, dtype: float64"
      ]
     },
     "execution_count": 172,
     "metadata": {},
     "output_type": "execute_result"
    }
   ],
   "source": [
    "df[df['Fendi']>0].groupby('Gender').mean()['Fendi']"
   ]
  },
  {
   "cell_type": "code",
   "execution_count": 173,
   "metadata": {},
   "outputs": [
    {
     "data": {
      "text/plain": [
       "Order_cat\n",
       "0 order           0.118316\n",
       "1 to 6 orders     0.148255\n",
       "7 to 12 orders    0.149869\n",
       "Name: Fendi, dtype: float64"
      ]
     },
     "execution_count": 173,
     "metadata": {},
     "output_type": "execute_result"
    }
   ],
   "source": [
    "df.groupby('Order_cat').mean()['Fendi']"
   ]
  },
  {
   "cell_type": "code",
   "execution_count": 174,
   "metadata": {},
   "outputs": [
    {
     "name": "stdout",
     "output_type": "stream",
     "text": [
      "Proportion of 0:  89.77000000000001 %\n",
      "Proportion of 1:  8.04 %\n",
      "Proportion of 2:  1.4000000000000001 %\n",
      "Proportion of 3:  0.35000000000000003 %\n",
      "Proportion of 4:  0.24 %\n",
      "Proportion of 5:  0.08 %\n",
      "Proportion of 6:  0.06999999999999999 %\n",
      "Proportion of 7:  0.02 %\n",
      "Proportion of 9:  0.01 %\n",
      "Proportion of 12:  0.01 %\n",
      "Proportion of 8:  0.01 %\n",
      "Proportion of 11:  0.0 %\n",
      "Proportion of 10:  0.0 %\n",
      "Proportion of 18:  0.0 %\n"
     ]
    }
   ],
   "source": [
    "find_proportion('Fendi', df)"
   ]
  },
  {
   "cell_type": "code",
   "execution_count": 176,
   "metadata": {},
   "outputs": [],
   "source": [
    "zero['Fendi'] = 89.77"
   ]
  },
  {
   "cell_type": "markdown",
   "metadata": {},
   "source": [
    "#### Hewlett Packard"
   ]
  },
  {
   "cell_type": "code",
   "execution_count": 178,
   "metadata": {
    "scrolled": true
   },
   "outputs": [
    {
     "data": {
      "text/plain": [
       "0     27033\n",
       "1      2037\n",
       "2       437\n",
       "3       214\n",
       "4       146\n",
       "5       113\n",
       "6        14\n",
       "7         4\n",
       "10        1\n",
       "9         1\n",
       "Name: Hewlett Packard, dtype: int64"
      ]
     },
     "execution_count": 178,
     "metadata": {},
     "output_type": "execute_result"
    }
   ],
   "source": [
    "df['Hewlett Packard'].value_counts()"
   ]
  },
  {
   "cell_type": "code",
   "execution_count": 179,
   "metadata": {},
   "outputs": [
    {
     "data": {
      "text/plain": [
       "<matplotlib.axes._subplots.AxesSubplot at 0x2837941a4c0>"
      ]
     },
     "execution_count": 179,
     "metadata": {},
     "output_type": "execute_result"
    },
    {
     "data": {
      "image/png": "[encoded data removed]",
      "text/plain": [
       "<Figure size 432x288 with 1 Axes>"
      ]
     },
     "metadata": {
      "needs_background": "light"
     },
     "output_type": "display_data"
    }
   ],
   "source": [
    "sns.countplot(df['Hewlett Packard'])"
   ]
  },
  {
   "cell_type": "code",
   "execution_count": 180,
   "metadata": {},
   "outputs": [
    {
     "data": {
      "text/plain": [
       "Gender\n",
       "F    1.575696\n",
       "M    1.741818\n",
       "Name: Hewlett Packard, dtype: float64"
      ]
     },
     "execution_count": 180,
     "metadata": {},
     "output_type": "execute_result"
    }
   ],
   "source": [
    "df[df['Hewlett Packard']>0].groupby('Gender').mean()['Hewlett Packard']"
   ]
  },
  {
   "cell_type": "code",
   "execution_count": 181,
   "metadata": {},
   "outputs": [
    {
     "data": {
      "text/plain": [
       "Order_cat\n",
       "0 order           0.150946\n",
       "1 to 6 orders     0.162248\n",
       "7 to 12 orders    0.167507\n",
       "Name: Hewlett Packard, dtype: float64"
      ]
     },
     "execution_count": 181,
     "metadata": {},
     "output_type": "execute_result"
    }
   ],
   "source": [
    "df.groupby('Order_cat').mean()['Hewlett Packard']"
   ]
  },
  {
   "cell_type": "code",
   "execution_count": 182,
   "metadata": {},
   "outputs": [
    {
     "name": "stdout",
     "output_type": "stream",
     "text": [
      "Proportion of 0:  90.11 %\n",
      "Proportion of 1:  6.79 %\n",
      "Proportion of 2:  1.46 %\n",
      "Proportion of 3:  0.7100000000000001 %\n",
      "Proportion of 4:  0.49 %\n",
      "Proportion of 5:  0.38 %\n",
      "Proportion of 6:  0.05 %\n",
      "Proportion of 7:  0.01 %\n",
      "Proportion of 10:  0.0 %\n",
      "Proportion of 9:  0.0 %\n"
     ]
    }
   ],
   "source": [
    "find_proportion('Hewlett Packard', df)"
   ]
  },
  {
   "cell_type": "code",
   "execution_count": 183,
   "metadata": {},
   "outputs": [],
   "source": [
    "zero['Hewlett Packard'] = 90.11"
   ]
  },
  {
   "cell_type": "markdown",
   "metadata": {},
   "source": [
    "#### Pladis"
   ]
  },
  {
   "cell_type": "code",
   "execution_count": 184,
   "metadata": {
    "scrolled": true
   },
   "outputs": [
    {
     "data": {
      "text/plain": [
       "0     28051\n",
       "1      1332\n",
       "2       303\n",
       "3       142\n",
       "4       103\n",
       "5        43\n",
       "6        14\n",
       "7         7\n",
       "8         3\n",
       "26        1\n",
       "9         1\n",
       "Name: Pladis, dtype: int64"
      ]
     },
     "execution_count": 184,
     "metadata": {},
     "output_type": "execute_result"
    }
   ],
   "source": [
    "df.Pladis.value_counts()"
   ]
  },
  {
   "cell_type": "code",
   "execution_count": 185,
   "metadata": {},
   "outputs": [
    {
     "data": {
      "text/plain": [
       "<matplotlib.axes._subplots.AxesSubplot at 0x2837956d310>"
      ]
     },
     "execution_count": 185,
     "metadata": {},
     "output_type": "execute_result"
    },
    {
     "data": {
      "image/png": "[encoded data removed]",
      "text/plain": [
       "<Figure size 432x288 with 1 Axes>"
      ]
     },
     "metadata": {
      "needs_background": "light"
     },
     "output_type": "display_data"
    }
   ],
   "source": [
    "sns.countplot(df.Pladis)"
   ]
  },
  {
   "cell_type": "code",
   "execution_count": 186,
   "metadata": {},
   "outputs": [
    {
     "data": {
      "text/plain": [
       "Gender\n",
       "F    1.632716\n",
       "M    1.670051\n",
       "Name: Pladis, dtype: float64"
      ]
     },
     "execution_count": 186,
     "metadata": {},
     "output_type": "execute_result"
    }
   ],
   "source": [
    "df[df['Pladis']>0].groupby('Gender').mean()['Pladis']"
   ]
  },
  {
   "cell_type": "code",
   "execution_count": 188,
   "metadata": {},
   "outputs": [
    {
     "data": {
      "text/plain": [
       "Order_cat\n",
       "0 order           0.095695\n",
       "1 to 6 orders     0.114082\n",
       "7 to 12 orders    0.102542\n",
       "Name: Pladis, dtype: float64"
      ]
     },
     "execution_count": 188,
     "metadata": {},
     "output_type": "execute_result"
    }
   ],
   "source": [
    "df.groupby('Order_cat').mean()['Pladis']"
   ]
  },
  {
   "cell_type": "code",
   "execution_count": 189,
   "metadata": {},
   "outputs": [
    {
     "name": "stdout",
     "output_type": "stream",
     "text": [
      "Proportion of 0:  93.5 %\n",
      "Proportion of 1:  4.44 %\n",
      "Proportion of 2:  1.01 %\n",
      "Proportion of 3:  0.47000000000000003 %\n",
      "Proportion of 4:  0.33999999999999997 %\n",
      "Proportion of 5:  0.13999999999999999 %\n",
      "Proportion of 6:  0.05 %\n",
      "Proportion of 7:  0.02 %\n",
      "Proportion of 8:  0.01 %\n",
      "Proportion of 26:  0.0 %\n",
      "Proportion of 9:  0.0 %\n"
     ]
    }
   ],
   "source": [
    "find_proportion('Pladis', df)"
   ]
  },
  {
   "cell_type": "code",
   "execution_count": 190,
   "metadata": {},
   "outputs": [],
   "source": [
    "zero['Pladis'] = 93.5"
   ]
  },
  {
   "cell_type": "markdown",
   "metadata": {},
   "source": [
    "#### Asics"
   ]
  },
  {
   "cell_type": "code",
   "execution_count": 191,
   "metadata": {
    "scrolled": false
   },
   "outputs": [
    {
     "data": {
      "text/plain": [
       "0     25586\n",
       "1      2593\n",
       "2       841\n",
       "3       408\n",
       "4       221\n",
       "5       120\n",
       "6        75\n",
       "7        52\n",
       "8        27\n",
       "9        24\n",
       "10       11\n",
       "11        9\n",
       "12        8\n",
       "13        7\n",
       "14        4\n",
       "20        3\n",
       "18        2\n",
       "15        2\n",
       "34        1\n",
       "66        1\n",
       "27        1\n",
       "17        1\n",
       "21        1\n",
       "16        1\n",
       "19        1\n",
       "Name: Asics, dtype: int64"
      ]
     },
     "execution_count": 191,
     "metadata": {},
     "output_type": "execute_result"
    }
   ],
   "source": [
    "df.Asics.value_counts()"
   ]
  },
  {
   "cell_type": "code",
   "execution_count": 192,
   "metadata": {},
   "outputs": [
    {
     "data": {
      "text/plain": [
       "<matplotlib.axes._subplots.AxesSubplot at 0x283793de6a0>"
      ]
     },
     "execution_count": 192,
     "metadata": {},
     "output_type": "execute_result"
    },
    {
     "data": {
      "image/png": "[encoded data removed]",
      "text/plain": [
       "<Figure size 432x288 with 1 Axes>"
      ]
     },
     "metadata": {
      "needs_background": "light"
     },
     "output_type": "display_data"
    }
   ],
   "source": [
    "sns.countplot(df.Asics)"
   ]
  },
  {
   "cell_type": "code",
   "execution_count": 200,
   "metadata": {},
   "outputs": [
    {
     "data": {
      "text/plain": [
       "Gender\n",
       "F    2.024152\n",
       "M    2.167059\n",
       "Name: Asics, dtype: float64"
      ]
     },
     "execution_count": 200,
     "metadata": {},
     "output_type": "execute_result"
    }
   ],
   "source": [
    "df[df['Asics']>0].groupby('Gender').mean()['Asics']"
   ]
  },
  {
   "cell_type": "code",
   "execution_count": 201,
   "metadata": {},
   "outputs": [
    {
     "data": {
      "text/plain": [
       "Order_cat\n",
       "0 order           0.247052\n",
       "1 to 6 orders     0.317793\n",
       "7 to 12 orders    0.316608\n",
       "Name: Asics, dtype: float64"
      ]
     },
     "execution_count": 201,
     "metadata": {},
     "output_type": "execute_result"
    }
   ],
   "source": [
    "df.groupby('Order_cat').mean()['Asics']"
   ]
  },
  {
   "cell_type": "code",
   "execution_count": 195,
   "metadata": {},
   "outputs": [
    {
     "name": "stdout",
     "output_type": "stream",
     "text": [
      "Proportion of 0:  85.28999999999999 %\n",
      "Proportion of 1:  8.64 %\n",
      "Proportion of 2:  2.8000000000000003 %\n",
      "Proportion of 3:  1.3599999999999999 %\n",
      "Proportion of 4:  0.74 %\n",
      "Proportion of 5:  0.4 %\n",
      "Proportion of 6:  0.25 %\n",
      "Proportion of 7:  0.16999999999999998 %\n",
      "Proportion of 8:  0.09 %\n",
      "Proportion of 9:  0.08 %\n",
      "Proportion of 10:  0.04 %\n",
      "Proportion of 11:  0.03 %\n",
      "Proportion of 12:  0.03 %\n",
      "Proportion of 13:  0.02 %\n",
      "Proportion of 14:  0.01 %\n",
      "Proportion of 20:  0.01 %\n",
      "Proportion of 18:  0.01 %\n",
      "Proportion of 15:  0.01 %\n",
      "Proportion of 34:  0.0 %\n",
      "Proportion of 66:  0.0 %\n",
      "Proportion of 27:  0.0 %\n",
      "Proportion of 17:  0.0 %\n",
      "Proportion of 21:  0.0 %\n",
      "Proportion of 16:  0.0 %\n",
      "Proportion of 19:  0.0 %\n"
     ]
    }
   ],
   "source": [
    "find_proportion('Asics', df)"
   ]
  },
  {
   "cell_type": "code",
   "execution_count": 197,
   "metadata": {},
   "outputs": [],
   "source": [
    "zero['Asics'] = 85.28"
   ]
  },
  {
   "cell_type": "markdown",
   "metadata": {},
   "source": [
    "#### Siemens"
   ]
  },
  {
   "cell_type": "code",
   "execution_count": 202,
   "metadata": {
    "scrolled": true
   },
   "outputs": [
    {
     "data": {
      "text/plain": [
       "0     29077\n",
       "1       621\n",
       "2       210\n",
       "3        47\n",
       "7        18\n",
       "4        17\n",
       "5         4\n",
       "6         3\n",
       "11        1\n",
       "9         1\n",
       "8         1\n",
       "Name: Siemens, dtype: int64"
      ]
     },
     "execution_count": 202,
     "metadata": {},
     "output_type": "execute_result"
    }
   ],
   "source": [
    "df.Siemens.value_counts()"
   ]
  },
  {
   "cell_type": "code",
   "execution_count": 203,
   "metadata": {},
   "outputs": [
    {
     "data": {
      "text/plain": [
       "<matplotlib.axes._subplots.AxesSubplot at 0x283796008e0>"
      ]
     },
     "execution_count": 203,
     "metadata": {},
     "output_type": "execute_result"
    },
    {
     "data": {
      "image/png": "[encoded data removed]",
      "text/plain": [
       "<Figure size 432x288 with 1 Axes>"
      ]
     },
     "metadata": {
      "needs_background": "light"
     },
     "output_type": "display_data"
    }
   ],
   "source": [
    "sns.countplot(df.Siemens)"
   ]
  },
  {
   "cell_type": "code",
   "execution_count": 204,
   "metadata": {},
   "outputs": [
    {
     "data": {
      "text/plain": [
       "Gender\n",
       "F    1.487952\n",
       "M    1.591398\n",
       "Name: Siemens, dtype: float64"
      ]
     },
     "execution_count": 204,
     "metadata": {},
     "output_type": "execute_result"
    }
   ],
   "source": [
    "df[df['Siemens']>0].groupby('Gender').mean()['Siemens']"
   ]
  },
  {
   "cell_type": "code",
   "execution_count": 205,
   "metadata": {},
   "outputs": [
    {
     "data": {
      "text/plain": [
       "Order_cat\n",
       "0 order           0.047710\n",
       "1 to 6 orders     0.044705\n",
       "7 to 12 orders    0.053352\n",
       "Name: Siemens, dtype: float64"
      ]
     },
     "execution_count": 205,
     "metadata": {},
     "output_type": "execute_result"
    }
   ],
   "source": [
    "df.groupby('Order_cat').mean()['Siemens']"
   ]
  },
  {
   "cell_type": "code",
   "execution_count": 206,
   "metadata": {},
   "outputs": [
    {
     "name": "stdout",
     "output_type": "stream",
     "text": [
      "Proportion of 0:  96.92 %\n",
      "Proportion of 1:  2.07 %\n",
      "Proportion of 2:  0.7000000000000001 %\n",
      "Proportion of 3:  0.16 %\n",
      "Proportion of 7:  0.06 %\n",
      "Proportion of 4:  0.06 %\n",
      "Proportion of 5:  0.01 %\n",
      "Proportion of 6:  0.01 %\n",
      "Proportion of 11:  0.0 %\n",
      "Proportion of 9:  0.0 %\n",
      "Proportion of 8:  0.0 %\n"
     ]
    }
   ],
   "source": [
    "find_proportion('Siemens', df)"
   ]
  },
  {
   "cell_type": "code",
   "execution_count": 207,
   "metadata": {},
   "outputs": [],
   "source": [
    "zero['Siemens'] = 96.92"
   ]
  },
  {
   "cell_type": "markdown",
   "metadata": {},
   "source": [
    "#### J.M. Smucker"
   ]
  },
  {
   "cell_type": "code",
   "execution_count": 208,
   "metadata": {
    "scrolled": false
   },
   "outputs": [
    {
     "data": {
      "text/plain": [
       "0     16480\n",
       "1      8467\n",
       "2      3062\n",
       "3      1069\n",
       "4       498\n",
       "5       200\n",
       "6       117\n",
       "7        33\n",
       "8        25\n",
       "10       11\n",
       "9         8\n",
       "13        6\n",
       "12        3\n",
       "18        3\n",
       "11        2\n",
       "17        2\n",
       "15        2\n",
       "20        2\n",
       "14        2\n",
       "19        1\n",
       "27        1\n",
       "21        1\n",
       "22        1\n",
       "23        1\n",
       "64        1\n",
       "16        1\n",
       "25        1\n",
       "Name: J.M. Smucker, dtype: int64"
      ]
     },
     "execution_count": 208,
     "metadata": {},
     "output_type": "execute_result"
    }
   ],
   "source": [
    "df['J.M. Smucker'].value_counts()"
   ]
  },
  {
   "cell_type": "code",
   "execution_count": 209,
   "metadata": {},
   "outputs": [
    {
     "data": {
      "text/plain": [
       "<matplotlib.axes._subplots.AxesSubplot at 0x28379794040>"
      ]
     },
     "execution_count": 209,
     "metadata": {},
     "output_type": "execute_result"
    },
    {
     "data": {
      "image/png": "[encoded data removed]",
      "text/plain": [
       "<Figure size 432x288 with 1 Axes>"
      ]
     },
     "metadata": {
      "needs_background": "light"
     },
     "output_type": "display_data"
    }
   ],
   "source": [
    "sns.countplot(df['J.M. Smucker'])"
   ]
  },
  {
   "cell_type": "code",
   "execution_count": 210,
   "metadata": {},
   "outputs": [
    {
     "data": {
      "text/plain": [
       "Gender\n",
       "F    1.656214\n",
       "M    1.719557\n",
       "Name: J.M. Smucker, dtype: float64"
      ]
     },
     "execution_count": 210,
     "metadata": {},
     "output_type": "execute_result"
    }
   ],
   "source": [
    "df[df['J.M. Smucker']>0].groupby('Gender').mean()['J.M. Smucker']"
   ]
  },
  {
   "cell_type": "code",
   "execution_count": 211,
   "metadata": {},
   "outputs": [
    {
     "data": {
      "text/plain": [
       "Order_cat\n",
       "0 order           0.682067\n",
       "1 to 6 orders     0.767639\n",
       "7 to 12 orders    0.793821\n",
       "Name: J.M. Smucker, dtype: float64"
      ]
     },
     "execution_count": 211,
     "metadata": {},
     "output_type": "execute_result"
    }
   ],
   "source": [
    "df.groupby('Order_cat').mean()['J.M. Smucker']"
   ]
  },
  {
   "cell_type": "code",
   "execution_count": 212,
   "metadata": {},
   "outputs": [
    {
     "name": "stdout",
     "output_type": "stream",
     "text": [
      "Proportion of 0:  54.93 %\n",
      "Proportion of 1:  28.22 %\n",
      "Proportion of 2:  10.209999999999999 %\n",
      "Proportion of 3:  3.56 %\n",
      "Proportion of 4:  1.66 %\n",
      "Proportion of 5:  0.67 %\n",
      "Proportion of 6:  0.38999999999999996 %\n",
      "Proportion of 7:  0.11 %\n",
      "Proportion of 8:  0.08 %\n",
      "Proportion of 10:  0.04 %\n",
      "Proportion of 9:  0.03 %\n",
      "Proportion of 13:  0.02 %\n",
      "Proportion of 12:  0.01 %\n",
      "Proportion of 18:  0.01 %\n",
      "Proportion of 11:  0.01 %\n",
      "Proportion of 17:  0.01 %\n",
      "Proportion of 15:  0.01 %\n",
      "Proportion of 20:  0.01 %\n",
      "Proportion of 14:  0.01 %\n",
      "Proportion of 19:  0.0 %\n",
      "Proportion of 27:  0.0 %\n",
      "Proportion of 21:  0.0 %\n",
      "Proportion of 22:  0.0 %\n",
      "Proportion of 23:  0.0 %\n",
      "Proportion of 64:  0.0 %\n",
      "Proportion of 16:  0.0 %\n",
      "Proportion of 25:  0.0 %\n"
     ]
    }
   ],
   "source": [
    "find_proportion('J.M. Smucker', df)"
   ]
  },
  {
   "cell_type": "code",
   "execution_count": 213,
   "metadata": {},
   "outputs": [],
   "source": [
    "zero['J.M. Smucker'] = 54.93"
   ]
  },
  {
   "cell_type": "markdown",
   "metadata": {},
   "source": [
    "#### Pop Chips"
   ]
  },
  {
   "cell_type": "code",
   "execution_count": 214,
   "metadata": {
    "scrolled": true
   },
   "outputs": [
    {
     "data": {
      "text/plain": [
       "0     24960\n",
       "1      3705\n",
       "2       855\n",
       "3       242\n",
       "4       108\n",
       "5        51\n",
       "6        35\n",
       "7        19\n",
       "9         7\n",
       "8         5\n",
       "10        5\n",
       "11        2\n",
       "12        2\n",
       "13        1\n",
       "21        1\n",
       "18        1\n",
       "15        1\n",
       "Name: Pop Chips, dtype: int64"
      ]
     },
     "execution_count": 214,
     "metadata": {},
     "output_type": "execute_result"
    }
   ],
   "source": [
    "df['Pop Chips'].value_counts()"
   ]
  },
  {
   "cell_type": "code",
   "execution_count": 215,
   "metadata": {},
   "outputs": [
    {
     "data": {
      "text/plain": [
       "<matplotlib.axes._subplots.AxesSubplot at 0x28379927c10>"
      ]
     },
     "execution_count": 215,
     "metadata": {},
     "output_type": "execute_result"
    },
    {
     "data": {
      "image/png": "[encoded data removed]",
      "text/plain": [
       "<Figure size 432x288 with 1 Axes>"
      ]
     },
     "metadata": {
      "needs_background": "light"
     },
     "output_type": "display_data"
    }
   ],
   "source": [
    "sns.countplot(df['Pop Chips'])"
   ]
  },
  {
   "cell_type": "code",
   "execution_count": 216,
   "metadata": {},
   "outputs": [
    {
     "data": {
      "text/plain": [
       "Gender\n",
       "F    1.475629\n",
       "M    1.511811\n",
       "Name: Pop Chips, dtype: float64"
      ]
     },
     "execution_count": 216,
     "metadata": {},
     "output_type": "execute_result"
    }
   ],
   "source": [
    "df[df['Pop Chips']>0].groupby('Gender').mean()['Pop Chips']"
   ]
  },
  {
   "cell_type": "code",
   "execution_count": 217,
   "metadata": {},
   "outputs": [
    {
     "data": {
      "text/plain": [
       "Order_cat\n",
       "0 order           0.216891\n",
       "1 to 6 orders     0.254014\n",
       "7 to 12 orders    0.263585\n",
       "Name: Pop Chips, dtype: float64"
      ]
     },
     "execution_count": 217,
     "metadata": {},
     "output_type": "execute_result"
    }
   ],
   "source": [
    "df.groupby('Order_cat').mean()['Pop Chips']"
   ]
  },
  {
   "cell_type": "code",
   "execution_count": 218,
   "metadata": {},
   "outputs": [
    {
     "name": "stdout",
     "output_type": "stream",
     "text": [
      "Proportion of 0:  83.2 %\n",
      "Proportion of 1:  12.35 %\n",
      "Proportion of 2:  2.85 %\n",
      "Proportion of 3:  0.8099999999999999 %\n",
      "Proportion of 4:  0.36 %\n",
      "Proportion of 5:  0.16999999999999998 %\n",
      "Proportion of 6:  0.12 %\n",
      "Proportion of 7:  0.06 %\n",
      "Proportion of 9:  0.02 %\n",
      "Proportion of 8:  0.02 %\n",
      "Proportion of 10:  0.02 %\n",
      "Proportion of 11:  0.01 %\n",
      "Proportion of 12:  0.01 %\n",
      "Proportion of 13:  0.0 %\n",
      "Proportion of 21:  0.0 %\n",
      "Proportion of 18:  0.0 %\n",
      "Proportion of 15:  0.0 %\n"
     ]
    }
   ],
   "source": [
    "find_proportion('Pop Chips', df)"
   ]
  },
  {
   "cell_type": "code",
   "execution_count": 219,
   "metadata": {},
   "outputs": [],
   "source": [
    "zero['Pop Chips'] = 83.2"
   ]
  },
  {
   "cell_type": "markdown",
   "metadata": {},
   "source": [
    "#### Juniper"
   ]
  },
  {
   "cell_type": "code",
   "execution_count": 220,
   "metadata": {
    "scrolled": false
   },
   "outputs": [
    {
     "data": {
      "text/plain": [
       "0     22031\n",
       "1      5203\n",
       "2      1585\n",
       "3       563\n",
       "4       244\n",
       "5       124\n",
       "6        71\n",
       "7        54\n",
       "8        25\n",
       "9        22\n",
       "10       16\n",
       "11       14\n",
       "14       11\n",
       "12        6\n",
       "18        6\n",
       "15        5\n",
       "13        3\n",
       "17        2\n",
       "20        2\n",
       "22        2\n",
       "23        2\n",
       "27        2\n",
       "36        1\n",
       "52        1\n",
       "37        1\n",
       "39        1\n",
       "26        1\n",
       "16        1\n",
       "79        1\n",
       "Name: Juniper, dtype: int64"
      ]
     },
     "execution_count": 220,
     "metadata": {},
     "output_type": "execute_result"
    }
   ],
   "source": [
    "df.Juniper.value_counts()"
   ]
  },
  {
   "cell_type": "code",
   "execution_count": 221,
   "metadata": {},
   "outputs": [
    {
     "data": {
      "text/plain": [
       "<matplotlib.axes._subplots.AxesSubplot at 0x283798423d0>"
      ]
     },
     "execution_count": 221,
     "metadata": {},
     "output_type": "execute_result"
    },
    {
     "data": {
      "image/png": "[encoded data removed]",
      "text/plain": [
       "<Figure size 432x288 with 1 Axes>"
      ]
     },
     "metadata": {
      "needs_background": "light"
     },
     "output_type": "display_data"
    }
   ],
   "source": [
    "sns.countplot(df.Juniper)"
   ]
  },
  {
   "cell_type": "code",
   "execution_count": 222,
   "metadata": {},
   "outputs": [
    {
     "data": {
      "text/plain": [
       "Gender\n",
       "F    1.739068\n",
       "M    1.943054\n",
       "Name: Juniper, dtype: float64"
      ]
     },
     "execution_count": 222,
     "metadata": {},
     "output_type": "execute_result"
    }
   ],
   "source": [
    "df[df['Juniper']>0].groupby('Gender').mean()['Juniper']"
   ]
  },
  {
   "cell_type": "code",
   "execution_count": 223,
   "metadata": {},
   "outputs": [
    {
     "data": {
      "text/plain": [
       "Order_cat\n",
       "0 order           0.474225\n",
       "1 to 6 orders     0.478495\n",
       "7 to 12 orders    0.456727\n",
       "Name: Juniper, dtype: float64"
      ]
     },
     "execution_count": 223,
     "metadata": {},
     "output_type": "execute_result"
    }
   ],
   "source": [
    "df.groupby('Order_cat').mean()['Juniper']"
   ]
  },
  {
   "cell_type": "code",
   "execution_count": 224,
   "metadata": {},
   "outputs": [
    {
     "name": "stdout",
     "output_type": "stream",
     "text": [
      "Proportion of 0:  73.44000000000001 %\n",
      "Proportion of 1:  17.34 %\n",
      "Proportion of 2:  5.28 %\n",
      "Proportion of 3:  1.8800000000000001 %\n",
      "Proportion of 4:  0.8099999999999999 %\n",
      "Proportion of 5:  0.41000000000000003 %\n",
      "Proportion of 6:  0.24 %\n",
      "Proportion of 7:  0.18 %\n",
      "Proportion of 8:  0.08 %\n",
      "Proportion of 9:  0.06999999999999999 %\n",
      "Proportion of 10:  0.05 %\n",
      "Proportion of 11:  0.05 %\n",
      "Proportion of 14:  0.04 %\n",
      "Proportion of 12:  0.02 %\n",
      "Proportion of 18:  0.02 %\n",
      "Proportion of 15:  0.02 %\n",
      "Proportion of 13:  0.01 %\n",
      "Proportion of 17:  0.01 %\n",
      "Proportion of 20:  0.01 %\n",
      "Proportion of 22:  0.01 %\n",
      "Proportion of 23:  0.01 %\n",
      "Proportion of 27:  0.01 %\n",
      "Proportion of 36:  0.0 %\n",
      "Proportion of 52:  0.0 %\n",
      "Proportion of 37:  0.0 %\n",
      "Proportion of 39:  0.0 %\n",
      "Proportion of 26:  0.0 %\n",
      "Proportion of 16:  0.0 %\n",
      "Proportion of 79:  0.0 %\n"
     ]
    }
   ],
   "source": [
    "find_proportion('Juniper', df)"
   ]
  },
  {
   "cell_type": "code",
   "execution_count": 225,
   "metadata": {},
   "outputs": [],
   "source": [
    "zero['Juniper'] = 73.44"
   ]
  },
  {
   "cell_type": "markdown",
   "metadata": {},
   "source": [
    "#### Huawei"
   ]
  },
  {
   "cell_type": "code",
   "execution_count": 226,
   "metadata": {
    "scrolled": true
   },
   "outputs": [
    {
     "data": {
      "text/plain": [
       "0     25666\n",
       "1      2585\n",
       "2       984\n",
       "3       379\n",
       "4       189\n",
       "5        92\n",
       "6        37\n",
       "7        26\n",
       "8        15\n",
       "9        13\n",
       "10        6\n",
       "11        4\n",
       "44        1\n",
       "12        1\n",
       "17        1\n",
       "16        1\n",
       "Name: Huawei, dtype: int64"
      ]
     },
     "execution_count": 226,
     "metadata": {},
     "output_type": "execute_result"
    }
   ],
   "source": [
    "df.Huawei.value_counts()"
   ]
  },
  {
   "cell_type": "code",
   "execution_count": 227,
   "metadata": {},
   "outputs": [
    {
     "data": {
      "text/plain": [
       "<matplotlib.axes._subplots.AxesSubplot at 0x28379ac6bb0>"
      ]
     },
     "execution_count": 227,
     "metadata": {},
     "output_type": "execute_result"
    },
    {
     "data": {
      "image/png": "[encoded data removed]",
      "text/plain": [
       "<Figure size 432x288 with 1 Axes>"
      ]
     },
     "metadata": {
      "needs_background": "light"
     },
     "output_type": "display_data"
    }
   ],
   "source": [
    "sns.countplot(df.Huawei)"
   ]
  },
  {
   "cell_type": "code",
   "execution_count": 228,
   "metadata": {},
   "outputs": [
    {
     "data": {
      "text/plain": [
       "Gender\n",
       "F    1.804662\n",
       "M    1.704762\n",
       "Name: Huawei, dtype: float64"
      ]
     },
     "execution_count": 228,
     "metadata": {},
     "output_type": "execute_result"
    }
   ],
   "source": [
    "df[df['Huawei']>0].groupby('Gender').mean()['Huawei']"
   ]
  },
  {
   "cell_type": "code",
   "execution_count": 229,
   "metadata": {},
   "outputs": [
    {
     "data": {
      "text/plain": [
       "Order_cat\n",
       "0 order           0.238964\n",
       "1 to 6 orders     0.266976\n",
       "7 to 12 orders    0.259860\n",
       "Name: Huawei, dtype: float64"
      ]
     },
     "execution_count": 229,
     "metadata": {},
     "output_type": "execute_result"
    }
   ],
   "source": [
    "df.groupby('Order_cat').mean()['Huawei']"
   ]
  },
  {
   "cell_type": "code",
   "execution_count": 230,
   "metadata": {},
   "outputs": [
    {
     "name": "stdout",
     "output_type": "stream",
     "text": [
      "Proportion of 0:  85.55 %\n",
      "Proportion of 1:  8.62 %\n",
      "Proportion of 2:  3.2800000000000002 %\n",
      "Proportion of 3:  1.26 %\n",
      "Proportion of 4:  0.63 %\n",
      "Proportion of 5:  0.31 %\n",
      "Proportion of 6:  0.12 %\n",
      "Proportion of 7:  0.09 %\n",
      "Proportion of 8:  0.05 %\n",
      "Proportion of 9:  0.04 %\n",
      "Proportion of 10:  0.02 %\n",
      "Proportion of 11:  0.01 %\n",
      "Proportion of 44:  0.0 %\n",
      "Proportion of 12:  0.0 %\n",
      "Proportion of 17:  0.0 %\n",
      "Proportion of 16:  0.0 %\n"
     ]
    }
   ],
   "source": [
    "find_proportion('Huawei', df)"
   ]
  },
  {
   "cell_type": "code",
   "execution_count": 231,
   "metadata": {},
   "outputs": [],
   "source": [
    "zero['Huawei'] = 85.55"
   ]
  },
  {
   "cell_type": "markdown",
   "metadata": {},
   "source": [
    "#### Compaq"
   ]
  },
  {
   "cell_type": "code",
   "execution_count": 232,
   "metadata": {
    "scrolled": true
   },
   "outputs": [
    {
     "data": {
      "text/plain": [
       "0     27653\n",
       "1      1770\n",
       "2       332\n",
       "3       112\n",
       "4        75\n",
       "6        17\n",
       "5        16\n",
       "11        4\n",
       "9         4\n",
       "10        3\n",
       "8         3\n",
       "7         3\n",
       "16        2\n",
       "15        1\n",
       "30        1\n",
       "13        1\n",
       "29        1\n",
       "14        1\n",
       "23        1\n",
       "Name: Compaq, dtype: int64"
      ]
     },
     "execution_count": 232,
     "metadata": {},
     "output_type": "execute_result"
    }
   ],
   "source": [
    "df.Compaq.value_counts()"
   ]
  },
  {
   "cell_type": "code",
   "execution_count": 233,
   "metadata": {},
   "outputs": [
    {
     "data": {
      "text/plain": [
       "<matplotlib.axes._subplots.AxesSubplot at 0x28379b6a0a0>"
      ]
     },
     "execution_count": 233,
     "metadata": {},
     "output_type": "execute_result"
    },
    {
     "data": {
      "image/png": "[encoded data removed]",
      "text/plain": [
       "<Figure size 432x288 with 1 Axes>"
      ]
     },
     "metadata": {
      "needs_background": "light"
     },
     "output_type": "display_data"
    }
   ],
   "source": [
    "sns.countplot(df.Compaq)"
   ]
  },
  {
   "cell_type": "code",
   "execution_count": 234,
   "metadata": {},
   "outputs": [
    {
     "data": {
      "text/plain": [
       "Gender\n",
       "F    1.453917\n",
       "M    1.786241\n",
       "Name: Compaq, dtype: float64"
      ]
     },
     "execution_count": 234,
     "metadata": {},
     "output_type": "execute_result"
    }
   ],
   "source": [
    "df[df['Compaq']>0].groupby('Gender').mean()['Compaq']"
   ]
  },
  {
   "cell_type": "code",
   "execution_count": 235,
   "metadata": {},
   "outputs": [
    {
     "data": {
      "text/plain": [
       "Order_cat\n",
       "0 order           0.125034\n",
       "1 to 6 orders     0.112240\n",
       "7 to 12 orders    0.123466\n",
       "Name: Compaq, dtype: float64"
      ]
     },
     "execution_count": 235,
     "metadata": {},
     "output_type": "execute_result"
    }
   ],
   "source": [
    "df.groupby('Order_cat').mean()['Compaq']"
   ]
  },
  {
   "cell_type": "code",
   "execution_count": 236,
   "metadata": {},
   "outputs": [
    {
     "name": "stdout",
     "output_type": "stream",
     "text": [
      "Proportion of 0:  92.17999999999999 %\n",
      "Proportion of 1:  5.8999999999999995 %\n",
      "Proportion of 2:  1.11 %\n",
      "Proportion of 3:  0.37 %\n",
      "Proportion of 4:  0.25 %\n",
      "Proportion of 6:  0.06 %\n",
      "Proportion of 5:  0.05 %\n",
      "Proportion of 11:  0.01 %\n",
      "Proportion of 9:  0.01 %\n",
      "Proportion of 10:  0.01 %\n",
      "Proportion of 8:  0.01 %\n",
      "Proportion of 7:  0.01 %\n",
      "Proportion of 16:  0.01 %\n",
      "Proportion of 15:  0.0 %\n",
      "Proportion of 30:  0.0 %\n",
      "Proportion of 13:  0.0 %\n",
      "Proportion of 29:  0.0 %\n",
      "Proportion of 14:  0.0 %\n",
      "Proportion of 23:  0.0 %\n"
     ]
    }
   ],
   "source": [
    "find_proportion('Compaq', df)"
   ]
  },
  {
   "cell_type": "code",
   "execution_count": 237,
   "metadata": {},
   "outputs": [],
   "source": [
    "zero['Compaq'] = 92.17"
   ]
  },
  {
   "cell_type": "markdown",
   "metadata": {},
   "source": [
    "#### IBM"
   ]
  },
  {
   "cell_type": "code",
   "execution_count": 238,
   "metadata": {
    "scrolled": true
   },
   "outputs": [
    {
     "data": {
      "text/plain": [
       "0     29384\n",
       "1       424\n",
       "3       100\n",
       "2        77\n",
       "4         7\n",
       "5         4\n",
       "8         2\n",
       "11        1\n",
       "6         1\n",
       "Name: IBM, dtype: int64"
      ]
     },
     "execution_count": 238,
     "metadata": {},
     "output_type": "execute_result"
    }
   ],
   "source": [
    "df.IBM.value_counts()"
   ]
  },
  {
   "cell_type": "code",
   "execution_count": 239,
   "metadata": {},
   "outputs": [
    {
     "data": {
      "text/plain": [
       "<matplotlib.axes._subplots.AxesSubplot at 0x28379b6ac70>"
      ]
     },
     "execution_count": 239,
     "metadata": {},
     "output_type": "execute_result"
    },
    {
     "data": {
      "image/png": "[encoded data removed]",
      "text/plain": [
       "<Figure size 432x288 with 1 Axes>"
      ]
     },
     "metadata": {
      "needs_background": "light"
     },
     "output_type": "display_data"
    }
   ],
   "source": [
    "sns.countplot(df.IBM)"
   ]
  },
  {
   "cell_type": "code",
   "execution_count": 240,
   "metadata": {},
   "outputs": [
    {
     "data": {
      "text/plain": [
       "Gender\n",
       "F    1.429885\n",
       "M    1.916667\n",
       "Name: IBM, dtype: float64"
      ]
     },
     "execution_count": 240,
     "metadata": {},
     "output_type": "execute_result"
    }
   ],
   "source": [
    "df[df['IBM']>0].groupby('Gender').mean()['IBM']"
   ]
  },
  {
   "cell_type": "code",
   "execution_count": 241,
   "metadata": {},
   "outputs": [
    {
     "data": {
      "text/plain": [
       "Order_cat\n",
       "0 order           0.036057\n",
       "1 to 6 orders     0.032258\n",
       "7 to 12 orders    0.028265\n",
       "Name: IBM, dtype: float64"
      ]
     },
     "execution_count": 241,
     "metadata": {},
     "output_type": "execute_result"
    }
   ],
   "source": [
    "df.groupby('Order_cat').mean()['IBM']"
   ]
  },
  {
   "cell_type": "code",
   "execution_count": 242,
   "metadata": {},
   "outputs": [
    {
     "name": "stdout",
     "output_type": "stream",
     "text": [
      "Proportion of 0:  97.95 %\n",
      "Proportion of 1:  1.41 %\n",
      "Proportion of 3:  0.33 %\n",
      "Proportion of 2:  0.26 %\n",
      "Proportion of 4:  0.02 %\n",
      "Proportion of 5:  0.01 %\n",
      "Proportion of 8:  0.01 %\n",
      "Proportion of 11:  0.0 %\n",
      "Proportion of 6:  0.0 %\n"
     ]
    }
   ],
   "source": [
    "find_proportion('IBM', df)"
   ]
  },
  {
   "cell_type": "code",
   "execution_count": 243,
   "metadata": {},
   "outputs": [],
   "source": [
    "zero['IBM'] = 97.95"
   ]
  },
  {
   "cell_type": "markdown",
   "metadata": {},
   "source": [
    "#### Burberry"
   ]
  },
  {
   "cell_type": "code",
   "execution_count": 244,
   "metadata": {
    "scrolled": false
   },
   "outputs": [
    {
     "data": {
      "text/plain": [
       "0     23120\n",
       "1      4079\n",
       "2      1437\n",
       "3       618\n",
       "4       330\n",
       "5       191\n",
       "6        92\n",
       "7        48\n",
       "8        36\n",
       "9        19\n",
       "11       10\n",
       "10        9\n",
       "13        3\n",
       "21        1\n",
       "19        1\n",
       "12        1\n",
       "18        1\n",
       "23        1\n",
       "27        1\n",
       "16        1\n",
       "37        1\n",
       "Name: Burberry, dtype: int64"
      ]
     },
     "execution_count": 244,
     "metadata": {},
     "output_type": "execute_result"
    }
   ],
   "source": [
    "df.Burberry.value_counts()"
   ]
  },
  {
   "cell_type": "code",
   "execution_count": 245,
   "metadata": {},
   "outputs": [
    {
     "data": {
      "text/plain": [
       "<matplotlib.axes._subplots.AxesSubplot at 0x28379cb3e80>"
      ]
     },
     "execution_count": 245,
     "metadata": {},
     "output_type": "execute_result"
    },
    {
     "data": {
      "image/png": "[encoded data removed]",
      "text/plain": [
       "<Figure size 432x288 with 1 Axes>"
      ]
     },
     "metadata": {
      "needs_background": "light"
     },
     "output_type": "display_data"
    }
   ],
   "source": [
    "sns.countplot(df.Burberry)"
   ]
  },
  {
   "cell_type": "code",
   "execution_count": 246,
   "metadata": {},
   "outputs": [
    {
     "data": {
      "text/plain": [
       "Gender\n",
       "F    1.902713\n",
       "M    1.681034\n",
       "Name: Burberry, dtype: float64"
      ]
     },
     "execution_count": 246,
     "metadata": {},
     "output_type": "execute_result"
    }
   ],
   "source": [
    "df[df['Burberry']>0].groupby('Gender').mean()['Burberry']"
   ]
  },
  {
   "cell_type": "code",
   "execution_count": 247,
   "metadata": {},
   "outputs": [
    {
     "data": {
      "text/plain": [
       "Order_cat\n",
       "0 order           0.378119\n",
       "1 to 6 orders     0.449993\n",
       "7 to 12 orders    0.435254\n",
       "Name: Burberry, dtype: float64"
      ]
     },
     "execution_count": 247,
     "metadata": {},
     "output_type": "execute_result"
    }
   ],
   "source": [
    "df.groupby('Order_cat').mean()['Burberry']"
   ]
  },
  {
   "cell_type": "code",
   "execution_count": 248,
   "metadata": {},
   "outputs": [
    {
     "name": "stdout",
     "output_type": "stream",
     "text": [
      "Proportion of 0:  77.07000000000001 %\n",
      "Proportion of 1:  13.600000000000001 %\n",
      "Proportion of 2:  4.79 %\n",
      "Proportion of 3:  2.06 %\n",
      "Proportion of 4:  1.0999999999999999 %\n",
      "Proportion of 5:  0.64 %\n",
      "Proportion of 6:  0.31 %\n",
      "Proportion of 7:  0.16 %\n",
      "Proportion of 8:  0.12 %\n",
      "Proportion of 9:  0.06 %\n",
      "Proportion of 11:  0.03 %\n",
      "Proportion of 10:  0.03 %\n",
      "Proportion of 13:  0.01 %\n",
      "Proportion of 21:  0.0 %\n",
      "Proportion of 19:  0.0 %\n",
      "Proportion of 12:  0.0 %\n",
      "Proportion of 18:  0.0 %\n",
      "Proportion of 23:  0.0 %\n",
      "Proportion of 27:  0.0 %\n",
      "Proportion of 16:  0.0 %\n",
      "Proportion of 37:  0.0 %\n"
     ]
    }
   ],
   "source": [
    "find_proportion('Burberry', df)"
   ]
  },
  {
   "cell_type": "code",
   "execution_count": 249,
   "metadata": {},
   "outputs": [],
   "source": [
    "zero['Burberry'] = 77.07"
   ]
  },
  {
   "cell_type": "markdown",
   "metadata": {},
   "source": [
    "#### Mi"
   ]
  },
  {
   "cell_type": "code",
   "execution_count": 250,
   "metadata": {
    "scrolled": true
   },
   "outputs": [
    {
     "data": {
      "text/plain": [
       "0    27540\n",
       "1     1721\n",
       "2      437\n",
       "3      215\n",
       "4       55\n",
       "5       19\n",
       "6        8\n",
       "7        4\n",
       "9        1\n",
       "Name: Mi, dtype: int64"
      ]
     },
     "execution_count": 250,
     "metadata": {},
     "output_type": "execute_result"
    }
   ],
   "source": [
    "df.Mi.value_counts()"
   ]
  },
  {
   "cell_type": "code",
   "execution_count": 251,
   "metadata": {},
   "outputs": [
    {
     "data": {
      "text/plain": [
       "<matplotlib.axes._subplots.AxesSubplot at 0x28379daaa60>"
      ]
     },
     "execution_count": 251,
     "metadata": {},
     "output_type": "execute_result"
    },
    {
     "data": {
      "image/png": "[encoded data removed]",
      "text/plain": [
       "<Figure size 432x288 with 1 Axes>"
      ]
     },
     "metadata": {
      "needs_background": "light"
     },
     "output_type": "display_data"
    }
   ],
   "source": [
    "sns.countplot(df.Mi)"
   ]
  },
  {
   "cell_type": "code",
   "execution_count": 252,
   "metadata": {},
   "outputs": [
    {
     "data": {
      "text/plain": [
       "Gender\n",
       "F    1.467391\n",
       "M    1.447853\n",
       "Name: Mi, dtype: float64"
      ]
     },
     "execution_count": 252,
     "metadata": {},
     "output_type": "execute_result"
    }
   ],
   "source": [
    "df[df['Mi']>0].groupby('Gender').mean()['Mi']"
   ]
  },
  {
   "cell_type": "code",
   "execution_count": 253,
   "metadata": {},
   "outputs": [
    {
     "data": {
      "text/plain": [
       "Order_cat\n",
       "0 order           0.109816\n",
       "1 to 6 orders     0.124098\n",
       "7 to 12 orders    0.126424\n",
       "Name: Mi, dtype: float64"
      ]
     },
     "execution_count": 253,
     "metadata": {},
     "output_type": "execute_result"
    }
   ],
   "source": [
    "df.groupby('Order_cat').mean()['Mi']"
   ]
  },
  {
   "cell_type": "code",
   "execution_count": 254,
   "metadata": {},
   "outputs": [
    {
     "name": "stdout",
     "output_type": "stream",
     "text": [
      "Proportion of 0:  91.8 %\n",
      "Proportion of 1:  5.74 %\n",
      "Proportion of 2:  1.46 %\n",
      "Proportion of 3:  0.72 %\n",
      "Proportion of 4:  0.18 %\n",
      "Proportion of 5:  0.06 %\n",
      "Proportion of 6:  0.03 %\n",
      "Proportion of 7:  0.01 %\n",
      "Proportion of 9:  0.0 %\n"
     ]
    }
   ],
   "source": [
    "find_proportion('Mi', df)"
   ]
  },
  {
   "cell_type": "code",
   "execution_count": 255,
   "metadata": {},
   "outputs": [],
   "source": [
    "zero['Mi'] = 91.8"
   ]
  },
  {
   "cell_type": "markdown",
   "metadata": {},
   "source": [
    "#### LG"
   ]
  },
  {
   "cell_type": "code",
   "execution_count": 256,
   "metadata": {
    "scrolled": true
   },
   "outputs": [
    {
     "data": {
      "text/plain": [
       "0     28062\n",
       "1      1250\n",
       "2       473\n",
       "4        99\n",
       "3        76\n",
       "5        25\n",
       "6         6\n",
       "7         3\n",
       "8         2\n",
       "13        1\n",
       "10        1\n",
       "19        1\n",
       "16        1\n",
       "Name: LG, dtype: int64"
      ]
     },
     "execution_count": 256,
     "metadata": {},
     "output_type": "execute_result"
    }
   ],
   "source": [
    "df.LG.value_counts()"
   ]
  },
  {
   "cell_type": "code",
   "execution_count": 257,
   "metadata": {},
   "outputs": [
    {
     "data": {
      "text/plain": [
       "<matplotlib.axes._subplots.AxesSubplot at 0x2837720b1f0>"
      ]
     },
     "execution_count": 257,
     "metadata": {},
     "output_type": "execute_result"
    },
    {
     "data": {
      "image/png": "[encoded data removed]",
      "text/plain": [
       "<Figure size 432x288 with 1 Axes>"
      ]
     },
     "metadata": {
      "needs_background": "light"
     },
     "output_type": "display_data"
    }
   ],
   "source": [
    "sns.countplot(df.LG)"
   ]
  },
  {
   "cell_type": "code",
   "execution_count": 258,
   "metadata": {},
   "outputs": [
    {
     "data": {
      "text/plain": [
       "Gender\n",
       "F    1.573186\n",
       "M    1.773723\n",
       "Name: LG, dtype: float64"
      ]
     },
     "execution_count": 258,
     "metadata": {},
     "output_type": "execute_result"
    }
   ],
   "source": [
    "df[df['LG']>0].groupby('Gender').mean()['LG']"
   ]
  },
  {
   "cell_type": "code",
   "execution_count": 259,
   "metadata": {},
   "outputs": [
    {
     "data": {
      "text/plain": [
       "Order_cat\n",
       "0 order           0.106937\n",
       "1 to 6 orders     0.101046\n",
       "7 to 12 orders    0.101227\n",
       "Name: LG, dtype: float64"
      ]
     },
     "execution_count": 259,
     "metadata": {},
     "output_type": "execute_result"
    }
   ],
   "source": [
    "df.groupby('Order_cat').mean()['LG']"
   ]
  },
  {
   "cell_type": "code",
   "execution_count": 260,
   "metadata": {},
   "outputs": [
    {
     "name": "stdout",
     "output_type": "stream",
     "text": [
      "Proportion of 0:  93.54 %\n",
      "Proportion of 1:  4.17 %\n",
      "Proportion of 2:  1.58 %\n",
      "Proportion of 4:  0.33 %\n",
      "Proportion of 3:  0.25 %\n",
      "Proportion of 5:  0.08 %\n",
      "Proportion of 6:  0.02 %\n",
      "Proportion of 7:  0.01 %\n",
      "Proportion of 8:  0.01 %\n",
      "Proportion of 13:  0.0 %\n",
      "Proportion of 10:  0.0 %\n",
      "Proportion of 19:  0.0 %\n",
      "Proportion of 16:  0.0 %\n"
     ]
    }
   ],
   "source": [
    "find_proportion('LG', df)"
   ]
  },
  {
   "cell_type": "code",
   "execution_count": 261,
   "metadata": {},
   "outputs": [],
   "source": [
    "zero['LG'] = 93.54"
   ]
  },
  {
   "cell_type": "markdown",
   "metadata": {},
   "source": [
    "#### Dior"
   ]
  },
  {
   "cell_type": "code",
   "execution_count": 262,
   "metadata": {
    "scrolled": true
   },
   "outputs": [
    {
     "data": {
      "text/plain": [
       "0     24591\n",
       "1      3742\n",
       "2      1056\n",
       "3       387\n",
       "4       118\n",
       "5        51\n",
       "6        25\n",
       "7        16\n",
       "9         7\n",
       "8         4\n",
       "12        2\n",
       "11        1\n",
       "Name: Dior, dtype: int64"
      ]
     },
     "execution_count": 262,
     "metadata": {},
     "output_type": "execute_result"
    }
   ],
   "source": [
    "df.Dior.value_counts()"
   ]
  },
  {
   "cell_type": "code",
   "execution_count": 263,
   "metadata": {},
   "outputs": [
    {
     "data": {
      "text/plain": [
       "<matplotlib.axes._subplots.AxesSubplot at 0x2837875a850>"
      ]
     },
     "execution_count": 263,
     "metadata": {},
     "output_type": "execute_result"
    },
    {
     "data": {
      "image/png": "[encoded data removed]",
      "text/plain": [
       "<Figure size 432x288 with 1 Axes>"
      ]
     },
     "metadata": {
      "needs_background": "light"
     },
     "output_type": "display_data"
    }
   ],
   "source": [
    "sns.countplot(df.Dior)"
   ]
  },
  {
   "cell_type": "code",
   "execution_count": 264,
   "metadata": {},
   "outputs": [
    {
     "data": {
      "text/plain": [
       "Gender\n",
       "F    1.498644\n",
       "M    1.483577\n",
       "Name: Dior, dtype: float64"
      ]
     },
     "execution_count": 264,
     "metadata": {},
     "output_type": "execute_result"
    }
   ],
   "source": [
    "df[df['Dior']>0].groupby('Gender').mean()['Dior']"
   ]
  },
  {
   "cell_type": "code",
   "execution_count": 265,
   "metadata": {},
   "outputs": [
    {
     "data": {
      "text/plain": [
       "Order_cat\n",
       "0 order           0.241568\n",
       "1 to 6 orders     0.283326\n",
       "7 to 12 orders    0.276621\n",
       "Name: Dior, dtype: float64"
      ]
     },
     "execution_count": 265,
     "metadata": {},
     "output_type": "execute_result"
    }
   ],
   "source": [
    "df.groupby('Order_cat').mean()['Dior']"
   ]
  },
  {
   "cell_type": "code",
   "execution_count": 266,
   "metadata": {},
   "outputs": [
    {
     "name": "stdout",
     "output_type": "stream",
     "text": [
      "Proportion of 0:  81.97 %\n",
      "Proportion of 1:  12.47 %\n",
      "Proportion of 2:  3.52 %\n",
      "Proportion of 3:  1.29 %\n",
      "Proportion of 4:  0.38999999999999996 %\n",
      "Proportion of 5:  0.16999999999999998 %\n",
      "Proportion of 6:  0.08 %\n",
      "Proportion of 7:  0.05 %\n",
      "Proportion of 9:  0.02 %\n",
      "Proportion of 8:  0.01 %\n",
      "Proportion of 12:  0.01 %\n",
      "Proportion of 11:  0.0 %\n"
     ]
    }
   ],
   "source": [
    "find_proportion('Dior', df)"
   ]
  },
  {
   "cell_type": "code",
   "execution_count": 267,
   "metadata": {},
   "outputs": [],
   "source": [
    "zero['Dior'] = 81.97"
   ]
  },
  {
   "cell_type": "markdown",
   "metadata": {},
   "source": [
    "#### Scabal"
   ]
  },
  {
   "cell_type": "code",
   "execution_count": 268,
   "metadata": {
    "scrolled": true
   },
   "outputs": [
    {
     "data": {
      "text/plain": [
       "0     22215\n",
       "1      5651\n",
       "2      1384\n",
       "3       430\n",
       "4       254\n",
       "5        41\n",
       "6        13\n",
       "7         6\n",
       "8         4\n",
       "11        1\n",
       "9         1\n",
       "Name: Scabal, dtype: int64"
      ]
     },
     "execution_count": 268,
     "metadata": {},
     "output_type": "execute_result"
    }
   ],
   "source": [
    "df.Scabal.value_counts()"
   ]
  },
  {
   "cell_type": "code",
   "execution_count": 269,
   "metadata": {},
   "outputs": [
    {
     "data": {
      "text/plain": [
       "<matplotlib.axes._subplots.AxesSubplot at 0x28378f844f0>"
      ]
     },
     "execution_count": 269,
     "metadata": {},
     "output_type": "execute_result"
    },
    {
     "data": {
      "image/png": "[encoded data removed]",
      "text/plain": [
       "<Figure size 432x288 with 1 Axes>"
      ]
     },
     "metadata": {
      "needs_background": "light"
     },
     "output_type": "display_data"
    }
   ],
   "source": [
    "sns.countplot(df.Scabal)"
   ]
  },
  {
   "cell_type": "code",
   "execution_count": 270,
   "metadata": {},
   "outputs": [
    {
     "data": {
      "text/plain": [
       "Gender\n",
       "F    1.417872\n",
       "M    1.474510\n",
       "Name: Scabal, dtype: float64"
      ]
     },
     "execution_count": 270,
     "metadata": {},
     "output_type": "execute_result"
    }
   ],
   "source": [
    "df[df['Scabal']>0].groupby('Gender').mean()['Scabal']"
   ]
  },
  {
   "cell_type": "code",
   "execution_count": 271,
   "metadata": {},
   "outputs": [
    {
     "data": {
      "text/plain": [
       "Order_cat\n",
       "0 order           0.336030\n",
       "1 to 6 orders     0.376639\n",
       "7 to 12 orders    0.387489\n",
       "Name: Scabal, dtype: float64"
      ]
     },
     "execution_count": 271,
     "metadata": {},
     "output_type": "execute_result"
    }
   ],
   "source": [
    "df.groupby('Order_cat').mean()['Scabal']"
   ]
  },
  {
   "cell_type": "code",
   "execution_count": 272,
   "metadata": {},
   "outputs": [
    {
     "name": "stdout",
     "output_type": "stream",
     "text": [
      "Proportion of 0:  74.05000000000001 %\n",
      "Proportion of 1:  18.84 %\n",
      "Proportion of 2:  4.61 %\n",
      "Proportion of 3:  1.43 %\n",
      "Proportion of 4:  0.8500000000000001 %\n",
      "Proportion of 5:  0.13999999999999999 %\n",
      "Proportion of 6:  0.04 %\n",
      "Proportion of 7:  0.02 %\n",
      "Proportion of 8:  0.01 %\n",
      "Proportion of 11:  0.0 %\n",
      "Proportion of 9:  0.0 %\n"
     ]
    }
   ],
   "source": [
    "find_proportion('Scabal', df)"
   ]
  },
  {
   "cell_type": "code",
   "execution_count": 273,
   "metadata": {},
   "outputs": [],
   "source": [
    "zero['Scabal'] = 74.05"
   ]
  },
  {
   "cell_type": "markdown",
   "metadata": {},
   "source": [
    "#### Tommy Hilfiger"
   ]
  },
  {
   "cell_type": "code",
   "execution_count": 274,
   "metadata": {
    "scrolled": true
   },
   "outputs": [
    {
     "data": {
      "text/plain": [
       "0    26480\n",
       "1     2704\n",
       "2      550\n",
       "3      133\n",
       "4      113\n",
       "5       11\n",
       "6        6\n",
       "8        2\n",
       "7        1\n",
       "Name: Tommy Hilfiger, dtype: int64"
      ]
     },
     "execution_count": 274,
     "metadata": {},
     "output_type": "execute_result"
    }
   ],
   "source": [
    "df['Tommy Hilfiger'].value_counts()"
   ]
  },
  {
   "cell_type": "code",
   "execution_count": 275,
   "metadata": {},
   "outputs": [
    {
     "data": {
      "text/plain": [
       "<matplotlib.axes._subplots.AxesSubplot at 0x2837967ab80>"
      ]
     },
     "execution_count": 275,
     "metadata": {},
     "output_type": "execute_result"
    },
    {
     "data": {
      "image/png": "[encoded data removed]",
      "text/plain": [
       "<Figure size 432x288 with 1 Axes>"
      ]
     },
     "metadata": {
      "needs_background": "light"
     },
     "output_type": "display_data"
    }
   ],
   "source": [
    "sns.countplot(df['Tommy Hilfiger'])"
   ]
  },
  {
   "cell_type": "code",
   "execution_count": 276,
   "metadata": {},
   "outputs": [
    {
     "data": {
      "text/plain": [
       "Gender\n",
       "F    1.340622\n",
       "M    1.383178\n",
       "Name: Tommy Hilfiger, dtype: float64"
      ]
     },
     "execution_count": 276,
     "metadata": {},
     "output_type": "execute_result"
    }
   ],
   "source": [
    "df[df['Tommy Hilfiger']>0].groupby('Gender').mean()['Tommy Hilfiger']"
   ]
  },
  {
   "cell_type": "code",
   "execution_count": 277,
   "metadata": {},
   "outputs": [
    {
     "data": {
      "text/plain": [
       "Order_cat\n",
       "0 order           0.155333\n",
       "1 to 6 orders     0.159007\n",
       "7 to 12 orders    0.161810\n",
       "Name: Tommy Hilfiger, dtype: float64"
      ]
     },
     "execution_count": 277,
     "metadata": {},
     "output_type": "execute_result"
    }
   ],
   "source": [
    "df.groupby('Order_cat').mean()['Tommy Hilfiger']"
   ]
  },
  {
   "cell_type": "code",
   "execution_count": 278,
   "metadata": {},
   "outputs": [
    {
     "name": "stdout",
     "output_type": "stream",
     "text": [
      "Proportion of 0:  88.27000000000001 %\n",
      "Proportion of 1:  9.01 %\n",
      "Proportion of 2:  1.83 %\n",
      "Proportion of 3:  0.44 %\n",
      "Proportion of 4:  0.38 %\n",
      "Proportion of 5:  0.04 %\n",
      "Proportion of 6:  0.02 %\n",
      "Proportion of 8:  0.01 %\n",
      "Proportion of 7:  0.0 %\n"
     ]
    }
   ],
   "source": [
    "find_proportion('Tommy Hilfiger', df)"
   ]
  },
  {
   "cell_type": "code",
   "execution_count": 279,
   "metadata": {},
   "outputs": [],
   "source": [
    "zero['Tommy Hilfiger'] = 88.27"
   ]
  },
  {
   "cell_type": "markdown",
   "metadata": {},
   "source": [
    "#### Hollister"
   ]
  },
  {
   "cell_type": "code",
   "execution_count": 280,
   "metadata": {
    "scrolled": true
   },
   "outputs": [
    {
     "data": {
      "text/plain": [
       "0    28324\n",
       "1     1278\n",
       "2      271\n",
       "3       60\n",
       "5       39\n",
       "4       21\n",
       "7        4\n",
       "9        1\n",
       "8        1\n",
       "6        1\n",
       "Name: Hollister, dtype: int64"
      ]
     },
     "execution_count": 280,
     "metadata": {},
     "output_type": "execute_result"
    }
   ],
   "source": [
    "df.Hollister.value_counts()"
   ]
  },
  {
   "cell_type": "code",
   "execution_count": 281,
   "metadata": {},
   "outputs": [
    {
     "data": {
      "text/plain": [
       "<matplotlib.axes._subplots.AxesSubplot at 0x28301c994c0>"
      ]
     },
     "execution_count": 281,
     "metadata": {},
     "output_type": "execute_result"
    },
    {
     "data": {
      "image/png": "[encoded data removed]",
      "text/plain": [
       "<Figure size 432x288 with 1 Axes>"
      ]
     },
     "metadata": {
      "needs_background": "light"
     },
     "output_type": "display_data"
    }
   ],
   "source": [
    "sns.countplot(df.Hollister)"
   ]
  },
  {
   "cell_type": "code",
   "execution_count": 282,
   "metadata": {},
   "outputs": [
    {
     "data": {
      "text/plain": [
       "Gender\n",
       "F    1.385798\n",
       "M    1.431250\n",
       "Name: Hollister, dtype: float64"
      ]
     },
     "execution_count": 282,
     "metadata": {},
     "output_type": "execute_result"
    }
   ],
   "source": [
    "df[df['Hollister']>0].groupby('Gender').mean()['Hollister']"
   ]
  },
  {
   "cell_type": "code",
   "execution_count": 283,
   "metadata": {},
   "outputs": [
    {
     "data": {
      "text/plain": [
       "Order_cat\n",
       "0 order           0.066630\n",
       "1 to 6 orders     0.084622\n",
       "7 to 12 orders    0.076139\n",
       "Name: Hollister, dtype: float64"
      ]
     },
     "execution_count": 283,
     "metadata": {},
     "output_type": "execute_result"
    }
   ],
   "source": [
    "df.groupby('Order_cat').mean()['Hollister']"
   ]
  },
  {
   "cell_type": "code",
   "execution_count": 284,
   "metadata": {},
   "outputs": [
    {
     "name": "stdout",
     "output_type": "stream",
     "text": [
      "Proportion of 0:  94.41000000000001 %\n",
      "Proportion of 1:  4.26 %\n",
      "Proportion of 2:  0.8999999999999999 %\n",
      "Proportion of 3:  0.2 %\n",
      "Proportion of 5:  0.13 %\n",
      "Proportion of 4:  0.06999999999999999 %\n",
      "Proportion of 7:  0.01 %\n",
      "Proportion of 9:  0.0 %\n",
      "Proportion of 8:  0.0 %\n",
      "Proportion of 6:  0.0 %\n"
     ]
    }
   ],
   "source": [
    "find_proportion('Hollister', df)"
   ]
  },
  {
   "cell_type": "code",
   "execution_count": 285,
   "metadata": {},
   "outputs": [],
   "source": [
    "zero['Hollister'] = 94.41"
   ]
  },
  {
   "cell_type": "markdown",
   "metadata": {},
   "source": [
    "#### Forever 21"
   ]
  },
  {
   "cell_type": "code",
   "execution_count": 286,
   "metadata": {
    "scrolled": true
   },
   "outputs": [
    {
     "data": {
      "text/plain": [
       "0    28647\n",
       "1     1098\n",
       "2      175\n",
       "3       64\n",
       "4        8\n",
       "5        4\n",
       "7        2\n",
       "8        1\n",
       "6        1\n",
       "Name: Forever 21, dtype: int64"
      ]
     },
     "execution_count": 286,
     "metadata": {},
     "output_type": "execute_result"
    }
   ],
   "source": [
    "df['Forever 21'].value_counts()"
   ]
  },
  {
   "cell_type": "code",
   "execution_count": 287,
   "metadata": {},
   "outputs": [
    {
     "data": {
      "text/plain": [
       "<matplotlib.axes._subplots.AxesSubplot at 0x28301d02a00>"
      ]
     },
     "execution_count": 287,
     "metadata": {},
     "output_type": "execute_result"
    },
    {
     "data": {
      "image/png": "[encoded data removed]",
      "text/plain": [
       "<Figure size 432x288 with 1 Axes>"
      ]
     },
     "metadata": {
      "needs_background": "light"
     },
     "output_type": "display_data"
    }
   ],
   "source": [
    "sns.countplot(df['Forever 21'])"
   ]
  },
  {
   "cell_type": "code",
   "execution_count": 288,
   "metadata": {},
   "outputs": [
    {
     "data": {
      "text/plain": [
       "Gender\n",
       "F    1.274597\n",
       "M    1.169492\n",
       "Name: Forever 21, dtype: float64"
      ]
     },
     "execution_count": 288,
     "metadata": {},
     "output_type": "execute_result"
    }
   ],
   "source": [
    "df[df['Forever 21']>0].groupby('Gender').mean()['Forever 21']"
   ]
  },
  {
   "cell_type": "code",
   "execution_count": 289,
   "metadata": {},
   "outputs": [
    {
     "data": {
      "text/plain": [
       "Order_cat\n",
       "0 order           0.052783\n",
       "1 to 6 orders     0.060981\n",
       "7 to 12 orders    0.055543\n",
       "Name: Forever 21, dtype: float64"
      ]
     },
     "execution_count": 289,
     "metadata": {},
     "output_type": "execute_result"
    }
   ],
   "source": [
    "df.groupby('Order_cat').mean()['Forever 21']"
   ]
  },
  {
   "cell_type": "code",
   "execution_count": 290,
   "metadata": {},
   "outputs": [
    {
     "name": "stdout",
     "output_type": "stream",
     "text": [
      "Proportion of 0:  95.49 %\n",
      "Proportion of 1:  3.66 %\n",
      "Proportion of 2:  0.58 %\n",
      "Proportion of 3:  0.21 %\n",
      "Proportion of 4:  0.03 %\n",
      "Proportion of 5:  0.01 %\n",
      "Proportion of 7:  0.01 %\n",
      "Proportion of 8:  0.0 %\n",
      "Proportion of 6:  0.0 %\n"
     ]
    }
   ],
   "source": [
    "find_proportion('Forever 21', df)"
   ]
  },
  {
   "cell_type": "code",
   "execution_count": 291,
   "metadata": {},
   "outputs": [],
   "source": [
    "zero['Forever 21'] = 95.49"
   ]
  },
  {
   "cell_type": "markdown",
   "metadata": {},
   "source": [
    "#### Colavita"
   ]
  },
  {
   "cell_type": "code",
   "execution_count": 292,
   "metadata": {
    "scrolled": true
   },
   "outputs": [
    {
     "data": {
      "text/plain": [
       "0     25993\n",
       "1      3015\n",
       "2       598\n",
       "3       259\n",
       "4        63\n",
       "5        28\n",
       "6        13\n",
       "7        10\n",
       "10        5\n",
       "8         5\n",
       "11        3\n",
       "9         3\n",
       "14        2\n",
       "22        2\n",
       "16        1\n",
       "Name: Colavita, dtype: int64"
      ]
     },
     "execution_count": 292,
     "metadata": {},
     "output_type": "execute_result"
    }
   ],
   "source": [
    "df.Colavita.value_counts()"
   ]
  },
  {
   "cell_type": "code",
   "execution_count": 293,
   "metadata": {},
   "outputs": [
    {
     "data": {
      "text/plain": [
       "<matplotlib.axes._subplots.AxesSubplot at 0x28301d6d040>"
      ]
     },
     "execution_count": 293,
     "metadata": {},
     "output_type": "execute_result"
    },
    {
     "data": {
      "image/png": "[encoded data removed]",
      "text/plain": [
       "<Figure size 432x288 with 1 Axes>"
      ]
     },
     "metadata": {
      "needs_background": "light"
     },
     "output_type": "display_data"
    }
   ],
   "source": [
    "sns.countplot(df.Colavita)"
   ]
  },
  {
   "cell_type": "code",
   "execution_count": 294,
   "metadata": {},
   "outputs": [
    {
     "data": {
      "text/plain": [
       "Gender\n",
       "F    1.395174\n",
       "M    1.581761\n",
       "Name: Colavita, dtype: float64"
      ]
     },
     "execution_count": 294,
     "metadata": {},
     "output_type": "execute_result"
    }
   ],
   "source": [
    "df[df['Colavita']>0].groupby('Gender').mean()['Colavita']"
   ]
  },
  {
   "cell_type": "code",
   "execution_count": 295,
   "metadata": {},
   "outputs": [
    {
     "data": {
      "text/plain": [
       "Order_cat\n",
       "0 order           0.182342\n",
       "1 to 6 orders     0.194800\n",
       "7 to 12 orders    0.196209\n",
       "Name: Colavita, dtype: float64"
      ]
     },
     "execution_count": 295,
     "metadata": {},
     "output_type": "execute_result"
    }
   ],
   "source": [
    "df.groupby('Order_cat').mean()['Colavita']"
   ]
  },
  {
   "cell_type": "code",
   "execution_count": 296,
   "metadata": {},
   "outputs": [
    {
     "name": "stdout",
     "output_type": "stream",
     "text": [
      "Proportion of 0:  86.64 %\n",
      "Proportion of 1:  10.05 %\n",
      "Proportion of 2:  1.9900000000000002 %\n",
      "Proportion of 3:  0.86 %\n",
      "Proportion of 4:  0.21 %\n",
      "Proportion of 5:  0.09 %\n",
      "Proportion of 6:  0.04 %\n",
      "Proportion of 7:  0.03 %\n",
      "Proportion of 10:  0.02 %\n",
      "Proportion of 8:  0.02 %\n",
      "Proportion of 11:  0.01 %\n",
      "Proportion of 9:  0.01 %\n",
      "Proportion of 14:  0.01 %\n",
      "Proportion of 22:  0.01 %\n",
      "Proportion of 16:  0.0 %\n"
     ]
    }
   ],
   "source": [
    "find_proportion('Colavita', df)"
   ]
  },
  {
   "cell_type": "code",
   "execution_count": 297,
   "metadata": {},
   "outputs": [],
   "source": [
    "zero['Colavita'] = 86.64"
   ]
  },
  {
   "cell_type": "markdown",
   "metadata": {},
   "source": [
    "#### Microsoft"
   ]
  },
  {
   "cell_type": "code",
   "execution_count": 298,
   "metadata": {
    "scrolled": true
   },
   "outputs": [
    {
     "data": {
      "text/plain": [
       "0     27299\n",
       "1      2205\n",
       "2       346\n",
       "3        81\n",
       "4        43\n",
       "5        11\n",
       "7         4\n",
       "6         4\n",
       "9         3\n",
       "14        1\n",
       "12        1\n",
       "11        1\n",
       "8         1\n",
       "Name: Microsoft, dtype: int64"
      ]
     },
     "execution_count": 298,
     "metadata": {},
     "output_type": "execute_result"
    }
   ],
   "source": [
    "df.Microsoft.value_counts()"
   ]
  },
  {
   "cell_type": "code",
   "execution_count": 299,
   "metadata": {},
   "outputs": [
    {
     "data": {
      "text/plain": [
       "<matplotlib.axes._subplots.AxesSubplot at 0x28301ddd6d0>"
      ]
     },
     "execution_count": 299,
     "metadata": {},
     "output_type": "execute_result"
    },
    {
     "data": {
      "image/png": "[encoded data removed]",
      "text/plain": [
       "<Figure size 432x288 with 1 Axes>"
      ]
     },
     "metadata": {
      "needs_background": "light"
     },
     "output_type": "display_data"
    }
   ],
   "source": [
    "sns.countplot(df.Microsoft)"
   ]
  },
  {
   "cell_type": "code",
   "execution_count": 300,
   "metadata": {},
   "outputs": [
    {
     "data": {
      "text/plain": [
       "Gender\n",
       "F    1.289958\n",
       "M    1.356968\n",
       "Name: Microsoft, dtype: float64"
      ]
     },
     "execution_count": 300,
     "metadata": {},
     "output_type": "execute_result"
    }
   ],
   "source": [
    "df[df['Microsoft']>0].groupby('Gender').mean()['Microsoft']"
   ]
  },
  {
   "cell_type": "code",
   "execution_count": 301,
   "metadata": {},
   "outputs": [
    {
     "data": {
      "text/plain": [
       "Order_cat\n",
       "0 order           0.099808\n",
       "1 to 6 orders     0.122919\n",
       "7 to 12 orders    0.119851\n",
       "Name: Microsoft, dtype: float64"
      ]
     },
     "execution_count": 301,
     "metadata": {},
     "output_type": "execute_result"
    }
   ],
   "source": [
    "df.groupby('Order_cat').mean()['Microsoft']"
   ]
  },
  {
   "cell_type": "code",
   "execution_count": 302,
   "metadata": {},
   "outputs": [
    {
     "name": "stdout",
     "output_type": "stream",
     "text": [
      "Proportion of 0:  91.0 %\n",
      "Proportion of 1:  7.35 %\n",
      "Proportion of 2:  1.15 %\n",
      "Proportion of 3:  0.27 %\n",
      "Proportion of 4:  0.13999999999999999 %\n",
      "Proportion of 5:  0.04 %\n",
      "Proportion of 7:  0.01 %\n",
      "Proportion of 6:  0.01 %\n",
      "Proportion of 9:  0.01 %\n",
      "Proportion of 14:  0.0 %\n",
      "Proportion of 12:  0.0 %\n",
      "Proportion of 11:  0.0 %\n",
      "Proportion of 8:  0.0 %\n"
     ]
    }
   ],
   "source": [
    "find_proportion('Microsoft', df)"
   ]
  },
  {
   "cell_type": "code",
   "execution_count": 303,
   "metadata": {},
   "outputs": [],
   "source": [
    "zero['Microsoft'] = 91.0"
   ]
  },
  {
   "cell_type": "markdown",
   "metadata": {},
   "source": [
    "#### Jiffy mix"
   ]
  },
  {
   "cell_type": "code",
   "execution_count": 304,
   "metadata": {
    "scrolled": true
   },
   "outputs": [
    {
     "data": {
      "text/plain": [
       "0    28079\n",
       "1     1447\n",
       "2      340\n",
       "3       77\n",
       "4       34\n",
       "5        7\n",
       "8        6\n",
       "6        6\n",
       "7        4\n",
       "Name: Jiffy mix, dtype: int64"
      ]
     },
     "execution_count": 304,
     "metadata": {},
     "output_type": "execute_result"
    }
   ],
   "source": [
    "df['Jiffy mix'].value_counts()"
   ]
  },
  {
   "cell_type": "code",
   "execution_count": 305,
   "metadata": {},
   "outputs": [
    {
     "data": {
      "text/plain": [
       "<matplotlib.axes._subplots.AxesSubplot at 0x28301e740a0>"
      ]
     },
     "execution_count": 305,
     "metadata": {},
     "output_type": "execute_result"
    },
    {
     "data": {
      "image/png": "[encoded data removed]",
      "text/plain": [
       "<Figure size 432x288 with 1 Axes>"
      ]
     },
     "metadata": {
      "needs_background": "light"
     },
     "output_type": "display_data"
    }
   ],
   "source": [
    "sns.countplot(df['Jiffy mix'])"
   ]
  },
  {
   "cell_type": "code",
   "execution_count": 306,
   "metadata": {},
   "outputs": [
    {
     "data": {
      "text/plain": [
       "Gender\n",
       "F    1.377071\n",
       "M    1.369338\n",
       "Name: Jiffy mix, dtype: float64"
      ]
     },
     "execution_count": 306,
     "metadata": {},
     "output_type": "execute_result"
    }
   ],
   "source": [
    "df[df['Jiffy mix']>0].groupby('Gender').mean()['Jiffy mix']"
   ]
  },
  {
   "cell_type": "code",
   "execution_count": 307,
   "metadata": {},
   "outputs": [
    {
     "data": {
      "text/plain": [
       "Order_cat\n",
       "0 order           0.074445\n",
       "1 to 6 orders     0.092944\n",
       "7 to 12 orders    0.091586\n",
       "Name: Jiffy mix, dtype: float64"
      ]
     },
     "execution_count": 307,
     "metadata": {},
     "output_type": "execute_result"
    }
   ],
   "source": [
    "df.groupby('Order_cat').mean()['Jiffy mix']"
   ]
  },
  {
   "cell_type": "code",
   "execution_count": 308,
   "metadata": {},
   "outputs": [
    {
     "name": "stdout",
     "output_type": "stream",
     "text": [
      "Proportion of 0:  93.60000000000001 %\n",
      "Proportion of 1:  4.82 %\n",
      "Proportion of 2:  1.13 %\n",
      "Proportion of 3:  0.26 %\n",
      "Proportion of 4:  0.11 %\n",
      "Proportion of 5:  0.02 %\n",
      "Proportion of 8:  0.02 %\n",
      "Proportion of 6:  0.02 %\n",
      "Proportion of 7:  0.01 %\n"
     ]
    }
   ],
   "source": [
    "find_proportion('Jiffy mix', df)"
   ]
  },
  {
   "cell_type": "code",
   "execution_count": 309,
   "metadata": {},
   "outputs": [],
   "source": [
    "zero['Jiffy mix'] = 93.6"
   ]
  },
  {
   "cell_type": "markdown",
   "metadata": {},
   "source": [
    "#### Kraft"
   ]
  },
  {
   "cell_type": "code",
   "execution_count": 310,
   "metadata": {
    "scrolled": true
   },
   "outputs": [
    {
     "data": {
      "text/plain": [
       "0     28597\n",
       "1       970\n",
       "2       234\n",
       "3       152\n",
       "4        34\n",
       "5         4\n",
       "6         3\n",
       "7         2\n",
       "11        1\n",
       "10        1\n",
       "8         1\n",
       "16        1\n",
       "Name: Kraft, dtype: int64"
      ]
     },
     "execution_count": 310,
     "metadata": {},
     "output_type": "execute_result"
    }
   ],
   "source": [
    "df.Kraft.value_counts()"
   ]
  },
  {
   "cell_type": "code",
   "execution_count": 311,
   "metadata": {},
   "outputs": [
    {
     "data": {
      "text/plain": [
       "<matplotlib.axes._subplots.AxesSubplot at 0x28378496280>"
      ]
     },
     "execution_count": 311,
     "metadata": {},
     "output_type": "execute_result"
    },
    {
     "data": {
      "image/png": "[encoded data removed]",
      "text/plain": [
       "<Figure size 432x288 with 1 Axes>"
      ]
     },
     "metadata": {
      "needs_background": "light"
     },
     "output_type": "display_data"
    }
   ],
   "source": [
    "sns.countplot(df.Kraft)"
   ]
  },
  {
   "cell_type": "code",
   "execution_count": 312,
   "metadata": {},
   "outputs": [
    {
     "data": {
      "text/plain": [
       "Gender\n",
       "F    1.454380\n",
       "M    1.724138\n",
       "Name: Kraft, dtype: float64"
      ]
     },
     "execution_count": 312,
     "metadata": {},
     "output_type": "execute_result"
    }
   ],
   "source": [
    "df[df['Kraft']>0].groupby('Gender').mean()['Kraft']"
   ]
  },
  {
   "cell_type": "code",
   "execution_count": 313,
   "metadata": {},
   "outputs": [
    {
     "data": {
      "text/plain": [
       "Order_cat\n",
       "0 order           0.076364\n",
       "1 to 6 orders     0.070850\n",
       "7 to 12 orders    0.066608\n",
       "Name: Kraft, dtype: float64"
      ]
     },
     "execution_count": 313,
     "metadata": {},
     "output_type": "execute_result"
    }
   ],
   "source": [
    "df.groupby('Order_cat').mean()['Kraft']"
   ]
  },
  {
   "cell_type": "code",
   "execution_count": 314,
   "metadata": {},
   "outputs": [
    {
     "name": "stdout",
     "output_type": "stream",
     "text": [
      "Proportion of 0:  95.32000000000001 %\n",
      "Proportion of 1:  3.2300000000000004 %\n",
      "Proportion of 2:  0.7799999999999999 %\n",
      "Proportion of 3:  0.51 %\n",
      "Proportion of 4:  0.11 %\n",
      "Proportion of 5:  0.01 %\n",
      "Proportion of 6:  0.01 %\n",
      "Proportion of 7:  0.01 %\n",
      "Proportion of 11:  0.0 %\n",
      "Proportion of 10:  0.0 %\n",
      "Proportion of 8:  0.0 %\n",
      "Proportion of 16:  0.0 %\n"
     ]
    }
   ],
   "source": [
    "find_proportion('Kraft', df)"
   ]
  },
  {
   "cell_type": "code",
   "execution_count": 315,
   "metadata": {},
   "outputs": [],
   "source": [
    "zero['Kraft'] = 95.32"
   ]
  },
  {
   "cell_type": "code",
   "execution_count": null,
   "metadata": {},
   "outputs": [],
   "source": []
  },
  {
   "cell_type": "code",
   "execution_count": null,
   "metadata": {},
   "outputs": [],
   "source": []
  }
 ],
 "metadata": {
  "kernelspec": {
   "display_name": "Python 3",
   "language": "python",
   "name": "python3"
  },
  "language_info": {
   "codemirror_mode": {
    "name": "ipython",
    "version": 3
   },
   "file_extension": ".py",
   "mimetype": "text/x-python",
   "name": "python",
   "nbconvert_exporter": "python",
   "pygments_lexer": "ipython3",
   "version": "3.8.3"
  }
 },
 "nbformat": 4,
 "nbformat_minor": 4
}
