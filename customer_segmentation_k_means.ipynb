{
 "cells": [
  {
   "cell_type": "markdown",
   "metadata": {},
   "source": [
    "# E-commerce Customer Segmentation"
   ]
  },
  {
   "cell_type": "markdown",
   "metadata": {},
   "source": [
    "### Abstract\n",
    "A key challenge for e-commerce businesses is to analyze the trend in the market to increase their sales. The trend can be easily observed if the companies can group the customers; based on their activity on the e-commerce site. This grouping can be done by applying different criteria like previous orders, mostly searched brands and so on. \n",
    "### Problem Statement\n",
    "Given the e-commerce data, use k-means clustering algorithm to cluster customers with similar interest."
   ]
  },
  {
   "cell_type": "markdown",
   "metadata": {},
   "source": [
    "### Dataset Information\n",
    "The data was collected from a well known e-commerce website over a period of time based on the customer’s search profile.\n",
    "### Variable Description\n",
    "* __Cust_ID__ : Unique numbering for customers\n",
    "* __Gender__ : Gender of the customer\n",
    "* __Orders__ : Number of orders placed by each customer in the past\n",
    "\n",
    "__Remaining 35 features (brands) contains the number of times customers have searched them__"
   ]
  },
  {
   "cell_type": "markdown",
   "metadata": {},
   "source": [
    "# Assigning working directory"
   ]
  },
  {
   "cell_type": "code",
   "execution_count": 1,
   "metadata": {},
   "outputs": [],
   "source": [
    "import os\n",
    "os.chdir('C:/Users/Darshan/Desktop/Customer_segmentation_project/')"
   ]
  },
  {
   "cell_type": "markdown",
   "metadata": {},
   "source": [
    "# Importing Libraries"
   ]
  },
  {
   "cell_type": "code",
   "execution_count": 2,
   "metadata": {},
   "outputs": [],
   "source": [
    "import numpy as np\n",
    "import pandas as pd\n",
    "import matplotlib.pyplot as plt\n",
    "import seaborn as sns"
   ]
  },
  {
   "cell_type": "code",
   "execution_count": 3,
   "metadata": {},
   "outputs": [],
   "source": [
    "pd.options.display.max_rows = 100\n",
    "pd.options.display.max_columns = 100\n",
    "pd.set_option('display.max_colwidth', None)\n",
    "\n",
    "import warnings\n",
    "warnings.filterwarnings('ignore')"
   ]
  },
  {
   "cell_type": "markdown",
   "metadata": {},
   "source": [
    "# Importing dataset"
   ]
  },
  {
   "cell_type": "code",
   "execution_count": 4,
   "metadata": {},
   "outputs": [],
   "source": [
    "df = pd.read_excel('C:/Users/Darshan/Desktop/Customer_segmentation_project/Dataset/cust_data.xlsx')"
   ]
  },
  {
   "cell_type": "code",
   "execution_count": 5,
   "metadata": {},
   "outputs": [
    {
     "data": {
      "text/html": [
       "<div>\n",
       "<style scoped>\n",
       "    .dataframe tbody tr th:only-of-type {\n",
       "        vertical-align: middle;\n",
       "    }\n",
       "\n",
       "    .dataframe tbody tr th {\n",
       "        vertical-align: top;\n",
       "    }\n",
       "\n",
       "    .dataframe thead th {\n",
       "        text-align: right;\n",
       "    }\n",
       "</style>\n",
       "<table border=\"1\" class=\"dataframe\">\n",
       "  <thead>\n",
       "    <tr style=\"text-align: right;\">\n",
       "      <th></th>\n",
       "      <th>Cust_ID</th>\n",
       "      <th>Gender</th>\n",
       "      <th>Orders</th>\n",
       "      <th>Jordan</th>\n",
       "      <th>Gatorade</th>\n",
       "      <th>Samsung</th>\n",
       "      <th>Asus</th>\n",
       "      <th>Udis</th>\n",
       "      <th>Mondelez International</th>\n",
       "      <th>Wrangler</th>\n",
       "      <th>Vans</th>\n",
       "      <th>Fila</th>\n",
       "      <th>Brooks</th>\n",
       "      <th>H&amp;M</th>\n",
       "      <th>Dairy Queen</th>\n",
       "      <th>Fendi</th>\n",
       "      <th>Hewlett Packard</th>\n",
       "      <th>Pladis</th>\n",
       "      <th>Asics</th>\n",
       "      <th>Siemens</th>\n",
       "      <th>J.M. Smucker</th>\n",
       "      <th>Pop Chips</th>\n",
       "      <th>Juniper</th>\n",
       "      <th>Huawei</th>\n",
       "      <th>Compaq</th>\n",
       "      <th>IBM</th>\n",
       "      <th>Burberry</th>\n",
       "      <th>Mi</th>\n",
       "      <th>LG</th>\n",
       "      <th>Dior</th>\n",
       "      <th>Scabal</th>\n",
       "      <th>Tommy Hilfiger</th>\n",
       "      <th>Hollister</th>\n",
       "      <th>Forever 21</th>\n",
       "      <th>Colavita</th>\n",
       "      <th>Microsoft</th>\n",
       "      <th>Jiffy mix</th>\n",
       "      <th>Kraft</th>\n",
       "    </tr>\n",
       "  </thead>\n",
       "  <tbody>\n",
       "    <tr>\n",
       "      <th>0</th>\n",
       "      <td>1</td>\n",
       "      <td>M</td>\n",
       "      <td>7</td>\n",
       "      <td>0</td>\n",
       "      <td>0</td>\n",
       "      <td>0</td>\n",
       "      <td>0</td>\n",
       "      <td>0</td>\n",
       "      <td>0</td>\n",
       "      <td>0</td>\n",
       "      <td>2</td>\n",
       "      <td>0</td>\n",
       "      <td>0</td>\n",
       "      <td>0</td>\n",
       "      <td>0</td>\n",
       "      <td>0</td>\n",
       "      <td>0</td>\n",
       "      <td>0</td>\n",
       "      <td>0</td>\n",
       "      <td>0</td>\n",
       "      <td>0</td>\n",
       "      <td>0</td>\n",
       "      <td>0</td>\n",
       "      <td>0</td>\n",
       "      <td>0</td>\n",
       "      <td>0</td>\n",
       "      <td>0</td>\n",
       "      <td>0</td>\n",
       "      <td>0</td>\n",
       "      <td>0</td>\n",
       "      <td>0</td>\n",
       "      <td>0</td>\n",
       "      <td>0</td>\n",
       "      <td>0</td>\n",
       "      <td>0</td>\n",
       "      <td>0</td>\n",
       "      <td>0</td>\n",
       "      <td>0</td>\n",
       "    </tr>\n",
       "    <tr>\n",
       "      <th>1</th>\n",
       "      <td>2</td>\n",
       "      <td>F</td>\n",
       "      <td>0</td>\n",
       "      <td>0</td>\n",
       "      <td>1</td>\n",
       "      <td>0</td>\n",
       "      <td>0</td>\n",
       "      <td>0</td>\n",
       "      <td>0</td>\n",
       "      <td>0</td>\n",
       "      <td>0</td>\n",
       "      <td>0</td>\n",
       "      <td>0</td>\n",
       "      <td>1</td>\n",
       "      <td>0</td>\n",
       "      <td>0</td>\n",
       "      <td>0</td>\n",
       "      <td>0</td>\n",
       "      <td>0</td>\n",
       "      <td>0</td>\n",
       "      <td>2</td>\n",
       "      <td>2</td>\n",
       "      <td>1</td>\n",
       "      <td>0</td>\n",
       "      <td>0</td>\n",
       "      <td>0</td>\n",
       "      <td>6</td>\n",
       "      <td>4</td>\n",
       "      <td>0</td>\n",
       "      <td>1</td>\n",
       "      <td>0</td>\n",
       "      <td>0</td>\n",
       "      <td>0</td>\n",
       "      <td>0</td>\n",
       "      <td>0</td>\n",
       "      <td>0</td>\n",
       "      <td>0</td>\n",
       "      <td>0</td>\n",
       "    </tr>\n",
       "    <tr>\n",
       "      <th>2</th>\n",
       "      <td>3</td>\n",
       "      <td>M</td>\n",
       "      <td>7</td>\n",
       "      <td>0</td>\n",
       "      <td>1</td>\n",
       "      <td>0</td>\n",
       "      <td>0</td>\n",
       "      <td>0</td>\n",
       "      <td>0</td>\n",
       "      <td>0</td>\n",
       "      <td>0</td>\n",
       "      <td>0</td>\n",
       "      <td>0</td>\n",
       "      <td>0</td>\n",
       "      <td>0</td>\n",
       "      <td>0</td>\n",
       "      <td>0</td>\n",
       "      <td>0</td>\n",
       "      <td>2</td>\n",
       "      <td>0</td>\n",
       "      <td>1</td>\n",
       "      <td>0</td>\n",
       "      <td>0</td>\n",
       "      <td>0</td>\n",
       "      <td>0</td>\n",
       "      <td>0</td>\n",
       "      <td>0</td>\n",
       "      <td>0</td>\n",
       "      <td>0</td>\n",
       "      <td>0</td>\n",
       "      <td>0</td>\n",
       "      <td>0</td>\n",
       "      <td>0</td>\n",
       "      <td>0</td>\n",
       "      <td>0</td>\n",
       "      <td>1</td>\n",
       "      <td>0</td>\n",
       "      <td>0</td>\n",
       "    </tr>\n",
       "    <tr>\n",
       "      <th>3</th>\n",
       "      <td>4</td>\n",
       "      <td>F</td>\n",
       "      <td>0</td>\n",
       "      <td>0</td>\n",
       "      <td>0</td>\n",
       "      <td>0</td>\n",
       "      <td>0</td>\n",
       "      <td>0</td>\n",
       "      <td>0</td>\n",
       "      <td>0</td>\n",
       "      <td>0</td>\n",
       "      <td>0</td>\n",
       "      <td>0</td>\n",
       "      <td>1</td>\n",
       "      <td>0</td>\n",
       "      <td>0</td>\n",
       "      <td>0</td>\n",
       "      <td>0</td>\n",
       "      <td>0</td>\n",
       "      <td>0</td>\n",
       "      <td>0</td>\n",
       "      <td>1</td>\n",
       "      <td>0</td>\n",
       "      <td>0</td>\n",
       "      <td>0</td>\n",
       "      <td>0</td>\n",
       "      <td>0</td>\n",
       "      <td>0</td>\n",
       "      <td>0</td>\n",
       "      <td>0</td>\n",
       "      <td>0</td>\n",
       "      <td>0</td>\n",
       "      <td>0</td>\n",
       "      <td>0</td>\n",
       "      <td>0</td>\n",
       "      <td>0</td>\n",
       "      <td>0</td>\n",
       "      <td>0</td>\n",
       "    </tr>\n",
       "    <tr>\n",
       "      <th>4</th>\n",
       "      <td>5</td>\n",
       "      <td>NaN</td>\n",
       "      <td>10</td>\n",
       "      <td>0</td>\n",
       "      <td>0</td>\n",
       "      <td>0</td>\n",
       "      <td>0</td>\n",
       "      <td>0</td>\n",
       "      <td>0</td>\n",
       "      <td>0</td>\n",
       "      <td>0</td>\n",
       "      <td>0</td>\n",
       "      <td>0</td>\n",
       "      <td>0</td>\n",
       "      <td>1</td>\n",
       "      <td>0</td>\n",
       "      <td>0</td>\n",
       "      <td>5</td>\n",
       "      <td>1</td>\n",
       "      <td>0</td>\n",
       "      <td>3</td>\n",
       "      <td>0</td>\n",
       "      <td>1</td>\n",
       "      <td>0</td>\n",
       "      <td>0</td>\n",
       "      <td>0</td>\n",
       "      <td>1</td>\n",
       "      <td>0</td>\n",
       "      <td>0</td>\n",
       "      <td>0</td>\n",
       "      <td>2</td>\n",
       "      <td>0</td>\n",
       "      <td>0</td>\n",
       "      <td>0</td>\n",
       "      <td>0</td>\n",
       "      <td>0</td>\n",
       "      <td>1</td>\n",
       "      <td>1</td>\n",
       "    </tr>\n",
       "  </tbody>\n",
       "</table>\n",
       "</div>"
      ],
      "text/plain": [
       "   Cust_ID Gender  Orders  Jordan  Gatorade  Samsung  Asus  Udis  \\\n",
       "0        1      M       7       0         0        0     0     0   \n",
       "1        2      F       0       0         1        0     0     0   \n",
       "2        3      M       7       0         1        0     0     0   \n",
       "3        4      F       0       0         0        0     0     0   \n",
       "4        5    NaN      10       0         0        0     0     0   \n",
       "\n",
       "   Mondelez International  Wrangler  Vans  Fila  Brooks  H&M  Dairy Queen  \\\n",
       "0                       0         0     2     0       0    0            0   \n",
       "1                       0         0     0     0       0    1            0   \n",
       "2                       0         0     0     0       0    0            0   \n",
       "3                       0         0     0     0       0    1            0   \n",
       "4                       0         0     0     0       0    0            1   \n",
       "\n",
       "   Fendi  Hewlett Packard  Pladis  Asics  Siemens  J.M. Smucker  Pop Chips  \\\n",
       "0      0                0       0      0        0             0          0   \n",
       "1      0                0       0      0        0             2          2   \n",
       "2      0                0       0      2        0             1          0   \n",
       "3      0                0       0      0        0             0          1   \n",
       "4      0                0       5      1        0             3          0   \n",
       "\n",
       "   Juniper  Huawei  Compaq  IBM  Burberry  Mi  LG  Dior  Scabal  \\\n",
       "0        0       0       0    0         0   0   0     0       0   \n",
       "1        1       0       0    0         6   4   0     1       0   \n",
       "2        0       0       0    0         0   0   0     0       0   \n",
       "3        0       0       0    0         0   0   0     0       0   \n",
       "4        1       0       0    0         1   0   0     0       2   \n",
       "\n",
       "   Tommy Hilfiger  Hollister  Forever 21  Colavita  Microsoft  Jiffy mix  \\\n",
       "0               0          0           0         0          0          0   \n",
       "1               0          0           0         0          0          0   \n",
       "2               0          0           0         0          1          0   \n",
       "3               0          0           0         0          0          0   \n",
       "4               0          0           0         0          0          1   \n",
       "\n",
       "   Kraft  \n",
       "0      0  \n",
       "1      0  \n",
       "2      0  \n",
       "3      0  \n",
       "4      1  "
      ]
     },
     "execution_count": 5,
     "metadata": {},
     "output_type": "execute_result"
    }
   ],
   "source": [
    "df.head()"
   ]
  },
  {
   "cell_type": "code",
   "execution_count": 6,
   "metadata": {},
   "outputs": [
    {
     "data": {
      "text/plain": [
       "(30000, 38)"
      ]
     },
     "execution_count": 6,
     "metadata": {},
     "output_type": "execute_result"
    }
   ],
   "source": [
    "df.shape"
   ]
  },
  {
   "cell_type": "markdown",
   "metadata": {},
   "source": [
    "# Basic commands"
   ]
  },
  {
   "cell_type": "code",
   "execution_count": 7,
   "metadata": {},
   "outputs": [
    {
     "data": {
      "text/html": [
       "<div>\n",
       "<style scoped>\n",
       "    .dataframe tbody tr th:only-of-type {\n",
       "        vertical-align: middle;\n",
       "    }\n",
       "\n",
       "    .dataframe tbody tr th {\n",
       "        vertical-align: top;\n",
       "    }\n",
       "\n",
       "    .dataframe thead th {\n",
       "        text-align: right;\n",
       "    }\n",
       "</style>\n",
       "<table border=\"1\" class=\"dataframe\">\n",
       "  <thead>\n",
       "    <tr style=\"text-align: right;\">\n",
       "      <th></th>\n",
       "      <th>Cust_ID</th>\n",
       "      <th>Gender</th>\n",
       "      <th>Orders</th>\n",
       "      <th>Jordan</th>\n",
       "      <th>Gatorade</th>\n",
       "      <th>Samsung</th>\n",
       "      <th>Asus</th>\n",
       "      <th>Udis</th>\n",
       "      <th>Mondelez International</th>\n",
       "      <th>Wrangler</th>\n",
       "      <th>Vans</th>\n",
       "      <th>Fila</th>\n",
       "      <th>Brooks</th>\n",
       "      <th>H&amp;M</th>\n",
       "      <th>Dairy Queen</th>\n",
       "      <th>Fendi</th>\n",
       "      <th>Hewlett Packard</th>\n",
       "      <th>Pladis</th>\n",
       "      <th>Asics</th>\n",
       "      <th>Siemens</th>\n",
       "      <th>J.M. Smucker</th>\n",
       "      <th>Pop Chips</th>\n",
       "      <th>Juniper</th>\n",
       "      <th>Huawei</th>\n",
       "      <th>Compaq</th>\n",
       "      <th>IBM</th>\n",
       "      <th>Burberry</th>\n",
       "      <th>Mi</th>\n",
       "      <th>LG</th>\n",
       "      <th>Dior</th>\n",
       "      <th>Scabal</th>\n",
       "      <th>Tommy Hilfiger</th>\n",
       "      <th>Hollister</th>\n",
       "      <th>Forever 21</th>\n",
       "      <th>Colavita</th>\n",
       "      <th>Microsoft</th>\n",
       "      <th>Jiffy mix</th>\n",
       "      <th>Kraft</th>\n",
       "    </tr>\n",
       "  </thead>\n",
       "  <tbody>\n",
       "    <tr>\n",
       "      <th>0</th>\n",
       "      <td>1</td>\n",
       "      <td>M</td>\n",
       "      <td>7</td>\n",
       "      <td>0</td>\n",
       "      <td>0</td>\n",
       "      <td>0</td>\n",
       "      <td>0</td>\n",
       "      <td>0</td>\n",
       "      <td>0</td>\n",
       "      <td>0</td>\n",
       "      <td>2</td>\n",
       "      <td>0</td>\n",
       "      <td>0</td>\n",
       "      <td>0</td>\n",
       "      <td>0</td>\n",
       "      <td>0</td>\n",
       "      <td>0</td>\n",
       "      <td>0</td>\n",
       "      <td>0</td>\n",
       "      <td>0</td>\n",
       "      <td>0</td>\n",
       "      <td>0</td>\n",
       "      <td>0</td>\n",
       "      <td>0</td>\n",
       "      <td>0</td>\n",
       "      <td>0</td>\n",
       "      <td>0</td>\n",
       "      <td>0</td>\n",
       "      <td>0</td>\n",
       "      <td>0</td>\n",
       "      <td>0</td>\n",
       "      <td>0</td>\n",
       "      <td>0</td>\n",
       "      <td>0</td>\n",
       "      <td>0</td>\n",
       "      <td>0</td>\n",
       "      <td>0</td>\n",
       "      <td>0</td>\n",
       "    </tr>\n",
       "    <tr>\n",
       "      <th>1</th>\n",
       "      <td>2</td>\n",
       "      <td>F</td>\n",
       "      <td>0</td>\n",
       "      <td>0</td>\n",
       "      <td>1</td>\n",
       "      <td>0</td>\n",
       "      <td>0</td>\n",
       "      <td>0</td>\n",
       "      <td>0</td>\n",
       "      <td>0</td>\n",
       "      <td>0</td>\n",
       "      <td>0</td>\n",
       "      <td>0</td>\n",
       "      <td>1</td>\n",
       "      <td>0</td>\n",
       "      <td>0</td>\n",
       "      <td>0</td>\n",
       "      <td>0</td>\n",
       "      <td>0</td>\n",
       "      <td>0</td>\n",
       "      <td>2</td>\n",
       "      <td>2</td>\n",
       "      <td>1</td>\n",
       "      <td>0</td>\n",
       "      <td>0</td>\n",
       "      <td>0</td>\n",
       "      <td>6</td>\n",
       "      <td>4</td>\n",
       "      <td>0</td>\n",
       "      <td>1</td>\n",
       "      <td>0</td>\n",
       "      <td>0</td>\n",
       "      <td>0</td>\n",
       "      <td>0</td>\n",
       "      <td>0</td>\n",
       "      <td>0</td>\n",
       "      <td>0</td>\n",
       "      <td>0</td>\n",
       "    </tr>\n",
       "    <tr>\n",
       "      <th>2</th>\n",
       "      <td>3</td>\n",
       "      <td>M</td>\n",
       "      <td>7</td>\n",
       "      <td>0</td>\n",
       "      <td>1</td>\n",
       "      <td>0</td>\n",
       "      <td>0</td>\n",
       "      <td>0</td>\n",
       "      <td>0</td>\n",
       "      <td>0</td>\n",
       "      <td>0</td>\n",
       "      <td>0</td>\n",
       "      <td>0</td>\n",
       "      <td>0</td>\n",
       "      <td>0</td>\n",
       "      <td>0</td>\n",
       "      <td>0</td>\n",
       "      <td>0</td>\n",
       "      <td>2</td>\n",
       "      <td>0</td>\n",
       "      <td>1</td>\n",
       "      <td>0</td>\n",
       "      <td>0</td>\n",
       "      <td>0</td>\n",
       "      <td>0</td>\n",
       "      <td>0</td>\n",
       "      <td>0</td>\n",
       "      <td>0</td>\n",
       "      <td>0</td>\n",
       "      <td>0</td>\n",
       "      <td>0</td>\n",
       "      <td>0</td>\n",
       "      <td>0</td>\n",
       "      <td>0</td>\n",
       "      <td>0</td>\n",
       "      <td>1</td>\n",
       "      <td>0</td>\n",
       "      <td>0</td>\n",
       "    </tr>\n",
       "    <tr>\n",
       "      <th>3</th>\n",
       "      <td>4</td>\n",
       "      <td>F</td>\n",
       "      <td>0</td>\n",
       "      <td>0</td>\n",
       "      <td>0</td>\n",
       "      <td>0</td>\n",
       "      <td>0</td>\n",
       "      <td>0</td>\n",
       "      <td>0</td>\n",
       "      <td>0</td>\n",
       "      <td>0</td>\n",
       "      <td>0</td>\n",
       "      <td>0</td>\n",
       "      <td>1</td>\n",
       "      <td>0</td>\n",
       "      <td>0</td>\n",
       "      <td>0</td>\n",
       "      <td>0</td>\n",
       "      <td>0</td>\n",
       "      <td>0</td>\n",
       "      <td>0</td>\n",
       "      <td>1</td>\n",
       "      <td>0</td>\n",
       "      <td>0</td>\n",
       "      <td>0</td>\n",
       "      <td>0</td>\n",
       "      <td>0</td>\n",
       "      <td>0</td>\n",
       "      <td>0</td>\n",
       "      <td>0</td>\n",
       "      <td>0</td>\n",
       "      <td>0</td>\n",
       "      <td>0</td>\n",
       "      <td>0</td>\n",
       "      <td>0</td>\n",
       "      <td>0</td>\n",
       "      <td>0</td>\n",
       "      <td>0</td>\n",
       "    </tr>\n",
       "    <tr>\n",
       "      <th>4</th>\n",
       "      <td>5</td>\n",
       "      <td>NaN</td>\n",
       "      <td>10</td>\n",
       "      <td>0</td>\n",
       "      <td>0</td>\n",
       "      <td>0</td>\n",
       "      <td>0</td>\n",
       "      <td>0</td>\n",
       "      <td>0</td>\n",
       "      <td>0</td>\n",
       "      <td>0</td>\n",
       "      <td>0</td>\n",
       "      <td>0</td>\n",
       "      <td>0</td>\n",
       "      <td>1</td>\n",
       "      <td>0</td>\n",
       "      <td>0</td>\n",
       "      <td>5</td>\n",
       "      <td>1</td>\n",
       "      <td>0</td>\n",
       "      <td>3</td>\n",
       "      <td>0</td>\n",
       "      <td>1</td>\n",
       "      <td>0</td>\n",
       "      <td>0</td>\n",
       "      <td>0</td>\n",
       "      <td>1</td>\n",
       "      <td>0</td>\n",
       "      <td>0</td>\n",
       "      <td>0</td>\n",
       "      <td>2</td>\n",
       "      <td>0</td>\n",
       "      <td>0</td>\n",
       "      <td>0</td>\n",
       "      <td>0</td>\n",
       "      <td>0</td>\n",
       "      <td>1</td>\n",
       "      <td>1</td>\n",
       "    </tr>\n",
       "  </tbody>\n",
       "</table>\n",
       "</div>"
      ],
      "text/plain": [
       "   Cust_ID Gender  Orders  Jordan  Gatorade  Samsung  Asus  Udis  \\\n",
       "0        1      M       7       0         0        0     0     0   \n",
       "1        2      F       0       0         1        0     0     0   \n",
       "2        3      M       7       0         1        0     0     0   \n",
       "3        4      F       0       0         0        0     0     0   \n",
       "4        5    NaN      10       0         0        0     0     0   \n",
       "\n",
       "   Mondelez International  Wrangler  Vans  Fila  Brooks  H&M  Dairy Queen  \\\n",
       "0                       0         0     2     0       0    0            0   \n",
       "1                       0         0     0     0       0    1            0   \n",
       "2                       0         0     0     0       0    0            0   \n",
       "3                       0         0     0     0       0    1            0   \n",
       "4                       0         0     0     0       0    0            1   \n",
       "\n",
       "   Fendi  Hewlett Packard  Pladis  Asics  Siemens  J.M. Smucker  Pop Chips  \\\n",
       "0      0                0       0      0        0             0          0   \n",
       "1      0                0       0      0        0             2          2   \n",
       "2      0                0       0      2        0             1          0   \n",
       "3      0                0       0      0        0             0          1   \n",
       "4      0                0       5      1        0             3          0   \n",
       "\n",
       "   Juniper  Huawei  Compaq  IBM  Burberry  Mi  LG  Dior  Scabal  \\\n",
       "0        0       0       0    0         0   0   0     0       0   \n",
       "1        1       0       0    0         6   4   0     1       0   \n",
       "2        0       0       0    0         0   0   0     0       0   \n",
       "3        0       0       0    0         0   0   0     0       0   \n",
       "4        1       0       0    0         1   0   0     0       2   \n",
       "\n",
       "   Tommy Hilfiger  Hollister  Forever 21  Colavita  Microsoft  Jiffy mix  \\\n",
       "0               0          0           0         0          0          0   \n",
       "1               0          0           0         0          0          0   \n",
       "2               0          0           0         0          1          0   \n",
       "3               0          0           0         0          0          0   \n",
       "4               0          0           0         0          0          1   \n",
       "\n",
       "   Kraft  \n",
       "0      0  \n",
       "1      0  \n",
       "2      0  \n",
       "3      0  \n",
       "4      1  "
      ]
     },
     "execution_count": 7,
     "metadata": {},
     "output_type": "execute_result"
    }
   ],
   "source": [
    "df.head()"
   ]
  },
  {
   "cell_type": "code",
   "execution_count": 8,
   "metadata": {},
   "outputs": [
    {
     "name": "stdout",
     "output_type": "stream",
     "text": [
      "<class 'pandas.core.frame.DataFrame'>\n",
      "RangeIndex: 30000 entries, 0 to 29999\n",
      "Data columns (total 38 columns):\n",
      " #   Column                  Non-Null Count  Dtype \n",
      "---  ------                  --------------  ----- \n",
      " 0   Cust_ID                 30000 non-null  int64 \n",
      " 1   Gender                  27276 non-null  object\n",
      " 2   Orders                  30000 non-null  int64 \n",
      " 3   Jordan                  30000 non-null  int64 \n",
      " 4   Gatorade                30000 non-null  int64 \n",
      " 5   Samsung                 30000 non-null  int64 \n",
      " 6   Asus                    30000 non-null  int64 \n",
      " 7   Udis                    30000 non-null  int64 \n",
      " 8   Mondelez International  30000 non-null  int64 \n",
      " 9   Wrangler                30000 non-null  int64 \n",
      " 10  Vans                    30000 non-null  int64 \n",
      " 11  Fila                    30000 non-null  int64 \n",
      " 12  Brooks                  30000 non-null  int64 \n",
      " 13  H&M                     30000 non-null  int64 \n",
      " 14  Dairy Queen             30000 non-null  int64 \n",
      " 15  Fendi                   30000 non-null  int64 \n",
      " 16  Hewlett Packard         30000 non-null  int64 \n",
      " 17  Pladis                  30000 non-null  int64 \n",
      " 18  Asics                   30000 non-null  int64 \n",
      " 19  Siemens                 30000 non-null  int64 \n",
      " 20  J.M. Smucker            30000 non-null  int64 \n",
      " 21  Pop Chips               30000 non-null  int64 \n",
      " 22  Juniper                 30000 non-null  int64 \n",
      " 23  Huawei                  30000 non-null  int64 \n",
      " 24  Compaq                  30000 non-null  int64 \n",
      " 25  IBM                     30000 non-null  int64 \n",
      " 26  Burberry                30000 non-null  int64 \n",
      " 27  Mi                      30000 non-null  int64 \n",
      " 28  LG                      30000 non-null  int64 \n",
      " 29  Dior                    30000 non-null  int64 \n",
      " 30  Scabal                  30000 non-null  int64 \n",
      " 31  Tommy Hilfiger          30000 non-null  int64 \n",
      " 32  Hollister               30000 non-null  int64 \n",
      " 33  Forever 21              30000 non-null  int64 \n",
      " 34  Colavita                30000 non-null  int64 \n",
      " 35  Microsoft               30000 non-null  int64 \n",
      " 36  Jiffy mix               30000 non-null  int64 \n",
      " 37  Kraft                   30000 non-null  int64 \n",
      "dtypes: int64(37), object(1)\n",
      "memory usage: 8.7+ MB\n"
     ]
    }
   ],
   "source": [
    "df.info()"
   ]
  },
  {
   "cell_type": "code",
   "execution_count": 9,
   "metadata": {},
   "outputs": [
    {
     "data": {
      "text/html": [
       "<div>\n",
       "<style scoped>\n",
       "    .dataframe tbody tr th:only-of-type {\n",
       "        vertical-align: middle;\n",
       "    }\n",
       "\n",
       "    .dataframe tbody tr th {\n",
       "        vertical-align: top;\n",
       "    }\n",
       "\n",
       "    .dataframe thead th {\n",
       "        text-align: right;\n",
       "    }\n",
       "</style>\n",
       "<table border=\"1\" class=\"dataframe\">\n",
       "  <thead>\n",
       "    <tr style=\"text-align: right;\">\n",
       "      <th></th>\n",
       "      <th>count</th>\n",
       "      <th>mean</th>\n",
       "      <th>std</th>\n",
       "      <th>min</th>\n",
       "      <th>25%</th>\n",
       "      <th>50%</th>\n",
       "      <th>75%</th>\n",
       "      <th>max</th>\n",
       "    </tr>\n",
       "  </thead>\n",
       "  <tbody>\n",
       "    <tr>\n",
       "      <th>Cust_ID</th>\n",
       "      <td>30000.0</td>\n",
       "      <td>15000.500000</td>\n",
       "      <td>8660.398374</td>\n",
       "      <td>1.0</td>\n",
       "      <td>7500.75</td>\n",
       "      <td>15000.5</td>\n",
       "      <td>22500.25</td>\n",
       "      <td>30000.0</td>\n",
       "    </tr>\n",
       "    <tr>\n",
       "      <th>Orders</th>\n",
       "      <td>30000.0</td>\n",
       "      <td>4.169800</td>\n",
       "      <td>3.590311</td>\n",
       "      <td>0.0</td>\n",
       "      <td>1.00</td>\n",
       "      <td>4.0</td>\n",
       "      <td>7.00</td>\n",
       "      <td>12.0</td>\n",
       "    </tr>\n",
       "    <tr>\n",
       "      <th>Jordan</th>\n",
       "      <td>30000.0</td>\n",
       "      <td>0.267433</td>\n",
       "      <td>0.804778</td>\n",
       "      <td>0.0</td>\n",
       "      <td>0.00</td>\n",
       "      <td>0.0</td>\n",
       "      <td>0.00</td>\n",
       "      <td>24.0</td>\n",
       "    </tr>\n",
       "    <tr>\n",
       "      <th>Gatorade</th>\n",
       "      <td>30000.0</td>\n",
       "      <td>0.252333</td>\n",
       "      <td>0.705368</td>\n",
       "      <td>0.0</td>\n",
       "      <td>0.00</td>\n",
       "      <td>0.0</td>\n",
       "      <td>0.00</td>\n",
       "      <td>15.0</td>\n",
       "    </tr>\n",
       "    <tr>\n",
       "      <th>Samsung</th>\n",
       "      <td>30000.0</td>\n",
       "      <td>0.222933</td>\n",
       "      <td>0.917494</td>\n",
       "      <td>0.0</td>\n",
       "      <td>0.00</td>\n",
       "      <td>0.0</td>\n",
       "      <td>0.00</td>\n",
       "      <td>27.0</td>\n",
       "    </tr>\n",
       "    <tr>\n",
       "      <th>Asus</th>\n",
       "      <td>30000.0</td>\n",
       "      <td>0.161333</td>\n",
       "      <td>0.740038</td>\n",
       "      <td>0.0</td>\n",
       "      <td>0.00</td>\n",
       "      <td>0.0</td>\n",
       "      <td>0.00</td>\n",
       "      <td>17.0</td>\n",
       "    </tr>\n",
       "    <tr>\n",
       "      <th>Udis</th>\n",
       "      <td>30000.0</td>\n",
       "      <td>0.143533</td>\n",
       "      <td>0.641258</td>\n",
       "      <td>0.0</td>\n",
       "      <td>0.00</td>\n",
       "      <td>0.0</td>\n",
       "      <td>0.00</td>\n",
       "      <td>14.0</td>\n",
       "    </tr>\n",
       "    <tr>\n",
       "      <th>Mondelez International</th>\n",
       "      <td>30000.0</td>\n",
       "      <td>0.139767</td>\n",
       "      <td>0.525840</td>\n",
       "      <td>0.0</td>\n",
       "      <td>0.00</td>\n",
       "      <td>0.0</td>\n",
       "      <td>0.00</td>\n",
       "      <td>31.0</td>\n",
       "    </tr>\n",
       "    <tr>\n",
       "      <th>Wrangler</th>\n",
       "      <td>30000.0</td>\n",
       "      <td>0.106933</td>\n",
       "      <td>0.515921</td>\n",
       "      <td>0.0</td>\n",
       "      <td>0.00</td>\n",
       "      <td>0.0</td>\n",
       "      <td>0.00</td>\n",
       "      <td>9.0</td>\n",
       "    </tr>\n",
       "    <tr>\n",
       "      <th>Vans</th>\n",
       "      <td>30000.0</td>\n",
       "      <td>0.111433</td>\n",
       "      <td>0.547990</td>\n",
       "      <td>0.0</td>\n",
       "      <td>0.00</td>\n",
       "      <td>0.0</td>\n",
       "      <td>0.00</td>\n",
       "      <td>16.0</td>\n",
       "    </tr>\n",
       "    <tr>\n",
       "      <th>Fila</th>\n",
       "      <td>30000.0</td>\n",
       "      <td>0.094267</td>\n",
       "      <td>0.531592</td>\n",
       "      <td>0.0</td>\n",
       "      <td>0.00</td>\n",
       "      <td>0.0</td>\n",
       "      <td>0.00</td>\n",
       "      <td>15.0</td>\n",
       "    </tr>\n",
       "    <tr>\n",
       "      <th>Brooks</th>\n",
       "      <td>30000.0</td>\n",
       "      <td>0.140133</td>\n",
       "      <td>0.471278</td>\n",
       "      <td>0.0</td>\n",
       "      <td>0.00</td>\n",
       "      <td>0.0</td>\n",
       "      <td>0.00</td>\n",
       "      <td>12.0</td>\n",
       "    </tr>\n",
       "    <tr>\n",
       "      <th>H&amp;M</th>\n",
       "      <td>30000.0</td>\n",
       "      <td>0.328200</td>\n",
       "      <td>0.807655</td>\n",
       "      <td>0.0</td>\n",
       "      <td>0.00</td>\n",
       "      <td>0.0</td>\n",
       "      <td>0.00</td>\n",
       "      <td>18.0</td>\n",
       "    </tr>\n",
       "    <tr>\n",
       "      <th>Dairy Queen</th>\n",
       "      <td>30000.0</td>\n",
       "      <td>0.209333</td>\n",
       "      <td>1.116820</td>\n",
       "      <td>0.0</td>\n",
       "      <td>0.00</td>\n",
       "      <td>0.0</td>\n",
       "      <td>0.00</td>\n",
       "      <td>114.0</td>\n",
       "    </tr>\n",
       "    <tr>\n",
       "      <th>Fendi</th>\n",
       "      <td>30000.0</td>\n",
       "      <td>0.141467</td>\n",
       "      <td>0.529210</td>\n",
       "      <td>0.0</td>\n",
       "      <td>0.00</td>\n",
       "      <td>0.0</td>\n",
       "      <td>0.00</td>\n",
       "      <td>18.0</td>\n",
       "    </tr>\n",
       "    <tr>\n",
       "      <th>Hewlett Packard</th>\n",
       "      <td>30000.0</td>\n",
       "      <td>0.161100</td>\n",
       "      <td>0.604835</td>\n",
       "      <td>0.0</td>\n",
       "      <td>0.00</td>\n",
       "      <td>0.0</td>\n",
       "      <td>0.00</td>\n",
       "      <td>10.0</td>\n",
       "    </tr>\n",
       "    <tr>\n",
       "      <th>Pladis</th>\n",
       "      <td>30000.0</td>\n",
       "      <td>0.106100</td>\n",
       "      <td>0.516512</td>\n",
       "      <td>0.0</td>\n",
       "      <td>0.00</td>\n",
       "      <td>0.0</td>\n",
       "      <td>0.00</td>\n",
       "      <td>26.0</td>\n",
       "    </tr>\n",
       "    <tr>\n",
       "      <th>Asics</th>\n",
       "      <td>30000.0</td>\n",
       "      <td>0.300233</td>\n",
       "      <td>1.119167</td>\n",
       "      <td>0.0</td>\n",
       "      <td>0.00</td>\n",
       "      <td>0.0</td>\n",
       "      <td>0.00</td>\n",
       "      <td>66.0</td>\n",
       "    </tr>\n",
       "    <tr>\n",
       "      <th>Siemens</th>\n",
       "      <td>30000.0</td>\n",
       "      <td>0.048067</td>\n",
       "      <td>0.338763</td>\n",
       "      <td>0.0</td>\n",
       "      <td>0.00</td>\n",
       "      <td>0.0</td>\n",
       "      <td>0.00</td>\n",
       "      <td>11.0</td>\n",
       "    </tr>\n",
       "    <tr>\n",
       "      <th>J.M. Smucker</th>\n",
       "      <td>30000.0</td>\n",
       "      <td>0.754800</td>\n",
       "      <td>1.262166</td>\n",
       "      <td>0.0</td>\n",
       "      <td>0.00</td>\n",
       "      <td>0.0</td>\n",
       "      <td>1.00</td>\n",
       "      <td>64.0</td>\n",
       "    </tr>\n",
       "    <tr>\n",
       "      <th>Pop Chips</th>\n",
       "      <td>30000.0</td>\n",
       "      <td>0.247900</td>\n",
       "      <td>0.724106</td>\n",
       "      <td>0.0</td>\n",
       "      <td>0.00</td>\n",
       "      <td>0.0</td>\n",
       "      <td>0.00</td>\n",
       "      <td>21.0</td>\n",
       "    </tr>\n",
       "    <tr>\n",
       "      <th>Juniper</th>\n",
       "      <td>30000.0</td>\n",
       "      <td>0.470833</td>\n",
       "      <td>1.346159</td>\n",
       "      <td>0.0</td>\n",
       "      <td>0.00</td>\n",
       "      <td>0.0</td>\n",
       "      <td>1.00</td>\n",
       "      <td>79.0</td>\n",
       "    </tr>\n",
       "    <tr>\n",
       "      <th>Huawei</th>\n",
       "      <td>30000.0</td>\n",
       "      <td>0.258000</td>\n",
       "      <td>0.848288</td>\n",
       "      <td>0.0</td>\n",
       "      <td>0.00</td>\n",
       "      <td>0.0</td>\n",
       "      <td>0.00</td>\n",
       "      <td>44.0</td>\n",
       "    </tr>\n",
       "    <tr>\n",
       "      <th>Compaq</th>\n",
       "      <td>30000.0</td>\n",
       "      <td>0.118767</td>\n",
       "      <td>0.597612</td>\n",
       "      <td>0.0</td>\n",
       "      <td>0.00</td>\n",
       "      <td>0.0</td>\n",
       "      <td>0.00</td>\n",
       "      <td>30.0</td>\n",
       "    </tr>\n",
       "    <tr>\n",
       "      <th>IBM</th>\n",
       "      <td>30000.0</td>\n",
       "      <td>0.031967</td>\n",
       "      <td>0.264475</td>\n",
       "      <td>0.0</td>\n",
       "      <td>0.00</td>\n",
       "      <td>0.0</td>\n",
       "      <td>0.00</td>\n",
       "      <td>11.0</td>\n",
       "    </tr>\n",
       "    <tr>\n",
       "      <th>Burberry</th>\n",
       "      <td>30000.0</td>\n",
       "      <td>0.428033</td>\n",
       "      <td>1.098876</td>\n",
       "      <td>0.0</td>\n",
       "      <td>0.00</td>\n",
       "      <td>0.0</td>\n",
       "      <td>0.00</td>\n",
       "      <td>37.0</td>\n",
       "    </tr>\n",
       "    <tr>\n",
       "      <th>Mi</th>\n",
       "      <td>30000.0</td>\n",
       "      <td>0.121333</td>\n",
       "      <td>0.478977</td>\n",
       "      <td>0.0</td>\n",
       "      <td>0.00</td>\n",
       "      <td>0.0</td>\n",
       "      <td>0.00</td>\n",
       "      <td>9.0</td>\n",
       "    </tr>\n",
       "    <tr>\n",
       "      <th>LG</th>\n",
       "      <td>30000.0</td>\n",
       "      <td>0.102533</td>\n",
       "      <td>0.486376</td>\n",
       "      <td>0.0</td>\n",
       "      <td>0.00</td>\n",
       "      <td>0.0</td>\n",
       "      <td>0.00</td>\n",
       "      <td>19.0</td>\n",
       "    </tr>\n",
       "    <tr>\n",
       "      <th>Dior</th>\n",
       "      <td>30000.0</td>\n",
       "      <td>0.271133</td>\n",
       "      <td>0.714682</td>\n",
       "      <td>0.0</td>\n",
       "      <td>0.00</td>\n",
       "      <td>0.0</td>\n",
       "      <td>0.00</td>\n",
       "      <td>12.0</td>\n",
       "    </tr>\n",
       "    <tr>\n",
       "      <th>Scabal</th>\n",
       "      <td>30000.0</td>\n",
       "      <td>0.370067</td>\n",
       "      <td>0.758465</td>\n",
       "      <td>0.0</td>\n",
       "      <td>0.00</td>\n",
       "      <td>0.0</td>\n",
       "      <td>1.00</td>\n",
       "      <td>11.0</td>\n",
       "    </tr>\n",
       "    <tr>\n",
       "      <th>Tommy Hilfiger</th>\n",
       "      <td>30000.0</td>\n",
       "      <td>0.158967</td>\n",
       "      <td>0.510527</td>\n",
       "      <td>0.0</td>\n",
       "      <td>0.00</td>\n",
       "      <td>0.0</td>\n",
       "      <td>0.00</td>\n",
       "      <td>8.0</td>\n",
       "    </tr>\n",
       "    <tr>\n",
       "      <th>Hollister</th>\n",
       "      <td>30000.0</td>\n",
       "      <td>0.077667</td>\n",
       "      <td>0.383370</td>\n",
       "      <td>0.0</td>\n",
       "      <td>0.00</td>\n",
       "      <td>0.0</td>\n",
       "      <td>0.00</td>\n",
       "      <td>9.0</td>\n",
       "    </tr>\n",
       "    <tr>\n",
       "      <th>Forever 21</th>\n",
       "      <td>30000.0</td>\n",
       "      <td>0.057333</td>\n",
       "      <td>0.300082</td>\n",
       "      <td>0.0</td>\n",
       "      <td>0.00</td>\n",
       "      <td>0.0</td>\n",
       "      <td>0.00</td>\n",
       "      <td>8.0</td>\n",
       "    </tr>\n",
       "    <tr>\n",
       "      <th>Colavita</th>\n",
       "      <td>30000.0</td>\n",
       "      <td>0.192200</td>\n",
       "      <td>0.641306</td>\n",
       "      <td>0.0</td>\n",
       "      <td>0.00</td>\n",
       "      <td>0.0</td>\n",
       "      <td>0.00</td>\n",
       "      <td>22.0</td>\n",
       "    </tr>\n",
       "    <tr>\n",
       "      <th>Microsoft</th>\n",
       "      <td>30000.0</td>\n",
       "      <td>0.116367</td>\n",
       "      <td>0.446578</td>\n",
       "      <td>0.0</td>\n",
       "      <td>0.00</td>\n",
       "      <td>0.0</td>\n",
       "      <td>0.00</td>\n",
       "      <td>14.0</td>\n",
       "    </tr>\n",
       "    <tr>\n",
       "      <th>Jiffy mix</th>\n",
       "      <td>30000.0</td>\n",
       "      <td>0.088033</td>\n",
       "      <td>0.399277</td>\n",
       "      <td>0.0</td>\n",
       "      <td>0.00</td>\n",
       "      <td>0.0</td>\n",
       "      <td>0.00</td>\n",
       "      <td>8.0</td>\n",
       "    </tr>\n",
       "    <tr>\n",
       "      <th>Kraft</th>\n",
       "      <td>30000.0</td>\n",
       "      <td>0.070900</td>\n",
       "      <td>0.387915</td>\n",
       "      <td>0.0</td>\n",
       "      <td>0.00</td>\n",
       "      <td>0.0</td>\n",
       "      <td>0.00</td>\n",
       "      <td>16.0</td>\n",
       "    </tr>\n",
       "  </tbody>\n",
       "</table>\n",
       "</div>"
      ],
      "text/plain": [
       "                          count          mean          std  min      25%  \\\n",
       "Cust_ID                 30000.0  15000.500000  8660.398374  1.0  7500.75   \n",
       "Orders                  30000.0      4.169800     3.590311  0.0     1.00   \n",
       "Jordan                  30000.0      0.267433     0.804778  0.0     0.00   \n",
       "Gatorade                30000.0      0.252333     0.705368  0.0     0.00   \n",
       "Samsung                 30000.0      0.222933     0.917494  0.0     0.00   \n",
       "Asus                    30000.0      0.161333     0.740038  0.0     0.00   \n",
       "Udis                    30000.0      0.143533     0.641258  0.0     0.00   \n",
       "Mondelez International  30000.0      0.139767     0.525840  0.0     0.00   \n",
       "Wrangler                30000.0      0.106933     0.515921  0.0     0.00   \n",
       "Vans                    30000.0      0.111433     0.547990  0.0     0.00   \n",
       "Fila                    30000.0      0.094267     0.531592  0.0     0.00   \n",
       "Brooks                  30000.0      0.140133     0.471278  0.0     0.00   \n",
       "H&M                     30000.0      0.328200     0.807655  0.0     0.00   \n",
       "Dairy Queen             30000.0      0.209333     1.116820  0.0     0.00   \n",
       "Fendi                   30000.0      0.141467     0.529210  0.0     0.00   \n",
       "Hewlett Packard         30000.0      0.161100     0.604835  0.0     0.00   \n",
       "Pladis                  30000.0      0.106100     0.516512  0.0     0.00   \n",
       "Asics                   30000.0      0.300233     1.119167  0.0     0.00   \n",
       "Siemens                 30000.0      0.048067     0.338763  0.0     0.00   \n",
       "J.M. Smucker            30000.0      0.754800     1.262166  0.0     0.00   \n",
       "Pop Chips               30000.0      0.247900     0.724106  0.0     0.00   \n",
       "Juniper                 30000.0      0.470833     1.346159  0.0     0.00   \n",
       "Huawei                  30000.0      0.258000     0.848288  0.0     0.00   \n",
       "Compaq                  30000.0      0.118767     0.597612  0.0     0.00   \n",
       "IBM                     30000.0      0.031967     0.264475  0.0     0.00   \n",
       "Burberry                30000.0      0.428033     1.098876  0.0     0.00   \n",
       "Mi                      30000.0      0.121333     0.478977  0.0     0.00   \n",
       "LG                      30000.0      0.102533     0.486376  0.0     0.00   \n",
       "Dior                    30000.0      0.271133     0.714682  0.0     0.00   \n",
       "Scabal                  30000.0      0.370067     0.758465  0.0     0.00   \n",
       "Tommy Hilfiger          30000.0      0.158967     0.510527  0.0     0.00   \n",
       "Hollister               30000.0      0.077667     0.383370  0.0     0.00   \n",
       "Forever 21              30000.0      0.057333     0.300082  0.0     0.00   \n",
       "Colavita                30000.0      0.192200     0.641306  0.0     0.00   \n",
       "Microsoft               30000.0      0.116367     0.446578  0.0     0.00   \n",
       "Jiffy mix               30000.0      0.088033     0.399277  0.0     0.00   \n",
       "Kraft                   30000.0      0.070900     0.387915  0.0     0.00   \n",
       "\n",
       "                            50%       75%      max  \n",
       "Cust_ID                 15000.5  22500.25  30000.0  \n",
       "Orders                      4.0      7.00     12.0  \n",
       "Jordan                      0.0      0.00     24.0  \n",
       "Gatorade                    0.0      0.00     15.0  \n",
       "Samsung                     0.0      0.00     27.0  \n",
       "Asus                        0.0      0.00     17.0  \n",
       "Udis                        0.0      0.00     14.0  \n",
       "Mondelez International      0.0      0.00     31.0  \n",
       "Wrangler                    0.0      0.00      9.0  \n",
       "Vans                        0.0      0.00     16.0  \n",
       "Fila                        0.0      0.00     15.0  \n",
       "Brooks                      0.0      0.00     12.0  \n",
       "H&M                         0.0      0.00     18.0  \n",
       "Dairy Queen                 0.0      0.00    114.0  \n",
       "Fendi                       0.0      0.00     18.0  \n",
       "Hewlett Packard             0.0      0.00     10.0  \n",
       "Pladis                      0.0      0.00     26.0  \n",
       "Asics                       0.0      0.00     66.0  \n",
       "Siemens                     0.0      0.00     11.0  \n",
       "J.M. Smucker                0.0      1.00     64.0  \n",
       "Pop Chips                   0.0      0.00     21.0  \n",
       "Juniper                     0.0      1.00     79.0  \n",
       "Huawei                      0.0      0.00     44.0  \n",
       "Compaq                      0.0      0.00     30.0  \n",
       "IBM                         0.0      0.00     11.0  \n",
       "Burberry                    0.0      0.00     37.0  \n",
       "Mi                          0.0      0.00      9.0  \n",
       "LG                          0.0      0.00     19.0  \n",
       "Dior                        0.0      0.00     12.0  \n",
       "Scabal                      0.0      1.00     11.0  \n",
       "Tommy Hilfiger              0.0      0.00      8.0  \n",
       "Hollister                   0.0      0.00      9.0  \n",
       "Forever 21                  0.0      0.00      8.0  \n",
       "Colavita                    0.0      0.00     22.0  \n",
       "Microsoft                   0.0      0.00     14.0  \n",
       "Jiffy mix                   0.0      0.00      8.0  \n",
       "Kraft                       0.0      0.00     16.0  "
      ]
     },
     "execution_count": 9,
     "metadata": {},
     "output_type": "execute_result"
    }
   ],
   "source": [
    "df.describe().T"
   ]
  },
  {
   "cell_type": "code",
   "execution_count": 10,
   "metadata": {},
   "outputs": [
    {
     "data": {
      "text/plain": [
       "(30000, 38)"
      ]
     },
     "execution_count": 10,
     "metadata": {},
     "output_type": "execute_result"
    }
   ],
   "source": [
    "df.shape"
   ]
  },
  {
   "cell_type": "code",
   "execution_count": 11,
   "metadata": {},
   "outputs": [
    {
     "data": {
      "text/plain": [
       "Cust_ID                      0\n",
       "Gender                    2724\n",
       "Orders                       0\n",
       "Jordan                       0\n",
       "Gatorade                     0\n",
       "Samsung                      0\n",
       "Asus                         0\n",
       "Udis                         0\n",
       "Mondelez International       0\n",
       "Wrangler                     0\n",
       "Vans                         0\n",
       "Fila                         0\n",
       "Brooks                       0\n",
       "H&M                          0\n",
       "Dairy Queen                  0\n",
       "Fendi                        0\n",
       "Hewlett Packard              0\n",
       "Pladis                       0\n",
       "Asics                        0\n",
       "Siemens                      0\n",
       "J.M. Smucker                 0\n",
       "Pop Chips                    0\n",
       "Juniper                      0\n",
       "Huawei                       0\n",
       "Compaq                       0\n",
       "IBM                          0\n",
       "Burberry                     0\n",
       "Mi                           0\n",
       "LG                           0\n",
       "Dior                         0\n",
       "Scabal                       0\n",
       "Tommy Hilfiger               0\n",
       "Hollister                    0\n",
       "Forever 21                   0\n",
       "Colavita                     0\n",
       "Microsoft                    0\n",
       "Jiffy mix                    0\n",
       "Kraft                        0\n",
       "dtype: int64"
      ]
     },
     "execution_count": 11,
     "metadata": {},
     "output_type": "execute_result"
    }
   ],
   "source": [
    "df.isnull().sum()"
   ]
  },
  {
   "cell_type": "markdown",
   "metadata": {},
   "source": [
    "# Exploratory Data Analysis (EDA)"
   ]
  },
  {
   "cell_type": "markdown",
   "metadata": {},
   "source": [
    "### Important functions"
   ]
  },
  {
   "cell_type": "code",
   "execution_count": 12,
   "metadata": {},
   "outputs": [],
   "source": [
    "def find_proportion(col, data):\n",
    "    for ind, i in enumerate(df[col].value_counts().index):\n",
    "        print(f'Proportion of {i}: ',round(df[col].value_counts().iloc[ind]/len(data[col]), 4) * 100, '%')"
   ]
  },
  {
   "cell_type": "code",
   "execution_count": 13,
   "metadata": {},
   "outputs": [],
   "source": [
    "zero = {}"
   ]
  },
  {
   "cell_type": "code",
   "execution_count": 14,
   "metadata": {
    "scrolled": true
   },
   "outputs": [
    {
     "data": {
      "text/plain": [
       "Index(['Cust_ID', 'Gender', 'Orders', 'Jordan', 'Gatorade', 'Samsung', 'Asus',\n",
       "       'Udis', 'Mondelez International', 'Wrangler', 'Vans', 'Fila', 'Brooks',\n",
       "       'H&M', 'Dairy Queen', 'Fendi', 'Hewlett Packard', 'Pladis', 'Asics',\n",
       "       'Siemens', 'J.M. Smucker', 'Pop Chips', 'Juniper', 'Huawei', 'Compaq',\n",
       "       'IBM', 'Burberry', 'Mi', 'LG', 'Dior', 'Scabal', 'Tommy Hilfiger',\n",
       "       'Hollister', 'Forever 21', 'Colavita', 'Microsoft', 'Jiffy mix',\n",
       "       'Kraft'],\n",
       "      dtype='object')"
      ]
     },
     "execution_count": 14,
     "metadata": {},
     "output_type": "execute_result"
    }
   ],
   "source": [
    "df.columns"
   ]
  },
  {
   "cell_type": "markdown",
   "metadata": {},
   "source": [
    "#### Gender"
   ]
  },
  {
   "cell_type": "code",
   "execution_count": 15,
   "metadata": {},
   "outputs": [
    {
     "data": {
      "text/plain": [
       "0      M\n",
       "1      F\n",
       "2      M\n",
       "3      F\n",
       "4    NaN\n",
       "Name: Gender, dtype: object"
      ]
     },
     "execution_count": 15,
     "metadata": {},
     "output_type": "execute_result"
    }
   ],
   "source": [
    "df.Gender.head()"
   ]
  },
  {
   "cell_type": "code",
   "execution_count": 16,
   "metadata": {},
   "outputs": [
    {
     "data": {
      "text/plain": [
       "F    22054\n",
       "M     5222\n",
       "Name: Gender, dtype: int64"
      ]
     },
     "execution_count": 16,
     "metadata": {},
     "output_type": "execute_result"
    }
   ],
   "source": [
    "df.Gender.value_counts()"
   ]
  },
  {
   "cell_type": "code",
   "execution_count": 17,
   "metadata": {},
   "outputs": [
    {
     "data": {
      "text/plain": [
       "<AxesSubplot:xlabel='Gender', ylabel='count'>"
      ]
     },
     "execution_count": 17,
     "metadata": {},
     "output_type": "execute_result"
    },
    {
     "data": {
      "image/png": "[encoded data removed]",
      "text/plain": [
       "<Figure size 432x288 with 1 Axes>"
      ]
     },
     "metadata": {
      "needs_background": "light"
     },
     "output_type": "display_data"
    }
   ],
   "source": [
    "sns.countplot(df.Gender)"
   ]
  },
  {
   "cell_type": "code",
   "execution_count": 18,
   "metadata": {},
   "outputs": [],
   "source": [
    "# Most of the customers are females"
   ]
  },
  {
   "cell_type": "code",
   "execution_count": 19,
   "metadata": {},
   "outputs": [
    {
     "name": "stdout",
     "output_type": "stream",
     "text": [
      "Proportion of F:  73.50999999999999 %\n",
      "Proportion of M:  17.41 %\n"
     ]
    }
   ],
   "source": [
    "find_proportion('Gender', df)"
   ]
  },
  {
   "cell_type": "code",
   "execution_count": 20,
   "metadata": {},
   "outputs": [
    {
     "data": {
      "text/plain": [
       "<AxesSubplot:xlabel='Gender', ylabel='Orders'>"
      ]
     },
     "execution_count": 20,
     "metadata": {},
     "output_type": "execute_result"
    },
    {
     "data": {
      "image/png": "[encoded data removed]",
      "text/plain": [
       "<Figure size 432x288 with 1 Axes>"
      ]
     },
     "metadata": {
      "needs_background": "light"
     },
     "output_type": "display_data"
    }
   ],
   "source": [
    "sns.boxplot(df.Gender, df.Orders)"
   ]
  },
  {
   "cell_type": "code",
   "execution_count": 21,
   "metadata": {},
   "outputs": [
    {
     "data": {
      "text/plain": [
       "Gender\n",
       "F    4.231115\n",
       "M    4.301800\n",
       "Name: Orders, dtype: float64"
      ]
     },
     "execution_count": 21,
     "metadata": {},
     "output_type": "execute_result"
    }
   ],
   "source": [
    "df.groupby('Gender').mean()['Orders']"
   ]
  },
  {
   "cell_type": "code",
   "execution_count": 22,
   "metadata": {},
   "outputs": [],
   "source": [
    "# Both Male and Female customers ordered on an average 4 products in the past."
   ]
  },
  {
   "cell_type": "code",
   "execution_count": 23,
   "metadata": {},
   "outputs": [
    {
     "data": {
      "text/plain": [
       "Gender\n",
       "F    12\n",
       "M    12\n",
       "Name: Orders, dtype: int64"
      ]
     },
     "execution_count": 23,
     "metadata": {},
     "output_type": "execute_result"
    }
   ],
   "source": [
    "df.groupby('Gender').max()['Orders']"
   ]
  },
  {
   "cell_type": "code",
   "execution_count": 24,
   "metadata": {},
   "outputs": [],
   "source": [
    "# The maximum orders placed by both Male and Female customers is 12"
   ]
  },
  {
   "cell_type": "code",
   "execution_count": 25,
   "metadata": {},
   "outputs": [
    {
     "data": {
      "text/plain": [
       "Gender\n",
       "F    0\n",
       "M    0\n",
       "Name: Orders, dtype: int64"
      ]
     },
     "execution_count": 25,
     "metadata": {},
     "output_type": "execute_result"
    }
   ],
   "source": [
    "df.groupby('Gender').min()['Orders']"
   ]
  },
  {
   "cell_type": "code",
   "execution_count": 26,
   "metadata": {},
   "outputs": [],
   "source": [
    "# The minimum orders placed by both Male and Female customers is 0"
   ]
  },
  {
   "cell_type": "markdown",
   "metadata": {},
   "source": [
    "#### Orders"
   ]
  },
  {
   "cell_type": "code",
   "execution_count": 27,
   "metadata": {},
   "outputs": [
    {
     "data": {
      "text/plain": [
       "0     7\n",
       "1     0\n",
       "2     7\n",
       "3     0\n",
       "4    10\n",
       "Name: Orders, dtype: int64"
      ]
     },
     "execution_count": 27,
     "metadata": {},
     "output_type": "execute_result"
    }
   ],
   "source": [
    "df.Orders.head()"
   ]
  },
  {
   "cell_type": "code",
   "execution_count": 28,
   "metadata": {},
   "outputs": [
    {
     "data": {
      "text/plain": [
       "0     7294\n",
       "1     2716\n",
       "2     2422\n",
       "7     2207\n",
       "3     2199\n",
       "4     2192\n",
       "8     2080\n",
       "6     2039\n",
       "5     2010\n",
       "9     1993\n",
       "10    1938\n",
       "12     469\n",
       "11     441\n",
       "Name: Orders, dtype: int64"
      ]
     },
     "execution_count": 28,
     "metadata": {},
     "output_type": "execute_result"
    }
   ],
   "source": [
    "df.Orders.value_counts()"
   ]
  },
  {
   "cell_type": "code",
   "execution_count": 29,
   "metadata": {},
   "outputs": [],
   "source": [
    "# The number of total orders ranges from 0 to 12."
   ]
  },
  {
   "cell_type": "code",
   "execution_count": 30,
   "metadata": {},
   "outputs": [
    {
     "data": {
      "text/plain": [
       "<AxesSubplot:xlabel='Orders', ylabel='count'>"
      ]
     },
     "execution_count": 30,
     "metadata": {},
     "output_type": "execute_result"
    },
    {
     "data": {
      "image/png": "[encoded data removed]",
      "text/plain": [
       "<Figure size 648x360 with 1 Axes>"
      ]
     },
     "metadata": {
      "needs_background": "light"
     },
     "output_type": "display_data"
    }
   ],
   "source": [
    "plt.figure(figsize=(9,5))\n",
    "sns.countplot(df.Orders)"
   ]
  },
  {
   "cell_type": "code",
   "execution_count": 31,
   "metadata": {},
   "outputs": [
    {
     "data": {
      "text/plain": [
       "Text(0, 0.5, 'Counts')"
      ]
     },
     "execution_count": 31,
     "metadata": {},
     "output_type": "execute_result"
    },
    {
     "data": {
      "image/png": "[encoded data removed]",
      "text/plain": [
       "<Figure size 432x288 with 1 Axes>"
      ]
     },
     "metadata": {
      "needs_background": "light"
     },
     "output_type": "display_data"
    }
   ],
   "source": [
    "df.Orders.value_counts().plot(kind='line')\n",
    "plt.xlabel('Orders')\n",
    "plt.ylabel('Counts')"
   ]
  },
  {
   "cell_type": "code",
   "execution_count": 32,
   "metadata": {},
   "outputs": [],
   "source": [
    "# Most of the orders are from 0 category, which means most customers did not order any products in the past.\n",
    "\n",
    "# As the number of products increases, the number of customers who bought it decreases."
   ]
  },
  {
   "cell_type": "code",
   "execution_count": 33,
   "metadata": {},
   "outputs": [
    {
     "data": {
      "text/plain": [
       "F    661\n",
       "M    185\n",
       "Name: Gender, dtype: int64"
      ]
     },
     "execution_count": 33,
     "metadata": {},
     "output_type": "execute_result"
    }
   ],
   "source": [
    "df[df.Orders>10].Gender.value_counts()"
   ]
  },
  {
   "cell_type": "code",
   "execution_count": 34,
   "metadata": {},
   "outputs": [],
   "source": [
    "# The number of customers who bought more than 10 orders are also dominated by Females."
   ]
  },
  {
   "cell_type": "code",
   "execution_count": 35,
   "metadata": {},
   "outputs": [
    {
     "data": {
      "text/plain": [
       "<AxesSubplot:xlabel='Orders'>"
      ]
     },
     "execution_count": 35,
     "metadata": {},
     "output_type": "execute_result"
    },
    {
     "data": {
      "image/png": "[encoded data removed]",
      "text/plain": [
       "<Figure size 432x288 with 1 Axes>"
      ]
     },
     "metadata": {
      "needs_background": "light"
     },
     "output_type": "display_data"
    }
   ],
   "source": [
    "sns.distplot(df.Orders)"
   ]
  },
  {
   "cell_type": "code",
   "execution_count": 36,
   "metadata": {},
   "outputs": [
    {
     "data": {
      "text/plain": [
       "0     7294\n",
       "1     2716\n",
       "2     2422\n",
       "7     2207\n",
       "3     2199\n",
       "4     2192\n",
       "8     2080\n",
       "6     2039\n",
       "5     2010\n",
       "9     1993\n",
       "10    1938\n",
       "12     469\n",
       "11     441\n",
       "Name: Orders, dtype: int64"
      ]
     },
     "execution_count": 36,
     "metadata": {},
     "output_type": "execute_result"
    }
   ],
   "source": [
    "df.Orders.value_counts()"
   ]
  },
  {
   "cell_type": "code",
   "execution_count": 37,
   "metadata": {},
   "outputs": [],
   "source": [
    "df['Order_cat'] = df['Orders']"
   ]
  },
  {
   "cell_type": "code",
   "execution_count": 38,
   "metadata": {},
   "outputs": [
    {
     "data": {
      "text/plain": [
       "array([ 7,  0, 10,  4,  6,  9,  1,  8,  5,  3,  2, 11, 12], dtype=int64)"
      ]
     },
     "execution_count": 38,
     "metadata": {},
     "output_type": "execute_result"
    }
   ],
   "source": [
    "df.Order_cat.unique()"
   ]
  },
  {
   "cell_type": "code",
   "execution_count": 39,
   "metadata": {},
   "outputs": [],
   "source": [
    "# Lets create a new column from Orders column based on the number of orders a customer made.\n",
    "\n",
    "df = df.replace({'Order_cat': {\n",
    "    0 : '0 order',\n",
    "    1 : '1 to 6 orders',\n",
    "    2 : '1 to 6 orders',\n",
    "    3 : '1 to 6 orders',\n",
    "    4 : '1 to 6 orders',\n",
    "    5 : '1 to 6 orders',\n",
    "    6 : '1 to 6 orders',\n",
    "    7 : '7 to 12 orders',\n",
    "    8 : '7 to 12 orders',\n",
    "    9 : '7 to 12 orders',\n",
    "    10 : '7 to 12 orders',\n",
    "    11 : '7 to 12 orders',\n",
    "    12 : '7 to 12 orders'\n",
    "}})"
   ]
  },
  {
   "cell_type": "code",
   "execution_count": 40,
   "metadata": {},
   "outputs": [
    {
     "data": {
      "text/plain": [
       "1 to 6 orders     13578\n",
       "7 to 12 orders     9128\n",
       "0 order            7294\n",
       "Name: Order_cat, dtype: int64"
      ]
     },
     "execution_count": 40,
     "metadata": {},
     "output_type": "execute_result"
    }
   ],
   "source": [
    "df['Order_cat'].value_counts()"
   ]
  },
  {
   "cell_type": "code",
   "execution_count": 41,
   "metadata": {},
   "outputs": [
    {
     "data": {
      "text/html": [
       "<div>\n",
       "<style scoped>\n",
       "    .dataframe tbody tr th:only-of-type {\n",
       "        vertical-align: middle;\n",
       "    }\n",
       "\n",
       "    .dataframe tbody tr th {\n",
       "        vertical-align: top;\n",
       "    }\n",
       "\n",
       "    .dataframe thead th {\n",
       "        text-align: right;\n",
       "    }\n",
       "</style>\n",
       "<table border=\"1\" class=\"dataframe\">\n",
       "  <thead>\n",
       "    <tr style=\"text-align: right;\">\n",
       "      <th></th>\n",
       "      <th>Cust_ID</th>\n",
       "      <th>Gender</th>\n",
       "      <th>Orders</th>\n",
       "      <th>Jordan</th>\n",
       "      <th>Gatorade</th>\n",
       "      <th>Samsung</th>\n",
       "      <th>Asus</th>\n",
       "      <th>Udis</th>\n",
       "      <th>Mondelez International</th>\n",
       "      <th>Wrangler</th>\n",
       "      <th>Vans</th>\n",
       "      <th>Fila</th>\n",
       "      <th>Brooks</th>\n",
       "      <th>H&amp;M</th>\n",
       "      <th>Dairy Queen</th>\n",
       "      <th>Fendi</th>\n",
       "      <th>Hewlett Packard</th>\n",
       "      <th>Pladis</th>\n",
       "      <th>Asics</th>\n",
       "      <th>Siemens</th>\n",
       "      <th>J.M. Smucker</th>\n",
       "      <th>Pop Chips</th>\n",
       "      <th>Juniper</th>\n",
       "      <th>Huawei</th>\n",
       "      <th>Compaq</th>\n",
       "      <th>IBM</th>\n",
       "      <th>Burberry</th>\n",
       "      <th>Mi</th>\n",
       "      <th>LG</th>\n",
       "      <th>Dior</th>\n",
       "      <th>Scabal</th>\n",
       "      <th>Tommy Hilfiger</th>\n",
       "      <th>Hollister</th>\n",
       "      <th>Forever 21</th>\n",
       "      <th>Colavita</th>\n",
       "      <th>Microsoft</th>\n",
       "      <th>Jiffy mix</th>\n",
       "      <th>Kraft</th>\n",
       "      <th>Order_cat</th>\n",
       "    </tr>\n",
       "  </thead>\n",
       "  <tbody>\n",
       "    <tr>\n",
       "      <th>0</th>\n",
       "      <td>1</td>\n",
       "      <td>M</td>\n",
       "      <td>7</td>\n",
       "      <td>0</td>\n",
       "      <td>0</td>\n",
       "      <td>0</td>\n",
       "      <td>0</td>\n",
       "      <td>0</td>\n",
       "      <td>0</td>\n",
       "      <td>0</td>\n",
       "      <td>2</td>\n",
       "      <td>0</td>\n",
       "      <td>0</td>\n",
       "      <td>0</td>\n",
       "      <td>0</td>\n",
       "      <td>0</td>\n",
       "      <td>0</td>\n",
       "      <td>0</td>\n",
       "      <td>0</td>\n",
       "      <td>0</td>\n",
       "      <td>0</td>\n",
       "      <td>0</td>\n",
       "      <td>0</td>\n",
       "      <td>0</td>\n",
       "      <td>0</td>\n",
       "      <td>0</td>\n",
       "      <td>0</td>\n",
       "      <td>0</td>\n",
       "      <td>0</td>\n",
       "      <td>0</td>\n",
       "      <td>0</td>\n",
       "      <td>0</td>\n",
       "      <td>0</td>\n",
       "      <td>0</td>\n",
       "      <td>0</td>\n",
       "      <td>0</td>\n",
       "      <td>0</td>\n",
       "      <td>0</td>\n",
       "      <td>7 to 12 orders</td>\n",
       "    </tr>\n",
       "    <tr>\n",
       "      <th>1</th>\n",
       "      <td>2</td>\n",
       "      <td>F</td>\n",
       "      <td>0</td>\n",
       "      <td>0</td>\n",
       "      <td>1</td>\n",
       "      <td>0</td>\n",
       "      <td>0</td>\n",
       "      <td>0</td>\n",
       "      <td>0</td>\n",
       "      <td>0</td>\n",
       "      <td>0</td>\n",
       "      <td>0</td>\n",
       "      <td>0</td>\n",
       "      <td>1</td>\n",
       "      <td>0</td>\n",
       "      <td>0</td>\n",
       "      <td>0</td>\n",
       "      <td>0</td>\n",
       "      <td>0</td>\n",
       "      <td>0</td>\n",
       "      <td>2</td>\n",
       "      <td>2</td>\n",
       "      <td>1</td>\n",
       "      <td>0</td>\n",
       "      <td>0</td>\n",
       "      <td>0</td>\n",
       "      <td>6</td>\n",
       "      <td>4</td>\n",
       "      <td>0</td>\n",
       "      <td>1</td>\n",
       "      <td>0</td>\n",
       "      <td>0</td>\n",
       "      <td>0</td>\n",
       "      <td>0</td>\n",
       "      <td>0</td>\n",
       "      <td>0</td>\n",
       "      <td>0</td>\n",
       "      <td>0</td>\n",
       "      <td>0 order</td>\n",
       "    </tr>\n",
       "    <tr>\n",
       "      <th>2</th>\n",
       "      <td>3</td>\n",
       "      <td>M</td>\n",
       "      <td>7</td>\n",
       "      <td>0</td>\n",
       "      <td>1</td>\n",
       "      <td>0</td>\n",
       "      <td>0</td>\n",
       "      <td>0</td>\n",
       "      <td>0</td>\n",
       "      <td>0</td>\n",
       "      <td>0</td>\n",
       "      <td>0</td>\n",
       "      <td>0</td>\n",
       "      <td>0</td>\n",
       "      <td>0</td>\n",
       "      <td>0</td>\n",
       "      <td>0</td>\n",
       "      <td>0</td>\n",
       "      <td>2</td>\n",
       "      <td>0</td>\n",
       "      <td>1</td>\n",
       "      <td>0</td>\n",
       "      <td>0</td>\n",
       "      <td>0</td>\n",
       "      <td>0</td>\n",
       "      <td>0</td>\n",
       "      <td>0</td>\n",
       "      <td>0</td>\n",
       "      <td>0</td>\n",
       "      <td>0</td>\n",
       "      <td>0</td>\n",
       "      <td>0</td>\n",
       "      <td>0</td>\n",
       "      <td>0</td>\n",
       "      <td>0</td>\n",
       "      <td>1</td>\n",
       "      <td>0</td>\n",
       "      <td>0</td>\n",
       "      <td>7 to 12 orders</td>\n",
       "    </tr>\n",
       "    <tr>\n",
       "      <th>3</th>\n",
       "      <td>4</td>\n",
       "      <td>F</td>\n",
       "      <td>0</td>\n",
       "      <td>0</td>\n",
       "      <td>0</td>\n",
       "      <td>0</td>\n",
       "      <td>0</td>\n",
       "      <td>0</td>\n",
       "      <td>0</td>\n",
       "      <td>0</td>\n",
       "      <td>0</td>\n",
       "      <td>0</td>\n",
       "      <td>0</td>\n",
       "      <td>1</td>\n",
       "      <td>0</td>\n",
       "      <td>0</td>\n",
       "      <td>0</td>\n",
       "      <td>0</td>\n",
       "      <td>0</td>\n",
       "      <td>0</td>\n",
       "      <td>0</td>\n",
       "      <td>1</td>\n",
       "      <td>0</td>\n",
       "      <td>0</td>\n",
       "      <td>0</td>\n",
       "      <td>0</td>\n",
       "      <td>0</td>\n",
       "      <td>0</td>\n",
       "      <td>0</td>\n",
       "      <td>0</td>\n",
       "      <td>0</td>\n",
       "      <td>0</td>\n",
       "      <td>0</td>\n",
       "      <td>0</td>\n",
       "      <td>0</td>\n",
       "      <td>0</td>\n",
       "      <td>0</td>\n",
       "      <td>0</td>\n",
       "      <td>0 order</td>\n",
       "    </tr>\n",
       "    <tr>\n",
       "      <th>4</th>\n",
       "      <td>5</td>\n",
       "      <td>NaN</td>\n",
       "      <td>10</td>\n",
       "      <td>0</td>\n",
       "      <td>0</td>\n",
       "      <td>0</td>\n",
       "      <td>0</td>\n",
       "      <td>0</td>\n",
       "      <td>0</td>\n",
       "      <td>0</td>\n",
       "      <td>0</td>\n",
       "      <td>0</td>\n",
       "      <td>0</td>\n",
       "      <td>0</td>\n",
       "      <td>1</td>\n",
       "      <td>0</td>\n",
       "      <td>0</td>\n",
       "      <td>5</td>\n",
       "      <td>1</td>\n",
       "      <td>0</td>\n",
       "      <td>3</td>\n",
       "      <td>0</td>\n",
       "      <td>1</td>\n",
       "      <td>0</td>\n",
       "      <td>0</td>\n",
       "      <td>0</td>\n",
       "      <td>1</td>\n",
       "      <td>0</td>\n",
       "      <td>0</td>\n",
       "      <td>0</td>\n",
       "      <td>2</td>\n",
       "      <td>0</td>\n",
       "      <td>0</td>\n",
       "      <td>0</td>\n",
       "      <td>0</td>\n",
       "      <td>0</td>\n",
       "      <td>1</td>\n",
       "      <td>1</td>\n",
       "      <td>7 to 12 orders</td>\n",
       "    </tr>\n",
       "  </tbody>\n",
       "</table>\n",
       "</div>"
      ],
      "text/plain": [
       "   Cust_ID Gender  Orders  Jordan  Gatorade  Samsung  Asus  Udis  \\\n",
       "0        1      M       7       0         0        0     0     0   \n",
       "1        2      F       0       0         1        0     0     0   \n",
       "2        3      M       7       0         1        0     0     0   \n",
       "3        4      F       0       0         0        0     0     0   \n",
       "4        5    NaN      10       0         0        0     0     0   \n",
       "\n",
       "   Mondelez International  Wrangler  Vans  Fila  Brooks  H&M  Dairy Queen  \\\n",
       "0                       0         0     2     0       0    0            0   \n",
       "1                       0         0     0     0       0    1            0   \n",
       "2                       0         0     0     0       0    0            0   \n",
       "3                       0         0     0     0       0    1            0   \n",
       "4                       0         0     0     0       0    0            1   \n",
       "\n",
       "   Fendi  Hewlett Packard  Pladis  Asics  Siemens  J.M. Smucker  Pop Chips  \\\n",
       "0      0                0       0      0        0             0          0   \n",
       "1      0                0       0      0        0             2          2   \n",
       "2      0                0       0      2        0             1          0   \n",
       "3      0                0       0      0        0             0          1   \n",
       "4      0                0       5      1        0             3          0   \n",
       "\n",
       "   Juniper  Huawei  Compaq  IBM  Burberry  Mi  LG  Dior  Scabal  \\\n",
       "0        0       0       0    0         0   0   0     0       0   \n",
       "1        1       0       0    0         6   4   0     1       0   \n",
       "2        0       0       0    0         0   0   0     0       0   \n",
       "3        0       0       0    0         0   0   0     0       0   \n",
       "4        1       0       0    0         1   0   0     0       2   \n",
       "\n",
       "   Tommy Hilfiger  Hollister  Forever 21  Colavita  Microsoft  Jiffy mix  \\\n",
       "0               0          0           0         0          0          0   \n",
       "1               0          0           0         0          0          0   \n",
       "2               0          0           0         0          1          0   \n",
       "3               0          0           0         0          0          0   \n",
       "4               0          0           0         0          0          1   \n",
       "\n",
       "   Kraft       Order_cat  \n",
       "0      0  7 to 12 orders  \n",
       "1      0         0 order  \n",
       "2      0  7 to 12 orders  \n",
       "3      0         0 order  \n",
       "4      1  7 to 12 orders  "
      ]
     },
     "execution_count": 41,
     "metadata": {},
     "output_type": "execute_result"
    }
   ],
   "source": [
    "df.head()"
   ]
  },
  {
   "cell_type": "code",
   "execution_count": 42,
   "metadata": {},
   "outputs": [
    {
     "data": {
      "text/plain": [
       "(array([0, 1, 2]),\n",
       " [Text(0, 0, '7 to 12 orders'),\n",
       "  Text(1, 0, '0 order'),\n",
       "  Text(2, 0, '1 to 6 orders')])"
      ]
     },
     "execution_count": 42,
     "metadata": {},
     "output_type": "execute_result"
    },
    {
     "data": {
      "image/png": "[encoded data removed]",
      "text/plain": [
       "<Figure size 432x288 with 1 Axes>"
      ]
     },
     "metadata": {
      "needs_background": "light"
     },
     "output_type": "display_data"
    }
   ],
   "source": [
    "sns.countplot(df.Order_cat)\n",
    "plt.xticks(rotation=30)"
   ]
  },
  {
   "cell_type": "markdown",
   "metadata": {},
   "source": [
    "#### Jordan"
   ]
  },
  {
   "cell_type": "code",
   "execution_count": 43,
   "metadata": {},
   "outputs": [
    {
     "data": {
      "text/plain": [
       "0    0\n",
       "1    0\n",
       "2    0\n",
       "3    0\n",
       "4    0\n",
       "Name: Jordan, dtype: int64"
      ]
     },
     "execution_count": 43,
     "metadata": {},
     "output_type": "execute_result"
    }
   ],
   "source": [
    "df.Jordan.head()"
   ]
  },
  {
   "cell_type": "code",
   "execution_count": 44,
   "metadata": {},
   "outputs": [
    {
     "data": {
      "text/plain": [
       "0     25188\n",
       "1      3099\n",
       "2       996\n",
       "3       371\n",
       "4       166\n",
       "5        86\n",
       "6        41\n",
       "7        19\n",
       "8        12\n",
       "9         8\n",
       "10        5\n",
       "11        3\n",
       "12        3\n",
       "22        1\n",
       "24        1\n",
       "13        1\n",
       "Name: Jordan, dtype: int64"
      ]
     },
     "execution_count": 44,
     "metadata": {},
     "output_type": "execute_result"
    }
   ],
   "source": [
    "df.Jordan.value_counts()"
   ]
  },
  {
   "cell_type": "code",
   "execution_count": 45,
   "metadata": {},
   "outputs": [
    {
     "name": "stdout",
     "output_type": "stream",
     "text": [
      "Out of 30000 customers, 4812 of them searched Jordan\n"
     ]
    }
   ],
   "source": [
    "print(f'Out of {len(df)} customers, {len(df[df.Jordan>0])} of them searched Jordan')"
   ]
  },
  {
   "cell_type": "code",
   "execution_count": 46,
   "metadata": {},
   "outputs": [
    {
     "data": {
      "text/plain": [
       "<AxesSubplot:xlabel='Jordan', ylabel='count'>"
      ]
     },
     "execution_count": 46,
     "metadata": {},
     "output_type": "execute_result"
    },
    {
     "data": {
      "image/png": "[encoded data removed]",
      "text/plain": [
       "<Figure size 432x288 with 1 Axes>"
      ]
     },
     "metadata": {
      "needs_background": "light"
     },
     "output_type": "display_data"
    }
   ],
   "source": [
    "sns.countplot(df[df.Jordan>0].Jordan)"
   ]
  },
  {
   "cell_type": "code",
   "execution_count": 47,
   "metadata": {},
   "outputs": [
    {
     "data": {
      "text/plain": [
       "Gender\n",
       "F    1.674894\n",
       "M    1.643071\n",
       "Name: Jordan, dtype: float64"
      ]
     },
     "execution_count": 47,
     "metadata": {},
     "output_type": "execute_result"
    }
   ],
   "source": [
    "df[df.Jordan>0].groupby('Gender').mean()['Jordan']"
   ]
  },
  {
   "cell_type": "code",
   "execution_count": 48,
   "metadata": {},
   "outputs": [],
   "source": [
    "# On an average Male and Female customers searched 1.6 (1-2) times the products of Jordan"
   ]
  },
  {
   "cell_type": "code",
   "execution_count": 49,
   "metadata": {},
   "outputs": [
    {
     "data": {
      "text/plain": [
       "array([   97,   195,   524,  5414,  8448,  8512,  8738, 15502, 15790,\n",
       "       17984, 18236, 22990, 25803, 28100], dtype=int64)"
      ]
     },
     "execution_count": 49,
     "metadata": {},
     "output_type": "execute_result"
    }
   ],
   "source": [
    "# Customers who searched more than or equal to 10 Jordan products are: \n",
    "\n",
    "df[df.Jordan>9].Cust_ID.values"
   ]
  },
  {
   "cell_type": "code",
   "execution_count": 50,
   "metadata": {},
   "outputs": [
    {
     "data": {
      "text/plain": [
       "Order_cat\n",
       "0 order            7294\n",
       "1 to 6 orders     13578\n",
       "7 to 12 orders     9128\n",
       "Name: Jordan, dtype: int64"
      ]
     },
     "execution_count": 50,
     "metadata": {},
     "output_type": "execute_result"
    }
   ],
   "source": [
    "df.groupby('Order_cat').count()['Jordan']"
   ]
  },
  {
   "cell_type": "code",
   "execution_count": 51,
   "metadata": {},
   "outputs": [],
   "source": [
    "# Customers who previously havent ordered any products have serched Jordan 7,294 times\n",
    "# Customers who previously ordered 1 to 6 products have searched Jordan 13,578 times\n",
    "# And customers who previously orderd 7 to 12 products have searched Jordan 9,128 times"
   ]
  },
  {
   "cell_type": "code",
   "execution_count": 52,
   "metadata": {},
   "outputs": [
    {
     "data": {
      "text/plain": [
       "Cust_ID                            8512\n",
       "Gender                                F\n",
       "Orders                                3\n",
       "Jordan                               24\n",
       "Gatorade                              0\n",
       "Samsung                               0\n",
       "Asus                                  0\n",
       "Udis                                  0\n",
       "Mondelez International                0\n",
       "Wrangler                              0\n",
       "Vans                                  0\n",
       "Fila                                  0\n",
       "Brooks                                0\n",
       "H&M                                   0\n",
       "Dairy Queen                           0\n",
       "Fendi                                 0\n",
       "Hewlett Packard                       0\n",
       "Pladis                                0\n",
       "Asics                                 1\n",
       "Siemens                               0\n",
       "J.M. Smucker                          0\n",
       "Pop Chips                             0\n",
       "Juniper                               0\n",
       "Huawei                                0\n",
       "Compaq                                0\n",
       "IBM                                   0\n",
       "Burberry                              0\n",
       "Mi                                    0\n",
       "LG                                    0\n",
       "Dior                                  0\n",
       "Scabal                                3\n",
       "Tommy Hilfiger                        0\n",
       "Hollister                             0\n",
       "Forever 21                            0\n",
       "Colavita                              0\n",
       "Microsoft                             0\n",
       "Jiffy mix                             0\n",
       "Kraft                                 0\n",
       "Order_cat                 1 to 6 orders\n",
       "Name: 8511, dtype: object"
      ]
     },
     "execution_count": 52,
     "metadata": {},
     "output_type": "execute_result"
    }
   ],
   "source": [
    "# The customer(s) who searched for Jordan the most is\n",
    "\n",
    "df.iloc[df.Jordan.argmax()]"
   ]
  },
  {
   "cell_type": "code",
   "execution_count": 53,
   "metadata": {},
   "outputs": [],
   "source": [
    "# Customer 8512 searched for Jordan 24 times and she previously ordered 3 items."
   ]
  },
  {
   "cell_type": "code",
   "execution_count": 54,
   "metadata": {},
   "outputs": [
    {
     "name": "stdout",
     "output_type": "stream",
     "text": [
      "Proportion of 0:  83.96000000000001 %\n",
      "Proportion of 1:  10.33 %\n",
      "Proportion of 2:  3.32 %\n",
      "Proportion of 3:  1.24 %\n",
      "Proportion of 4:  0.5499999999999999 %\n",
      "Proportion of 5:  0.29 %\n",
      "Proportion of 6:  0.13999999999999999 %\n",
      "Proportion of 7:  0.06 %\n",
      "Proportion of 8:  0.04 %\n",
      "Proportion of 9:  0.03 %\n",
      "Proportion of 10:  0.02 %\n",
      "Proportion of 11:  0.01 %\n",
      "Proportion of 12:  0.01 %\n",
      "Proportion of 22:  0.0 %\n",
      "Proportion of 24:  0.0 %\n",
      "Proportion of 13:  0.0 %\n"
     ]
    }
   ],
   "source": [
    "find_proportion('Jordan', df)"
   ]
  },
  {
   "cell_type": "code",
   "execution_count": 55,
   "metadata": {},
   "outputs": [],
   "source": [
    "# 83.96% of customers haven't searched for the products of Jordan"
   ]
  },
  {
   "cell_type": "code",
   "execution_count": 56,
   "metadata": {},
   "outputs": [],
   "source": [
    "zero['Jordan'] = 83.96"
   ]
  },
  {
   "cell_type": "markdown",
   "metadata": {},
   "source": [
    "#### Gatorade"
   ]
  },
  {
   "cell_type": "code",
   "execution_count": 57,
   "metadata": {},
   "outputs": [
    {
     "data": {
      "text/plain": [
       "0     25050\n",
       "1      3390\n",
       "2       971\n",
       "3       353\n",
       "4       123\n",
       "5        51\n",
       "6        28\n",
       "7        22\n",
       "8         7\n",
       "9         2\n",
       "10        1\n",
       "11        1\n",
       "15        1\n",
       "Name: Gatorade, dtype: int64"
      ]
     },
     "execution_count": 57,
     "metadata": {},
     "output_type": "execute_result"
    }
   ],
   "source": [
    "df.Gatorade.value_counts()"
   ]
  },
  {
   "cell_type": "code",
   "execution_count": 58,
   "metadata": {},
   "outputs": [
    {
     "data": {
      "text/plain": [
       "<AxesSubplot:xlabel='Gatorade', ylabel='count'>"
      ]
     },
     "execution_count": 58,
     "metadata": {},
     "output_type": "execute_result"
    },
    {
     "data": {
      "image/png": "[encoded data removed]",
      "text/plain": [
       "<Figure size 432x288 with 1 Axes>"
      ]
     },
     "metadata": {
      "needs_background": "light"
     },
     "output_type": "display_data"
    }
   ],
   "source": [
    "sns.countplot(df.Gatorade)"
   ]
  },
  {
   "cell_type": "code",
   "execution_count": 59,
   "metadata": {},
   "outputs": [
    {
     "data": {
      "text/plain": [
       "Gender\n",
       "F    1.422340\n",
       "M    1.822568\n",
       "Name: Gatorade, dtype: float64"
      ]
     },
     "execution_count": 59,
     "metadata": {},
     "output_type": "execute_result"
    }
   ],
   "source": [
    "# Lets see if Male customers or Female customers prefer Gatorade\n",
    "\n",
    "df[df.Gatorade>0].groupby('Gender').mean()['Gatorade']"
   ]
  },
  {
   "cell_type": "code",
   "execution_count": 60,
   "metadata": {},
   "outputs": [],
   "source": [
    "# On an average Male customers searched 1.8 (close to 2) times and female customers searched 1.4 times the products of Gatorade."
   ]
  },
  {
   "cell_type": "code",
   "execution_count": 61,
   "metadata": {},
   "outputs": [
    {
     "data": {
      "text/plain": [
       "Order_cat\n",
       "0 order           0.199616\n",
       "1 to 6 orders     0.266534\n",
       "7 to 12 orders    0.273335\n",
       "Name: Gatorade, dtype: float64"
      ]
     },
     "execution_count": 61,
     "metadata": {},
     "output_type": "execute_result"
    }
   ],
   "source": [
    "df.groupby('Order_cat').mean()['Gatorade']"
   ]
  },
  {
   "cell_type": "code",
   "execution_count": 62,
   "metadata": {},
   "outputs": [
    {
     "name": "stdout",
     "output_type": "stream",
     "text": [
      "Proportion of 0:  83.5 %\n",
      "Proportion of 1:  11.3 %\n",
      "Proportion of 2:  3.2399999999999998 %\n",
      "Proportion of 3:  1.18 %\n",
      "Proportion of 4:  0.41000000000000003 %\n",
      "Proportion of 5:  0.16999999999999998 %\n",
      "Proportion of 6:  0.09 %\n",
      "Proportion of 7:  0.06999999999999999 %\n",
      "Proportion of 8:  0.02 %\n",
      "Proportion of 9:  0.01 %\n",
      "Proportion of 10:  0.0 %\n",
      "Proportion of 11:  0.0 %\n",
      "Proportion of 15:  0.0 %\n"
     ]
    }
   ],
   "source": [
    "find_proportion('Gatorade', df)"
   ]
  },
  {
   "cell_type": "code",
   "execution_count": 63,
   "metadata": {},
   "outputs": [],
   "source": [
    "zero['Gatorade'] = 83.5"
   ]
  },
  {
   "cell_type": "code",
   "execution_count": 64,
   "metadata": {},
   "outputs": [
    {
     "data": {
      "text/plain": [
       "<AxesSubplot:xlabel='Jordan', ylabel='Gatorade'>"
      ]
     },
     "execution_count": 64,
     "metadata": {},
     "output_type": "execute_result"
    },
    {
     "data": {
      "image/png": "[encoded data removed]",
      "text/plain": [
       "<Figure size 432x288 with 1 Axes>"
      ]
     },
     "metadata": {
      "needs_background": "light"
     },
     "output_type": "display_data"
    }
   ],
   "source": [
    "# Lets see the customers who searched or did not search Jordan and Gatorade\n",
    "\n",
    "sns.scatterplot(df.Jordan, df.Gatorade, hue=df.Order_cat)"
   ]
  },
  {
   "cell_type": "markdown",
   "metadata": {},
   "source": [
    "#### Samsung"
   ]
  },
  {
   "cell_type": "code",
   "execution_count": 65,
   "metadata": {},
   "outputs": [
    {
     "data": {
      "text/plain": [
       "0     26900\n",
       "1      1685\n",
       "2       635\n",
       "3       279\n",
       "4       191\n",
       "5       107\n",
       "6        77\n",
       "7        47\n",
       "8        33\n",
       "9        11\n",
       "10       11\n",
       "12        8\n",
       "11        7\n",
       "13        2\n",
       "14        2\n",
       "22        1\n",
       "16        1\n",
       "26        1\n",
       "27        1\n",
       "15        1\n",
       "Name: Samsung, dtype: int64"
      ]
     },
     "execution_count": 65,
     "metadata": {},
     "output_type": "execute_result"
    }
   ],
   "source": [
    "df.Samsung.value_counts()"
   ]
  },
  {
   "cell_type": "code",
   "execution_count": 66,
   "metadata": {},
   "outputs": [
    {
     "data": {
      "text/plain": [
       "<AxesSubplot:xlabel='Samsung', ylabel='count'>"
      ]
     },
     "execution_count": 66,
     "metadata": {},
     "output_type": "execute_result"
    },
    {
     "data": {
      "image/png": "[encoded data removed]",
      "text/plain": [
       "<Figure size 432x288 with 1 Axes>"
      ]
     },
     "metadata": {
      "needs_background": "light"
     },
     "output_type": "display_data"
    }
   ],
   "source": [
    "sns.countplot(df.Samsung)"
   ]
  },
  {
   "cell_type": "code",
   "execution_count": 67,
   "metadata": {},
   "outputs": [
    {
     "data": {
      "text/plain": [
       "Gender\n",
       "F    2.151643\n",
       "M    2.159449\n",
       "Name: Samsung, dtype: float64"
      ]
     },
     "execution_count": 67,
     "metadata": {},
     "output_type": "execute_result"
    }
   ],
   "source": [
    "df[df.Samsung>0].groupby('Gender').mean()['Samsung']"
   ]
  },
  {
   "cell_type": "code",
   "execution_count": 68,
   "metadata": {},
   "outputs": [],
   "source": [
    "# On an average both male and female customers searched 2.15 times the products from Samsung"
   ]
  },
  {
   "cell_type": "code",
   "execution_count": 69,
   "metadata": {},
   "outputs": [
    {
     "data": {
      "text/plain": [
       "Order_cat\n",
       "0 order           0.181930\n",
       "1 to 6 orders     0.238621\n",
       "7 to 12 orders    0.232362\n",
       "Name: Samsung, dtype: float64"
      ]
     },
     "execution_count": 69,
     "metadata": {},
     "output_type": "execute_result"
    }
   ],
   "source": [
    "df.groupby('Order_cat').mean()['Samsung']"
   ]
  },
  {
   "cell_type": "code",
   "execution_count": 70,
   "metadata": {},
   "outputs": [
    {
     "name": "stdout",
     "output_type": "stream",
     "text": [
      "Proportion of 0:  89.67 %\n",
      "Proportion of 1:  5.62 %\n",
      "Proportion of 2:  2.12 %\n",
      "Proportion of 3:  0.9299999999999999 %\n",
      "Proportion of 4:  0.64 %\n",
      "Proportion of 5:  0.36 %\n",
      "Proportion of 6:  0.26 %\n",
      "Proportion of 7:  0.16 %\n",
      "Proportion of 8:  0.11 %\n",
      "Proportion of 9:  0.04 %\n",
      "Proportion of 10:  0.04 %\n",
      "Proportion of 12:  0.03 %\n",
      "Proportion of 11:  0.02 %\n",
      "Proportion of 13:  0.01 %\n",
      "Proportion of 14:  0.01 %\n",
      "Proportion of 22:  0.0 %\n",
      "Proportion of 16:  0.0 %\n",
      "Proportion of 26:  0.0 %\n",
      "Proportion of 27:  0.0 %\n",
      "Proportion of 15:  0.0 %\n"
     ]
    }
   ],
   "source": [
    "find_proportion('Samsung', df)"
   ]
  },
  {
   "cell_type": "code",
   "execution_count": 71,
   "metadata": {},
   "outputs": [],
   "source": [
    "zero['Samsung'] = 89.67"
   ]
  },
  {
   "cell_type": "markdown",
   "metadata": {},
   "source": [
    "#### Asus"
   ]
  },
  {
   "cell_type": "code",
   "execution_count": 72,
   "metadata": {},
   "outputs": [
    {
     "data": {
      "text/plain": [
       "0     27597\n",
       "1      1389\n",
       "2       466\n",
       "3       219\n",
       "4       126\n",
       "5        72\n",
       "6        50\n",
       "7        32\n",
       "8        19\n",
       "9        10\n",
       "10        9\n",
       "11        4\n",
       "12        2\n",
       "15        2\n",
       "17        1\n",
       "13        1\n",
       "14        1\n",
       "Name: Asus, dtype: int64"
      ]
     },
     "execution_count": 72,
     "metadata": {},
     "output_type": "execute_result"
    }
   ],
   "source": [
    "df.Asus.value_counts()"
   ]
  },
  {
   "cell_type": "code",
   "execution_count": 73,
   "metadata": {},
   "outputs": [
    {
     "data": {
      "text/plain": [
       "<AxesSubplot:xlabel='Asus', ylabel='count'>"
      ]
     },
     "execution_count": 73,
     "metadata": {},
     "output_type": "execute_result"
    },
    {
     "data": {
      "image/png": "[encoded data removed]",
      "text/plain": [
       "<Figure size 432x288 with 1 Axes>"
      ]
     },
     "metadata": {
      "needs_background": "light"
     },
     "output_type": "display_data"
    }
   ],
   "source": [
    "sns.countplot(df.Asus)"
   ]
  },
  {
   "cell_type": "code",
   "execution_count": 74,
   "metadata": {},
   "outputs": [
    {
     "data": {
      "text/plain": [
       "Gender\n",
       "F    2.037186\n",
       "M    1.142857\n",
       "Name: Asus, dtype: float64"
      ]
     },
     "execution_count": 74,
     "metadata": {},
     "output_type": "execute_result"
    }
   ],
   "source": [
    "df[df.Asus>0].groupby('Gender').mean()['Asus']"
   ]
  },
  {
   "cell_type": "code",
   "execution_count": 75,
   "metadata": {},
   "outputs": [],
   "source": [
    "# On an average female customers searched 2 times and male customers searched 1 time, the products of Asus"
   ]
  },
  {
   "cell_type": "code",
   "execution_count": 76,
   "metadata": {},
   "outputs": [
    {
     "data": {
      "text/plain": [
       "Order_cat\n",
       "0 order           0.136413\n",
       "1 to 6 orders     0.166888\n",
       "7 to 12 orders    0.172984\n",
       "Name: Asus, dtype: float64"
      ]
     },
     "execution_count": 76,
     "metadata": {},
     "output_type": "execute_result"
    }
   ],
   "source": [
    "df.groupby('Order_cat').mean()['Asus']"
   ]
  },
  {
   "cell_type": "code",
   "execution_count": 77,
   "metadata": {},
   "outputs": [
    {
     "name": "stdout",
     "output_type": "stream",
     "text": [
      "Proportion of 0:  91.99000000000001 %\n",
      "Proportion of 1:  4.63 %\n",
      "Proportion of 2:  1.55 %\n",
      "Proportion of 3:  0.73 %\n",
      "Proportion of 4:  0.42 %\n",
      "Proportion of 5:  0.24 %\n",
      "Proportion of 6:  0.16999999999999998 %\n",
      "Proportion of 7:  0.11 %\n",
      "Proportion of 8:  0.06 %\n",
      "Proportion of 9:  0.03 %\n",
      "Proportion of 10:  0.03 %\n",
      "Proportion of 11:  0.01 %\n",
      "Proportion of 12:  0.01 %\n",
      "Proportion of 15:  0.01 %\n",
      "Proportion of 17:  0.0 %\n",
      "Proportion of 13:  0.0 %\n",
      "Proportion of 14:  0.0 %\n"
     ]
    }
   ],
   "source": [
    "find_proportion('Asus', df)"
   ]
  },
  {
   "cell_type": "code",
   "execution_count": 78,
   "metadata": {},
   "outputs": [],
   "source": [
    "zero['Asus'] = 91.99"
   ]
  },
  {
   "cell_type": "markdown",
   "metadata": {},
   "source": [
    "#### Udis"
   ]
  },
  {
   "cell_type": "code",
   "execution_count": 79,
   "metadata": {},
   "outputs": [
    {
     "data": {
      "text/plain": [
       "0     27588\n",
       "1      1527\n",
       "2       472\n",
       "3       168\n",
       "4        96\n",
       "5        62\n",
       "6        41\n",
       "7        17\n",
       "8        12\n",
       "9         7\n",
       "11        5\n",
       "10        3\n",
       "14        2\n",
       "Name: Udis, dtype: int64"
      ]
     },
     "execution_count": 79,
     "metadata": {},
     "output_type": "execute_result"
    }
   ],
   "source": [
    "df.Udis.value_counts()"
   ]
  },
  {
   "cell_type": "code",
   "execution_count": 80,
   "metadata": {},
   "outputs": [
    {
     "data": {
      "text/plain": [
       "<AxesSubplot:xlabel='Udis', ylabel='count'>"
      ]
     },
     "execution_count": 80,
     "metadata": {},
     "output_type": "execute_result"
    },
    {
     "data": {
      "image/png": "[encoded data removed]",
      "text/plain": [
       "<Figure size 432x288 with 1 Axes>"
      ]
     },
     "metadata": {
      "needs_background": "light"
     },
     "output_type": "display_data"
    }
   ],
   "source": [
    "sns.countplot(df.Udis)"
   ]
  },
  {
   "cell_type": "code",
   "execution_count": 81,
   "metadata": {},
   "outputs": [
    {
     "data": {
      "text/plain": [
       "Gender\n",
       "F    1.821716\n",
       "M    1.495868\n",
       "Name: Udis, dtype: float64"
      ]
     },
     "execution_count": 81,
     "metadata": {},
     "output_type": "execute_result"
    }
   ],
   "source": [
    "df[df.Udis>0].groupby('Gender').mean()['Udis']"
   ]
  },
  {
   "cell_type": "code",
   "execution_count": 82,
   "metadata": {},
   "outputs": [
    {
     "data": {
      "text/plain": [
       "Order_cat\n",
       "0 order           0.127776\n",
       "1 to 6 orders     0.148402\n",
       "7 to 12 orders    0.148883\n",
       "Name: Udis, dtype: float64"
      ]
     },
     "execution_count": 82,
     "metadata": {},
     "output_type": "execute_result"
    }
   ],
   "source": [
    "df.groupby('Order_cat').mean()['Udis']"
   ]
  },
  {
   "cell_type": "code",
   "execution_count": 83,
   "metadata": {},
   "outputs": [
    {
     "name": "stdout",
     "output_type": "stream",
     "text": [
      "Proportion of 0:  91.96 %\n",
      "Proportion of 1:  5.09 %\n",
      "Proportion of 2:  1.5699999999999998 %\n",
      "Proportion of 3:  0.5599999999999999 %\n",
      "Proportion of 4:  0.32 %\n",
      "Proportion of 5:  0.21 %\n",
      "Proportion of 6:  0.13999999999999999 %\n",
      "Proportion of 7:  0.06 %\n",
      "Proportion of 8:  0.04 %\n",
      "Proportion of 9:  0.02 %\n",
      "Proportion of 11:  0.02 %\n",
      "Proportion of 10:  0.01 %\n",
      "Proportion of 14:  0.01 %\n"
     ]
    }
   ],
   "source": [
    "find_proportion('Udis', df)"
   ]
  },
  {
   "cell_type": "code",
   "execution_count": 84,
   "metadata": {},
   "outputs": [],
   "source": [
    "zero['Udis'] = 91.96"
   ]
  },
  {
   "cell_type": "markdown",
   "metadata": {},
   "source": [
    "#### Mondelez International"
   ]
  },
  {
   "cell_type": "code",
   "execution_count": 85,
   "metadata": {},
   "outputs": [
    {
     "data": {
      "text/plain": [
       "0     26917\n",
       "1      2406\n",
       "2       472\n",
       "3       105\n",
       "4        41\n",
       "5        38\n",
       "6        11\n",
       "8         4\n",
       "7         2\n",
       "9         1\n",
       "10        1\n",
       "12        1\n",
       "31        1\n",
       "Name: Mondelez International, dtype: int64"
      ]
     },
     "execution_count": 85,
     "metadata": {},
     "output_type": "execute_result"
    }
   ],
   "source": [
    "df['Mondelez International'].value_counts()"
   ]
  },
  {
   "cell_type": "code",
   "execution_count": 86,
   "metadata": {},
   "outputs": [
    {
     "data": {
      "text/plain": [
       "<AxesSubplot:xlabel='Mondelez International', ylabel='count'>"
      ]
     },
     "execution_count": 86,
     "metadata": {},
     "output_type": "execute_result"
    },
    {
     "data": {
      "image/png": "[encoded data removed]",
      "text/plain": [
       "<Figure size 432x288 with 1 Axes>"
      ]
     },
     "metadata": {
      "needs_background": "light"
     },
     "output_type": "display_data"
    }
   ],
   "source": [
    "sns.countplot(df['Mondelez International'])"
   ]
  },
  {
   "cell_type": "code",
   "execution_count": 87,
   "metadata": {},
   "outputs": [
    {
     "data": {
      "text/plain": [
       "Gender\n",
       "F    1.335809\n",
       "M    1.513158\n",
       "Name: Mondelez International, dtype: float64"
      ]
     },
     "execution_count": 87,
     "metadata": {},
     "output_type": "execute_result"
    }
   ],
   "source": [
    "df[df['Mondelez International']>0].groupby('Gender').mean()['Mondelez International']"
   ]
  },
  {
   "cell_type": "code",
   "execution_count": 88,
   "metadata": {},
   "outputs": [
    {
     "data": {
      "text/plain": [
       "Order_cat\n",
       "0 order           0.122566\n",
       "1 to 6 orders     0.147518\n",
       "7 to 12 orders    0.141981\n",
       "Name: Mondelez International, dtype: float64"
      ]
     },
     "execution_count": 88,
     "metadata": {},
     "output_type": "execute_result"
    }
   ],
   "source": [
    "df.groupby('Order_cat').mean()['Mondelez International']"
   ]
  },
  {
   "cell_type": "code",
   "execution_count": 89,
   "metadata": {},
   "outputs": [
    {
     "data": {
      "text/html": [
       "<div>\n",
       "<style scoped>\n",
       "    .dataframe tbody tr th:only-of-type {\n",
       "        vertical-align: middle;\n",
       "    }\n",
       "\n",
       "    .dataframe tbody tr th {\n",
       "        vertical-align: top;\n",
       "    }\n",
       "\n",
       "    .dataframe thead th {\n",
       "        text-align: right;\n",
       "    }\n",
       "</style>\n",
       "<table border=\"1\" class=\"dataframe\">\n",
       "  <thead>\n",
       "    <tr style=\"text-align: right;\">\n",
       "      <th></th>\n",
       "      <th>Cust_ID</th>\n",
       "      <th>Gender</th>\n",
       "      <th>Orders</th>\n",
       "      <th>Jordan</th>\n",
       "      <th>Gatorade</th>\n",
       "      <th>Samsung</th>\n",
       "      <th>Asus</th>\n",
       "      <th>Udis</th>\n",
       "      <th>Mondelez International</th>\n",
       "      <th>Wrangler</th>\n",
       "      <th>Vans</th>\n",
       "      <th>Fila</th>\n",
       "      <th>Brooks</th>\n",
       "      <th>H&amp;M</th>\n",
       "      <th>Dairy Queen</th>\n",
       "      <th>Fendi</th>\n",
       "      <th>Hewlett Packard</th>\n",
       "      <th>Pladis</th>\n",
       "      <th>Asics</th>\n",
       "      <th>Siemens</th>\n",
       "      <th>J.M. Smucker</th>\n",
       "      <th>Pop Chips</th>\n",
       "      <th>Juniper</th>\n",
       "      <th>Huawei</th>\n",
       "      <th>Compaq</th>\n",
       "      <th>IBM</th>\n",
       "      <th>Burberry</th>\n",
       "      <th>Mi</th>\n",
       "      <th>LG</th>\n",
       "      <th>Dior</th>\n",
       "      <th>Scabal</th>\n",
       "      <th>Tommy Hilfiger</th>\n",
       "      <th>Hollister</th>\n",
       "      <th>Forever 21</th>\n",
       "      <th>Colavita</th>\n",
       "      <th>Microsoft</th>\n",
       "      <th>Jiffy mix</th>\n",
       "      <th>Kraft</th>\n",
       "      <th>Order_cat</th>\n",
       "    </tr>\n",
       "  </thead>\n",
       "  <tbody>\n",
       "    <tr>\n",
       "      <th>19128</th>\n",
       "      <td>19129</td>\n",
       "      <td>F</td>\n",
       "      <td>5</td>\n",
       "      <td>0</td>\n",
       "      <td>1</td>\n",
       "      <td>1</td>\n",
       "      <td>0</td>\n",
       "      <td>0</td>\n",
       "      <td>31</td>\n",
       "      <td>0</td>\n",
       "      <td>0</td>\n",
       "      <td>0</td>\n",
       "      <td>1</td>\n",
       "      <td>0</td>\n",
       "      <td>0</td>\n",
       "      <td>0</td>\n",
       "      <td>0</td>\n",
       "      <td>0</td>\n",
       "      <td>0</td>\n",
       "      <td>0</td>\n",
       "      <td>1</td>\n",
       "      <td>0</td>\n",
       "      <td>1</td>\n",
       "      <td>0</td>\n",
       "      <td>0</td>\n",
       "      <td>0</td>\n",
       "      <td>0</td>\n",
       "      <td>0</td>\n",
       "      <td>0</td>\n",
       "      <td>0</td>\n",
       "      <td>0</td>\n",
       "      <td>0</td>\n",
       "      <td>0</td>\n",
       "      <td>0</td>\n",
       "      <td>0</td>\n",
       "      <td>0</td>\n",
       "      <td>0</td>\n",
       "      <td>0</td>\n",
       "      <td>1 to 6 orders</td>\n",
       "    </tr>\n",
       "  </tbody>\n",
       "</table>\n",
       "</div>"
      ],
      "text/plain": [
       "       Cust_ID Gender  Orders  Jordan  Gatorade  Samsung  Asus  Udis  \\\n",
       "19128    19129      F       5       0         1        1     0     0   \n",
       "\n",
       "       Mondelez International  Wrangler  Vans  Fila  Brooks  H&M  Dairy Queen  \\\n",
       "19128                      31         0     0     0       1    0            0   \n",
       "\n",
       "       Fendi  Hewlett Packard  Pladis  Asics  Siemens  J.M. Smucker  \\\n",
       "19128      0                0       0      0        0             1   \n",
       "\n",
       "       Pop Chips  Juniper  Huawei  Compaq  IBM  Burberry  Mi  LG  Dior  \\\n",
       "19128          0        1       0       0    0         0   0   0     0   \n",
       "\n",
       "       Scabal  Tommy Hilfiger  Hollister  Forever 21  Colavita  Microsoft  \\\n",
       "19128       0               0          0           0         0          0   \n",
       "\n",
       "       Jiffy mix  Kraft      Order_cat  \n",
       "19128          0      0  1 to 6 orders  "
      ]
     },
     "execution_count": 89,
     "metadata": {},
     "output_type": "execute_result"
    }
   ],
   "source": [
    "df[df['Mondelez International']==31]"
   ]
  },
  {
   "cell_type": "code",
   "execution_count": 90,
   "metadata": {},
   "outputs": [],
   "source": [
    "# The customer with id 19129 searched Mondelez International 31 times, and she has ordered 5 times before. So there is \n",
    "# a high chance that if the product of Mondelez International is discounted, she may buy it."
   ]
  },
  {
   "cell_type": "code",
   "execution_count": 91,
   "metadata": {},
   "outputs": [
    {
     "name": "stdout",
     "output_type": "stream",
     "text": [
      "Proportion of 0:  89.72 %\n",
      "Proportion of 1:  8.02 %\n",
      "Proportion of 2:  1.5699999999999998 %\n",
      "Proportion of 3:  0.35000000000000003 %\n",
      "Proportion of 4:  0.13999999999999999 %\n",
      "Proportion of 5:  0.13 %\n",
      "Proportion of 6:  0.04 %\n",
      "Proportion of 8:  0.01 %\n",
      "Proportion of 7:  0.01 %\n",
      "Proportion of 9:  0.0 %\n",
      "Proportion of 10:  0.0 %\n",
      "Proportion of 12:  0.0 %\n",
      "Proportion of 31:  0.0 %\n"
     ]
    }
   ],
   "source": [
    "find_proportion('Mondelez International', df)"
   ]
  },
  {
   "cell_type": "code",
   "execution_count": 92,
   "metadata": {},
   "outputs": [],
   "source": [
    "zero['Mondelez International'] = 89.72"
   ]
  },
  {
   "cell_type": "markdown",
   "metadata": {},
   "source": [
    "#### Wrangler"
   ]
  },
  {
   "cell_type": "code",
   "execution_count": 93,
   "metadata": {},
   "outputs": [
    {
     "data": {
      "text/plain": [
       "0    28164\n",
       "1     1099\n",
       "2      408\n",
       "3      168\n",
       "4       81\n",
       "5       40\n",
       "6       25\n",
       "7        7\n",
       "8        6\n",
       "9        2\n",
       "Name: Wrangler, dtype: int64"
      ]
     },
     "execution_count": 93,
     "metadata": {},
     "output_type": "execute_result"
    }
   ],
   "source": [
    "df.Wrangler.value_counts()"
   ]
  },
  {
   "cell_type": "code",
   "execution_count": 94,
   "metadata": {},
   "outputs": [
    {
     "data": {
      "text/plain": [
       "<AxesSubplot:xlabel='Wrangler', ylabel='count'>"
      ]
     },
     "execution_count": 94,
     "metadata": {},
     "output_type": "execute_result"
    },
    {
     "data": {
      "image/png": "[encoded data removed]",
      "text/plain": [
       "<Figure size 432x288 with 1 Axes>"
      ]
     },
     "metadata": {
      "needs_background": "light"
     },
     "output_type": "display_data"
    }
   ],
   "source": [
    "sns.countplot(df.Wrangler)"
   ]
  },
  {
   "cell_type": "code",
   "execution_count": 95,
   "metadata": {},
   "outputs": [
    {
     "data": {
      "text/plain": [
       "Gender\n",
       "F    1.753153\n",
       "M    1.342857\n",
       "Name: Wrangler, dtype: float64"
      ]
     },
     "execution_count": 95,
     "metadata": {},
     "output_type": "execute_result"
    }
   ],
   "source": [
    "df[df['Wrangler']>0].groupby('Gender').mean()['Wrangler']"
   ]
  },
  {
   "cell_type": "code",
   "execution_count": 96,
   "metadata": {},
   "outputs": [
    {
     "data": {
      "text/plain": [
       "Order_cat\n",
       "0 order           0.094187\n",
       "1 to 6 orders     0.113640\n",
       "7 to 12 orders    0.107143\n",
       "Name: Wrangler, dtype: float64"
      ]
     },
     "execution_count": 96,
     "metadata": {},
     "output_type": "execute_result"
    }
   ],
   "source": [
    "df.groupby('Order_cat').mean()['Wrangler']"
   ]
  },
  {
   "cell_type": "code",
   "execution_count": 97,
   "metadata": {},
   "outputs": [
    {
     "name": "stdout",
     "output_type": "stream",
     "text": [
      "Proportion of 0:  93.88 %\n",
      "Proportion of 1:  3.66 %\n",
      "Proportion of 2:  1.3599999999999999 %\n",
      "Proportion of 3:  0.5599999999999999 %\n",
      "Proportion of 4:  0.27 %\n",
      "Proportion of 5:  0.13 %\n",
      "Proportion of 6:  0.08 %\n",
      "Proportion of 7:  0.02 %\n",
      "Proportion of 8:  0.02 %\n",
      "Proportion of 9:  0.01 %\n"
     ]
    }
   ],
   "source": [
    "find_proportion('Wrangler', df)"
   ]
  },
  {
   "cell_type": "code",
   "execution_count": 98,
   "metadata": {},
   "outputs": [],
   "source": [
    "zero['Wrangler'] = 93.88"
   ]
  },
  {
   "cell_type": "markdown",
   "metadata": {},
   "source": [
    "#### Vans"
   ]
  },
  {
   "cell_type": "code",
   "execution_count": 99,
   "metadata": {},
   "outputs": [
    {
     "data": {
      "text/plain": [
       "0     27985\n",
       "1      1390\n",
       "2       340\n",
       "3       108\n",
       "5        73\n",
       "4        55\n",
       "6        24\n",
       "7        12\n",
       "9         4\n",
       "8         3\n",
       "16        1\n",
       "10        1\n",
       "11        1\n",
       "12        1\n",
       "13        1\n",
       "14        1\n",
       "Name: Vans, dtype: int64"
      ]
     },
     "execution_count": 99,
     "metadata": {},
     "output_type": "execute_result"
    }
   ],
   "source": [
    "df.Vans.value_counts()"
   ]
  },
  {
   "cell_type": "code",
   "execution_count": 100,
   "metadata": {},
   "outputs": [
    {
     "data": {
      "text/plain": [
       "<AxesSubplot:xlabel='Vans', ylabel='count'>"
      ]
     },
     "execution_count": 100,
     "metadata": {},
     "output_type": "execute_result"
    },
    {
     "data": {
      "image/png": "[encoded data removed]",
      "text/plain": [
       "<Figure size 432x288 with 1 Axes>"
      ]
     },
     "metadata": {
      "needs_background": "light"
     },
     "output_type": "display_data"
    }
   ],
   "source": [
    "sns.countplot(df.Vans)"
   ]
  },
  {
   "cell_type": "code",
   "execution_count": 101,
   "metadata": {},
   "outputs": [
    {
     "data": {
      "text/plain": [
       "Gender\n",
       "F    1.363413\n",
       "M    2.171642\n",
       "Name: Vans, dtype: float64"
      ]
     },
     "execution_count": 101,
     "metadata": {},
     "output_type": "execute_result"
    }
   ],
   "source": [
    "df[df['Vans']>0].groupby('Gender').mean()['Vans']"
   ]
  },
  {
   "cell_type": "code",
   "execution_count": 102,
   "metadata": {},
   "outputs": [
    {
     "data": {
      "text/plain": [
       "Order_cat\n",
       "0 order           0.098574\n",
       "1 to 6 orders     0.114818\n",
       "7 to 12 orders    0.116674\n",
       "Name: Vans, dtype: float64"
      ]
     },
     "execution_count": 102,
     "metadata": {},
     "output_type": "execute_result"
    }
   ],
   "source": [
    "df.groupby('Order_cat').mean()['Vans']"
   ]
  },
  {
   "cell_type": "code",
   "execution_count": 103,
   "metadata": {},
   "outputs": [
    {
     "name": "stdout",
     "output_type": "stream",
     "text": [
      "Proportion of 0:  93.28 %\n",
      "Proportion of 1:  4.63 %\n",
      "Proportion of 2:  1.13 %\n",
      "Proportion of 3:  0.36 %\n",
      "Proportion of 5:  0.24 %\n",
      "Proportion of 4:  0.18 %\n",
      "Proportion of 6:  0.08 %\n",
      "Proportion of 7:  0.04 %\n",
      "Proportion of 9:  0.01 %\n",
      "Proportion of 8:  0.01 %\n",
      "Proportion of 16:  0.0 %\n",
      "Proportion of 10:  0.0 %\n",
      "Proportion of 11:  0.0 %\n",
      "Proportion of 12:  0.0 %\n",
      "Proportion of 13:  0.0 %\n",
      "Proportion of 14:  0.0 %\n"
     ]
    }
   ],
   "source": [
    "find_proportion('Vans', df)"
   ]
  },
  {
   "cell_type": "code",
   "execution_count": 104,
   "metadata": {},
   "outputs": [],
   "source": [
    "zero['Vans'] = 93.28"
   ]
  },
  {
   "cell_type": "markdown",
   "metadata": {},
   "source": [
    "#### Fila"
   ]
  },
  {
   "cell_type": "code",
   "execution_count": 105,
   "metadata": {},
   "outputs": [
    {
     "data": {
      "text/plain": [
       "0     28410\n",
       "1      1042\n",
       "2       246\n",
       "3       159\n",
       "4        49\n",
       "5        38\n",
       "6        21\n",
       "7        15\n",
       "9         5\n",
       "10        5\n",
       "8         4\n",
       "11        3\n",
       "12        1\n",
       "13        1\n",
       "15        1\n",
       "Name: Fila, dtype: int64"
      ]
     },
     "execution_count": 105,
     "metadata": {},
     "output_type": "execute_result"
    }
   ],
   "source": [
    "df.Fila.value_counts()"
   ]
  },
  {
   "cell_type": "code",
   "execution_count": 106,
   "metadata": {},
   "outputs": [
    {
     "data": {
      "text/plain": [
       "<AxesSubplot:xlabel='Fila', ylabel='count'>"
      ]
     },
     "execution_count": 106,
     "metadata": {},
     "output_type": "execute_result"
    },
    {
     "data": {
      "image/png": "[encoded data removed]",
      "text/plain": [
       "<Figure size 432x288 with 1 Axes>"
      ]
     },
     "metadata": {
      "needs_background": "light"
     },
     "output_type": "display_data"
    }
   ],
   "source": [
    "sns.countplot(df.Fila)"
   ]
  },
  {
   "cell_type": "code",
   "execution_count": 107,
   "metadata": {},
   "outputs": [
    {
     "data": {
      "text/plain": [
       "Gender\n",
       "F    1.697256\n",
       "M    2.034247\n",
       "Name: Fila, dtype: float64"
      ]
     },
     "execution_count": 107,
     "metadata": {},
     "output_type": "execute_result"
    }
   ],
   "source": [
    "df[df['Fila']>0].groupby('Gender').mean()['Fila']"
   ]
  },
  {
   "cell_type": "code",
   "execution_count": 108,
   "metadata": {},
   "outputs": [
    {
     "data": {
      "text/plain": [
       "Order_cat\n",
       "0 order           0.101865\n",
       "1 to 6 orders     0.094049\n",
       "7 to 12 orders    0.088519\n",
       "Name: Fila, dtype: float64"
      ]
     },
     "execution_count": 108,
     "metadata": {},
     "output_type": "execute_result"
    }
   ],
   "source": [
    "df.groupby('Order_cat').mean()['Fila']"
   ]
  },
  {
   "cell_type": "code",
   "execution_count": 109,
   "metadata": {},
   "outputs": [
    {
     "name": "stdout",
     "output_type": "stream",
     "text": [
      "Proportion of 0:  94.69999999999999 %\n",
      "Proportion of 1:  3.47 %\n",
      "Proportion of 2:  0.8200000000000001 %\n",
      "Proportion of 3:  0.53 %\n",
      "Proportion of 4:  0.16 %\n",
      "Proportion of 5:  0.13 %\n",
      "Proportion of 6:  0.06999999999999999 %\n",
      "Proportion of 7:  0.05 %\n",
      "Proportion of 9:  0.02 %\n",
      "Proportion of 10:  0.02 %\n",
      "Proportion of 8:  0.01 %\n",
      "Proportion of 11:  0.01 %\n",
      "Proportion of 12:  0.0 %\n",
      "Proportion of 13:  0.0 %\n",
      "Proportion of 15:  0.0 %\n"
     ]
    }
   ],
   "source": [
    "find_proportion('Fila', df)"
   ]
  },
  {
   "cell_type": "code",
   "execution_count": 110,
   "metadata": {},
   "outputs": [],
   "source": [
    "zero['Fila'] = 94.69"
   ]
  },
  {
   "cell_type": "markdown",
   "metadata": {},
   "source": [
    "#### Brooks"
   ]
  },
  {
   "cell_type": "code",
   "execution_count": 111,
   "metadata": {
    "scrolled": true
   },
   "outputs": [
    {
     "data": {
      "text/plain": [
       "0     26700\n",
       "1      2700\n",
       "2       433\n",
       "3       102\n",
       "4        35\n",
       "5        14\n",
       "6         6\n",
       "7         5\n",
       "9         3\n",
       "12        2\n",
       "Name: Brooks, dtype: int64"
      ]
     },
     "execution_count": 111,
     "metadata": {},
     "output_type": "execute_result"
    }
   ],
   "source": [
    "df.Brooks.value_counts()"
   ]
  },
  {
   "cell_type": "code",
   "execution_count": 112,
   "metadata": {},
   "outputs": [
    {
     "data": {
      "text/plain": [
       "<AxesSubplot:xlabel='Brooks', ylabel='count'>"
      ]
     },
     "execution_count": 112,
     "metadata": {},
     "output_type": "execute_result"
    },
    {
     "data": {
      "image/png": "[encoded data removed]",
      "text/plain": [
       "<Figure size 432x288 with 1 Axes>"
      ]
     },
     "metadata": {
      "needs_background": "light"
     },
     "output_type": "display_data"
    }
   ],
   "source": [
    "sns.countplot(df.Brooks)"
   ]
  },
  {
   "cell_type": "code",
   "execution_count": 113,
   "metadata": {},
   "outputs": [
    {
     "data": {
      "text/plain": [
       "Gender\n",
       "F    1.270224\n",
       "M    1.293680\n",
       "Name: Brooks, dtype: float64"
      ]
     },
     "execution_count": 113,
     "metadata": {},
     "output_type": "execute_result"
    }
   ],
   "source": [
    "df[df['Brooks']>0].groupby('Gender').mean()['Brooks']"
   ]
  },
  {
   "cell_type": "code",
   "execution_count": 114,
   "metadata": {},
   "outputs": [
    {
     "data": {
      "text/plain": [
       "Order_cat\n",
       "0 order           0.126542\n",
       "1 to 6 orders     0.140890\n",
       "7 to 12 orders    0.149869\n",
       "Name: Brooks, dtype: float64"
      ]
     },
     "execution_count": 114,
     "metadata": {},
     "output_type": "execute_result"
    }
   ],
   "source": [
    "df.groupby('Order_cat').mean()['Brooks']"
   ]
  },
  {
   "cell_type": "code",
   "execution_count": 115,
   "metadata": {},
   "outputs": [
    {
     "name": "stdout",
     "output_type": "stream",
     "text": [
      "Proportion of 0:  89.0 %\n",
      "Proportion of 1:  9.0 %\n",
      "Proportion of 2:  1.44 %\n",
      "Proportion of 3:  0.33999999999999997 %\n",
      "Proportion of 4:  0.12 %\n",
      "Proportion of 5:  0.05 %\n",
      "Proportion of 6:  0.02 %\n",
      "Proportion of 7:  0.02 %\n",
      "Proportion of 9:  0.01 %\n",
      "Proportion of 12:  0.01 %\n"
     ]
    }
   ],
   "source": [
    "find_proportion('Brooks', df)"
   ]
  },
  {
   "cell_type": "code",
   "execution_count": 116,
   "metadata": {},
   "outputs": [],
   "source": [
    "zero['Brooks'] = 89.0"
   ]
  },
  {
   "cell_type": "markdown",
   "metadata": {},
   "source": [
    "#### H&M"
   ]
  },
  {
   "cell_type": "code",
   "execution_count": 117,
   "metadata": {
    "scrolled": true
   },
   "outputs": [
    {
     "data": {
      "text/plain": [
       "0     26700\n",
       "1      2700\n",
       "2       433\n",
       "3       102\n",
       "4        35\n",
       "5        14\n",
       "6         6\n",
       "7         5\n",
       "9         3\n",
       "12        2\n",
       "Name: Brooks, dtype: int64"
      ]
     },
     "execution_count": 117,
     "metadata": {},
     "output_type": "execute_result"
    }
   ],
   "source": [
    "df.Brooks.value_counts()"
   ]
  },
  {
   "cell_type": "code",
   "execution_count": 118,
   "metadata": {},
   "outputs": [
    {
     "data": {
      "text/plain": [
       "<AxesSubplot:xlabel='Brooks', ylabel='count'>"
      ]
     },
     "execution_count": 118,
     "metadata": {},
     "output_type": "execute_result"
    },
    {
     "data": {
      "image/png": "[encoded data removed]",
      "text/plain": [
       "<Figure size 432x288 with 1 Axes>"
      ]
     },
     "metadata": {
      "needs_background": "light"
     },
     "output_type": "display_data"
    }
   ],
   "source": [
    "sns.countplot(df.Brooks)"
   ]
  },
  {
   "cell_type": "code",
   "execution_count": 119,
   "metadata": {},
   "outputs": [
    {
     "data": {
      "text/plain": [
       "Gender\n",
       "F    1.270224\n",
       "M    1.293680\n",
       "Name: Brooks, dtype: float64"
      ]
     },
     "execution_count": 119,
     "metadata": {},
     "output_type": "execute_result"
    }
   ],
   "source": [
    "df[df['Brooks']>0].groupby('Gender').mean()['Brooks']"
   ]
  },
  {
   "cell_type": "code",
   "execution_count": 120,
   "metadata": {},
   "outputs": [
    {
     "data": {
      "text/plain": [
       "Order_cat\n",
       "0 order           0.126542\n",
       "1 to 6 orders     0.140890\n",
       "7 to 12 orders    0.149869\n",
       "Name: Brooks, dtype: float64"
      ]
     },
     "execution_count": 120,
     "metadata": {},
     "output_type": "execute_result"
    }
   ],
   "source": [
    "df.groupby('Order_cat').mean()['Brooks']"
   ]
  },
  {
   "cell_type": "code",
   "execution_count": 121,
   "metadata": {},
   "outputs": [
    {
     "name": "stdout",
     "output_type": "stream",
     "text": [
      "Proportion of 0:  89.0 %\n",
      "Proportion of 1:  9.0 %\n",
      "Proportion of 2:  1.44 %\n",
      "Proportion of 3:  0.33999999999999997 %\n",
      "Proportion of 4:  0.12 %\n",
      "Proportion of 5:  0.05 %\n",
      "Proportion of 6:  0.02 %\n",
      "Proportion of 7:  0.02 %\n",
      "Proportion of 9:  0.01 %\n",
      "Proportion of 12:  0.01 %\n"
     ]
    }
   ],
   "source": [
    "find_proportion('Brooks', df)"
   ]
  },
  {
   "cell_type": "code",
   "execution_count": 122,
   "metadata": {},
   "outputs": [],
   "source": [
    "zero['Brooks'] = 89.0"
   ]
  },
  {
   "cell_type": "code",
   "execution_count": null,
   "metadata": {},
   "outputs": [],
   "source": []
  },
  {
   "cell_type": "markdown",
   "metadata": {},
   "source": [
    "#### Dairy Queen"
   ]
  },
  {
   "cell_type": "code",
   "execution_count": 123,
   "metadata": {
    "scrolled": true
   },
   "outputs": [
    {
     "data": {
      "text/plain": [
       "0     26700\n",
       "1      2700\n",
       "2       433\n",
       "3       102\n",
       "4        35\n",
       "5        14\n",
       "6         6\n",
       "7         5\n",
       "9         3\n",
       "12        2\n",
       "Name: Brooks, dtype: int64"
      ]
     },
     "execution_count": 123,
     "metadata": {},
     "output_type": "execute_result"
    }
   ],
   "source": [
    "df.Brooks.value_counts()"
   ]
  },
  {
   "cell_type": "code",
   "execution_count": 124,
   "metadata": {},
   "outputs": [
    {
     "data": {
      "text/plain": [
       "<AxesSubplot:xlabel='Brooks', ylabel='count'>"
      ]
     },
     "execution_count": 124,
     "metadata": {},
     "output_type": "execute_result"
    },
    {
     "data": {
      "image/png": "[encoded data removed]",
      "text/plain": [
       "<Figure size 432x288 with 1 Axes>"
      ]
     },
     "metadata": {
      "needs_background": "light"
     },
     "output_type": "display_data"
    }
   ],
   "source": [
    "sns.countplot(df.Brooks)"
   ]
  },
  {
   "cell_type": "code",
   "execution_count": 125,
   "metadata": {},
   "outputs": [
    {
     "data": {
      "text/plain": [
       "Gender\n",
       "F    1.270224\n",
       "M    1.293680\n",
       "Name: Brooks, dtype: float64"
      ]
     },
     "execution_count": 125,
     "metadata": {},
     "output_type": "execute_result"
    }
   ],
   "source": [
    "df[df['Brooks']>0].groupby('Gender').mean()['Brooks']"
   ]
  },
  {
   "cell_type": "code",
   "execution_count": 126,
   "metadata": {},
   "outputs": [
    {
     "data": {
      "text/plain": [
       "Order_cat\n",
       "0 order           0.126542\n",
       "1 to 6 orders     0.140890\n",
       "7 to 12 orders    0.149869\n",
       "Name: Brooks, dtype: float64"
      ]
     },
     "execution_count": 126,
     "metadata": {},
     "output_type": "execute_result"
    }
   ],
   "source": [
    "df.groupby('Order_cat').mean()['Brooks']"
   ]
  },
  {
   "cell_type": "code",
   "execution_count": 127,
   "metadata": {},
   "outputs": [
    {
     "name": "stdout",
     "output_type": "stream",
     "text": [
      "Proportion of 0:  89.0 %\n",
      "Proportion of 1:  9.0 %\n",
      "Proportion of 2:  1.44 %\n",
      "Proportion of 3:  0.33999999999999997 %\n",
      "Proportion of 4:  0.12 %\n",
      "Proportion of 5:  0.05 %\n",
      "Proportion of 6:  0.02 %\n",
      "Proportion of 7:  0.02 %\n",
      "Proportion of 9:  0.01 %\n",
      "Proportion of 12:  0.01 %\n"
     ]
    }
   ],
   "source": [
    "find_proportion('Brooks', df)"
   ]
  },
  {
   "cell_type": "code",
   "execution_count": 128,
   "metadata": {},
   "outputs": [],
   "source": [
    "zero['Brooks'] = 89.0"
   ]
  },
  {
   "cell_type": "markdown",
   "metadata": {},
   "source": [
    "#### Fendi"
   ]
  },
  {
   "cell_type": "code",
   "execution_count": 129,
   "metadata": {
    "scrolled": true
   },
   "outputs": [
    {
     "data": {
      "text/plain": [
       "0     26931\n",
       "1      2411\n",
       "2       420\n",
       "3       106\n",
       "4        72\n",
       "5        24\n",
       "6        21\n",
       "7         5\n",
       "9         3\n",
       "8         2\n",
       "12        2\n",
       "18        1\n",
       "10        1\n",
       "11        1\n",
       "Name: Fendi, dtype: int64"
      ]
     },
     "execution_count": 129,
     "metadata": {},
     "output_type": "execute_result"
    }
   ],
   "source": [
    "df.Fendi.value_counts()"
   ]
  },
  {
   "cell_type": "code",
   "execution_count": 130,
   "metadata": {},
   "outputs": [
    {
     "data": {
      "text/plain": [
       "<AxesSubplot:xlabel='Fendi', ylabel='count'>"
      ]
     },
     "execution_count": 130,
     "metadata": {},
     "output_type": "execute_result"
    },
    {
     "data": {
      "image/png": "[encoded data removed]",
      "text/plain": [
       "<Figure size 432x288 with 1 Axes>"
      ]
     },
     "metadata": {
      "needs_background": "light"
     },
     "output_type": "display_data"
    }
   ],
   "source": [
    "sns.countplot(df.Fendi)"
   ]
  },
  {
   "cell_type": "code",
   "execution_count": 131,
   "metadata": {},
   "outputs": [
    {
     "data": {
      "text/plain": [
       "Gender\n",
       "F    1.39060\n",
       "M    1.34472\n",
       "Name: Fendi, dtype: float64"
      ]
     },
     "execution_count": 131,
     "metadata": {},
     "output_type": "execute_result"
    }
   ],
   "source": [
    "df[df['Fendi']>0].groupby('Gender').mean()['Fendi']"
   ]
  },
  {
   "cell_type": "code",
   "execution_count": 132,
   "metadata": {},
   "outputs": [
    {
     "data": {
      "text/plain": [
       "Order_cat\n",
       "0 order           0.118316\n",
       "1 to 6 orders     0.148255\n",
       "7 to 12 orders    0.149869\n",
       "Name: Fendi, dtype: float64"
      ]
     },
     "execution_count": 132,
     "metadata": {},
     "output_type": "execute_result"
    }
   ],
   "source": [
    "df.groupby('Order_cat').mean()['Fendi']"
   ]
  },
  {
   "cell_type": "code",
   "execution_count": 133,
   "metadata": {},
   "outputs": [
    {
     "name": "stdout",
     "output_type": "stream",
     "text": [
      "Proportion of 0:  89.77000000000001 %\n",
      "Proportion of 1:  8.04 %\n",
      "Proportion of 2:  1.4000000000000001 %\n",
      "Proportion of 3:  0.35000000000000003 %\n",
      "Proportion of 4:  0.24 %\n",
      "Proportion of 5:  0.08 %\n",
      "Proportion of 6:  0.06999999999999999 %\n",
      "Proportion of 7:  0.02 %\n",
      "Proportion of 9:  0.01 %\n",
      "Proportion of 8:  0.01 %\n",
      "Proportion of 12:  0.01 %\n",
      "Proportion of 18:  0.0 %\n",
      "Proportion of 10:  0.0 %\n",
      "Proportion of 11:  0.0 %\n"
     ]
    }
   ],
   "source": [
    "find_proportion('Fendi', df)"
   ]
  },
  {
   "cell_type": "code",
   "execution_count": 134,
   "metadata": {},
   "outputs": [],
   "source": [
    "zero['Fendi'] = 89.77"
   ]
  },
  {
   "cell_type": "markdown",
   "metadata": {},
   "source": [
    "#### Hewlett Packard"
   ]
  },
  {
   "cell_type": "code",
   "execution_count": 135,
   "metadata": {
    "scrolled": true
   },
   "outputs": [
    {
     "data": {
      "text/plain": [
       "0     27033\n",
       "1      2037\n",
       "2       437\n",
       "3       214\n",
       "4       146\n",
       "5       113\n",
       "6        14\n",
       "7         4\n",
       "9         1\n",
       "10        1\n",
       "Name: Hewlett Packard, dtype: int64"
      ]
     },
     "execution_count": 135,
     "metadata": {},
     "output_type": "execute_result"
    }
   ],
   "source": [
    "df['Hewlett Packard'].value_counts()"
   ]
  },
  {
   "cell_type": "code",
   "execution_count": 136,
   "metadata": {},
   "outputs": [
    {
     "data": {
      "text/plain": [
       "<AxesSubplot:xlabel='Hewlett Packard', ylabel='count'>"
      ]
     },
     "execution_count": 136,
     "metadata": {},
     "output_type": "execute_result"
    },
    {
     "data": {
      "image/png": "[encoded data removed]",
      "text/plain": [
       "<Figure size 432x288 with 1 Axes>"
      ]
     },
     "metadata": {
      "needs_background": "light"
     },
     "output_type": "display_data"
    }
   ],
   "source": [
    "sns.countplot(df['Hewlett Packard'])"
   ]
  },
  {
   "cell_type": "code",
   "execution_count": 137,
   "metadata": {},
   "outputs": [
    {
     "data": {
      "text/plain": [
       "Gender\n",
       "F    1.575696\n",
       "M    1.741818\n",
       "Name: Hewlett Packard, dtype: float64"
      ]
     },
     "execution_count": 137,
     "metadata": {},
     "output_type": "execute_result"
    }
   ],
   "source": [
    "df[df['Hewlett Packard']>0].groupby('Gender').mean()['Hewlett Packard']"
   ]
  },
  {
   "cell_type": "code",
   "execution_count": 138,
   "metadata": {},
   "outputs": [
    {
     "data": {
      "text/plain": [
       "Order_cat\n",
       "0 order           0.150946\n",
       "1 to 6 orders     0.162248\n",
       "7 to 12 orders    0.167507\n",
       "Name: Hewlett Packard, dtype: float64"
      ]
     },
     "execution_count": 138,
     "metadata": {},
     "output_type": "execute_result"
    }
   ],
   "source": [
    "df.groupby('Order_cat').mean()['Hewlett Packard']"
   ]
  },
  {
   "cell_type": "code",
   "execution_count": 139,
   "metadata": {},
   "outputs": [
    {
     "name": "stdout",
     "output_type": "stream",
     "text": [
      "Proportion of 0:  90.11 %\n",
      "Proportion of 1:  6.79 %\n",
      "Proportion of 2:  1.46 %\n",
      "Proportion of 3:  0.7100000000000001 %\n",
      "Proportion of 4:  0.49 %\n",
      "Proportion of 5:  0.38 %\n",
      "Proportion of 6:  0.05 %\n",
      "Proportion of 7:  0.01 %\n",
      "Proportion of 9:  0.0 %\n",
      "Proportion of 10:  0.0 %\n"
     ]
    }
   ],
   "source": [
    "find_proportion('Hewlett Packard', df)"
   ]
  },
  {
   "cell_type": "code",
   "execution_count": 140,
   "metadata": {},
   "outputs": [],
   "source": [
    "zero['Hewlett Packard'] = 90.11"
   ]
  },
  {
   "cell_type": "markdown",
   "metadata": {},
   "source": [
    "#### Pladis"
   ]
  },
  {
   "cell_type": "code",
   "execution_count": 141,
   "metadata": {
    "scrolled": true
   },
   "outputs": [
    {
     "data": {
      "text/plain": [
       "0     28051\n",
       "1      1332\n",
       "2       303\n",
       "3       142\n",
       "4       103\n",
       "5        43\n",
       "6        14\n",
       "7         7\n",
       "8         3\n",
       "9         1\n",
       "26        1\n",
       "Name: Pladis, dtype: int64"
      ]
     },
     "execution_count": 141,
     "metadata": {},
     "output_type": "execute_result"
    }
   ],
   "source": [
    "df.Pladis.value_counts()"
   ]
  },
  {
   "cell_type": "code",
   "execution_count": 142,
   "metadata": {},
   "outputs": [
    {
     "data": {
      "text/plain": [
       "<AxesSubplot:xlabel='Pladis', ylabel='count'>"
      ]
     },
     "execution_count": 142,
     "metadata": {},
     "output_type": "execute_result"
    },
    {
     "data": {
      "image/png": "[encoded data removed]",
      "text/plain": [
       "<Figure size 432x288 with 1 Axes>"
      ]
     },
     "metadata": {
      "needs_background": "light"
     },
     "output_type": "display_data"
    }
   ],
   "source": [
    "sns.countplot(df.Pladis)"
   ]
  },
  {
   "cell_type": "code",
   "execution_count": 143,
   "metadata": {},
   "outputs": [
    {
     "data": {
      "text/plain": [
       "Gender\n",
       "F    1.632716\n",
       "M    1.670051\n",
       "Name: Pladis, dtype: float64"
      ]
     },
     "execution_count": 143,
     "metadata": {},
     "output_type": "execute_result"
    }
   ],
   "source": [
    "df[df['Pladis']>0].groupby('Gender').mean()['Pladis']"
   ]
  },
  {
   "cell_type": "code",
   "execution_count": 144,
   "metadata": {},
   "outputs": [
    {
     "data": {
      "text/plain": [
       "Order_cat\n",
       "0 order           0.095695\n",
       "1 to 6 orders     0.114082\n",
       "7 to 12 orders    0.102542\n",
       "Name: Pladis, dtype: float64"
      ]
     },
     "execution_count": 144,
     "metadata": {},
     "output_type": "execute_result"
    }
   ],
   "source": [
    "df.groupby('Order_cat').mean()['Pladis']"
   ]
  },
  {
   "cell_type": "code",
   "execution_count": 145,
   "metadata": {},
   "outputs": [
    {
     "name": "stdout",
     "output_type": "stream",
     "text": [
      "Proportion of 0:  93.5 %\n",
      "Proportion of 1:  4.44 %\n",
      "Proportion of 2:  1.01 %\n",
      "Proportion of 3:  0.47000000000000003 %\n",
      "Proportion of 4:  0.33999999999999997 %\n",
      "Proportion of 5:  0.13999999999999999 %\n",
      "Proportion of 6:  0.05 %\n",
      "Proportion of 7:  0.02 %\n",
      "Proportion of 8:  0.01 %\n",
      "Proportion of 9:  0.0 %\n",
      "Proportion of 26:  0.0 %\n"
     ]
    }
   ],
   "source": [
    "find_proportion('Pladis', df)"
   ]
  },
  {
   "cell_type": "code",
   "execution_count": 146,
   "metadata": {},
   "outputs": [],
   "source": [
    "zero['Pladis'] = 93.5"
   ]
  },
  {
   "cell_type": "markdown",
   "metadata": {},
   "source": [
    "#### Asics"
   ]
  },
  {
   "cell_type": "code",
   "execution_count": 147,
   "metadata": {
    "scrolled": false
   },
   "outputs": [
    {
     "data": {
      "text/plain": [
       "0     25586\n",
       "1      2593\n",
       "2       841\n",
       "3       408\n",
       "4       221\n",
       "5       120\n",
       "6        75\n",
       "7        52\n",
       "8        27\n",
       "9        24\n",
       "10       11\n",
       "11        9\n",
       "12        8\n",
       "13        7\n",
       "14        4\n",
       "20        3\n",
       "15        2\n",
       "18        2\n",
       "66        1\n",
       "21        1\n",
       "16        1\n",
       "27        1\n",
       "17        1\n",
       "19        1\n",
       "34        1\n",
       "Name: Asics, dtype: int64"
      ]
     },
     "execution_count": 147,
     "metadata": {},
     "output_type": "execute_result"
    }
   ],
   "source": [
    "df.Asics.value_counts()"
   ]
  },
  {
   "cell_type": "code",
   "execution_count": 148,
   "metadata": {},
   "outputs": [
    {
     "data": {
      "text/plain": [
       "<AxesSubplot:xlabel='Asics', ylabel='count'>"
      ]
     },
     "execution_count": 148,
     "metadata": {},
     "output_type": "execute_result"
    },
    {
     "data": {
      "image/png": "[encoded data removed]",
      "text/plain": [
       "<Figure size 432x288 with 1 Axes>"
      ]
     },
     "metadata": {
      "needs_background": "light"
     },
     "output_type": "display_data"
    }
   ],
   "source": [
    "sns.countplot(df.Asics)"
   ]
  },
  {
   "cell_type": "code",
   "execution_count": 149,
   "metadata": {},
   "outputs": [
    {
     "data": {
      "text/plain": [
       "Gender\n",
       "F    2.024152\n",
       "M    2.167059\n",
       "Name: Asics, dtype: float64"
      ]
     },
     "execution_count": 149,
     "metadata": {},
     "output_type": "execute_result"
    }
   ],
   "source": [
    "df[df['Asics']>0].groupby('Gender').mean()['Asics']"
   ]
  },
  {
   "cell_type": "code",
   "execution_count": 150,
   "metadata": {},
   "outputs": [
    {
     "data": {
      "text/plain": [
       "Order_cat\n",
       "0 order           0.247052\n",
       "1 to 6 orders     0.317793\n",
       "7 to 12 orders    0.316608\n",
       "Name: Asics, dtype: float64"
      ]
     },
     "execution_count": 150,
     "metadata": {},
     "output_type": "execute_result"
    }
   ],
   "source": [
    "df.groupby('Order_cat').mean()['Asics']"
   ]
  },
  {
   "cell_type": "code",
   "execution_count": 151,
   "metadata": {},
   "outputs": [
    {
     "data": {
      "text/html": [
       "<div>\n",
       "<style scoped>\n",
       "    .dataframe tbody tr th:only-of-type {\n",
       "        vertical-align: middle;\n",
       "    }\n",
       "\n",
       "    .dataframe tbody tr th {\n",
       "        vertical-align: top;\n",
       "    }\n",
       "\n",
       "    .dataframe thead th {\n",
       "        text-align: right;\n",
       "    }\n",
       "</style>\n",
       "<table border=\"1\" class=\"dataframe\">\n",
       "  <thead>\n",
       "    <tr style=\"text-align: right;\">\n",
       "      <th></th>\n",
       "      <th>Cust_ID</th>\n",
       "      <th>Gender</th>\n",
       "      <th>Orders</th>\n",
       "      <th>Jordan</th>\n",
       "      <th>Gatorade</th>\n",
       "      <th>Samsung</th>\n",
       "      <th>Asus</th>\n",
       "      <th>Udis</th>\n",
       "      <th>Mondelez International</th>\n",
       "      <th>Wrangler</th>\n",
       "      <th>Vans</th>\n",
       "      <th>Fila</th>\n",
       "      <th>Brooks</th>\n",
       "      <th>H&amp;M</th>\n",
       "      <th>Dairy Queen</th>\n",
       "      <th>Fendi</th>\n",
       "      <th>Hewlett Packard</th>\n",
       "      <th>Pladis</th>\n",
       "      <th>Asics</th>\n",
       "      <th>Siemens</th>\n",
       "      <th>J.M. Smucker</th>\n",
       "      <th>Pop Chips</th>\n",
       "      <th>Juniper</th>\n",
       "      <th>Huawei</th>\n",
       "      <th>Compaq</th>\n",
       "      <th>IBM</th>\n",
       "      <th>Burberry</th>\n",
       "      <th>Mi</th>\n",
       "      <th>LG</th>\n",
       "      <th>Dior</th>\n",
       "      <th>Scabal</th>\n",
       "      <th>Tommy Hilfiger</th>\n",
       "      <th>Hollister</th>\n",
       "      <th>Forever 21</th>\n",
       "      <th>Colavita</th>\n",
       "      <th>Microsoft</th>\n",
       "      <th>Jiffy mix</th>\n",
       "      <th>Kraft</th>\n",
       "      <th>Order_cat</th>\n",
       "    </tr>\n",
       "  </thead>\n",
       "  <tbody>\n",
       "    <tr>\n",
       "      <th>113</th>\n",
       "      <td>114</td>\n",
       "      <td>F</td>\n",
       "      <td>8</td>\n",
       "      <td>2</td>\n",
       "      <td>0</td>\n",
       "      <td>0</td>\n",
       "      <td>0</td>\n",
       "      <td>0</td>\n",
       "      <td>0</td>\n",
       "      <td>0</td>\n",
       "      <td>0</td>\n",
       "      <td>0</td>\n",
       "      <td>0</td>\n",
       "      <td>1</td>\n",
       "      <td>0</td>\n",
       "      <td>0</td>\n",
       "      <td>0</td>\n",
       "      <td>0</td>\n",
       "      <td>34</td>\n",
       "      <td>3</td>\n",
       "      <td>5</td>\n",
       "      <td>2</td>\n",
       "      <td>0</td>\n",
       "      <td>0</td>\n",
       "      <td>0</td>\n",
       "      <td>0</td>\n",
       "      <td>0</td>\n",
       "      <td>0</td>\n",
       "      <td>0</td>\n",
       "      <td>0</td>\n",
       "      <td>0</td>\n",
       "      <td>0</td>\n",
       "      <td>0</td>\n",
       "      <td>0</td>\n",
       "      <td>0</td>\n",
       "      <td>0</td>\n",
       "      <td>0</td>\n",
       "      <td>0</td>\n",
       "      <td>7 to 12 orders</td>\n",
       "    </tr>\n",
       "    <tr>\n",
       "      <th>4910</th>\n",
       "      <td>4911</td>\n",
       "      <td>M</td>\n",
       "      <td>1</td>\n",
       "      <td>0</td>\n",
       "      <td>0</td>\n",
       "      <td>0</td>\n",
       "      <td>0</td>\n",
       "      <td>0</td>\n",
       "      <td>0</td>\n",
       "      <td>0</td>\n",
       "      <td>0</td>\n",
       "      <td>0</td>\n",
       "      <td>0</td>\n",
       "      <td>3</td>\n",
       "      <td>1</td>\n",
       "      <td>0</td>\n",
       "      <td>0</td>\n",
       "      <td>0</td>\n",
       "      <td>21</td>\n",
       "      <td>11</td>\n",
       "      <td>5</td>\n",
       "      <td>2</td>\n",
       "      <td>0</td>\n",
       "      <td>0</td>\n",
       "      <td>0</td>\n",
       "      <td>0</td>\n",
       "      <td>0</td>\n",
       "      <td>0</td>\n",
       "      <td>0</td>\n",
       "      <td>1</td>\n",
       "      <td>0</td>\n",
       "      <td>0</td>\n",
       "      <td>0</td>\n",
       "      <td>0</td>\n",
       "      <td>1</td>\n",
       "      <td>1</td>\n",
       "      <td>0</td>\n",
       "      <td>0</td>\n",
       "      <td>1 to 6 orders</td>\n",
       "    </tr>\n",
       "    <tr>\n",
       "      <th>11195</th>\n",
       "      <td>11196</td>\n",
       "      <td>F</td>\n",
       "      <td>3</td>\n",
       "      <td>0</td>\n",
       "      <td>0</td>\n",
       "      <td>0</td>\n",
       "      <td>0</td>\n",
       "      <td>0</td>\n",
       "      <td>0</td>\n",
       "      <td>0</td>\n",
       "      <td>0</td>\n",
       "      <td>0</td>\n",
       "      <td>0</td>\n",
       "      <td>0</td>\n",
       "      <td>0</td>\n",
       "      <td>0</td>\n",
       "      <td>0</td>\n",
       "      <td>0</td>\n",
       "      <td>66</td>\n",
       "      <td>1</td>\n",
       "      <td>0</td>\n",
       "      <td>0</td>\n",
       "      <td>0</td>\n",
       "      <td>0</td>\n",
       "      <td>0</td>\n",
       "      <td>0</td>\n",
       "      <td>0</td>\n",
       "      <td>0</td>\n",
       "      <td>0</td>\n",
       "      <td>0</td>\n",
       "      <td>0</td>\n",
       "      <td>0</td>\n",
       "      <td>0</td>\n",
       "      <td>0</td>\n",
       "      <td>1</td>\n",
       "      <td>0</td>\n",
       "      <td>0</td>\n",
       "      <td>0</td>\n",
       "      <td>1 to 6 orders</td>\n",
       "    </tr>\n",
       "    <tr>\n",
       "      <th>14992</th>\n",
       "      <td>14993</td>\n",
       "      <td>F</td>\n",
       "      <td>5</td>\n",
       "      <td>0</td>\n",
       "      <td>3</td>\n",
       "      <td>0</td>\n",
       "      <td>0</td>\n",
       "      <td>0</td>\n",
       "      <td>0</td>\n",
       "      <td>0</td>\n",
       "      <td>0</td>\n",
       "      <td>0</td>\n",
       "      <td>0</td>\n",
       "      <td>2</td>\n",
       "      <td>0</td>\n",
       "      <td>0</td>\n",
       "      <td>0</td>\n",
       "      <td>0</td>\n",
       "      <td>20</td>\n",
       "      <td>1</td>\n",
       "      <td>1</td>\n",
       "      <td>1</td>\n",
       "      <td>1</td>\n",
       "      <td>0</td>\n",
       "      <td>0</td>\n",
       "      <td>0</td>\n",
       "      <td>0</td>\n",
       "      <td>0</td>\n",
       "      <td>0</td>\n",
       "      <td>0</td>\n",
       "      <td>0</td>\n",
       "      <td>0</td>\n",
       "      <td>0</td>\n",
       "      <td>0</td>\n",
       "      <td>0</td>\n",
       "      <td>0</td>\n",
       "      <td>0</td>\n",
       "      <td>0</td>\n",
       "      <td>1 to 6 orders</td>\n",
       "    </tr>\n",
       "    <tr>\n",
       "      <th>20592</th>\n",
       "      <td>20593</td>\n",
       "      <td>M</td>\n",
       "      <td>9</td>\n",
       "      <td>0</td>\n",
       "      <td>0</td>\n",
       "      <td>0</td>\n",
       "      <td>0</td>\n",
       "      <td>0</td>\n",
       "      <td>0</td>\n",
       "      <td>0</td>\n",
       "      <td>0</td>\n",
       "      <td>0</td>\n",
       "      <td>0</td>\n",
       "      <td>0</td>\n",
       "      <td>1</td>\n",
       "      <td>0</td>\n",
       "      <td>0</td>\n",
       "      <td>0</td>\n",
       "      <td>20</td>\n",
       "      <td>0</td>\n",
       "      <td>19</td>\n",
       "      <td>5</td>\n",
       "      <td>0</td>\n",
       "      <td>0</td>\n",
       "      <td>0</td>\n",
       "      <td>0</td>\n",
       "      <td>2</td>\n",
       "      <td>0</td>\n",
       "      <td>0</td>\n",
       "      <td>0</td>\n",
       "      <td>0</td>\n",
       "      <td>0</td>\n",
       "      <td>0</td>\n",
       "      <td>0</td>\n",
       "      <td>0</td>\n",
       "      <td>0</td>\n",
       "      <td>0</td>\n",
       "      <td>0</td>\n",
       "      <td>7 to 12 orders</td>\n",
       "    </tr>\n",
       "    <tr>\n",
       "      <th>25616</th>\n",
       "      <td>25617</td>\n",
       "      <td>F</td>\n",
       "      <td>5</td>\n",
       "      <td>0</td>\n",
       "      <td>0</td>\n",
       "      <td>0</td>\n",
       "      <td>0</td>\n",
       "      <td>0</td>\n",
       "      <td>2</td>\n",
       "      <td>0</td>\n",
       "      <td>0</td>\n",
       "      <td>0</td>\n",
       "      <td>0</td>\n",
       "      <td>0</td>\n",
       "      <td>0</td>\n",
       "      <td>0</td>\n",
       "      <td>0</td>\n",
       "      <td>0</td>\n",
       "      <td>27</td>\n",
       "      <td>0</td>\n",
       "      <td>1</td>\n",
       "      <td>0</td>\n",
       "      <td>0</td>\n",
       "      <td>0</td>\n",
       "      <td>0</td>\n",
       "      <td>0</td>\n",
       "      <td>0</td>\n",
       "      <td>0</td>\n",
       "      <td>1</td>\n",
       "      <td>0</td>\n",
       "      <td>2</td>\n",
       "      <td>1</td>\n",
       "      <td>0</td>\n",
       "      <td>0</td>\n",
       "      <td>0</td>\n",
       "      <td>0</td>\n",
       "      <td>0</td>\n",
       "      <td>0</td>\n",
       "      <td>1 to 6 orders</td>\n",
       "    </tr>\n",
       "    <tr>\n",
       "      <th>28452</th>\n",
       "      <td>28453</td>\n",
       "      <td>M</td>\n",
       "      <td>10</td>\n",
       "      <td>0</td>\n",
       "      <td>1</td>\n",
       "      <td>0</td>\n",
       "      <td>0</td>\n",
       "      <td>0</td>\n",
       "      <td>0</td>\n",
       "      <td>0</td>\n",
       "      <td>0</td>\n",
       "      <td>0</td>\n",
       "      <td>0</td>\n",
       "      <td>0</td>\n",
       "      <td>1</td>\n",
       "      <td>0</td>\n",
       "      <td>0</td>\n",
       "      <td>0</td>\n",
       "      <td>20</td>\n",
       "      <td>7</td>\n",
       "      <td>5</td>\n",
       "      <td>0</td>\n",
       "      <td>1</td>\n",
       "      <td>1</td>\n",
       "      <td>0</td>\n",
       "      <td>0</td>\n",
       "      <td>3</td>\n",
       "      <td>0</td>\n",
       "      <td>0</td>\n",
       "      <td>1</td>\n",
       "      <td>0</td>\n",
       "      <td>2</td>\n",
       "      <td>1</td>\n",
       "      <td>1</td>\n",
       "      <td>1</td>\n",
       "      <td>1</td>\n",
       "      <td>0</td>\n",
       "      <td>0</td>\n",
       "      <td>7 to 12 orders</td>\n",
       "    </tr>\n",
       "  </tbody>\n",
       "</table>\n",
       "</div>"
      ],
      "text/plain": [
       "       Cust_ID Gender  Orders  Jordan  Gatorade  Samsung  Asus  Udis  \\\n",
       "113        114      F       8       2         0        0     0     0   \n",
       "4910      4911      M       1       0         0        0     0     0   \n",
       "11195    11196      F       3       0         0        0     0     0   \n",
       "14992    14993      F       5       0         3        0     0     0   \n",
       "20592    20593      M       9       0         0        0     0     0   \n",
       "25616    25617      F       5       0         0        0     0     0   \n",
       "28452    28453      M      10       0         1        0     0     0   \n",
       "\n",
       "       Mondelez International  Wrangler  Vans  Fila  Brooks  H&M  Dairy Queen  \\\n",
       "113                         0         0     0     0       0    1            0   \n",
       "4910                        0         0     0     0       0    3            1   \n",
       "11195                       0         0     0     0       0    0            0   \n",
       "14992                       0         0     0     0       0    2            0   \n",
       "20592                       0         0     0     0       0    0            1   \n",
       "25616                       2         0     0     0       0    0            0   \n",
       "28452                       0         0     0     0       0    0            1   \n",
       "\n",
       "       Fendi  Hewlett Packard  Pladis  Asics  Siemens  J.M. Smucker  \\\n",
       "113        0                0       0     34        3             5   \n",
       "4910       0                0       0     21       11             5   \n",
       "11195      0                0       0     66        1             0   \n",
       "14992      0                0       0     20        1             1   \n",
       "20592      0                0       0     20        0            19   \n",
       "25616      0                0       0     27        0             1   \n",
       "28452      0                0       0     20        7             5   \n",
       "\n",
       "       Pop Chips  Juniper  Huawei  Compaq  IBM  Burberry  Mi  LG  Dior  \\\n",
       "113            2        0       0       0    0         0   0   0     0   \n",
       "4910           2        0       0       0    0         0   0   0     1   \n",
       "11195          0        0       0       0    0         0   0   0     0   \n",
       "14992          1        1       0       0    0         0   0   0     0   \n",
       "20592          5        0       0       0    0         2   0   0     0   \n",
       "25616          0        0       0       0    0         0   0   1     0   \n",
       "28452          0        1       1       0    0         3   0   0     1   \n",
       "\n",
       "       Scabal  Tommy Hilfiger  Hollister  Forever 21  Colavita  Microsoft  \\\n",
       "113         0               0          0           0         0          0   \n",
       "4910        0               0          0           0         1          1   \n",
       "11195       0               0          0           0         1          0   \n",
       "14992       0               0          0           0         0          0   \n",
       "20592       0               0          0           0         0          0   \n",
       "25616       2               1          0           0         0          0   \n",
       "28452       0               2          1           1         1          1   \n",
       "\n",
       "       Jiffy mix  Kraft       Order_cat  \n",
       "113            0      0  7 to 12 orders  \n",
       "4910           0      0   1 to 6 orders  \n",
       "11195          0      0   1 to 6 orders  \n",
       "14992          0      0   1 to 6 orders  \n",
       "20592          0      0  7 to 12 orders  \n",
       "25616          0      0   1 to 6 orders  \n",
       "28452          0      0  7 to 12 orders  "
      ]
     },
     "execution_count": 151,
     "metadata": {},
     "output_type": "execute_result"
    }
   ],
   "source": [
    "df[df['Asics']>=20]"
   ]
  },
  {
   "cell_type": "code",
   "execution_count": 152,
   "metadata": {},
   "outputs": [],
   "source": [
    "# These are the customers who searched for Asics more than 20 times."
   ]
  },
  {
   "cell_type": "code",
   "execution_count": 153,
   "metadata": {},
   "outputs": [
    {
     "name": "stdout",
     "output_type": "stream",
     "text": [
      "Proportion of 0:  85.28999999999999 %\n",
      "Proportion of 1:  8.64 %\n",
      "Proportion of 2:  2.8000000000000003 %\n",
      "Proportion of 3:  1.3599999999999999 %\n",
      "Proportion of 4:  0.74 %\n",
      "Proportion of 5:  0.4 %\n",
      "Proportion of 6:  0.25 %\n",
      "Proportion of 7:  0.16999999999999998 %\n",
      "Proportion of 8:  0.09 %\n",
      "Proportion of 9:  0.08 %\n",
      "Proportion of 10:  0.04 %\n",
      "Proportion of 11:  0.03 %\n",
      "Proportion of 12:  0.03 %\n",
      "Proportion of 13:  0.02 %\n",
      "Proportion of 14:  0.01 %\n",
      "Proportion of 20:  0.01 %\n",
      "Proportion of 15:  0.01 %\n",
      "Proportion of 18:  0.01 %\n",
      "Proportion of 66:  0.0 %\n",
      "Proportion of 21:  0.0 %\n",
      "Proportion of 16:  0.0 %\n",
      "Proportion of 27:  0.0 %\n",
      "Proportion of 17:  0.0 %\n",
      "Proportion of 19:  0.0 %\n",
      "Proportion of 34:  0.0 %\n"
     ]
    }
   ],
   "source": [
    "find_proportion('Asics', df)"
   ]
  },
  {
   "cell_type": "code",
   "execution_count": 154,
   "metadata": {},
   "outputs": [],
   "source": [
    "zero['Asics'] = 85.28"
   ]
  },
  {
   "cell_type": "markdown",
   "metadata": {},
   "source": [
    "#### Siemens"
   ]
  },
  {
   "cell_type": "code",
   "execution_count": 155,
   "metadata": {
    "scrolled": true
   },
   "outputs": [
    {
     "data": {
      "text/plain": [
       "0     29077\n",
       "1       621\n",
       "2       210\n",
       "3        47\n",
       "7        18\n",
       "4        17\n",
       "5         4\n",
       "6         3\n",
       "8         1\n",
       "9         1\n",
       "11        1\n",
       "Name: Siemens, dtype: int64"
      ]
     },
     "execution_count": 155,
     "metadata": {},
     "output_type": "execute_result"
    }
   ],
   "source": [
    "df.Siemens.value_counts()"
   ]
  },
  {
   "cell_type": "code",
   "execution_count": 156,
   "metadata": {},
   "outputs": [
    {
     "data": {
      "text/plain": [
       "<AxesSubplot:xlabel='Siemens', ylabel='count'>"
      ]
     },
     "execution_count": 156,
     "metadata": {},
     "output_type": "execute_result"
    },
    {
     "data": {
      "image/png": "[encoded data removed]",
      "text/plain": [
       "<Figure size 432x288 with 1 Axes>"
      ]
     },
     "metadata": {
      "needs_background": "light"
     },
     "output_type": "display_data"
    }
   ],
   "source": [
    "sns.countplot(df.Siemens)"
   ]
  },
  {
   "cell_type": "code",
   "execution_count": 157,
   "metadata": {},
   "outputs": [
    {
     "data": {
      "text/plain": [
       "Gender\n",
       "F    1.487952\n",
       "M    1.591398\n",
       "Name: Siemens, dtype: float64"
      ]
     },
     "execution_count": 157,
     "metadata": {},
     "output_type": "execute_result"
    }
   ],
   "source": [
    "df[df['Siemens']>0].groupby('Gender').mean()['Siemens']"
   ]
  },
  {
   "cell_type": "code",
   "execution_count": 158,
   "metadata": {},
   "outputs": [
    {
     "data": {
      "text/plain": [
       "Order_cat\n",
       "0 order           0.047710\n",
       "1 to 6 orders     0.044705\n",
       "7 to 12 orders    0.053352\n",
       "Name: Siemens, dtype: float64"
      ]
     },
     "execution_count": 158,
     "metadata": {},
     "output_type": "execute_result"
    }
   ],
   "source": [
    "df.groupby('Order_cat').mean()['Siemens']"
   ]
  },
  {
   "cell_type": "code",
   "execution_count": 159,
   "metadata": {},
   "outputs": [
    {
     "name": "stdout",
     "output_type": "stream",
     "text": [
      "Proportion of 0:  96.92 %\n",
      "Proportion of 1:  2.07 %\n",
      "Proportion of 2:  0.7000000000000001 %\n",
      "Proportion of 3:  0.16 %\n",
      "Proportion of 7:  0.06 %\n",
      "Proportion of 4:  0.06 %\n",
      "Proportion of 5:  0.01 %\n",
      "Proportion of 6:  0.01 %\n",
      "Proportion of 8:  0.0 %\n",
      "Proportion of 9:  0.0 %\n",
      "Proportion of 11:  0.0 %\n"
     ]
    }
   ],
   "source": [
    "find_proportion('Siemens', df)"
   ]
  },
  {
   "cell_type": "code",
   "execution_count": 160,
   "metadata": {},
   "outputs": [],
   "source": [
    "zero['Siemens'] = 96.92"
   ]
  },
  {
   "cell_type": "markdown",
   "metadata": {},
   "source": [
    "#### J.M. Smucker"
   ]
  },
  {
   "cell_type": "code",
   "execution_count": 161,
   "metadata": {
    "scrolled": false
   },
   "outputs": [
    {
     "data": {
      "text/plain": [
       "0     16480\n",
       "1      8467\n",
       "2      3062\n",
       "3      1069\n",
       "4       498\n",
       "5       200\n",
       "6       117\n",
       "7        33\n",
       "8        25\n",
       "10       11\n",
       "9         8\n",
       "13        6\n",
       "12        3\n",
       "18        3\n",
       "11        2\n",
       "20        2\n",
       "17        2\n",
       "14        2\n",
       "15        2\n",
       "22        1\n",
       "16        1\n",
       "23        1\n",
       "19        1\n",
       "21        1\n",
       "25        1\n",
       "64        1\n",
       "27        1\n",
       "Name: J.M. Smucker, dtype: int64"
      ]
     },
     "execution_count": 161,
     "metadata": {},
     "output_type": "execute_result"
    }
   ],
   "source": [
    "df['J.M. Smucker'].value_counts()"
   ]
  },
  {
   "cell_type": "code",
   "execution_count": 162,
   "metadata": {},
   "outputs": [
    {
     "data": {
      "text/plain": [
       "<AxesSubplot:xlabel='J.M. Smucker', ylabel='count'>"
      ]
     },
     "execution_count": 162,
     "metadata": {},
     "output_type": "execute_result"
    },
    {
     "data": {
      "image/png": "[encoded data removed]",
      "text/plain": [
       "<Figure size 432x288 with 1 Axes>"
      ]
     },
     "metadata": {
      "needs_background": "light"
     },
     "output_type": "display_data"
    }
   ],
   "source": [
    "sns.countplot(df['J.M. Smucker'])"
   ]
  },
  {
   "cell_type": "code",
   "execution_count": 163,
   "metadata": {},
   "outputs": [
    {
     "data": {
      "text/plain": [
       "Gender\n",
       "F    1.656214\n",
       "M    1.719557\n",
       "Name: J.M. Smucker, dtype: float64"
      ]
     },
     "execution_count": 163,
     "metadata": {},
     "output_type": "execute_result"
    }
   ],
   "source": [
    "df[df['J.M. Smucker']>0].groupby('Gender').mean()['J.M. Smucker']"
   ]
  },
  {
   "cell_type": "code",
   "execution_count": 164,
   "metadata": {},
   "outputs": [
    {
     "data": {
      "text/plain": [
       "Order_cat\n",
       "0 order           0.682067\n",
       "1 to 6 orders     0.767639\n",
       "7 to 12 orders    0.793821\n",
       "Name: J.M. Smucker, dtype: float64"
      ]
     },
     "execution_count": 164,
     "metadata": {},
     "output_type": "execute_result"
    }
   ],
   "source": [
    "df.groupby('Order_cat').mean()['J.M. Smucker']"
   ]
  },
  {
   "cell_type": "code",
   "execution_count": 165,
   "metadata": {},
   "outputs": [
    {
     "data": {
      "text/html": [
       "<div>\n",
       "<style scoped>\n",
       "    .dataframe tbody tr th:only-of-type {\n",
       "        vertical-align: middle;\n",
       "    }\n",
       "\n",
       "    .dataframe tbody tr th {\n",
       "        vertical-align: top;\n",
       "    }\n",
       "\n",
       "    .dataframe thead th {\n",
       "        text-align: right;\n",
       "    }\n",
       "</style>\n",
       "<table border=\"1\" class=\"dataframe\">\n",
       "  <thead>\n",
       "    <tr style=\"text-align: right;\">\n",
       "      <th></th>\n",
       "      <th>Cust_ID</th>\n",
       "      <th>Gender</th>\n",
       "      <th>Orders</th>\n",
       "      <th>Jordan</th>\n",
       "      <th>Gatorade</th>\n",
       "      <th>Samsung</th>\n",
       "      <th>Asus</th>\n",
       "      <th>Udis</th>\n",
       "      <th>Mondelez International</th>\n",
       "      <th>Wrangler</th>\n",
       "      <th>Vans</th>\n",
       "      <th>Fila</th>\n",
       "      <th>Brooks</th>\n",
       "      <th>H&amp;M</th>\n",
       "      <th>Dairy Queen</th>\n",
       "      <th>Fendi</th>\n",
       "      <th>Hewlett Packard</th>\n",
       "      <th>Pladis</th>\n",
       "      <th>Asics</th>\n",
       "      <th>Siemens</th>\n",
       "      <th>J.M. Smucker</th>\n",
       "      <th>Pop Chips</th>\n",
       "      <th>Juniper</th>\n",
       "      <th>Huawei</th>\n",
       "      <th>Compaq</th>\n",
       "      <th>IBM</th>\n",
       "      <th>Burberry</th>\n",
       "      <th>Mi</th>\n",
       "      <th>LG</th>\n",
       "      <th>Dior</th>\n",
       "      <th>Scabal</th>\n",
       "      <th>Tommy Hilfiger</th>\n",
       "      <th>Hollister</th>\n",
       "      <th>Forever 21</th>\n",
       "      <th>Colavita</th>\n",
       "      <th>Microsoft</th>\n",
       "      <th>Jiffy mix</th>\n",
       "      <th>Kraft</th>\n",
       "      <th>Order_cat</th>\n",
       "    </tr>\n",
       "  </thead>\n",
       "  <tbody>\n",
       "    <tr>\n",
       "      <th>13224</th>\n",
       "      <td>13225</td>\n",
       "      <td>NaN</td>\n",
       "      <td>6</td>\n",
       "      <td>0</td>\n",
       "      <td>0</td>\n",
       "      <td>0</td>\n",
       "      <td>0</td>\n",
       "      <td>0</td>\n",
       "      <td>1</td>\n",
       "      <td>0</td>\n",
       "      <td>0</td>\n",
       "      <td>1</td>\n",
       "      <td>0</td>\n",
       "      <td>2</td>\n",
       "      <td>0</td>\n",
       "      <td>0</td>\n",
       "      <td>0</td>\n",
       "      <td>0</td>\n",
       "      <td>0</td>\n",
       "      <td>0</td>\n",
       "      <td>64</td>\n",
       "      <td>2</td>\n",
       "      <td>0</td>\n",
       "      <td>0</td>\n",
       "      <td>0</td>\n",
       "      <td>0</td>\n",
       "      <td>3</td>\n",
       "      <td>0</td>\n",
       "      <td>0</td>\n",
       "      <td>0</td>\n",
       "      <td>0</td>\n",
       "      <td>0</td>\n",
       "      <td>0</td>\n",
       "      <td>0</td>\n",
       "      <td>0</td>\n",
       "      <td>0</td>\n",
       "      <td>0</td>\n",
       "      <td>0</td>\n",
       "      <td>1 to 6 orders</td>\n",
       "    </tr>\n",
       "  </tbody>\n",
       "</table>\n",
       "</div>"
      ],
      "text/plain": [
       "       Cust_ID Gender  Orders  Jordan  Gatorade  Samsung  Asus  Udis  \\\n",
       "13224    13225    NaN       6       0         0        0     0     0   \n",
       "\n",
       "       Mondelez International  Wrangler  Vans  Fila  Brooks  H&M  Dairy Queen  \\\n",
       "13224                       1         0     0     1       0    2            0   \n",
       "\n",
       "       Fendi  Hewlett Packard  Pladis  Asics  Siemens  J.M. Smucker  \\\n",
       "13224      0                0       0      0        0            64   \n",
       "\n",
       "       Pop Chips  Juniper  Huawei  Compaq  IBM  Burberry  Mi  LG  Dior  \\\n",
       "13224          2        0       0       0    0         3   0   0     0   \n",
       "\n",
       "       Scabal  Tommy Hilfiger  Hollister  Forever 21  Colavita  Microsoft  \\\n",
       "13224       0               0          0           0         0          0   \n",
       "\n",
       "       Jiffy mix  Kraft      Order_cat  \n",
       "13224          0      0  1 to 6 orders  "
      ]
     },
     "execution_count": 165,
     "metadata": {},
     "output_type": "execute_result"
    }
   ],
   "source": [
    "df[df['J.M. Smucker']==64]"
   ]
  },
  {
   "cell_type": "code",
   "execution_count": 166,
   "metadata": {},
   "outputs": [],
   "source": [
    "# Customer 13225 has a high chance of buying the products of J.M. Smucker if marketed properly."
   ]
  },
  {
   "cell_type": "code",
   "execution_count": 167,
   "metadata": {},
   "outputs": [
    {
     "name": "stdout",
     "output_type": "stream",
     "text": [
      "Proportion of 0:  54.93 %\n",
      "Proportion of 1:  28.22 %\n",
      "Proportion of 2:  10.209999999999999 %\n",
      "Proportion of 3:  3.56 %\n",
      "Proportion of 4:  1.66 %\n",
      "Proportion of 5:  0.67 %\n",
      "Proportion of 6:  0.38999999999999996 %\n",
      "Proportion of 7:  0.11 %\n",
      "Proportion of 8:  0.08 %\n",
      "Proportion of 10:  0.04 %\n",
      "Proportion of 9:  0.03 %\n",
      "Proportion of 13:  0.02 %\n",
      "Proportion of 12:  0.01 %\n",
      "Proportion of 18:  0.01 %\n",
      "Proportion of 11:  0.01 %\n",
      "Proportion of 20:  0.01 %\n",
      "Proportion of 17:  0.01 %\n",
      "Proportion of 14:  0.01 %\n",
      "Proportion of 15:  0.01 %\n",
      "Proportion of 22:  0.0 %\n",
      "Proportion of 16:  0.0 %\n",
      "Proportion of 23:  0.0 %\n",
      "Proportion of 19:  0.0 %\n",
      "Proportion of 21:  0.0 %\n",
      "Proportion of 25:  0.0 %\n",
      "Proportion of 64:  0.0 %\n",
      "Proportion of 27:  0.0 %\n"
     ]
    }
   ],
   "source": [
    "find_proportion('J.M. Smucker', df)"
   ]
  },
  {
   "cell_type": "code",
   "execution_count": 168,
   "metadata": {},
   "outputs": [],
   "source": [
    "# Atleast 46% of the customers has searched for J.M. Smucker atleast once."
   ]
  },
  {
   "cell_type": "code",
   "execution_count": 169,
   "metadata": {},
   "outputs": [],
   "source": [
    "zero['J.M. Smucker'] = 54.93"
   ]
  },
  {
   "cell_type": "markdown",
   "metadata": {},
   "source": [
    "#### Pop Chips"
   ]
  },
  {
   "cell_type": "code",
   "execution_count": 170,
   "metadata": {
    "scrolled": true
   },
   "outputs": [
    {
     "data": {
      "text/plain": [
       "0     24960\n",
       "1      3705\n",
       "2       855\n",
       "3       242\n",
       "4       108\n",
       "5        51\n",
       "6        35\n",
       "7        19\n",
       "9         7\n",
       "8         5\n",
       "10        5\n",
       "11        2\n",
       "12        2\n",
       "21        1\n",
       "18        1\n",
       "13        1\n",
       "15        1\n",
       "Name: Pop Chips, dtype: int64"
      ]
     },
     "execution_count": 170,
     "metadata": {},
     "output_type": "execute_result"
    }
   ],
   "source": [
    "df['Pop Chips'].value_counts()"
   ]
  },
  {
   "cell_type": "code",
   "execution_count": 171,
   "metadata": {},
   "outputs": [
    {
     "data": {
      "text/plain": [
       "<AxesSubplot:xlabel='Pop Chips', ylabel='count'>"
      ]
     },
     "execution_count": 171,
     "metadata": {},
     "output_type": "execute_result"
    },
    {
     "data": {
      "image/png": "[encoded data removed]",
      "text/plain": [
       "<Figure size 432x288 with 1 Axes>"
      ]
     },
     "metadata": {
      "needs_background": "light"
     },
     "output_type": "display_data"
    }
   ],
   "source": [
    "sns.countplot(df['Pop Chips'])"
   ]
  },
  {
   "cell_type": "code",
   "execution_count": 172,
   "metadata": {},
   "outputs": [
    {
     "data": {
      "text/plain": [
       "Gender\n",
       "F    1.475629\n",
       "M    1.511811\n",
       "Name: Pop Chips, dtype: float64"
      ]
     },
     "execution_count": 172,
     "metadata": {},
     "output_type": "execute_result"
    }
   ],
   "source": [
    "df[df['Pop Chips']>0].groupby('Gender').mean()['Pop Chips']"
   ]
  },
  {
   "cell_type": "code",
   "execution_count": 173,
   "metadata": {},
   "outputs": [
    {
     "data": {
      "text/plain": [
       "Order_cat\n",
       "0 order           0.216891\n",
       "1 to 6 orders     0.254014\n",
       "7 to 12 orders    0.263585\n",
       "Name: Pop Chips, dtype: float64"
      ]
     },
     "execution_count": 173,
     "metadata": {},
     "output_type": "execute_result"
    }
   ],
   "source": [
    "df.groupby('Order_cat').mean()['Pop Chips']"
   ]
  },
  {
   "cell_type": "code",
   "execution_count": 174,
   "metadata": {},
   "outputs": [
    {
     "name": "stdout",
     "output_type": "stream",
     "text": [
      "Proportion of 0:  83.2 %\n",
      "Proportion of 1:  12.35 %\n",
      "Proportion of 2:  2.85 %\n",
      "Proportion of 3:  0.8099999999999999 %\n",
      "Proportion of 4:  0.36 %\n",
      "Proportion of 5:  0.16999999999999998 %\n",
      "Proportion of 6:  0.12 %\n",
      "Proportion of 7:  0.06 %\n",
      "Proportion of 9:  0.02 %\n",
      "Proportion of 8:  0.02 %\n",
      "Proportion of 10:  0.02 %\n",
      "Proportion of 11:  0.01 %\n",
      "Proportion of 12:  0.01 %\n",
      "Proportion of 21:  0.0 %\n",
      "Proportion of 18:  0.0 %\n",
      "Proportion of 13:  0.0 %\n",
      "Proportion of 15:  0.0 %\n"
     ]
    }
   ],
   "source": [
    "find_proportion('Pop Chips', df)"
   ]
  },
  {
   "cell_type": "code",
   "execution_count": 175,
   "metadata": {},
   "outputs": [],
   "source": [
    "zero['Pop Chips'] = 83.2"
   ]
  },
  {
   "cell_type": "markdown",
   "metadata": {},
   "source": [
    "#### Juniper"
   ]
  },
  {
   "cell_type": "code",
   "execution_count": 176,
   "metadata": {
    "scrolled": false
   },
   "outputs": [
    {
     "data": {
      "text/plain": [
       "0     22031\n",
       "1      5203\n",
       "2      1585\n",
       "3       563\n",
       "4       244\n",
       "5       124\n",
       "6        71\n",
       "7        54\n",
       "8        25\n",
       "9        22\n",
       "10       16\n",
       "11       14\n",
       "14       11\n",
       "12        6\n",
       "18        6\n",
       "15        5\n",
       "13        3\n",
       "27        2\n",
       "22        2\n",
       "23        2\n",
       "20        2\n",
       "17        2\n",
       "39        1\n",
       "26        1\n",
       "16        1\n",
       "37        1\n",
       "52        1\n",
       "36        1\n",
       "79        1\n",
       "Name: Juniper, dtype: int64"
      ]
     },
     "execution_count": 176,
     "metadata": {},
     "output_type": "execute_result"
    }
   ],
   "source": [
    "df.Juniper.value_counts()"
   ]
  },
  {
   "cell_type": "code",
   "execution_count": 177,
   "metadata": {},
   "outputs": [
    {
     "data": {
      "text/plain": [
       "<AxesSubplot:xlabel='Juniper', ylabel='count'>"
      ]
     },
     "execution_count": 177,
     "metadata": {},
     "output_type": "execute_result"
    },
    {
     "data": {
      "image/png": "[encoded data removed]",
      "text/plain": [
       "<Figure size 432x288 with 1 Axes>"
      ]
     },
     "metadata": {
      "needs_background": "light"
     },
     "output_type": "display_data"
    }
   ],
   "source": [
    "sns.countplot(df.Juniper)"
   ]
  },
  {
   "cell_type": "code",
   "execution_count": 178,
   "metadata": {},
   "outputs": [
    {
     "data": {
      "text/plain": [
       "Gender\n",
       "F    1.739068\n",
       "M    1.943054\n",
       "Name: Juniper, dtype: float64"
      ]
     },
     "execution_count": 178,
     "metadata": {},
     "output_type": "execute_result"
    }
   ],
   "source": [
    "df[df['Juniper']>0].groupby('Gender').mean()['Juniper']"
   ]
  },
  {
   "cell_type": "code",
   "execution_count": 179,
   "metadata": {},
   "outputs": [
    {
     "data": {
      "text/plain": [
       "Order_cat\n",
       "0 order           0.474225\n",
       "1 to 6 orders     0.478495\n",
       "7 to 12 orders    0.456727\n",
       "Name: Juniper, dtype: float64"
      ]
     },
     "execution_count": 179,
     "metadata": {},
     "output_type": "execute_result"
    }
   ],
   "source": [
    "df.groupby('Order_cat').mean()['Juniper']"
   ]
  },
  {
   "cell_type": "code",
   "execution_count": 180,
   "metadata": {},
   "outputs": [
    {
     "data": {
      "text/html": [
       "<div>\n",
       "<style scoped>\n",
       "    .dataframe tbody tr th:only-of-type {\n",
       "        vertical-align: middle;\n",
       "    }\n",
       "\n",
       "    .dataframe tbody tr th {\n",
       "        vertical-align: top;\n",
       "    }\n",
       "\n",
       "    .dataframe thead th {\n",
       "        text-align: right;\n",
       "    }\n",
       "</style>\n",
       "<table border=\"1\" class=\"dataframe\">\n",
       "  <thead>\n",
       "    <tr style=\"text-align: right;\">\n",
       "      <th></th>\n",
       "      <th>Cust_ID</th>\n",
       "      <th>Gender</th>\n",
       "      <th>Orders</th>\n",
       "      <th>Jordan</th>\n",
       "      <th>Gatorade</th>\n",
       "      <th>Samsung</th>\n",
       "      <th>Asus</th>\n",
       "      <th>Udis</th>\n",
       "      <th>Mondelez International</th>\n",
       "      <th>Wrangler</th>\n",
       "      <th>Vans</th>\n",
       "      <th>Fila</th>\n",
       "      <th>Brooks</th>\n",
       "      <th>H&amp;M</th>\n",
       "      <th>Dairy Queen</th>\n",
       "      <th>Fendi</th>\n",
       "      <th>Hewlett Packard</th>\n",
       "      <th>Pladis</th>\n",
       "      <th>Asics</th>\n",
       "      <th>Siemens</th>\n",
       "      <th>J.M. Smucker</th>\n",
       "      <th>Pop Chips</th>\n",
       "      <th>Juniper</th>\n",
       "      <th>Huawei</th>\n",
       "      <th>Compaq</th>\n",
       "      <th>IBM</th>\n",
       "      <th>Burberry</th>\n",
       "      <th>Mi</th>\n",
       "      <th>LG</th>\n",
       "      <th>Dior</th>\n",
       "      <th>Scabal</th>\n",
       "      <th>Tommy Hilfiger</th>\n",
       "      <th>Hollister</th>\n",
       "      <th>Forever 21</th>\n",
       "      <th>Colavita</th>\n",
       "      <th>Microsoft</th>\n",
       "      <th>Jiffy mix</th>\n",
       "      <th>Kraft</th>\n",
       "      <th>Order_cat</th>\n",
       "    </tr>\n",
       "  </thead>\n",
       "  <tbody>\n",
       "    <tr>\n",
       "      <th>8140</th>\n",
       "      <td>8141</td>\n",
       "      <td>F</td>\n",
       "      <td>6</td>\n",
       "      <td>0</td>\n",
       "      <td>0</td>\n",
       "      <td>0</td>\n",
       "      <td>0</td>\n",
       "      <td>0</td>\n",
       "      <td>0</td>\n",
       "      <td>0</td>\n",
       "      <td>0</td>\n",
       "      <td>0</td>\n",
       "      <td>0</td>\n",
       "      <td>1</td>\n",
       "      <td>1</td>\n",
       "      <td>3</td>\n",
       "      <td>4</td>\n",
       "      <td>0</td>\n",
       "      <td>0</td>\n",
       "      <td>0</td>\n",
       "      <td>0</td>\n",
       "      <td>0</td>\n",
       "      <td>37</td>\n",
       "      <td>0</td>\n",
       "      <td>6</td>\n",
       "      <td>0</td>\n",
       "      <td>1</td>\n",
       "      <td>0</td>\n",
       "      <td>0</td>\n",
       "      <td>0</td>\n",
       "      <td>0</td>\n",
       "      <td>0</td>\n",
       "      <td>2</td>\n",
       "      <td>2</td>\n",
       "      <td>0</td>\n",
       "      <td>0</td>\n",
       "      <td>0</td>\n",
       "      <td>0</td>\n",
       "      <td>1 to 6 orders</td>\n",
       "    </tr>\n",
       "    <tr>\n",
       "      <th>11816</th>\n",
       "      <td>11817</td>\n",
       "      <td>M</td>\n",
       "      <td>1</td>\n",
       "      <td>0</td>\n",
       "      <td>0</td>\n",
       "      <td>0</td>\n",
       "      <td>0</td>\n",
       "      <td>0</td>\n",
       "      <td>0</td>\n",
       "      <td>0</td>\n",
       "      <td>1</td>\n",
       "      <td>0</td>\n",
       "      <td>0</td>\n",
       "      <td>0</td>\n",
       "      <td>0</td>\n",
       "      <td>0</td>\n",
       "      <td>0</td>\n",
       "      <td>0</td>\n",
       "      <td>0</td>\n",
       "      <td>0</td>\n",
       "      <td>0</td>\n",
       "      <td>0</td>\n",
       "      <td>26</td>\n",
       "      <td>2</td>\n",
       "      <td>10</td>\n",
       "      <td>5</td>\n",
       "      <td>1</td>\n",
       "      <td>0</td>\n",
       "      <td>0</td>\n",
       "      <td>0</td>\n",
       "      <td>0</td>\n",
       "      <td>0</td>\n",
       "      <td>0</td>\n",
       "      <td>0</td>\n",
       "      <td>1</td>\n",
       "      <td>3</td>\n",
       "      <td>0</td>\n",
       "      <td>0</td>\n",
       "      <td>1 to 6 orders</td>\n",
       "    </tr>\n",
       "    <tr>\n",
       "      <th>12457</th>\n",
       "      <td>12458</td>\n",
       "      <td>M</td>\n",
       "      <td>10</td>\n",
       "      <td>0</td>\n",
       "      <td>1</td>\n",
       "      <td>0</td>\n",
       "      <td>0</td>\n",
       "      <td>0</td>\n",
       "      <td>2</td>\n",
       "      <td>0</td>\n",
       "      <td>1</td>\n",
       "      <td>0</td>\n",
       "      <td>3</td>\n",
       "      <td>0</td>\n",
       "      <td>0</td>\n",
       "      <td>0</td>\n",
       "      <td>0</td>\n",
       "      <td>0</td>\n",
       "      <td>0</td>\n",
       "      <td>0</td>\n",
       "      <td>2</td>\n",
       "      <td>0</td>\n",
       "      <td>27</td>\n",
       "      <td>1</td>\n",
       "      <td>13</td>\n",
       "      <td>4</td>\n",
       "      <td>0</td>\n",
       "      <td>0</td>\n",
       "      <td>0</td>\n",
       "      <td>0</td>\n",
       "      <td>0</td>\n",
       "      <td>0</td>\n",
       "      <td>0</td>\n",
       "      <td>0</td>\n",
       "      <td>1</td>\n",
       "      <td>2</td>\n",
       "      <td>0</td>\n",
       "      <td>0</td>\n",
       "      <td>7 to 12 orders</td>\n",
       "    </tr>\n",
       "    <tr>\n",
       "      <th>14283</th>\n",
       "      <td>14284</td>\n",
       "      <td>M</td>\n",
       "      <td>4</td>\n",
       "      <td>0</td>\n",
       "      <td>1</td>\n",
       "      <td>0</td>\n",
       "      <td>0</td>\n",
       "      <td>0</td>\n",
       "      <td>0</td>\n",
       "      <td>0</td>\n",
       "      <td>1</td>\n",
       "      <td>0</td>\n",
       "      <td>0</td>\n",
       "      <td>0</td>\n",
       "      <td>2</td>\n",
       "      <td>1</td>\n",
       "      <td>0</td>\n",
       "      <td>0</td>\n",
       "      <td>0</td>\n",
       "      <td>0</td>\n",
       "      <td>1</td>\n",
       "      <td>1</td>\n",
       "      <td>39</td>\n",
       "      <td>1</td>\n",
       "      <td>9</td>\n",
       "      <td>1</td>\n",
       "      <td>0</td>\n",
       "      <td>0</td>\n",
       "      <td>0</td>\n",
       "      <td>0</td>\n",
       "      <td>0</td>\n",
       "      <td>0</td>\n",
       "      <td>0</td>\n",
       "      <td>0</td>\n",
       "      <td>2</td>\n",
       "      <td>0</td>\n",
       "      <td>0</td>\n",
       "      <td>0</td>\n",
       "      <td>1 to 6 orders</td>\n",
       "    </tr>\n",
       "    <tr>\n",
       "      <th>24337</th>\n",
       "      <td>24338</td>\n",
       "      <td>M</td>\n",
       "      <td>11</td>\n",
       "      <td>0</td>\n",
       "      <td>0</td>\n",
       "      <td>0</td>\n",
       "      <td>0</td>\n",
       "      <td>0</td>\n",
       "      <td>0</td>\n",
       "      <td>0</td>\n",
       "      <td>0</td>\n",
       "      <td>0</td>\n",
       "      <td>0</td>\n",
       "      <td>0</td>\n",
       "      <td>0</td>\n",
       "      <td>0</td>\n",
       "      <td>0</td>\n",
       "      <td>0</td>\n",
       "      <td>0</td>\n",
       "      <td>0</td>\n",
       "      <td>0</td>\n",
       "      <td>0</td>\n",
       "      <td>52</td>\n",
       "      <td>1</td>\n",
       "      <td>30</td>\n",
       "      <td>11</td>\n",
       "      <td>0</td>\n",
       "      <td>0</td>\n",
       "      <td>0</td>\n",
       "      <td>0</td>\n",
       "      <td>0</td>\n",
       "      <td>1</td>\n",
       "      <td>0</td>\n",
       "      <td>0</td>\n",
       "      <td>0</td>\n",
       "      <td>1</td>\n",
       "      <td>0</td>\n",
       "      <td>0</td>\n",
       "      <td>7 to 12 orders</td>\n",
       "    </tr>\n",
       "  </tbody>\n",
       "</table>\n",
       "</div>"
      ],
      "text/plain": [
       "       Cust_ID Gender  Orders  Jordan  Gatorade  Samsung  Asus  Udis  \\\n",
       "8140      8141      F       6       0         0        0     0     0   \n",
       "11816    11817      M       1       0         0        0     0     0   \n",
       "12457    12458      M      10       0         1        0     0     0   \n",
       "14283    14284      M       4       0         1        0     0     0   \n",
       "24337    24338      M      11       0         0        0     0     0   \n",
       "\n",
       "       Mondelez International  Wrangler  Vans  Fila  Brooks  H&M  Dairy Queen  \\\n",
       "8140                        0         0     0     0       0    1            1   \n",
       "11816                       0         0     1     0       0    0            0   \n",
       "12457                       2         0     1     0       3    0            0   \n",
       "14283                       0         0     1     0       0    0            2   \n",
       "24337                       0         0     0     0       0    0            0   \n",
       "\n",
       "       Fendi  Hewlett Packard  Pladis  Asics  Siemens  J.M. Smucker  \\\n",
       "8140       3                4       0      0        0             0   \n",
       "11816      0                0       0      0        0             0   \n",
       "12457      0                0       0      0        0             2   \n",
       "14283      1                0       0      0        0             1   \n",
       "24337      0                0       0      0        0             0   \n",
       "\n",
       "       Pop Chips  Juniper  Huawei  Compaq  IBM  Burberry  Mi  LG  Dior  \\\n",
       "8140           0       37       0       6    0         1   0   0     0   \n",
       "11816          0       26       2      10    5         1   0   0     0   \n",
       "12457          0       27       1      13    4         0   0   0     0   \n",
       "14283          1       39       1       9    1         0   0   0     0   \n",
       "24337          0       52       1      30   11         0   0   0     0   \n",
       "\n",
       "       Scabal  Tommy Hilfiger  Hollister  Forever 21  Colavita  Microsoft  \\\n",
       "8140        0               0          2           2         0          0   \n",
       "11816       0               0          0           0         1          3   \n",
       "12457       0               0          0           0         1          2   \n",
       "14283       0               0          0           0         2          0   \n",
       "24337       0               1          0           0         0          1   \n",
       "\n",
       "       Jiffy mix  Kraft       Order_cat  \n",
       "8140           0      0   1 to 6 orders  \n",
       "11816          0      0   1 to 6 orders  \n",
       "12457          0      0  7 to 12 orders  \n",
       "14283          0      0   1 to 6 orders  \n",
       "24337          0      0  7 to 12 orders  "
      ]
     },
     "execution_count": 180,
     "metadata": {},
     "output_type": "execute_result"
    }
   ],
   "source": [
    "df[df.Orders!=0][df.Juniper>23]"
   ]
  },
  {
   "cell_type": "code",
   "execution_count": 181,
   "metadata": {},
   "outputs": [],
   "source": [
    "# The customers shown above are those who ordered atleast once and searched for Juniper more than 23 times"
   ]
  },
  {
   "cell_type": "code",
   "execution_count": 182,
   "metadata": {},
   "outputs": [
    {
     "name": "stdout",
     "output_type": "stream",
     "text": [
      "Proportion of 0:  73.44000000000001 %\n",
      "Proportion of 1:  17.34 %\n",
      "Proportion of 2:  5.28 %\n",
      "Proportion of 3:  1.8800000000000001 %\n",
      "Proportion of 4:  0.8099999999999999 %\n",
      "Proportion of 5:  0.41000000000000003 %\n",
      "Proportion of 6:  0.24 %\n",
      "Proportion of 7:  0.18 %\n",
      "Proportion of 8:  0.08 %\n",
      "Proportion of 9:  0.06999999999999999 %\n",
      "Proportion of 10:  0.05 %\n",
      "Proportion of 11:  0.05 %\n",
      "Proportion of 14:  0.04 %\n",
      "Proportion of 12:  0.02 %\n",
      "Proportion of 18:  0.02 %\n",
      "Proportion of 15:  0.02 %\n",
      "Proportion of 13:  0.01 %\n",
      "Proportion of 27:  0.01 %\n",
      "Proportion of 22:  0.01 %\n",
      "Proportion of 23:  0.01 %\n",
      "Proportion of 20:  0.01 %\n",
      "Proportion of 17:  0.01 %\n",
      "Proportion of 39:  0.0 %\n",
      "Proportion of 26:  0.0 %\n",
      "Proportion of 16:  0.0 %\n",
      "Proportion of 37:  0.0 %\n",
      "Proportion of 52:  0.0 %\n",
      "Proportion of 36:  0.0 %\n",
      "Proportion of 79:  0.0 %\n"
     ]
    }
   ],
   "source": [
    "find_proportion('Juniper', df)"
   ]
  },
  {
   "cell_type": "code",
   "execution_count": 183,
   "metadata": {},
   "outputs": [],
   "source": [
    "zero['Juniper'] = 73.44"
   ]
  },
  {
   "cell_type": "markdown",
   "metadata": {},
   "source": [
    "#### Huawei"
   ]
  },
  {
   "cell_type": "code",
   "execution_count": 184,
   "metadata": {
    "scrolled": true
   },
   "outputs": [
    {
     "data": {
      "text/plain": [
       "0     25666\n",
       "1      2585\n",
       "2       984\n",
       "3       379\n",
       "4       189\n",
       "5        92\n",
       "6        37\n",
       "7        26\n",
       "8        15\n",
       "9        13\n",
       "10        6\n",
       "11        4\n",
       "16        1\n",
       "17        1\n",
       "12        1\n",
       "44        1\n",
       "Name: Huawei, dtype: int64"
      ]
     },
     "execution_count": 184,
     "metadata": {},
     "output_type": "execute_result"
    }
   ],
   "source": [
    "df.Huawei.value_counts()"
   ]
  },
  {
   "cell_type": "code",
   "execution_count": 185,
   "metadata": {},
   "outputs": [
    {
     "data": {
      "text/plain": [
       "<AxesSubplot:xlabel='Huawei', ylabel='count'>"
      ]
     },
     "execution_count": 185,
     "metadata": {},
     "output_type": "execute_result"
    },
    {
     "data": {
      "image/png": "[encoded data removed]",
      "text/plain": [
       "<Figure size 432x288 with 1 Axes>"
      ]
     },
     "metadata": {
      "needs_background": "light"
     },
     "output_type": "display_data"
    }
   ],
   "source": [
    "sns.countplot(df.Huawei)"
   ]
  },
  {
   "cell_type": "code",
   "execution_count": 186,
   "metadata": {},
   "outputs": [
    {
     "data": {
      "text/plain": [
       "Gender\n",
       "F    1.804662\n",
       "M    1.704762\n",
       "Name: Huawei, dtype: float64"
      ]
     },
     "execution_count": 186,
     "metadata": {},
     "output_type": "execute_result"
    }
   ],
   "source": [
    "df[df['Huawei']>0].groupby('Gender').mean()['Huawei']"
   ]
  },
  {
   "cell_type": "code",
   "execution_count": 187,
   "metadata": {},
   "outputs": [
    {
     "data": {
      "text/plain": [
       "Order_cat\n",
       "0 order           0.238964\n",
       "1 to 6 orders     0.266976\n",
       "7 to 12 orders    0.259860\n",
       "Name: Huawei, dtype: float64"
      ]
     },
     "execution_count": 187,
     "metadata": {},
     "output_type": "execute_result"
    }
   ],
   "source": [
    "df.groupby('Order_cat').mean()['Huawei']"
   ]
  },
  {
   "cell_type": "code",
   "execution_count": 188,
   "metadata": {},
   "outputs": [
    {
     "name": "stdout",
     "output_type": "stream",
     "text": [
      "Proportion of 0:  85.55 %\n",
      "Proportion of 1:  8.62 %\n",
      "Proportion of 2:  3.2800000000000002 %\n",
      "Proportion of 3:  1.26 %\n",
      "Proportion of 4:  0.63 %\n",
      "Proportion of 5:  0.31 %\n",
      "Proportion of 6:  0.12 %\n",
      "Proportion of 7:  0.09 %\n",
      "Proportion of 8:  0.05 %\n",
      "Proportion of 9:  0.04 %\n",
      "Proportion of 10:  0.02 %\n",
      "Proportion of 11:  0.01 %\n",
      "Proportion of 16:  0.0 %\n",
      "Proportion of 17:  0.0 %\n",
      "Proportion of 12:  0.0 %\n",
      "Proportion of 44:  0.0 %\n"
     ]
    }
   ],
   "source": [
    "find_proportion('Huawei', df)"
   ]
  },
  {
   "cell_type": "code",
   "execution_count": 189,
   "metadata": {},
   "outputs": [],
   "source": [
    "zero['Huawei'] = 85.55"
   ]
  },
  {
   "cell_type": "markdown",
   "metadata": {},
   "source": [
    "#### Compaq"
   ]
  },
  {
   "cell_type": "code",
   "execution_count": 190,
   "metadata": {
    "scrolled": true
   },
   "outputs": [
    {
     "data": {
      "text/plain": [
       "0     27653\n",
       "1      1770\n",
       "2       332\n",
       "3       112\n",
       "4        75\n",
       "6        17\n",
       "5        16\n",
       "9         4\n",
       "11        4\n",
       "7         3\n",
       "8         3\n",
       "10        3\n",
       "16        2\n",
       "14        1\n",
       "30        1\n",
       "23        1\n",
       "29        1\n",
       "13        1\n",
       "15        1\n",
       "Name: Compaq, dtype: int64"
      ]
     },
     "execution_count": 190,
     "metadata": {},
     "output_type": "execute_result"
    }
   ],
   "source": [
    "df.Compaq.value_counts()"
   ]
  },
  {
   "cell_type": "code",
   "execution_count": 191,
   "metadata": {},
   "outputs": [
    {
     "data": {
      "text/plain": [
       "<AxesSubplot:xlabel='Compaq', ylabel='count'>"
      ]
     },
     "execution_count": 191,
     "metadata": {},
     "output_type": "execute_result"
    },
    {
     "data": {
      "image/png": "[encoded data removed]",
      "text/plain": [
       "<Figure size 432x288 with 1 Axes>"
      ]
     },
     "metadata": {
      "needs_background": "light"
     },
     "output_type": "display_data"
    }
   ],
   "source": [
    "sns.countplot(df.Compaq)"
   ]
  },
  {
   "cell_type": "code",
   "execution_count": 192,
   "metadata": {},
   "outputs": [
    {
     "data": {
      "text/plain": [
       "Gender\n",
       "F    1.453917\n",
       "M    1.786241\n",
       "Name: Compaq, dtype: float64"
      ]
     },
     "execution_count": 192,
     "metadata": {},
     "output_type": "execute_result"
    }
   ],
   "source": [
    "df[df['Compaq']>0].groupby('Gender').mean()['Compaq']"
   ]
  },
  {
   "cell_type": "code",
   "execution_count": 193,
   "metadata": {},
   "outputs": [
    {
     "data": {
      "text/plain": [
       "Order_cat\n",
       "0 order           0.125034\n",
       "1 to 6 orders     0.112240\n",
       "7 to 12 orders    0.123466\n",
       "Name: Compaq, dtype: float64"
      ]
     },
     "execution_count": 193,
     "metadata": {},
     "output_type": "execute_result"
    }
   ],
   "source": [
    "df.groupby('Order_cat').mean()['Compaq']"
   ]
  },
  {
   "cell_type": "code",
   "execution_count": 194,
   "metadata": {},
   "outputs": [
    {
     "name": "stdout",
     "output_type": "stream",
     "text": [
      "Proportion of 0:  92.17999999999999 %\n",
      "Proportion of 1:  5.8999999999999995 %\n",
      "Proportion of 2:  1.11 %\n",
      "Proportion of 3:  0.37 %\n",
      "Proportion of 4:  0.25 %\n",
      "Proportion of 6:  0.06 %\n",
      "Proportion of 5:  0.05 %\n",
      "Proportion of 9:  0.01 %\n",
      "Proportion of 11:  0.01 %\n",
      "Proportion of 7:  0.01 %\n",
      "Proportion of 8:  0.01 %\n",
      "Proportion of 10:  0.01 %\n",
      "Proportion of 16:  0.01 %\n",
      "Proportion of 14:  0.0 %\n",
      "Proportion of 30:  0.0 %\n",
      "Proportion of 23:  0.0 %\n",
      "Proportion of 29:  0.0 %\n",
      "Proportion of 13:  0.0 %\n",
      "Proportion of 15:  0.0 %\n"
     ]
    }
   ],
   "source": [
    "find_proportion('Compaq', df)"
   ]
  },
  {
   "cell_type": "code",
   "execution_count": 195,
   "metadata": {},
   "outputs": [],
   "source": [
    "zero['Compaq'] = 92.17"
   ]
  },
  {
   "cell_type": "markdown",
   "metadata": {},
   "source": [
    "#### IBM"
   ]
  },
  {
   "cell_type": "code",
   "execution_count": 196,
   "metadata": {
    "scrolled": true
   },
   "outputs": [
    {
     "data": {
      "text/plain": [
       "0     29384\n",
       "1       424\n",
       "3       100\n",
       "2        77\n",
       "4         7\n",
       "5         4\n",
       "8         2\n",
       "6         1\n",
       "11        1\n",
       "Name: IBM, dtype: int64"
      ]
     },
     "execution_count": 196,
     "metadata": {},
     "output_type": "execute_result"
    }
   ],
   "source": [
    "df.IBM.value_counts()"
   ]
  },
  {
   "cell_type": "code",
   "execution_count": 197,
   "metadata": {},
   "outputs": [
    {
     "data": {
      "text/plain": [
       "<AxesSubplot:xlabel='IBM', ylabel='count'>"
      ]
     },
     "execution_count": 197,
     "metadata": {},
     "output_type": "execute_result"
    },
    {
     "data": {
      "image/png": "[encoded data removed]",
      "text/plain": [
       "<Figure size 432x288 with 1 Axes>"
      ]
     },
     "metadata": {
      "needs_background": "light"
     },
     "output_type": "display_data"
    }
   ],
   "source": [
    "sns.countplot(df.IBM)"
   ]
  },
  {
   "cell_type": "code",
   "execution_count": 198,
   "metadata": {},
   "outputs": [
    {
     "data": {
      "text/plain": [
       "Gender\n",
       "F    1.429885\n",
       "M    1.916667\n",
       "Name: IBM, dtype: float64"
      ]
     },
     "execution_count": 198,
     "metadata": {},
     "output_type": "execute_result"
    }
   ],
   "source": [
    "df[df['IBM']>0].groupby('Gender').mean()['IBM']"
   ]
  },
  {
   "cell_type": "code",
   "execution_count": 199,
   "metadata": {},
   "outputs": [
    {
     "data": {
      "text/plain": [
       "Order_cat\n",
       "0 order           0.036057\n",
       "1 to 6 orders     0.032258\n",
       "7 to 12 orders    0.028265\n",
       "Name: IBM, dtype: float64"
      ]
     },
     "execution_count": 199,
     "metadata": {},
     "output_type": "execute_result"
    }
   ],
   "source": [
    "df.groupby('Order_cat').mean()['IBM']"
   ]
  },
  {
   "cell_type": "code",
   "execution_count": 200,
   "metadata": {},
   "outputs": [
    {
     "name": "stdout",
     "output_type": "stream",
     "text": [
      "Proportion of 0:  97.95 %\n",
      "Proportion of 1:  1.41 %\n",
      "Proportion of 3:  0.33 %\n",
      "Proportion of 2:  0.26 %\n",
      "Proportion of 4:  0.02 %\n",
      "Proportion of 5:  0.01 %\n",
      "Proportion of 8:  0.01 %\n",
      "Proportion of 6:  0.0 %\n",
      "Proportion of 11:  0.0 %\n"
     ]
    }
   ],
   "source": [
    "find_proportion('IBM', df)"
   ]
  },
  {
   "cell_type": "code",
   "execution_count": 201,
   "metadata": {},
   "outputs": [],
   "source": [
    "zero['IBM'] = 97.95"
   ]
  },
  {
   "cell_type": "markdown",
   "metadata": {},
   "source": [
    "#### Burberry"
   ]
  },
  {
   "cell_type": "code",
   "execution_count": 202,
   "metadata": {
    "scrolled": false
   },
   "outputs": [
    {
     "data": {
      "text/plain": [
       "0     23120\n",
       "1      4079\n",
       "2      1437\n",
       "3       618\n",
       "4       330\n",
       "5       191\n",
       "6        92\n",
       "7        48\n",
       "8        36\n",
       "9        19\n",
       "11       10\n",
       "10        9\n",
       "13        3\n",
       "23        1\n",
       "16        1\n",
       "21        1\n",
       "19        1\n",
       "18        1\n",
       "27        1\n",
       "12        1\n",
       "37        1\n",
       "Name: Burberry, dtype: int64"
      ]
     },
     "execution_count": 202,
     "metadata": {},
     "output_type": "execute_result"
    }
   ],
   "source": [
    "df.Burberry.value_counts()"
   ]
  },
  {
   "cell_type": "code",
   "execution_count": 203,
   "metadata": {},
   "outputs": [
    {
     "data": {
      "text/plain": [
       "<AxesSubplot:xlabel='Burberry', ylabel='count'>"
      ]
     },
     "execution_count": 203,
     "metadata": {},
     "output_type": "execute_result"
    },
    {
     "data": {
      "image/png": "[encoded data removed]",
      "text/plain": [
       "<Figure size 432x288 with 1 Axes>"
      ]
     },
     "metadata": {
      "needs_background": "light"
     },
     "output_type": "display_data"
    }
   ],
   "source": [
    "sns.countplot(df.Burberry)"
   ]
  },
  {
   "cell_type": "code",
   "execution_count": 204,
   "metadata": {},
   "outputs": [
    {
     "data": {
      "text/plain": [
       "Gender\n",
       "F    1.902713\n",
       "M    1.681034\n",
       "Name: Burberry, dtype: float64"
      ]
     },
     "execution_count": 204,
     "metadata": {},
     "output_type": "execute_result"
    }
   ],
   "source": [
    "df[df['Burberry']>0].groupby('Gender').mean()['Burberry']"
   ]
  },
  {
   "cell_type": "code",
   "execution_count": 205,
   "metadata": {},
   "outputs": [
    {
     "data": {
      "text/plain": [
       "Order_cat\n",
       "0 order           0.378119\n",
       "1 to 6 orders     0.449993\n",
       "7 to 12 orders    0.435254\n",
       "Name: Burberry, dtype: float64"
      ]
     },
     "execution_count": 205,
     "metadata": {},
     "output_type": "execute_result"
    }
   ],
   "source": [
    "df.groupby('Order_cat').mean()['Burberry']"
   ]
  },
  {
   "cell_type": "code",
   "execution_count": 206,
   "metadata": {},
   "outputs": [
    {
     "name": "stdout",
     "output_type": "stream",
     "text": [
      "Proportion of 0:  77.07000000000001 %\n",
      "Proportion of 1:  13.600000000000001 %\n",
      "Proportion of 2:  4.79 %\n",
      "Proportion of 3:  2.06 %\n",
      "Proportion of 4:  1.0999999999999999 %\n",
      "Proportion of 5:  0.64 %\n",
      "Proportion of 6:  0.31 %\n",
      "Proportion of 7:  0.16 %\n",
      "Proportion of 8:  0.12 %\n",
      "Proportion of 9:  0.06 %\n",
      "Proportion of 11:  0.03 %\n",
      "Proportion of 10:  0.03 %\n",
      "Proportion of 13:  0.01 %\n",
      "Proportion of 23:  0.0 %\n",
      "Proportion of 16:  0.0 %\n",
      "Proportion of 21:  0.0 %\n",
      "Proportion of 19:  0.0 %\n",
      "Proportion of 18:  0.0 %\n",
      "Proportion of 27:  0.0 %\n",
      "Proportion of 12:  0.0 %\n",
      "Proportion of 37:  0.0 %\n"
     ]
    }
   ],
   "source": [
    "find_proportion('Burberry', df)"
   ]
  },
  {
   "cell_type": "code",
   "execution_count": 207,
   "metadata": {},
   "outputs": [],
   "source": [
    "zero['Burberry'] = 77.07"
   ]
  },
  {
   "cell_type": "markdown",
   "metadata": {},
   "source": [
    "#### Mi"
   ]
  },
  {
   "cell_type": "code",
   "execution_count": 208,
   "metadata": {
    "scrolled": true
   },
   "outputs": [
    {
     "data": {
      "text/plain": [
       "0    27540\n",
       "1     1721\n",
       "2      437\n",
       "3      215\n",
       "4       55\n",
       "5       19\n",
       "6        8\n",
       "7        4\n",
       "9        1\n",
       "Name: Mi, dtype: int64"
      ]
     },
     "execution_count": 208,
     "metadata": {},
     "output_type": "execute_result"
    }
   ],
   "source": [
    "df.Mi.value_counts()"
   ]
  },
  {
   "cell_type": "code",
   "execution_count": 209,
   "metadata": {},
   "outputs": [
    {
     "data": {
      "text/plain": [
       "<AxesSubplot:xlabel='Mi', ylabel='count'>"
      ]
     },
     "execution_count": 209,
     "metadata": {},
     "output_type": "execute_result"
    },
    {
     "data": {
      "image/png": "[encoded data removed]",
      "text/plain": [
       "<Figure size 432x288 with 1 Axes>"
      ]
     },
     "metadata": {
      "needs_background": "light"
     },
     "output_type": "display_data"
    }
   ],
   "source": [
    "sns.countplot(df.Mi)"
   ]
  },
  {
   "cell_type": "code",
   "execution_count": 210,
   "metadata": {},
   "outputs": [
    {
     "data": {
      "text/plain": [
       "Gender\n",
       "F    1.467391\n",
       "M    1.447853\n",
       "Name: Mi, dtype: float64"
      ]
     },
     "execution_count": 210,
     "metadata": {},
     "output_type": "execute_result"
    }
   ],
   "source": [
    "df[df['Mi']>0].groupby('Gender').mean()['Mi']"
   ]
  },
  {
   "cell_type": "code",
   "execution_count": 211,
   "metadata": {},
   "outputs": [
    {
     "data": {
      "text/plain": [
       "Order_cat\n",
       "0 order           0.109816\n",
       "1 to 6 orders     0.124098\n",
       "7 to 12 orders    0.126424\n",
       "Name: Mi, dtype: float64"
      ]
     },
     "execution_count": 211,
     "metadata": {},
     "output_type": "execute_result"
    }
   ],
   "source": [
    "df.groupby('Order_cat').mean()['Mi']"
   ]
  },
  {
   "cell_type": "code",
   "execution_count": 212,
   "metadata": {},
   "outputs": [
    {
     "name": "stdout",
     "output_type": "stream",
     "text": [
      "Proportion of 0:  91.8 %\n",
      "Proportion of 1:  5.74 %\n",
      "Proportion of 2:  1.46 %\n",
      "Proportion of 3:  0.72 %\n",
      "Proportion of 4:  0.18 %\n",
      "Proportion of 5:  0.06 %\n",
      "Proportion of 6:  0.03 %\n",
      "Proportion of 7:  0.01 %\n",
      "Proportion of 9:  0.0 %\n"
     ]
    }
   ],
   "source": [
    "find_proportion('Mi', df)"
   ]
  },
  {
   "cell_type": "code",
   "execution_count": 213,
   "metadata": {},
   "outputs": [],
   "source": [
    "zero['Mi'] = 91.8"
   ]
  },
  {
   "cell_type": "markdown",
   "metadata": {},
   "source": [
    "#### LG"
   ]
  },
  {
   "cell_type": "code",
   "execution_count": 214,
   "metadata": {
    "scrolled": true
   },
   "outputs": [
    {
     "data": {
      "text/plain": [
       "0     28062\n",
       "1      1250\n",
       "2       473\n",
       "4        99\n",
       "3        76\n",
       "5        25\n",
       "6         6\n",
       "7         3\n",
       "8         2\n",
       "16        1\n",
       "19        1\n",
       "10        1\n",
       "13        1\n",
       "Name: LG, dtype: int64"
      ]
     },
     "execution_count": 214,
     "metadata": {},
     "output_type": "execute_result"
    }
   ],
   "source": [
    "df.LG.value_counts()"
   ]
  },
  {
   "cell_type": "code",
   "execution_count": 215,
   "metadata": {},
   "outputs": [
    {
     "data": {
      "text/plain": [
       "<AxesSubplot:xlabel='LG', ylabel='count'>"
      ]
     },
     "execution_count": 215,
     "metadata": {},
     "output_type": "execute_result"
    },
    {
     "data": {
      "image/png": "[encoded data removed]",
      "text/plain": [
       "<Figure size 432x288 with 1 Axes>"
      ]
     },
     "metadata": {
      "needs_background": "light"
     },
     "output_type": "display_data"
    }
   ],
   "source": [
    "sns.countplot(df.LG)"
   ]
  },
  {
   "cell_type": "code",
   "execution_count": 216,
   "metadata": {},
   "outputs": [
    {
     "data": {
      "text/plain": [
       "Gender\n",
       "F    1.573186\n",
       "M    1.773723\n",
       "Name: LG, dtype: float64"
      ]
     },
     "execution_count": 216,
     "metadata": {},
     "output_type": "execute_result"
    }
   ],
   "source": [
    "df[df['LG']>0].groupby('Gender').mean()['LG']"
   ]
  },
  {
   "cell_type": "code",
   "execution_count": 217,
   "metadata": {},
   "outputs": [
    {
     "data": {
      "text/plain": [
       "Order_cat\n",
       "0 order           0.106937\n",
       "1 to 6 orders     0.101046\n",
       "7 to 12 orders    0.101227\n",
       "Name: LG, dtype: float64"
      ]
     },
     "execution_count": 217,
     "metadata": {},
     "output_type": "execute_result"
    }
   ],
   "source": [
    "df.groupby('Order_cat').mean()['LG']"
   ]
  },
  {
   "cell_type": "code",
   "execution_count": 218,
   "metadata": {},
   "outputs": [
    {
     "name": "stdout",
     "output_type": "stream",
     "text": [
      "Proportion of 0:  93.54 %\n",
      "Proportion of 1:  4.17 %\n",
      "Proportion of 2:  1.58 %\n",
      "Proportion of 4:  0.33 %\n",
      "Proportion of 3:  0.25 %\n",
      "Proportion of 5:  0.08 %\n",
      "Proportion of 6:  0.02 %\n",
      "Proportion of 7:  0.01 %\n",
      "Proportion of 8:  0.01 %\n",
      "Proportion of 16:  0.0 %\n",
      "Proportion of 19:  0.0 %\n",
      "Proportion of 10:  0.0 %\n",
      "Proportion of 13:  0.0 %\n"
     ]
    }
   ],
   "source": [
    "find_proportion('LG', df)"
   ]
  },
  {
   "cell_type": "code",
   "execution_count": 219,
   "metadata": {},
   "outputs": [],
   "source": [
    "zero['LG'] = 93.54"
   ]
  },
  {
   "cell_type": "markdown",
   "metadata": {},
   "source": [
    "#### Dior"
   ]
  },
  {
   "cell_type": "code",
   "execution_count": 220,
   "metadata": {
    "scrolled": true
   },
   "outputs": [
    {
     "data": {
      "text/plain": [
       "0     24591\n",
       "1      3742\n",
       "2      1056\n",
       "3       387\n",
       "4       118\n",
       "5        51\n",
       "6        25\n",
       "7        16\n",
       "9         7\n",
       "8         4\n",
       "12        2\n",
       "11        1\n",
       "Name: Dior, dtype: int64"
      ]
     },
     "execution_count": 220,
     "metadata": {},
     "output_type": "execute_result"
    }
   ],
   "source": [
    "df.Dior.value_counts()"
   ]
  },
  {
   "cell_type": "code",
   "execution_count": 221,
   "metadata": {},
   "outputs": [
    {
     "data": {
      "text/plain": [
       "<AxesSubplot:xlabel='Dior', ylabel='count'>"
      ]
     },
     "execution_count": 221,
     "metadata": {},
     "output_type": "execute_result"
    },
    {
     "data": {
      "image/png": "[encoded data removed]",
      "text/plain": [
       "<Figure size 432x288 with 1 Axes>"
      ]
     },
     "metadata": {
      "needs_background": "light"
     },
     "output_type": "display_data"
    }
   ],
   "source": [
    "sns.countplot(df.Dior)"
   ]
  },
  {
   "cell_type": "code",
   "execution_count": 222,
   "metadata": {},
   "outputs": [
    {
     "data": {
      "text/plain": [
       "Gender\n",
       "F    1.498644\n",
       "M    1.483577\n",
       "Name: Dior, dtype: float64"
      ]
     },
     "execution_count": 222,
     "metadata": {},
     "output_type": "execute_result"
    }
   ],
   "source": [
    "df[df['Dior']>0].groupby('Gender').mean()['Dior']"
   ]
  },
  {
   "cell_type": "code",
   "execution_count": 223,
   "metadata": {},
   "outputs": [
    {
     "data": {
      "text/plain": [
       "Order_cat\n",
       "0 order           0.241568\n",
       "1 to 6 orders     0.283326\n",
       "7 to 12 orders    0.276621\n",
       "Name: Dior, dtype: float64"
      ]
     },
     "execution_count": 223,
     "metadata": {},
     "output_type": "execute_result"
    }
   ],
   "source": [
    "df.groupby('Order_cat').mean()['Dior']"
   ]
  },
  {
   "cell_type": "code",
   "execution_count": 224,
   "metadata": {},
   "outputs": [
    {
     "name": "stdout",
     "output_type": "stream",
     "text": [
      "Proportion of 0:  81.97 %\n",
      "Proportion of 1:  12.47 %\n",
      "Proportion of 2:  3.52 %\n",
      "Proportion of 3:  1.29 %\n",
      "Proportion of 4:  0.38999999999999996 %\n",
      "Proportion of 5:  0.16999999999999998 %\n",
      "Proportion of 6:  0.08 %\n",
      "Proportion of 7:  0.05 %\n",
      "Proportion of 9:  0.02 %\n",
      "Proportion of 8:  0.01 %\n",
      "Proportion of 12:  0.01 %\n",
      "Proportion of 11:  0.0 %\n"
     ]
    }
   ],
   "source": [
    "find_proportion('Dior', df)"
   ]
  },
  {
   "cell_type": "code",
   "execution_count": 225,
   "metadata": {},
   "outputs": [],
   "source": [
    "zero['Dior'] = 81.97"
   ]
  },
  {
   "cell_type": "markdown",
   "metadata": {},
   "source": [
    "#### Scabal"
   ]
  },
  {
   "cell_type": "code",
   "execution_count": 226,
   "metadata": {
    "scrolled": true
   },
   "outputs": [
    {
     "data": {
      "text/plain": [
       "0     22215\n",
       "1      5651\n",
       "2      1384\n",
       "3       430\n",
       "4       254\n",
       "5        41\n",
       "6        13\n",
       "7         6\n",
       "8         4\n",
       "9         1\n",
       "11        1\n",
       "Name: Scabal, dtype: int64"
      ]
     },
     "execution_count": 226,
     "metadata": {},
     "output_type": "execute_result"
    }
   ],
   "source": [
    "df.Scabal.value_counts()"
   ]
  },
  {
   "cell_type": "code",
   "execution_count": 227,
   "metadata": {},
   "outputs": [
    {
     "data": {
      "text/plain": [
       "<AxesSubplot:xlabel='Scabal', ylabel='count'>"
      ]
     },
     "execution_count": 227,
     "metadata": {},
     "output_type": "execute_result"
    },
    {
     "data": {
      "image/png": "[encoded data removed]",
      "text/plain": [
       "<Figure size 432x288 with 1 Axes>"
      ]
     },
     "metadata": {
      "needs_background": "light"
     },
     "output_type": "display_data"
    }
   ],
   "source": [
    "sns.countplot(df.Scabal)"
   ]
  },
  {
   "cell_type": "code",
   "execution_count": 228,
   "metadata": {},
   "outputs": [
    {
     "data": {
      "text/plain": [
       "Gender\n",
       "F    1.417872\n",
       "M    1.474510\n",
       "Name: Scabal, dtype: float64"
      ]
     },
     "execution_count": 228,
     "metadata": {},
     "output_type": "execute_result"
    }
   ],
   "source": [
    "df[df['Scabal']>0].groupby('Gender').mean()['Scabal']"
   ]
  },
  {
   "cell_type": "code",
   "execution_count": 229,
   "metadata": {},
   "outputs": [
    {
     "data": {
      "text/plain": [
       "Order_cat\n",
       "0 order           0.336030\n",
       "1 to 6 orders     0.376639\n",
       "7 to 12 orders    0.387489\n",
       "Name: Scabal, dtype: float64"
      ]
     },
     "execution_count": 229,
     "metadata": {},
     "output_type": "execute_result"
    }
   ],
   "source": [
    "df.groupby('Order_cat').mean()['Scabal']"
   ]
  },
  {
   "cell_type": "code",
   "execution_count": 230,
   "metadata": {},
   "outputs": [
    {
     "name": "stdout",
     "output_type": "stream",
     "text": [
      "Proportion of 0:  74.05000000000001 %\n",
      "Proportion of 1:  18.84 %\n",
      "Proportion of 2:  4.61 %\n",
      "Proportion of 3:  1.43 %\n",
      "Proportion of 4:  0.8500000000000001 %\n",
      "Proportion of 5:  0.13999999999999999 %\n",
      "Proportion of 6:  0.04 %\n",
      "Proportion of 7:  0.02 %\n",
      "Proportion of 8:  0.01 %\n",
      "Proportion of 9:  0.0 %\n",
      "Proportion of 11:  0.0 %\n"
     ]
    }
   ],
   "source": [
    "find_proportion('Scabal', df)"
   ]
  },
  {
   "cell_type": "code",
   "execution_count": 231,
   "metadata": {},
   "outputs": [],
   "source": [
    "zero['Scabal'] = 74.05"
   ]
  },
  {
   "cell_type": "markdown",
   "metadata": {},
   "source": [
    "#### Tommy Hilfiger"
   ]
  },
  {
   "cell_type": "code",
   "execution_count": 232,
   "metadata": {
    "scrolled": true
   },
   "outputs": [
    {
     "data": {
      "text/plain": [
       "0    26480\n",
       "1     2704\n",
       "2      550\n",
       "3      133\n",
       "4      113\n",
       "5       11\n",
       "6        6\n",
       "8        2\n",
       "7        1\n",
       "Name: Tommy Hilfiger, dtype: int64"
      ]
     },
     "execution_count": 232,
     "metadata": {},
     "output_type": "execute_result"
    }
   ],
   "source": [
    "df['Tommy Hilfiger'].value_counts()"
   ]
  },
  {
   "cell_type": "code",
   "execution_count": 233,
   "metadata": {},
   "outputs": [
    {
     "data": {
      "text/plain": [
       "<AxesSubplot:xlabel='Tommy Hilfiger', ylabel='count'>"
      ]
     },
     "execution_count": 233,
     "metadata": {},
     "output_type": "execute_result"
    },
    {
     "data": {
      "image/png": "[encoded data removed]",
      "text/plain": [
       "<Figure size 432x288 with 1 Axes>"
      ]
     },
     "metadata": {
      "needs_background": "light"
     },
     "output_type": "display_data"
    }
   ],
   "source": [
    "sns.countplot(df['Tommy Hilfiger'])"
   ]
  },
  {
   "cell_type": "code",
   "execution_count": 234,
   "metadata": {},
   "outputs": [
    {
     "data": {
      "text/plain": [
       "Gender\n",
       "F    1.340622\n",
       "M    1.383178\n",
       "Name: Tommy Hilfiger, dtype: float64"
      ]
     },
     "execution_count": 234,
     "metadata": {},
     "output_type": "execute_result"
    }
   ],
   "source": [
    "df[df['Tommy Hilfiger']>0].groupby('Gender').mean()['Tommy Hilfiger']"
   ]
  },
  {
   "cell_type": "code",
   "execution_count": 235,
   "metadata": {},
   "outputs": [
    {
     "data": {
      "text/plain": [
       "Order_cat\n",
       "0 order           0.155333\n",
       "1 to 6 orders     0.159007\n",
       "7 to 12 orders    0.161810\n",
       "Name: Tommy Hilfiger, dtype: float64"
      ]
     },
     "execution_count": 235,
     "metadata": {},
     "output_type": "execute_result"
    }
   ],
   "source": [
    "df.groupby('Order_cat').mean()['Tommy Hilfiger']"
   ]
  },
  {
   "cell_type": "code",
   "execution_count": 236,
   "metadata": {},
   "outputs": [
    {
     "name": "stdout",
     "output_type": "stream",
     "text": [
      "Proportion of 0:  88.27000000000001 %\n",
      "Proportion of 1:  9.01 %\n",
      "Proportion of 2:  1.83 %\n",
      "Proportion of 3:  0.44 %\n",
      "Proportion of 4:  0.38 %\n",
      "Proportion of 5:  0.04 %\n",
      "Proportion of 6:  0.02 %\n",
      "Proportion of 8:  0.01 %\n",
      "Proportion of 7:  0.0 %\n"
     ]
    }
   ],
   "source": [
    "find_proportion('Tommy Hilfiger', df)"
   ]
  },
  {
   "cell_type": "code",
   "execution_count": 237,
   "metadata": {},
   "outputs": [],
   "source": [
    "zero['Tommy Hilfiger'] = 88.27"
   ]
  },
  {
   "cell_type": "markdown",
   "metadata": {},
   "source": [
    "#### Hollister"
   ]
  },
  {
   "cell_type": "code",
   "execution_count": 238,
   "metadata": {
    "scrolled": true
   },
   "outputs": [
    {
     "data": {
      "text/plain": [
       "0    28324\n",
       "1     1278\n",
       "2      271\n",
       "3       60\n",
       "5       39\n",
       "4       21\n",
       "7        4\n",
       "6        1\n",
       "8        1\n",
       "9        1\n",
       "Name: Hollister, dtype: int64"
      ]
     },
     "execution_count": 238,
     "metadata": {},
     "output_type": "execute_result"
    }
   ],
   "source": [
    "df.Hollister.value_counts()"
   ]
  },
  {
   "cell_type": "code",
   "execution_count": 239,
   "metadata": {},
   "outputs": [
    {
     "data": {
      "text/plain": [
       "<AxesSubplot:xlabel='Hollister', ylabel='count'>"
      ]
     },
     "execution_count": 239,
     "metadata": {},
     "output_type": "execute_result"
    },
    {
     "data": {
      "image/png": "[encoded data removed]",
      "text/plain": [
       "<Figure size 432x288 with 1 Axes>"
      ]
     },
     "metadata": {
      "needs_background": "light"
     },
     "output_type": "display_data"
    }
   ],
   "source": [
    "sns.countplot(df.Hollister)"
   ]
  },
  {
   "cell_type": "code",
   "execution_count": 240,
   "metadata": {},
   "outputs": [
    {
     "data": {
      "text/plain": [
       "Gender\n",
       "F    1.385798\n",
       "M    1.431250\n",
       "Name: Hollister, dtype: float64"
      ]
     },
     "execution_count": 240,
     "metadata": {},
     "output_type": "execute_result"
    }
   ],
   "source": [
    "df[df['Hollister']>0].groupby('Gender').mean()['Hollister']"
   ]
  },
  {
   "cell_type": "code",
   "execution_count": 241,
   "metadata": {},
   "outputs": [
    {
     "data": {
      "text/plain": [
       "Order_cat\n",
       "0 order           0.066630\n",
       "1 to 6 orders     0.084622\n",
       "7 to 12 orders    0.076139\n",
       "Name: Hollister, dtype: float64"
      ]
     },
     "execution_count": 241,
     "metadata": {},
     "output_type": "execute_result"
    }
   ],
   "source": [
    "df.groupby('Order_cat').mean()['Hollister']"
   ]
  },
  {
   "cell_type": "code",
   "execution_count": 242,
   "metadata": {},
   "outputs": [
    {
     "name": "stdout",
     "output_type": "stream",
     "text": [
      "Proportion of 0:  94.41000000000001 %\n",
      "Proportion of 1:  4.26 %\n",
      "Proportion of 2:  0.8999999999999999 %\n",
      "Proportion of 3:  0.2 %\n",
      "Proportion of 5:  0.13 %\n",
      "Proportion of 4:  0.06999999999999999 %\n",
      "Proportion of 7:  0.01 %\n",
      "Proportion of 6:  0.0 %\n",
      "Proportion of 8:  0.0 %\n",
      "Proportion of 9:  0.0 %\n"
     ]
    }
   ],
   "source": [
    "find_proportion('Hollister', df)"
   ]
  },
  {
   "cell_type": "code",
   "execution_count": 243,
   "metadata": {},
   "outputs": [],
   "source": [
    "zero['Hollister'] = 94.41"
   ]
  },
  {
   "cell_type": "markdown",
   "metadata": {},
   "source": [
    "#### Forever 21"
   ]
  },
  {
   "cell_type": "code",
   "execution_count": 244,
   "metadata": {
    "scrolled": true
   },
   "outputs": [
    {
     "data": {
      "text/plain": [
       "0    28647\n",
       "1     1098\n",
       "2      175\n",
       "3       64\n",
       "4        8\n",
       "5        4\n",
       "7        2\n",
       "6        1\n",
       "8        1\n",
       "Name: Forever 21, dtype: int64"
      ]
     },
     "execution_count": 244,
     "metadata": {},
     "output_type": "execute_result"
    }
   ],
   "source": [
    "df['Forever 21'].value_counts()"
   ]
  },
  {
   "cell_type": "code",
   "execution_count": 245,
   "metadata": {},
   "outputs": [
    {
     "data": {
      "text/plain": [
       "<AxesSubplot:xlabel='Forever 21', ylabel='count'>"
      ]
     },
     "execution_count": 245,
     "metadata": {},
     "output_type": "execute_result"
    },
    {
     "data": {
      "image/png": "[encoded data removed]",
      "text/plain": [
       "<Figure size 432x288 with 1 Axes>"
      ]
     },
     "metadata": {
      "needs_background": "light"
     },
     "output_type": "display_data"
    }
   ],
   "source": [
    "sns.countplot(df['Forever 21'])"
   ]
  },
  {
   "cell_type": "code",
   "execution_count": 246,
   "metadata": {},
   "outputs": [
    {
     "data": {
      "text/plain": [
       "Gender\n",
       "F    1.274597\n",
       "M    1.169492\n",
       "Name: Forever 21, dtype: float64"
      ]
     },
     "execution_count": 246,
     "metadata": {},
     "output_type": "execute_result"
    }
   ],
   "source": [
    "df[df['Forever 21']>0].groupby('Gender').mean()['Forever 21']"
   ]
  },
  {
   "cell_type": "code",
   "execution_count": 247,
   "metadata": {},
   "outputs": [
    {
     "data": {
      "text/plain": [
       "Order_cat\n",
       "0 order           0.052783\n",
       "1 to 6 orders     0.060981\n",
       "7 to 12 orders    0.055543\n",
       "Name: Forever 21, dtype: float64"
      ]
     },
     "execution_count": 247,
     "metadata": {},
     "output_type": "execute_result"
    }
   ],
   "source": [
    "df.groupby('Order_cat').mean()['Forever 21']"
   ]
  },
  {
   "cell_type": "code",
   "execution_count": 248,
   "metadata": {},
   "outputs": [
    {
     "name": "stdout",
     "output_type": "stream",
     "text": [
      "Proportion of 0:  95.49 %\n",
      "Proportion of 1:  3.66 %\n",
      "Proportion of 2:  0.58 %\n",
      "Proportion of 3:  0.21 %\n",
      "Proportion of 4:  0.03 %\n",
      "Proportion of 5:  0.01 %\n",
      "Proportion of 7:  0.01 %\n",
      "Proportion of 6:  0.0 %\n",
      "Proportion of 8:  0.0 %\n"
     ]
    }
   ],
   "source": [
    "find_proportion('Forever 21', df)"
   ]
  },
  {
   "cell_type": "code",
   "execution_count": 249,
   "metadata": {},
   "outputs": [],
   "source": [
    "zero['Forever 21'] = 95.49"
   ]
  },
  {
   "cell_type": "markdown",
   "metadata": {},
   "source": [
    "#### Colavita"
   ]
  },
  {
   "cell_type": "code",
   "execution_count": 250,
   "metadata": {
    "scrolled": true
   },
   "outputs": [
    {
     "data": {
      "text/plain": [
       "0     25993\n",
       "1      3015\n",
       "2       598\n",
       "3       259\n",
       "4        63\n",
       "5        28\n",
       "6        13\n",
       "7        10\n",
       "8         5\n",
       "10        5\n",
       "9         3\n",
       "11        3\n",
       "22        2\n",
       "14        2\n",
       "16        1\n",
       "Name: Colavita, dtype: int64"
      ]
     },
     "execution_count": 250,
     "metadata": {},
     "output_type": "execute_result"
    }
   ],
   "source": [
    "df.Colavita.value_counts()"
   ]
  },
  {
   "cell_type": "code",
   "execution_count": 251,
   "metadata": {},
   "outputs": [
    {
     "data": {
      "text/plain": [
       "<AxesSubplot:xlabel='Colavita', ylabel='count'>"
      ]
     },
     "execution_count": 251,
     "metadata": {},
     "output_type": "execute_result"
    },
    {
     "data": {
      "image/png": "[encoded data removed]",
      "text/plain": [
       "<Figure size 432x288 with 1 Axes>"
      ]
     },
     "metadata": {
      "needs_background": "light"
     },
     "output_type": "display_data"
    }
   ],
   "source": [
    "sns.countplot(df.Colavita)"
   ]
  },
  {
   "cell_type": "code",
   "execution_count": 252,
   "metadata": {},
   "outputs": [
    {
     "data": {
      "text/plain": [
       "Gender\n",
       "F    1.395174\n",
       "M    1.581761\n",
       "Name: Colavita, dtype: float64"
      ]
     },
     "execution_count": 252,
     "metadata": {},
     "output_type": "execute_result"
    }
   ],
   "source": [
    "df[df['Colavita']>0].groupby('Gender').mean()['Colavita']"
   ]
  },
  {
   "cell_type": "code",
   "execution_count": 253,
   "metadata": {},
   "outputs": [
    {
     "data": {
      "text/plain": [
       "Order_cat\n",
       "0 order           0.182342\n",
       "1 to 6 orders     0.194800\n",
       "7 to 12 orders    0.196209\n",
       "Name: Colavita, dtype: float64"
      ]
     },
     "execution_count": 253,
     "metadata": {},
     "output_type": "execute_result"
    }
   ],
   "source": [
    "df.groupby('Order_cat').mean()['Colavita']"
   ]
  },
  {
   "cell_type": "code",
   "execution_count": 254,
   "metadata": {},
   "outputs": [
    {
     "name": "stdout",
     "output_type": "stream",
     "text": [
      "Proportion of 0:  86.64 %\n",
      "Proportion of 1:  10.05 %\n",
      "Proportion of 2:  1.9900000000000002 %\n",
      "Proportion of 3:  0.86 %\n",
      "Proportion of 4:  0.21 %\n",
      "Proportion of 5:  0.09 %\n",
      "Proportion of 6:  0.04 %\n",
      "Proportion of 7:  0.03 %\n",
      "Proportion of 8:  0.02 %\n",
      "Proportion of 10:  0.02 %\n",
      "Proportion of 9:  0.01 %\n",
      "Proportion of 11:  0.01 %\n",
      "Proportion of 22:  0.01 %\n",
      "Proportion of 14:  0.01 %\n",
      "Proportion of 16:  0.0 %\n"
     ]
    }
   ],
   "source": [
    "find_proportion('Colavita', df)"
   ]
  },
  {
   "cell_type": "code",
   "execution_count": 255,
   "metadata": {},
   "outputs": [],
   "source": [
    "zero['Colavita'] = 86.64"
   ]
  },
  {
   "cell_type": "markdown",
   "metadata": {},
   "source": [
    "#### Microsoft"
   ]
  },
  {
   "cell_type": "code",
   "execution_count": 256,
   "metadata": {
    "scrolled": true
   },
   "outputs": [
    {
     "data": {
      "text/plain": [
       "0     27299\n",
       "1      2205\n",
       "2       346\n",
       "3        81\n",
       "4        43\n",
       "5        11\n",
       "6         4\n",
       "7         4\n",
       "9         3\n",
       "8         1\n",
       "11        1\n",
       "12        1\n",
       "14        1\n",
       "Name: Microsoft, dtype: int64"
      ]
     },
     "execution_count": 256,
     "metadata": {},
     "output_type": "execute_result"
    }
   ],
   "source": [
    "df.Microsoft.value_counts()"
   ]
  },
  {
   "cell_type": "code",
   "execution_count": 257,
   "metadata": {},
   "outputs": [
    {
     "data": {
      "text/plain": [
       "<AxesSubplot:xlabel='Microsoft', ylabel='count'>"
      ]
     },
     "execution_count": 257,
     "metadata": {},
     "output_type": "execute_result"
    },
    {
     "data": {
      "image/png": "[encoded data removed]",
      "text/plain": [
       "<Figure size 432x288 with 1 Axes>"
      ]
     },
     "metadata": {
      "needs_background": "light"
     },
     "output_type": "display_data"
    }
   ],
   "source": [
    "sns.countplot(df.Microsoft)"
   ]
  },
  {
   "cell_type": "code",
   "execution_count": 258,
   "metadata": {},
   "outputs": [
    {
     "data": {
      "text/plain": [
       "Gender\n",
       "F    1.289958\n",
       "M    1.356968\n",
       "Name: Microsoft, dtype: float64"
      ]
     },
     "execution_count": 258,
     "metadata": {},
     "output_type": "execute_result"
    }
   ],
   "source": [
    "df[df['Microsoft']>0].groupby('Gender').mean()['Microsoft']"
   ]
  },
  {
   "cell_type": "code",
   "execution_count": 259,
   "metadata": {},
   "outputs": [
    {
     "data": {
      "text/plain": [
       "Order_cat\n",
       "0 order           0.099808\n",
       "1 to 6 orders     0.122919\n",
       "7 to 12 orders    0.119851\n",
       "Name: Microsoft, dtype: float64"
      ]
     },
     "execution_count": 259,
     "metadata": {},
     "output_type": "execute_result"
    }
   ],
   "source": [
    "df.groupby('Order_cat').mean()['Microsoft']"
   ]
  },
  {
   "cell_type": "code",
   "execution_count": 260,
   "metadata": {},
   "outputs": [
    {
     "name": "stdout",
     "output_type": "stream",
     "text": [
      "Proportion of 0:  91.0 %\n",
      "Proportion of 1:  7.35 %\n",
      "Proportion of 2:  1.15 %\n",
      "Proportion of 3:  0.27 %\n",
      "Proportion of 4:  0.13999999999999999 %\n",
      "Proportion of 5:  0.04 %\n",
      "Proportion of 6:  0.01 %\n",
      "Proportion of 7:  0.01 %\n",
      "Proportion of 9:  0.01 %\n",
      "Proportion of 8:  0.0 %\n",
      "Proportion of 11:  0.0 %\n",
      "Proportion of 12:  0.0 %\n",
      "Proportion of 14:  0.0 %\n"
     ]
    }
   ],
   "source": [
    "find_proportion('Microsoft', df)"
   ]
  },
  {
   "cell_type": "code",
   "execution_count": 261,
   "metadata": {},
   "outputs": [],
   "source": [
    "zero['Microsoft'] = 91.0"
   ]
  },
  {
   "cell_type": "markdown",
   "metadata": {},
   "source": [
    "#### Jiffy mix"
   ]
  },
  {
   "cell_type": "code",
   "execution_count": 262,
   "metadata": {
    "scrolled": true
   },
   "outputs": [
    {
     "data": {
      "text/plain": [
       "0    28079\n",
       "1     1447\n",
       "2      340\n",
       "3       77\n",
       "4       34\n",
       "5        7\n",
       "6        6\n",
       "8        6\n",
       "7        4\n",
       "Name: Jiffy mix, dtype: int64"
      ]
     },
     "execution_count": 262,
     "metadata": {},
     "output_type": "execute_result"
    }
   ],
   "source": [
    "df['Jiffy mix'].value_counts()"
   ]
  },
  {
   "cell_type": "code",
   "execution_count": 263,
   "metadata": {},
   "outputs": [
    {
     "data": {
      "text/plain": [
       "<AxesSubplot:xlabel='Jiffy mix', ylabel='count'>"
      ]
     },
     "execution_count": 263,
     "metadata": {},
     "output_type": "execute_result"
    },
    {
     "data": {
      "image/png": "[encoded data removed]",
      "text/plain": [
       "<Figure size 432x288 with 1 Axes>"
      ]
     },
     "metadata": {
      "needs_background": "light"
     },
     "output_type": "display_data"
    }
   ],
   "source": [
    "sns.countplot(df['Jiffy mix'])"
   ]
  },
  {
   "cell_type": "code",
   "execution_count": 264,
   "metadata": {},
   "outputs": [
    {
     "data": {
      "text/plain": [
       "Gender\n",
       "F    1.377071\n",
       "M    1.369338\n",
       "Name: Jiffy mix, dtype: float64"
      ]
     },
     "execution_count": 264,
     "metadata": {},
     "output_type": "execute_result"
    }
   ],
   "source": [
    "df[df['Jiffy mix']>0].groupby('Gender').mean()['Jiffy mix']"
   ]
  },
  {
   "cell_type": "code",
   "execution_count": 265,
   "metadata": {},
   "outputs": [
    {
     "data": {
      "text/plain": [
       "Order_cat\n",
       "0 order           0.074445\n",
       "1 to 6 orders     0.092944\n",
       "7 to 12 orders    0.091586\n",
       "Name: Jiffy mix, dtype: float64"
      ]
     },
     "execution_count": 265,
     "metadata": {},
     "output_type": "execute_result"
    }
   ],
   "source": [
    "df.groupby('Order_cat').mean()['Jiffy mix']"
   ]
  },
  {
   "cell_type": "code",
   "execution_count": 266,
   "metadata": {},
   "outputs": [
    {
     "name": "stdout",
     "output_type": "stream",
     "text": [
      "Proportion of 0:  93.60000000000001 %\n",
      "Proportion of 1:  4.82 %\n",
      "Proportion of 2:  1.13 %\n",
      "Proportion of 3:  0.26 %\n",
      "Proportion of 4:  0.11 %\n",
      "Proportion of 5:  0.02 %\n",
      "Proportion of 6:  0.02 %\n",
      "Proportion of 8:  0.02 %\n",
      "Proportion of 7:  0.01 %\n"
     ]
    }
   ],
   "source": [
    "find_proportion('Jiffy mix', df)"
   ]
  },
  {
   "cell_type": "code",
   "execution_count": 267,
   "metadata": {},
   "outputs": [],
   "source": [
    "zero['Jiffy mix'] = 93.6"
   ]
  },
  {
   "cell_type": "markdown",
   "metadata": {},
   "source": [
    "#### Kraft"
   ]
  },
  {
   "cell_type": "code",
   "execution_count": 268,
   "metadata": {
    "scrolled": true
   },
   "outputs": [
    {
     "data": {
      "text/plain": [
       "0     28597\n",
       "1       970\n",
       "2       234\n",
       "3       152\n",
       "4        34\n",
       "5         4\n",
       "6         3\n",
       "7         2\n",
       "16        1\n",
       "8         1\n",
       "10        1\n",
       "11        1\n",
       "Name: Kraft, dtype: int64"
      ]
     },
     "execution_count": 268,
     "metadata": {},
     "output_type": "execute_result"
    }
   ],
   "source": [
    "df.Kraft.value_counts()"
   ]
  },
  {
   "cell_type": "code",
   "execution_count": 269,
   "metadata": {},
   "outputs": [
    {
     "data": {
      "text/plain": [
       "<AxesSubplot:xlabel='Kraft', ylabel='count'>"
      ]
     },
     "execution_count": 269,
     "metadata": {},
     "output_type": "execute_result"
    },
    {
     "data": {
      "image/png": "[encoded data removed]",
      "text/plain": [
       "<Figure size 432x288 with 1 Axes>"
      ]
     },
     "metadata": {
      "needs_background": "light"
     },
     "output_type": "display_data"
    }
   ],
   "source": [
    "sns.countplot(df.Kraft)"
   ]
  },
  {
   "cell_type": "code",
   "execution_count": 270,
   "metadata": {},
   "outputs": [
    {
     "data": {
      "text/plain": [
       "Gender\n",
       "F    1.454380\n",
       "M    1.724138\n",
       "Name: Kraft, dtype: float64"
      ]
     },
     "execution_count": 270,
     "metadata": {},
     "output_type": "execute_result"
    }
   ],
   "source": [
    "df[df['Kraft']>0].groupby('Gender').mean()['Kraft']"
   ]
  },
  {
   "cell_type": "code",
   "execution_count": 271,
   "metadata": {},
   "outputs": [
    {
     "data": {
      "text/plain": [
       "Order_cat\n",
       "0 order           0.076364\n",
       "1 to 6 orders     0.070850\n",
       "7 to 12 orders    0.066608\n",
       "Name: Kraft, dtype: float64"
      ]
     },
     "execution_count": 271,
     "metadata": {},
     "output_type": "execute_result"
    }
   ],
   "source": [
    "df.groupby('Order_cat').mean()['Kraft']"
   ]
  },
  {
   "cell_type": "code",
   "execution_count": 272,
   "metadata": {},
   "outputs": [
    {
     "name": "stdout",
     "output_type": "stream",
     "text": [
      "Proportion of 0:  95.32000000000001 %\n",
      "Proportion of 1:  3.2300000000000004 %\n",
      "Proportion of 2:  0.7799999999999999 %\n",
      "Proportion of 3:  0.51 %\n",
      "Proportion of 4:  0.11 %\n",
      "Proportion of 5:  0.01 %\n",
      "Proportion of 6:  0.01 %\n",
      "Proportion of 7:  0.01 %\n",
      "Proportion of 16:  0.0 %\n",
      "Proportion of 8:  0.0 %\n",
      "Proportion of 10:  0.0 %\n",
      "Proportion of 11:  0.0 %\n"
     ]
    }
   ],
   "source": [
    "find_proportion('Kraft', df)"
   ]
  },
  {
   "cell_type": "code",
   "execution_count": 273,
   "metadata": {},
   "outputs": [],
   "source": [
    "zero['Kraft'] = 95.32"
   ]
  },
  {
   "cell_type": "code",
   "execution_count": 274,
   "metadata": {},
   "outputs": [],
   "source": [
    "zero_df = pd.DataFrame(zero.values(), index=zero.keys())"
   ]
  },
  {
   "cell_type": "code",
   "execution_count": 275,
   "metadata": {},
   "outputs": [
    {
     "data": {
      "text/html": [
       "<div>\n",
       "<style scoped>\n",
       "    .dataframe tbody tr th:only-of-type {\n",
       "        vertical-align: middle;\n",
       "    }\n",
       "\n",
       "    .dataframe tbody tr th {\n",
       "        vertical-align: top;\n",
       "    }\n",
       "\n",
       "    .dataframe thead th {\n",
       "        text-align: right;\n",
       "    }\n",
       "</style>\n",
       "<table border=\"1\" class=\"dataframe\">\n",
       "  <thead>\n",
       "    <tr style=\"text-align: right;\">\n",
       "      <th></th>\n",
       "      <th>0</th>\n",
       "    </tr>\n",
       "  </thead>\n",
       "  <tbody>\n",
       "    <tr>\n",
       "      <th>Jordan</th>\n",
       "      <td>83.96</td>\n",
       "    </tr>\n",
       "    <tr>\n",
       "      <th>Gatorade</th>\n",
       "      <td>83.50</td>\n",
       "    </tr>\n",
       "    <tr>\n",
       "      <th>Samsung</th>\n",
       "      <td>89.67</td>\n",
       "    </tr>\n",
       "    <tr>\n",
       "      <th>Asus</th>\n",
       "      <td>91.99</td>\n",
       "    </tr>\n",
       "    <tr>\n",
       "      <th>Udis</th>\n",
       "      <td>91.96</td>\n",
       "    </tr>\n",
       "    <tr>\n",
       "      <th>Mondelez International</th>\n",
       "      <td>89.72</td>\n",
       "    </tr>\n",
       "    <tr>\n",
       "      <th>Wrangler</th>\n",
       "      <td>93.88</td>\n",
       "    </tr>\n",
       "    <tr>\n",
       "      <th>Vans</th>\n",
       "      <td>93.28</td>\n",
       "    </tr>\n",
       "    <tr>\n",
       "      <th>Fila</th>\n",
       "      <td>94.69</td>\n",
       "    </tr>\n",
       "    <tr>\n",
       "      <th>Brooks</th>\n",
       "      <td>89.00</td>\n",
       "    </tr>\n",
       "    <tr>\n",
       "      <th>Fendi</th>\n",
       "      <td>89.77</td>\n",
       "    </tr>\n",
       "    <tr>\n",
       "      <th>Hewlett Packard</th>\n",
       "      <td>90.11</td>\n",
       "    </tr>\n",
       "    <tr>\n",
       "      <th>Pladis</th>\n",
       "      <td>93.50</td>\n",
       "    </tr>\n",
       "    <tr>\n",
       "      <th>Asics</th>\n",
       "      <td>85.28</td>\n",
       "    </tr>\n",
       "    <tr>\n",
       "      <th>Siemens</th>\n",
       "      <td>96.92</td>\n",
       "    </tr>\n",
       "    <tr>\n",
       "      <th>J.M. Smucker</th>\n",
       "      <td>54.93</td>\n",
       "    </tr>\n",
       "    <tr>\n",
       "      <th>Pop Chips</th>\n",
       "      <td>83.20</td>\n",
       "    </tr>\n",
       "    <tr>\n",
       "      <th>Juniper</th>\n",
       "      <td>73.44</td>\n",
       "    </tr>\n",
       "    <tr>\n",
       "      <th>Huawei</th>\n",
       "      <td>85.55</td>\n",
       "    </tr>\n",
       "    <tr>\n",
       "      <th>Compaq</th>\n",
       "      <td>92.17</td>\n",
       "    </tr>\n",
       "    <tr>\n",
       "      <th>IBM</th>\n",
       "      <td>97.95</td>\n",
       "    </tr>\n",
       "    <tr>\n",
       "      <th>Burberry</th>\n",
       "      <td>77.07</td>\n",
       "    </tr>\n",
       "    <tr>\n",
       "      <th>Mi</th>\n",
       "      <td>91.80</td>\n",
       "    </tr>\n",
       "    <tr>\n",
       "      <th>LG</th>\n",
       "      <td>93.54</td>\n",
       "    </tr>\n",
       "    <tr>\n",
       "      <th>Dior</th>\n",
       "      <td>81.97</td>\n",
       "    </tr>\n",
       "    <tr>\n",
       "      <th>Scabal</th>\n",
       "      <td>74.05</td>\n",
       "    </tr>\n",
       "    <tr>\n",
       "      <th>Tommy Hilfiger</th>\n",
       "      <td>88.27</td>\n",
       "    </tr>\n",
       "    <tr>\n",
       "      <th>Hollister</th>\n",
       "      <td>94.41</td>\n",
       "    </tr>\n",
       "    <tr>\n",
       "      <th>Forever 21</th>\n",
       "      <td>95.49</td>\n",
       "    </tr>\n",
       "    <tr>\n",
       "      <th>Colavita</th>\n",
       "      <td>86.64</td>\n",
       "    </tr>\n",
       "    <tr>\n",
       "      <th>Microsoft</th>\n",
       "      <td>91.00</td>\n",
       "    </tr>\n",
       "    <tr>\n",
       "      <th>Jiffy mix</th>\n",
       "      <td>93.60</td>\n",
       "    </tr>\n",
       "    <tr>\n",
       "      <th>Kraft</th>\n",
       "      <td>95.32</td>\n",
       "    </tr>\n",
       "  </tbody>\n",
       "</table>\n",
       "</div>"
      ],
      "text/plain": [
       "                            0\n",
       "Jordan                  83.96\n",
       "Gatorade                83.50\n",
       "Samsung                 89.67\n",
       "Asus                    91.99\n",
       "Udis                    91.96\n",
       "Mondelez International  89.72\n",
       "Wrangler                93.88\n",
       "Vans                    93.28\n",
       "Fila                    94.69\n",
       "Brooks                  89.00\n",
       "Fendi                   89.77\n",
       "Hewlett Packard         90.11\n",
       "Pladis                  93.50\n",
       "Asics                   85.28\n",
       "Siemens                 96.92\n",
       "J.M. Smucker            54.93\n",
       "Pop Chips               83.20\n",
       "Juniper                 73.44\n",
       "Huawei                  85.55\n",
       "Compaq                  92.17\n",
       "IBM                     97.95\n",
       "Burberry                77.07\n",
       "Mi                      91.80\n",
       "LG                      93.54\n",
       "Dior                    81.97\n",
       "Scabal                  74.05\n",
       "Tommy Hilfiger          88.27\n",
       "Hollister               94.41\n",
       "Forever 21              95.49\n",
       "Colavita                86.64\n",
       "Microsoft               91.00\n",
       "Jiffy mix               93.60\n",
       "Kraft                   95.32"
      ]
     },
     "execution_count": 275,
     "metadata": {},
     "output_type": "execute_result"
    }
   ],
   "source": [
    "# Percentage of customers who never searched for each products\n",
    "\n",
    "zero_df"
   ]
  },
  {
   "cell_type": "code",
   "execution_count": 276,
   "metadata": {},
   "outputs": [
    {
     "data": {
      "text/plain": [
       "0    97.95\n",
       "Name: IBM, dtype: float64"
      ]
     },
     "execution_count": 276,
     "metadata": {},
     "output_type": "execute_result"
    }
   ],
   "source": [
    "zero_df.iloc[zero_df[0].argmax()]"
   ]
  },
  {
   "cell_type": "code",
   "execution_count": 277,
   "metadata": {},
   "outputs": [],
   "source": [
    "# 97.95 % of customers did 0 searches for the product IBM"
   ]
  },
  {
   "cell_type": "markdown",
   "metadata": {},
   "source": [
    "# Preprocessing"
   ]
  },
  {
   "cell_type": "code",
   "execution_count": 278,
   "metadata": {},
   "outputs": [
    {
     "data": {
      "text/html": [
       "<div>\n",
       "<style scoped>\n",
       "    .dataframe tbody tr th:only-of-type {\n",
       "        vertical-align: middle;\n",
       "    }\n",
       "\n",
       "    .dataframe tbody tr th {\n",
       "        vertical-align: top;\n",
       "    }\n",
       "\n",
       "    .dataframe thead th {\n",
       "        text-align: right;\n",
       "    }\n",
       "</style>\n",
       "<table border=\"1\" class=\"dataframe\">\n",
       "  <thead>\n",
       "    <tr style=\"text-align: right;\">\n",
       "      <th></th>\n",
       "      <th>Cust_ID</th>\n",
       "      <th>Gender</th>\n",
       "      <th>Orders</th>\n",
       "      <th>Jordan</th>\n",
       "      <th>Gatorade</th>\n",
       "      <th>Samsung</th>\n",
       "      <th>Asus</th>\n",
       "      <th>Udis</th>\n",
       "      <th>Mondelez International</th>\n",
       "      <th>Wrangler</th>\n",
       "      <th>Vans</th>\n",
       "      <th>Fila</th>\n",
       "      <th>Brooks</th>\n",
       "      <th>H&amp;M</th>\n",
       "      <th>Dairy Queen</th>\n",
       "      <th>Fendi</th>\n",
       "      <th>Hewlett Packard</th>\n",
       "      <th>Pladis</th>\n",
       "      <th>Asics</th>\n",
       "      <th>Siemens</th>\n",
       "      <th>J.M. Smucker</th>\n",
       "      <th>Pop Chips</th>\n",
       "      <th>Juniper</th>\n",
       "      <th>Huawei</th>\n",
       "      <th>Compaq</th>\n",
       "      <th>IBM</th>\n",
       "      <th>Burberry</th>\n",
       "      <th>Mi</th>\n",
       "      <th>LG</th>\n",
       "      <th>Dior</th>\n",
       "      <th>Scabal</th>\n",
       "      <th>Tommy Hilfiger</th>\n",
       "      <th>Hollister</th>\n",
       "      <th>Forever 21</th>\n",
       "      <th>Colavita</th>\n",
       "      <th>Microsoft</th>\n",
       "      <th>Jiffy mix</th>\n",
       "      <th>Kraft</th>\n",
       "      <th>Order_cat</th>\n",
       "    </tr>\n",
       "  </thead>\n",
       "  <tbody>\n",
       "    <tr>\n",
       "      <th>0</th>\n",
       "      <td>1</td>\n",
       "      <td>M</td>\n",
       "      <td>7</td>\n",
       "      <td>0</td>\n",
       "      <td>0</td>\n",
       "      <td>0</td>\n",
       "      <td>0</td>\n",
       "      <td>0</td>\n",
       "      <td>0</td>\n",
       "      <td>0</td>\n",
       "      <td>2</td>\n",
       "      <td>0</td>\n",
       "      <td>0</td>\n",
       "      <td>0</td>\n",
       "      <td>0</td>\n",
       "      <td>0</td>\n",
       "      <td>0</td>\n",
       "      <td>0</td>\n",
       "      <td>0</td>\n",
       "      <td>0</td>\n",
       "      <td>0</td>\n",
       "      <td>0</td>\n",
       "      <td>0</td>\n",
       "      <td>0</td>\n",
       "      <td>0</td>\n",
       "      <td>0</td>\n",
       "      <td>0</td>\n",
       "      <td>0</td>\n",
       "      <td>0</td>\n",
       "      <td>0</td>\n",
       "      <td>0</td>\n",
       "      <td>0</td>\n",
       "      <td>0</td>\n",
       "      <td>0</td>\n",
       "      <td>0</td>\n",
       "      <td>0</td>\n",
       "      <td>0</td>\n",
       "      <td>0</td>\n",
       "      <td>7 to 12 orders</td>\n",
       "    </tr>\n",
       "    <tr>\n",
       "      <th>1</th>\n",
       "      <td>2</td>\n",
       "      <td>F</td>\n",
       "      <td>0</td>\n",
       "      <td>0</td>\n",
       "      <td>1</td>\n",
       "      <td>0</td>\n",
       "      <td>0</td>\n",
       "      <td>0</td>\n",
       "      <td>0</td>\n",
       "      <td>0</td>\n",
       "      <td>0</td>\n",
       "      <td>0</td>\n",
       "      <td>0</td>\n",
       "      <td>1</td>\n",
       "      <td>0</td>\n",
       "      <td>0</td>\n",
       "      <td>0</td>\n",
       "      <td>0</td>\n",
       "      <td>0</td>\n",
       "      <td>0</td>\n",
       "      <td>2</td>\n",
       "      <td>2</td>\n",
       "      <td>1</td>\n",
       "      <td>0</td>\n",
       "      <td>0</td>\n",
       "      <td>0</td>\n",
       "      <td>6</td>\n",
       "      <td>4</td>\n",
       "      <td>0</td>\n",
       "      <td>1</td>\n",
       "      <td>0</td>\n",
       "      <td>0</td>\n",
       "      <td>0</td>\n",
       "      <td>0</td>\n",
       "      <td>0</td>\n",
       "      <td>0</td>\n",
       "      <td>0</td>\n",
       "      <td>0</td>\n",
       "      <td>0 order</td>\n",
       "    </tr>\n",
       "    <tr>\n",
       "      <th>2</th>\n",
       "      <td>3</td>\n",
       "      <td>M</td>\n",
       "      <td>7</td>\n",
       "      <td>0</td>\n",
       "      <td>1</td>\n",
       "      <td>0</td>\n",
       "      <td>0</td>\n",
       "      <td>0</td>\n",
       "      <td>0</td>\n",
       "      <td>0</td>\n",
       "      <td>0</td>\n",
       "      <td>0</td>\n",
       "      <td>0</td>\n",
       "      <td>0</td>\n",
       "      <td>0</td>\n",
       "      <td>0</td>\n",
       "      <td>0</td>\n",
       "      <td>0</td>\n",
       "      <td>2</td>\n",
       "      <td>0</td>\n",
       "      <td>1</td>\n",
       "      <td>0</td>\n",
       "      <td>0</td>\n",
       "      <td>0</td>\n",
       "      <td>0</td>\n",
       "      <td>0</td>\n",
       "      <td>0</td>\n",
       "      <td>0</td>\n",
       "      <td>0</td>\n",
       "      <td>0</td>\n",
       "      <td>0</td>\n",
       "      <td>0</td>\n",
       "      <td>0</td>\n",
       "      <td>0</td>\n",
       "      <td>0</td>\n",
       "      <td>1</td>\n",
       "      <td>0</td>\n",
       "      <td>0</td>\n",
       "      <td>7 to 12 orders</td>\n",
       "    </tr>\n",
       "    <tr>\n",
       "      <th>3</th>\n",
       "      <td>4</td>\n",
       "      <td>F</td>\n",
       "      <td>0</td>\n",
       "      <td>0</td>\n",
       "      <td>0</td>\n",
       "      <td>0</td>\n",
       "      <td>0</td>\n",
       "      <td>0</td>\n",
       "      <td>0</td>\n",
       "      <td>0</td>\n",
       "      <td>0</td>\n",
       "      <td>0</td>\n",
       "      <td>0</td>\n",
       "      <td>1</td>\n",
       "      <td>0</td>\n",
       "      <td>0</td>\n",
       "      <td>0</td>\n",
       "      <td>0</td>\n",
       "      <td>0</td>\n",
       "      <td>0</td>\n",
       "      <td>0</td>\n",
       "      <td>1</td>\n",
       "      <td>0</td>\n",
       "      <td>0</td>\n",
       "      <td>0</td>\n",
       "      <td>0</td>\n",
       "      <td>0</td>\n",
       "      <td>0</td>\n",
       "      <td>0</td>\n",
       "      <td>0</td>\n",
       "      <td>0</td>\n",
       "      <td>0</td>\n",
       "      <td>0</td>\n",
       "      <td>0</td>\n",
       "      <td>0</td>\n",
       "      <td>0</td>\n",
       "      <td>0</td>\n",
       "      <td>0</td>\n",
       "      <td>0 order</td>\n",
       "    </tr>\n",
       "    <tr>\n",
       "      <th>4</th>\n",
       "      <td>5</td>\n",
       "      <td>NaN</td>\n",
       "      <td>10</td>\n",
       "      <td>0</td>\n",
       "      <td>0</td>\n",
       "      <td>0</td>\n",
       "      <td>0</td>\n",
       "      <td>0</td>\n",
       "      <td>0</td>\n",
       "      <td>0</td>\n",
       "      <td>0</td>\n",
       "      <td>0</td>\n",
       "      <td>0</td>\n",
       "      <td>0</td>\n",
       "      <td>1</td>\n",
       "      <td>0</td>\n",
       "      <td>0</td>\n",
       "      <td>5</td>\n",
       "      <td>1</td>\n",
       "      <td>0</td>\n",
       "      <td>3</td>\n",
       "      <td>0</td>\n",
       "      <td>1</td>\n",
       "      <td>0</td>\n",
       "      <td>0</td>\n",
       "      <td>0</td>\n",
       "      <td>1</td>\n",
       "      <td>0</td>\n",
       "      <td>0</td>\n",
       "      <td>0</td>\n",
       "      <td>2</td>\n",
       "      <td>0</td>\n",
       "      <td>0</td>\n",
       "      <td>0</td>\n",
       "      <td>0</td>\n",
       "      <td>0</td>\n",
       "      <td>1</td>\n",
       "      <td>1</td>\n",
       "      <td>7 to 12 orders</td>\n",
       "    </tr>\n",
       "  </tbody>\n",
       "</table>\n",
       "</div>"
      ],
      "text/plain": [
       "   Cust_ID Gender  Orders  Jordan  Gatorade  Samsung  Asus  Udis  \\\n",
       "0        1      M       7       0         0        0     0     0   \n",
       "1        2      F       0       0         1        0     0     0   \n",
       "2        3      M       7       0         1        0     0     0   \n",
       "3        4      F       0       0         0        0     0     0   \n",
       "4        5    NaN      10       0         0        0     0     0   \n",
       "\n",
       "   Mondelez International  Wrangler  Vans  Fila  Brooks  H&M  Dairy Queen  \\\n",
       "0                       0         0     2     0       0    0            0   \n",
       "1                       0         0     0     0       0    1            0   \n",
       "2                       0         0     0     0       0    0            0   \n",
       "3                       0         0     0     0       0    1            0   \n",
       "4                       0         0     0     0       0    0            1   \n",
       "\n",
       "   Fendi  Hewlett Packard  Pladis  Asics  Siemens  J.M. Smucker  Pop Chips  \\\n",
       "0      0                0       0      0        0             0          0   \n",
       "1      0                0       0      0        0             2          2   \n",
       "2      0                0       0      2        0             1          0   \n",
       "3      0                0       0      0        0             0          1   \n",
       "4      0                0       5      1        0             3          0   \n",
       "\n",
       "   Juniper  Huawei  Compaq  IBM  Burberry  Mi  LG  Dior  Scabal  \\\n",
       "0        0       0       0    0         0   0   0     0       0   \n",
       "1        1       0       0    0         6   4   0     1       0   \n",
       "2        0       0       0    0         0   0   0     0       0   \n",
       "3        0       0       0    0         0   0   0     0       0   \n",
       "4        1       0       0    0         1   0   0     0       2   \n",
       "\n",
       "   Tommy Hilfiger  Hollister  Forever 21  Colavita  Microsoft  Jiffy mix  \\\n",
       "0               0          0           0         0          0          0   \n",
       "1               0          0           0         0          0          0   \n",
       "2               0          0           0         0          1          0   \n",
       "3               0          0           0         0          0          0   \n",
       "4               0          0           0         0          0          1   \n",
       "\n",
       "   Kraft       Order_cat  \n",
       "0      0  7 to 12 orders  \n",
       "1      0         0 order  \n",
       "2      0  7 to 12 orders  \n",
       "3      0         0 order  \n",
       "4      1  7 to 12 orders  "
      ]
     },
     "execution_count": 278,
     "metadata": {},
     "output_type": "execute_result"
    }
   ],
   "source": [
    "df.head()"
   ]
  },
  {
   "cell_type": "code",
   "execution_count": 279,
   "metadata": {},
   "outputs": [],
   "source": [
    "# K-means clustering cannot process string values, so we should remove 'Gender' and 'Order_cat',\n",
    "# 'Cust_ID' is an unique number and is not useful for analysis.\n",
    "\n",
    "df_new = df.drop(['Gender', 'Cust_ID', 'Order_cat'], axis=1)"
   ]
  },
  {
   "cell_type": "code",
   "execution_count": 280,
   "metadata": {},
   "outputs": [
    {
     "data": {
      "text/html": [
       "<div>\n",
       "<style scoped>\n",
       "    .dataframe tbody tr th:only-of-type {\n",
       "        vertical-align: middle;\n",
       "    }\n",
       "\n",
       "    .dataframe tbody tr th {\n",
       "        vertical-align: top;\n",
       "    }\n",
       "\n",
       "    .dataframe thead th {\n",
       "        text-align: right;\n",
       "    }\n",
       "</style>\n",
       "<table border=\"1\" class=\"dataframe\">\n",
       "  <thead>\n",
       "    <tr style=\"text-align: right;\">\n",
       "      <th></th>\n",
       "      <th>Orders</th>\n",
       "      <th>Jordan</th>\n",
       "      <th>Gatorade</th>\n",
       "      <th>Samsung</th>\n",
       "      <th>Asus</th>\n",
       "      <th>Udis</th>\n",
       "      <th>Mondelez International</th>\n",
       "      <th>Wrangler</th>\n",
       "      <th>Vans</th>\n",
       "      <th>Fila</th>\n",
       "      <th>Brooks</th>\n",
       "      <th>H&amp;M</th>\n",
       "      <th>Dairy Queen</th>\n",
       "      <th>Fendi</th>\n",
       "      <th>Hewlett Packard</th>\n",
       "      <th>Pladis</th>\n",
       "      <th>Asics</th>\n",
       "      <th>Siemens</th>\n",
       "      <th>J.M. Smucker</th>\n",
       "      <th>Pop Chips</th>\n",
       "      <th>Juniper</th>\n",
       "      <th>Huawei</th>\n",
       "      <th>Compaq</th>\n",
       "      <th>IBM</th>\n",
       "      <th>Burberry</th>\n",
       "      <th>Mi</th>\n",
       "      <th>LG</th>\n",
       "      <th>Dior</th>\n",
       "      <th>Scabal</th>\n",
       "      <th>Tommy Hilfiger</th>\n",
       "      <th>Hollister</th>\n",
       "      <th>Forever 21</th>\n",
       "      <th>Colavita</th>\n",
       "      <th>Microsoft</th>\n",
       "      <th>Jiffy mix</th>\n",
       "      <th>Kraft</th>\n",
       "    </tr>\n",
       "  </thead>\n",
       "  <tbody>\n",
       "    <tr>\n",
       "      <th>0</th>\n",
       "      <td>7</td>\n",
       "      <td>0</td>\n",
       "      <td>0</td>\n",
       "      <td>0</td>\n",
       "      <td>0</td>\n",
       "      <td>0</td>\n",
       "      <td>0</td>\n",
       "      <td>0</td>\n",
       "      <td>2</td>\n",
       "      <td>0</td>\n",
       "      <td>0</td>\n",
       "      <td>0</td>\n",
       "      <td>0</td>\n",
       "      <td>0</td>\n",
       "      <td>0</td>\n",
       "      <td>0</td>\n",
       "      <td>0</td>\n",
       "      <td>0</td>\n",
       "      <td>0</td>\n",
       "      <td>0</td>\n",
       "      <td>0</td>\n",
       "      <td>0</td>\n",
       "      <td>0</td>\n",
       "      <td>0</td>\n",
       "      <td>0</td>\n",
       "      <td>0</td>\n",
       "      <td>0</td>\n",
       "      <td>0</td>\n",
       "      <td>0</td>\n",
       "      <td>0</td>\n",
       "      <td>0</td>\n",
       "      <td>0</td>\n",
       "      <td>0</td>\n",
       "      <td>0</td>\n",
       "      <td>0</td>\n",
       "      <td>0</td>\n",
       "    </tr>\n",
       "    <tr>\n",
       "      <th>1</th>\n",
       "      <td>0</td>\n",
       "      <td>0</td>\n",
       "      <td>1</td>\n",
       "      <td>0</td>\n",
       "      <td>0</td>\n",
       "      <td>0</td>\n",
       "      <td>0</td>\n",
       "      <td>0</td>\n",
       "      <td>0</td>\n",
       "      <td>0</td>\n",
       "      <td>0</td>\n",
       "      <td>1</td>\n",
       "      <td>0</td>\n",
       "      <td>0</td>\n",
       "      <td>0</td>\n",
       "      <td>0</td>\n",
       "      <td>0</td>\n",
       "      <td>0</td>\n",
       "      <td>2</td>\n",
       "      <td>2</td>\n",
       "      <td>1</td>\n",
       "      <td>0</td>\n",
       "      <td>0</td>\n",
       "      <td>0</td>\n",
       "      <td>6</td>\n",
       "      <td>4</td>\n",
       "      <td>0</td>\n",
       "      <td>1</td>\n",
       "      <td>0</td>\n",
       "      <td>0</td>\n",
       "      <td>0</td>\n",
       "      <td>0</td>\n",
       "      <td>0</td>\n",
       "      <td>0</td>\n",
       "      <td>0</td>\n",
       "      <td>0</td>\n",
       "    </tr>\n",
       "    <tr>\n",
       "      <th>2</th>\n",
       "      <td>7</td>\n",
       "      <td>0</td>\n",
       "      <td>1</td>\n",
       "      <td>0</td>\n",
       "      <td>0</td>\n",
       "      <td>0</td>\n",
       "      <td>0</td>\n",
       "      <td>0</td>\n",
       "      <td>0</td>\n",
       "      <td>0</td>\n",
       "      <td>0</td>\n",
       "      <td>0</td>\n",
       "      <td>0</td>\n",
       "      <td>0</td>\n",
       "      <td>0</td>\n",
       "      <td>0</td>\n",
       "      <td>2</td>\n",
       "      <td>0</td>\n",
       "      <td>1</td>\n",
       "      <td>0</td>\n",
       "      <td>0</td>\n",
       "      <td>0</td>\n",
       "      <td>0</td>\n",
       "      <td>0</td>\n",
       "      <td>0</td>\n",
       "      <td>0</td>\n",
       "      <td>0</td>\n",
       "      <td>0</td>\n",
       "      <td>0</td>\n",
       "      <td>0</td>\n",
       "      <td>0</td>\n",
       "      <td>0</td>\n",
       "      <td>0</td>\n",
       "      <td>1</td>\n",
       "      <td>0</td>\n",
       "      <td>0</td>\n",
       "    </tr>\n",
       "    <tr>\n",
       "      <th>3</th>\n",
       "      <td>0</td>\n",
       "      <td>0</td>\n",
       "      <td>0</td>\n",
       "      <td>0</td>\n",
       "      <td>0</td>\n",
       "      <td>0</td>\n",
       "      <td>0</td>\n",
       "      <td>0</td>\n",
       "      <td>0</td>\n",
       "      <td>0</td>\n",
       "      <td>0</td>\n",
       "      <td>1</td>\n",
       "      <td>0</td>\n",
       "      <td>0</td>\n",
       "      <td>0</td>\n",
       "      <td>0</td>\n",
       "      <td>0</td>\n",
       "      <td>0</td>\n",
       "      <td>0</td>\n",
       "      <td>1</td>\n",
       "      <td>0</td>\n",
       "      <td>0</td>\n",
       "      <td>0</td>\n",
       "      <td>0</td>\n",
       "      <td>0</td>\n",
       "      <td>0</td>\n",
       "      <td>0</td>\n",
       "      <td>0</td>\n",
       "      <td>0</td>\n",
       "      <td>0</td>\n",
       "      <td>0</td>\n",
       "      <td>0</td>\n",
       "      <td>0</td>\n",
       "      <td>0</td>\n",
       "      <td>0</td>\n",
       "      <td>0</td>\n",
       "    </tr>\n",
       "    <tr>\n",
       "      <th>4</th>\n",
       "      <td>10</td>\n",
       "      <td>0</td>\n",
       "      <td>0</td>\n",
       "      <td>0</td>\n",
       "      <td>0</td>\n",
       "      <td>0</td>\n",
       "      <td>0</td>\n",
       "      <td>0</td>\n",
       "      <td>0</td>\n",
       "      <td>0</td>\n",
       "      <td>0</td>\n",
       "      <td>0</td>\n",
       "      <td>1</td>\n",
       "      <td>0</td>\n",
       "      <td>0</td>\n",
       "      <td>5</td>\n",
       "      <td>1</td>\n",
       "      <td>0</td>\n",
       "      <td>3</td>\n",
       "      <td>0</td>\n",
       "      <td>1</td>\n",
       "      <td>0</td>\n",
       "      <td>0</td>\n",
       "      <td>0</td>\n",
       "      <td>1</td>\n",
       "      <td>0</td>\n",
       "      <td>0</td>\n",
       "      <td>0</td>\n",
       "      <td>2</td>\n",
       "      <td>0</td>\n",
       "      <td>0</td>\n",
       "      <td>0</td>\n",
       "      <td>0</td>\n",
       "      <td>0</td>\n",
       "      <td>1</td>\n",
       "      <td>1</td>\n",
       "    </tr>\n",
       "  </tbody>\n",
       "</table>\n",
       "</div>"
      ],
      "text/plain": [
       "   Orders  Jordan  Gatorade  Samsung  Asus  Udis  Mondelez International  \\\n",
       "0       7       0         0        0     0     0                       0   \n",
       "1       0       0         1        0     0     0                       0   \n",
       "2       7       0         1        0     0     0                       0   \n",
       "3       0       0         0        0     0     0                       0   \n",
       "4      10       0         0        0     0     0                       0   \n",
       "\n",
       "   Wrangler  Vans  Fila  Brooks  H&M  Dairy Queen  Fendi  Hewlett Packard  \\\n",
       "0         0     2     0       0    0            0      0                0   \n",
       "1         0     0     0       0    1            0      0                0   \n",
       "2         0     0     0       0    0            0      0                0   \n",
       "3         0     0     0       0    1            0      0                0   \n",
       "4         0     0     0       0    0            1      0                0   \n",
       "\n",
       "   Pladis  Asics  Siemens  J.M. Smucker  Pop Chips  Juniper  Huawei  Compaq  \\\n",
       "0       0      0        0             0          0        0       0       0   \n",
       "1       0      0        0             2          2        1       0       0   \n",
       "2       0      2        0             1          0        0       0       0   \n",
       "3       0      0        0             0          1        0       0       0   \n",
       "4       5      1        0             3          0        1       0       0   \n",
       "\n",
       "   IBM  Burberry  Mi  LG  Dior  Scabal  Tommy Hilfiger  Hollister  Forever 21  \\\n",
       "0    0         0   0   0     0       0               0          0           0   \n",
       "1    0         6   4   0     1       0               0          0           0   \n",
       "2    0         0   0   0     0       0               0          0           0   \n",
       "3    0         0   0   0     0       0               0          0           0   \n",
       "4    0         1   0   0     0       2               0          0           0   \n",
       "\n",
       "   Colavita  Microsoft  Jiffy mix  Kraft  \n",
       "0         0          0          0      0  \n",
       "1         0          0          0      0  \n",
       "2         0          1          0      0  \n",
       "3         0          0          0      0  \n",
       "4         0          0          1      1  "
      ]
     },
     "execution_count": 280,
     "metadata": {},
     "output_type": "execute_result"
    }
   ],
   "source": [
    "df_new.head()"
   ]
  },
  {
   "cell_type": "code",
   "execution_count": 281,
   "metadata": {},
   "outputs": [
    {
     "data": {
      "text/plain": [
       "(30000, 36)"
      ]
     },
     "execution_count": 281,
     "metadata": {},
     "output_type": "execute_result"
    }
   ],
   "source": [
    "df_new.shape"
   ]
  },
  {
   "cell_type": "code",
   "execution_count": 282,
   "metadata": {
    "scrolled": true
   },
   "outputs": [
    {
     "data": {
      "text/html": [
       "<div>\n",
       "<style scoped>\n",
       "    .dataframe tbody tr th:only-of-type {\n",
       "        vertical-align: middle;\n",
       "    }\n",
       "\n",
       "    .dataframe tbody tr th {\n",
       "        vertical-align: top;\n",
       "    }\n",
       "\n",
       "    .dataframe thead th {\n",
       "        text-align: right;\n",
       "    }\n",
       "</style>\n",
       "<table border=\"1\" class=\"dataframe\">\n",
       "  <thead>\n",
       "    <tr style=\"text-align: right;\">\n",
       "      <th></th>\n",
       "      <th>Orders</th>\n",
       "      <th>Jordan</th>\n",
       "      <th>Gatorade</th>\n",
       "      <th>Samsung</th>\n",
       "      <th>Asus</th>\n",
       "      <th>Udis</th>\n",
       "      <th>Mondelez International</th>\n",
       "      <th>Wrangler</th>\n",
       "      <th>Vans</th>\n",
       "      <th>Fila</th>\n",
       "      <th>Brooks</th>\n",
       "      <th>H&amp;M</th>\n",
       "      <th>Dairy Queen</th>\n",
       "      <th>Fendi</th>\n",
       "      <th>Hewlett Packard</th>\n",
       "      <th>Pladis</th>\n",
       "      <th>Asics</th>\n",
       "      <th>Siemens</th>\n",
       "      <th>J.M. Smucker</th>\n",
       "      <th>Pop Chips</th>\n",
       "      <th>Juniper</th>\n",
       "      <th>Huawei</th>\n",
       "      <th>Compaq</th>\n",
       "      <th>IBM</th>\n",
       "      <th>Burberry</th>\n",
       "      <th>Mi</th>\n",
       "      <th>LG</th>\n",
       "      <th>Dior</th>\n",
       "      <th>Scabal</th>\n",
       "      <th>Tommy Hilfiger</th>\n",
       "      <th>Hollister</th>\n",
       "      <th>Forever 21</th>\n",
       "      <th>Colavita</th>\n",
       "      <th>Microsoft</th>\n",
       "      <th>Jiffy mix</th>\n",
       "      <th>Kraft</th>\n",
       "    </tr>\n",
       "  </thead>\n",
       "  <tbody>\n",
       "    <tr>\n",
       "      <th>Orders</th>\n",
       "      <td>1.000000</td>\n",
       "      <td>0.016090</td>\n",
       "      <td>0.034310</td>\n",
       "      <td>0.017885</td>\n",
       "      <td>0.015584</td>\n",
       "      <td>0.009018</td>\n",
       "      <td>0.008741</td>\n",
       "      <td>0.003856</td>\n",
       "      <td>0.006343</td>\n",
       "      <td>-0.009627</td>\n",
       "      <td>0.015389</td>\n",
       "      <td>0.030833</td>\n",
       "      <td>-0.002705</td>\n",
       "      <td>0.017077</td>\n",
       "      <td>0.006867</td>\n",
       "      <td>-0.000602</td>\n",
       "      <td>0.022064</td>\n",
       "      <td>0.007843</td>\n",
       "      <td>0.030807</td>\n",
       "      <td>0.018774</td>\n",
       "      <td>-0.002741</td>\n",
       "      <td>0.008031</td>\n",
       "      <td>0.002765</td>\n",
       "      <td>-0.007647</td>\n",
       "      <td>0.015813</td>\n",
       "      <td>0.010369</td>\n",
       "      <td>-0.006382</td>\n",
       "      <td>0.009027</td>\n",
       "      <td>0.020050</td>\n",
       "      <td>0.003550</td>\n",
       "      <td>0.001680</td>\n",
       "      <td>-0.003436</td>\n",
       "      <td>0.007455</td>\n",
       "      <td>0.015307</td>\n",
       "      <td>0.011268</td>\n",
       "      <td>-0.007160</td>\n",
       "    </tr>\n",
       "    <tr>\n",
       "      <th>Jordan</th>\n",
       "      <td>0.016090</td>\n",
       "      <td>1.000000</td>\n",
       "      <td>0.177254</td>\n",
       "      <td>0.071258</td>\n",
       "      <td>0.123731</td>\n",
       "      <td>0.135673</td>\n",
       "      <td>0.021950</td>\n",
       "      <td>0.040710</td>\n",
       "      <td>0.115796</td>\n",
       "      <td>0.031611</td>\n",
       "      <td>0.165471</td>\n",
       "      <td>0.038302</td>\n",
       "      <td>0.043857</td>\n",
       "      <td>0.030369</td>\n",
       "      <td>0.008800</td>\n",
       "      <td>0.062050</td>\n",
       "      <td>0.009816</td>\n",
       "      <td>-0.011082</td>\n",
       "      <td>0.054025</td>\n",
       "      <td>0.081462</td>\n",
       "      <td>0.025708</td>\n",
       "      <td>0.051468</td>\n",
       "      <td>0.007495</td>\n",
       "      <td>0.001963</td>\n",
       "      <td>0.096492</td>\n",
       "      <td>0.022963</td>\n",
       "      <td>0.070205</td>\n",
       "      <td>0.061185</td>\n",
       "      <td>0.062582</td>\n",
       "      <td>0.063739</td>\n",
       "      <td>0.026350</td>\n",
       "      <td>0.024710</td>\n",
       "      <td>0.015564</td>\n",
       "      <td>0.015804</td>\n",
       "      <td>0.021651</td>\n",
       "      <td>0.018918</td>\n",
       "    </tr>\n",
       "    <tr>\n",
       "      <th>Gatorade</th>\n",
       "      <td>0.034310</td>\n",
       "      <td>0.177254</td>\n",
       "      <td>1.000000</td>\n",
       "      <td>0.063890</td>\n",
       "      <td>0.046215</td>\n",
       "      <td>0.058180</td>\n",
       "      <td>0.031272</td>\n",
       "      <td>0.088166</td>\n",
       "      <td>0.170620</td>\n",
       "      <td>0.026350</td>\n",
       "      <td>0.154345</td>\n",
       "      <td>0.066794</td>\n",
       "      <td>0.055532</td>\n",
       "      <td>0.029120</td>\n",
       "      <td>0.016680</td>\n",
       "      <td>0.062749</td>\n",
       "      <td>0.042912</td>\n",
       "      <td>0.006296</td>\n",
       "      <td>0.060775</td>\n",
       "      <td>0.087545</td>\n",
       "      <td>0.030956</td>\n",
       "      <td>0.042281</td>\n",
       "      <td>0.008773</td>\n",
       "      <td>-0.009290</td>\n",
       "      <td>0.102216</td>\n",
       "      <td>0.033103</td>\n",
       "      <td>0.066443</td>\n",
       "      <td>0.056571</td>\n",
       "      <td>0.045958</td>\n",
       "      <td>0.058190</td>\n",
       "      <td>0.050302</td>\n",
       "      <td>0.031495</td>\n",
       "      <td>0.018279</td>\n",
       "      <td>0.016625</td>\n",
       "      <td>0.038655</td>\n",
       "      <td>0.018553</td>\n",
       "    </tr>\n",
       "    <tr>\n",
       "      <th>Samsung</th>\n",
       "      <td>0.017885</td>\n",
       "      <td>0.071258</td>\n",
       "      <td>0.063890</td>\n",
       "      <td>1.000000</td>\n",
       "      <td>0.012274</td>\n",
       "      <td>0.028785</td>\n",
       "      <td>0.035807</td>\n",
       "      <td>0.014565</td>\n",
       "      <td>0.029155</td>\n",
       "      <td>0.024847</td>\n",
       "      <td>0.089334</td>\n",
       "      <td>0.031444</td>\n",
       "      <td>0.014086</td>\n",
       "      <td>0.015095</td>\n",
       "      <td>0.011988</td>\n",
       "      <td>0.025422</td>\n",
       "      <td>0.004546</td>\n",
       "      <td>-0.011741</td>\n",
       "      <td>0.026365</td>\n",
       "      <td>0.048772</td>\n",
       "      <td>0.001621</td>\n",
       "      <td>0.024820</td>\n",
       "      <td>0.004358</td>\n",
       "      <td>-0.005467</td>\n",
       "      <td>0.047852</td>\n",
       "      <td>0.004060</td>\n",
       "      <td>0.058584</td>\n",
       "      <td>0.017369</td>\n",
       "      <td>0.046561</td>\n",
       "      <td>0.015502</td>\n",
       "      <td>0.021566</td>\n",
       "      <td>0.016170</td>\n",
       "      <td>0.005584</td>\n",
       "      <td>0.003640</td>\n",
       "      <td>0.009303</td>\n",
       "      <td>0.006633</td>\n",
       "    </tr>\n",
       "    <tr>\n",
       "      <th>Asus</th>\n",
       "      <td>0.015584</td>\n",
       "      <td>0.123731</td>\n",
       "      <td>0.046215</td>\n",
       "      <td>0.012274</td>\n",
       "      <td>1.000000</td>\n",
       "      <td>0.114588</td>\n",
       "      <td>0.018120</td>\n",
       "      <td>0.026668</td>\n",
       "      <td>0.046990</td>\n",
       "      <td>-0.004766</td>\n",
       "      <td>0.114384</td>\n",
       "      <td>0.025349</td>\n",
       "      <td>0.028589</td>\n",
       "      <td>0.006580</td>\n",
       "      <td>0.006500</td>\n",
       "      <td>0.030216</td>\n",
       "      <td>0.010339</td>\n",
       "      <td>-0.000218</td>\n",
       "      <td>0.023046</td>\n",
       "      <td>0.022716</td>\n",
       "      <td>0.017840</td>\n",
       "      <td>0.033468</td>\n",
       "      <td>0.005892</td>\n",
       "      <td>-0.007446</td>\n",
       "      <td>0.047276</td>\n",
       "      <td>0.016904</td>\n",
       "      <td>0.025722</td>\n",
       "      <td>0.028911</td>\n",
       "      <td>0.043168</td>\n",
       "      <td>0.039139</td>\n",
       "      <td>0.017283</td>\n",
       "      <td>0.014186</td>\n",
       "      <td>0.009605</td>\n",
       "      <td>0.019748</td>\n",
       "      <td>0.008001</td>\n",
       "      <td>0.007530</td>\n",
       "    </tr>\n",
       "    <tr>\n",
       "      <th>Udis</th>\n",
       "      <td>0.009018</td>\n",
       "      <td>0.135673</td>\n",
       "      <td>0.058180</td>\n",
       "      <td>0.028785</td>\n",
       "      <td>0.114588</td>\n",
       "      <td>1.000000</td>\n",
       "      <td>0.040251</td>\n",
       "      <td>0.023128</td>\n",
       "      <td>0.020696</td>\n",
       "      <td>0.021717</td>\n",
       "      <td>0.089850</td>\n",
       "      <td>0.037187</td>\n",
       "      <td>0.013806</td>\n",
       "      <td>0.011772</td>\n",
       "      <td>0.014293</td>\n",
       "      <td>0.022155</td>\n",
       "      <td>-0.008444</td>\n",
       "      <td>-0.014267</td>\n",
       "      <td>0.013708</td>\n",
       "      <td>0.020427</td>\n",
       "      <td>0.014118</td>\n",
       "      <td>0.024393</td>\n",
       "      <td>0.002922</td>\n",
       "      <td>-0.003076</td>\n",
       "      <td>0.040914</td>\n",
       "      <td>0.013516</td>\n",
       "      <td>0.030406</td>\n",
       "      <td>0.029567</td>\n",
       "      <td>0.068091</td>\n",
       "      <td>0.023367</td>\n",
       "      <td>0.032484</td>\n",
       "      <td>0.035360</td>\n",
       "      <td>0.000437</td>\n",
       "      <td>0.012679</td>\n",
       "      <td>0.004808</td>\n",
       "      <td>0.006795</td>\n",
       "    </tr>\n",
       "    <tr>\n",
       "      <th>Mondelez International</th>\n",
       "      <td>0.008741</td>\n",
       "      <td>0.021950</td>\n",
       "      <td>0.031272</td>\n",
       "      <td>0.035807</td>\n",
       "      <td>0.018120</td>\n",
       "      <td>0.040251</td>\n",
       "      <td>1.000000</td>\n",
       "      <td>0.021211</td>\n",
       "      <td>0.020795</td>\n",
       "      <td>0.026681</td>\n",
       "      <td>0.039200</td>\n",
       "      <td>0.043001</td>\n",
       "      <td>0.022947</td>\n",
       "      <td>0.001657</td>\n",
       "      <td>0.012106</td>\n",
       "      <td>0.053772</td>\n",
       "      <td>0.018303</td>\n",
       "      <td>-0.002722</td>\n",
       "      <td>0.059322</td>\n",
       "      <td>0.031040</td>\n",
       "      <td>0.019580</td>\n",
       "      <td>0.021313</td>\n",
       "      <td>0.002441</td>\n",
       "      <td>0.000471</td>\n",
       "      <td>0.065318</td>\n",
       "      <td>0.011150</td>\n",
       "      <td>0.036895</td>\n",
       "      <td>0.034783</td>\n",
       "      <td>0.100657</td>\n",
       "      <td>0.056306</td>\n",
       "      <td>0.036270</td>\n",
       "      <td>0.044912</td>\n",
       "      <td>0.014344</td>\n",
       "      <td>0.013070</td>\n",
       "      <td>0.025066</td>\n",
       "      <td>0.019727</td>\n",
       "    </tr>\n",
       "    <tr>\n",
       "      <th>Wrangler</th>\n",
       "      <td>0.003856</td>\n",
       "      <td>0.040710</td>\n",
       "      <td>0.088166</td>\n",
       "      <td>0.014565</td>\n",
       "      <td>0.026668</td>\n",
       "      <td>0.023128</td>\n",
       "      <td>0.021211</td>\n",
       "      <td>1.000000</td>\n",
       "      <td>0.028595</td>\n",
       "      <td>-0.002237</td>\n",
       "      <td>0.021861</td>\n",
       "      <td>0.070330</td>\n",
       "      <td>0.030978</td>\n",
       "      <td>0.024073</td>\n",
       "      <td>0.034098</td>\n",
       "      <td>0.040609</td>\n",
       "      <td>-0.002145</td>\n",
       "      <td>-0.010719</td>\n",
       "      <td>0.020302</td>\n",
       "      <td>0.043520</td>\n",
       "      <td>0.015098</td>\n",
       "      <td>0.030264</td>\n",
       "      <td>-0.000865</td>\n",
       "      <td>-0.006730</td>\n",
       "      <td>0.074666</td>\n",
       "      <td>0.024924</td>\n",
       "      <td>0.079583</td>\n",
       "      <td>0.054262</td>\n",
       "      <td>0.099995</td>\n",
       "      <td>0.045565</td>\n",
       "      <td>0.075141</td>\n",
       "      <td>0.066978</td>\n",
       "      <td>0.006188</td>\n",
       "      <td>0.008203</td>\n",
       "      <td>0.015954</td>\n",
       "      <td>0.014749</td>\n",
       "    </tr>\n",
       "    <tr>\n",
       "      <th>Vans</th>\n",
       "      <td>0.006343</td>\n",
       "      <td>0.115796</td>\n",
       "      <td>0.170620</td>\n",
       "      <td>0.029155</td>\n",
       "      <td>0.046990</td>\n",
       "      <td>0.020696</td>\n",
       "      <td>0.020795</td>\n",
       "      <td>0.028595</td>\n",
       "      <td>1.000000</td>\n",
       "      <td>0.002731</td>\n",
       "      <td>0.122174</td>\n",
       "      <td>0.024992</td>\n",
       "      <td>0.031384</td>\n",
       "      <td>0.012768</td>\n",
       "      <td>0.002760</td>\n",
       "      <td>0.032070</td>\n",
       "      <td>-0.000852</td>\n",
       "      <td>-0.008563</td>\n",
       "      <td>0.030542</td>\n",
       "      <td>0.085626</td>\n",
       "      <td>0.010213</td>\n",
       "      <td>0.028003</td>\n",
       "      <td>0.015774</td>\n",
       "      <td>-0.003649</td>\n",
       "      <td>0.058406</td>\n",
       "      <td>-0.009476</td>\n",
       "      <td>0.073194</td>\n",
       "      <td>0.014776</td>\n",
       "      <td>-0.011961</td>\n",
       "      <td>0.021992</td>\n",
       "      <td>0.007039</td>\n",
       "      <td>0.002500</td>\n",
       "      <td>0.000045</td>\n",
       "      <td>-0.002454</td>\n",
       "      <td>0.008639</td>\n",
       "      <td>0.013326</td>\n",
       "    </tr>\n",
       "    <tr>\n",
       "      <th>Fila</th>\n",
       "      <td>-0.009627</td>\n",
       "      <td>0.031611</td>\n",
       "      <td>0.026350</td>\n",
       "      <td>0.024847</td>\n",
       "      <td>-0.004766</td>\n",
       "      <td>0.021717</td>\n",
       "      <td>0.026681</td>\n",
       "      <td>-0.002237</td>\n",
       "      <td>0.002731</td>\n",
       "      <td>1.000000</td>\n",
       "      <td>0.046930</td>\n",
       "      <td>0.010780</td>\n",
       "      <td>0.007973</td>\n",
       "      <td>-0.000600</td>\n",
       "      <td>-0.004208</td>\n",
       "      <td>0.017112</td>\n",
       "      <td>0.030645</td>\n",
       "      <td>-0.003690</td>\n",
       "      <td>0.031718</td>\n",
       "      <td>0.025974</td>\n",
       "      <td>0.009153</td>\n",
       "      <td>0.023757</td>\n",
       "      <td>0.001063</td>\n",
       "      <td>-0.004363</td>\n",
       "      <td>0.025138</td>\n",
       "      <td>0.006529</td>\n",
       "      <td>0.019730</td>\n",
       "      <td>0.001074</td>\n",
       "      <td>0.021368</td>\n",
       "      <td>0.014916</td>\n",
       "      <td>0.016579</td>\n",
       "      <td>0.032152</td>\n",
       "      <td>0.001512</td>\n",
       "      <td>0.006447</td>\n",
       "      <td>0.003933</td>\n",
       "      <td>0.005414</td>\n",
       "    </tr>\n",
       "    <tr>\n",
       "      <th>Brooks</th>\n",
       "      <td>0.015389</td>\n",
       "      <td>0.165471</td>\n",
       "      <td>0.154345</td>\n",
       "      <td>0.089334</td>\n",
       "      <td>0.114384</td>\n",
       "      <td>0.089850</td>\n",
       "      <td>0.039200</td>\n",
       "      <td>0.021861</td>\n",
       "      <td>0.122174</td>\n",
       "      <td>0.046930</td>\n",
       "      <td>1.000000</td>\n",
       "      <td>0.023054</td>\n",
       "      <td>0.085054</td>\n",
       "      <td>0.029174</td>\n",
       "      <td>0.007570</td>\n",
       "      <td>0.121461</td>\n",
       "      <td>0.028050</td>\n",
       "      <td>-0.010455</td>\n",
       "      <td>0.122213</td>\n",
       "      <td>0.099326</td>\n",
       "      <td>0.039703</td>\n",
       "      <td>0.026713</td>\n",
       "      <td>0.003871</td>\n",
       "      <td>-0.001441</td>\n",
       "      <td>0.168292</td>\n",
       "      <td>0.018003</td>\n",
       "      <td>0.053219</td>\n",
       "      <td>0.030597</td>\n",
       "      <td>0.027999</td>\n",
       "      <td>0.073666</td>\n",
       "      <td>0.034223</td>\n",
       "      <td>0.052320</td>\n",
       "      <td>0.051175</td>\n",
       "      <td>0.033545</td>\n",
       "      <td>0.061100</td>\n",
       "      <td>0.086964</td>\n",
       "    </tr>\n",
       "    <tr>\n",
       "      <th>H&amp;M</th>\n",
       "      <td>0.030833</td>\n",
       "      <td>0.038302</td>\n",
       "      <td>0.066794</td>\n",
       "      <td>0.031444</td>\n",
       "      <td>0.025349</td>\n",
       "      <td>0.037187</td>\n",
       "      <td>0.043001</td>\n",
       "      <td>0.070330</td>\n",
       "      <td>0.024992</td>\n",
       "      <td>0.010780</td>\n",
       "      <td>0.023054</td>\n",
       "      <td>1.000000</td>\n",
       "      <td>0.077973</td>\n",
       "      <td>0.135556</td>\n",
       "      <td>0.064677</td>\n",
       "      <td>0.094318</td>\n",
       "      <td>0.029979</td>\n",
       "      <td>-0.008317</td>\n",
       "      <td>0.077965</td>\n",
       "      <td>0.090581</td>\n",
       "      <td>0.041059</td>\n",
       "      <td>0.049663</td>\n",
       "      <td>-0.001822</td>\n",
       "      <td>-0.010884</td>\n",
       "      <td>0.186730</td>\n",
       "      <td>0.090594</td>\n",
       "      <td>0.089734</td>\n",
       "      <td>0.138741</td>\n",
       "      <td>0.149119</td>\n",
       "      <td>0.122545</td>\n",
       "      <td>0.074101</td>\n",
       "      <td>0.062511</td>\n",
       "      <td>0.066392</td>\n",
       "      <td>0.075162</td>\n",
       "      <td>0.063699</td>\n",
       "      <td>0.037124</td>\n",
       "    </tr>\n",
       "    <tr>\n",
       "      <th>Dairy Queen</th>\n",
       "      <td>-0.002705</td>\n",
       "      <td>0.043857</td>\n",
       "      <td>0.055532</td>\n",
       "      <td>0.014086</td>\n",
       "      <td>0.028589</td>\n",
       "      <td>0.013806</td>\n",
       "      <td>0.022947</td>\n",
       "      <td>0.030978</td>\n",
       "      <td>0.031384</td>\n",
       "      <td>0.007973</td>\n",
       "      <td>0.085054</td>\n",
       "      <td>0.077973</td>\n",
       "      <td>1.000000</td>\n",
       "      <td>0.098790</td>\n",
       "      <td>0.029623</td>\n",
       "      <td>0.313187</td>\n",
       "      <td>0.055754</td>\n",
       "      <td>-0.001045</td>\n",
       "      <td>0.129587</td>\n",
       "      <td>0.136034</td>\n",
       "      <td>0.056610</td>\n",
       "      <td>0.053474</td>\n",
       "      <td>0.006400</td>\n",
       "      <td>0.010298</td>\n",
       "      <td>0.262845</td>\n",
       "      <td>0.047673</td>\n",
       "      <td>0.115990</td>\n",
       "      <td>0.047956</td>\n",
       "      <td>0.037345</td>\n",
       "      <td>0.102061</td>\n",
       "      <td>0.041828</td>\n",
       "      <td>0.041571</td>\n",
       "      <td>0.130550</td>\n",
       "      <td>0.100870</td>\n",
       "      <td>0.162004</td>\n",
       "      <td>0.175720</td>\n",
       "    </tr>\n",
       "    <tr>\n",
       "      <th>Fendi</th>\n",
       "      <td>0.017077</td>\n",
       "      <td>0.030369</td>\n",
       "      <td>0.029120</td>\n",
       "      <td>0.015095</td>\n",
       "      <td>0.006580</td>\n",
       "      <td>0.011772</td>\n",
       "      <td>0.001657</td>\n",
       "      <td>0.024073</td>\n",
       "      <td>0.012768</td>\n",
       "      <td>-0.000600</td>\n",
       "      <td>0.029174</td>\n",
       "      <td>0.135556</td>\n",
       "      <td>0.098790</td>\n",
       "      <td>1.000000</td>\n",
       "      <td>0.055122</td>\n",
       "      <td>0.069843</td>\n",
       "      <td>0.024641</td>\n",
       "      <td>-0.011713</td>\n",
       "      <td>0.053630</td>\n",
       "      <td>0.073846</td>\n",
       "      <td>0.025912</td>\n",
       "      <td>0.000598</td>\n",
       "      <td>-0.002851</td>\n",
       "      <td>-0.013258</td>\n",
       "      <td>0.109910</td>\n",
       "      <td>0.035778</td>\n",
       "      <td>0.071209</td>\n",
       "      <td>0.038278</td>\n",
       "      <td>0.021712</td>\n",
       "      <td>0.049765</td>\n",
       "      <td>0.025037</td>\n",
       "      <td>0.022392</td>\n",
       "      <td>0.052381</td>\n",
       "      <td>0.036833</td>\n",
       "      <td>0.070263</td>\n",
       "      <td>0.034441</td>\n",
       "    </tr>\n",
       "    <tr>\n",
       "      <th>Hewlett Packard</th>\n",
       "      <td>0.006867</td>\n",
       "      <td>0.008800</td>\n",
       "      <td>0.016680</td>\n",
       "      <td>0.011988</td>\n",
       "      <td>0.006500</td>\n",
       "      <td>0.014293</td>\n",
       "      <td>0.012106</td>\n",
       "      <td>0.034098</td>\n",
       "      <td>0.002760</td>\n",
       "      <td>-0.004208</td>\n",
       "      <td>0.007570</td>\n",
       "      <td>0.064677</td>\n",
       "      <td>0.029623</td>\n",
       "      <td>0.055122</td>\n",
       "      <td>1.000000</td>\n",
       "      <td>0.022858</td>\n",
       "      <td>-0.007831</td>\n",
       "      <td>-0.017946</td>\n",
       "      <td>0.005766</td>\n",
       "      <td>0.028763</td>\n",
       "      <td>0.005914</td>\n",
       "      <td>0.001760</td>\n",
       "      <td>-0.009222</td>\n",
       "      <td>-0.009272</td>\n",
       "      <td>0.056941</td>\n",
       "      <td>0.013071</td>\n",
       "      <td>0.022828</td>\n",
       "      <td>0.044929</td>\n",
       "      <td>0.031425</td>\n",
       "      <td>0.038940</td>\n",
       "      <td>0.038044</td>\n",
       "      <td>0.035246</td>\n",
       "      <td>0.005165</td>\n",
       "      <td>0.003406</td>\n",
       "      <td>0.013187</td>\n",
       "      <td>0.004169</td>\n",
       "    </tr>\n",
       "    <tr>\n",
       "      <th>Pladis</th>\n",
       "      <td>-0.000602</td>\n",
       "      <td>0.062050</td>\n",
       "      <td>0.062749</td>\n",
       "      <td>0.025422</td>\n",
       "      <td>0.030216</td>\n",
       "      <td>0.022155</td>\n",
       "      <td>0.053772</td>\n",
       "      <td>0.040609</td>\n",
       "      <td>0.032070</td>\n",
       "      <td>0.017112</td>\n",
       "      <td>0.121461</td>\n",
       "      <td>0.094318</td>\n",
       "      <td>0.313187</td>\n",
       "      <td>0.069843</td>\n",
       "      <td>0.022858</td>\n",
       "      <td>1.000000</td>\n",
       "      <td>0.080349</td>\n",
       "      <td>0.004954</td>\n",
       "      <td>0.158125</td>\n",
       "      <td>0.165325</td>\n",
       "      <td>0.046424</td>\n",
       "      <td>0.029427</td>\n",
       "      <td>0.004856</td>\n",
       "      <td>0.005674</td>\n",
       "      <td>0.346426</td>\n",
       "      <td>0.089979</td>\n",
       "      <td>0.113270</td>\n",
       "      <td>0.076033</td>\n",
       "      <td>0.053528</td>\n",
       "      <td>0.179508</td>\n",
       "      <td>0.063598</td>\n",
       "      <td>0.076888</td>\n",
       "      <td>0.157013</td>\n",
       "      <td>0.082028</td>\n",
       "      <td>0.196192</td>\n",
       "      <td>0.191879</td>\n",
       "    </tr>\n",
       "    <tr>\n",
       "      <th>Asics</th>\n",
       "      <td>0.022064</td>\n",
       "      <td>0.009816</td>\n",
       "      <td>0.042912</td>\n",
       "      <td>0.004546</td>\n",
       "      <td>0.010339</td>\n",
       "      <td>-0.008444</td>\n",
       "      <td>0.018303</td>\n",
       "      <td>-0.002145</td>\n",
       "      <td>-0.000852</td>\n",
       "      <td>0.030645</td>\n",
       "      <td>0.028050</td>\n",
       "      <td>0.029979</td>\n",
       "      <td>0.055754</td>\n",
       "      <td>0.024641</td>\n",
       "      <td>-0.007831</td>\n",
       "      <td>0.080349</td>\n",
       "      <td>1.000000</td>\n",
       "      <td>0.417728</td>\n",
       "      <td>0.159891</td>\n",
       "      <td>0.092393</td>\n",
       "      <td>0.030605</td>\n",
       "      <td>0.038770</td>\n",
       "      <td>0.017109</td>\n",
       "      <td>-0.000329</td>\n",
       "      <td>0.083204</td>\n",
       "      <td>0.035766</td>\n",
       "      <td>0.027281</td>\n",
       "      <td>0.012582</td>\n",
       "      <td>0.009692</td>\n",
       "      <td>0.040617</td>\n",
       "      <td>-0.006413</td>\n",
       "      <td>-0.001429</td>\n",
       "      <td>0.046252</td>\n",
       "      <td>0.038810</td>\n",
       "      <td>0.033426</td>\n",
       "      <td>0.034429</td>\n",
       "    </tr>\n",
       "    <tr>\n",
       "      <th>Siemens</th>\n",
       "      <td>0.007843</td>\n",
       "      <td>-0.011082</td>\n",
       "      <td>0.006296</td>\n",
       "      <td>-0.011741</td>\n",
       "      <td>-0.000218</td>\n",
       "      <td>-0.014267</td>\n",
       "      <td>-0.002722</td>\n",
       "      <td>-0.010719</td>\n",
       "      <td>-0.008563</td>\n",
       "      <td>-0.003690</td>\n",
       "      <td>-0.010455</td>\n",
       "      <td>-0.008317</td>\n",
       "      <td>-0.001045</td>\n",
       "      <td>-0.011713</td>\n",
       "      <td>-0.017946</td>\n",
       "      <td>0.004954</td>\n",
       "      <td>0.417728</td>\n",
       "      <td>1.000000</td>\n",
       "      <td>0.044405</td>\n",
       "      <td>0.022358</td>\n",
       "      <td>-0.000654</td>\n",
       "      <td>0.003244</td>\n",
       "      <td>-0.000866</td>\n",
       "      <td>-0.002268</td>\n",
       "      <td>0.008487</td>\n",
       "      <td>-0.001841</td>\n",
       "      <td>-0.004623</td>\n",
       "      <td>-0.013903</td>\n",
       "      <td>-0.013835</td>\n",
       "      <td>0.005160</td>\n",
       "      <td>-0.020019</td>\n",
       "      <td>-0.015961</td>\n",
       "      <td>0.002125</td>\n",
       "      <td>0.001807</td>\n",
       "      <td>-0.009105</td>\n",
       "      <td>-0.002851</td>\n",
       "    </tr>\n",
       "    <tr>\n",
       "      <th>J.M. Smucker</th>\n",
       "      <td>0.030807</td>\n",
       "      <td>0.054025</td>\n",
       "      <td>0.060775</td>\n",
       "      <td>0.026365</td>\n",
       "      <td>0.023046</td>\n",
       "      <td>0.013708</td>\n",
       "      <td>0.059322</td>\n",
       "      <td>0.020302</td>\n",
       "      <td>0.030542</td>\n",
       "      <td>0.031718</td>\n",
       "      <td>0.122213</td>\n",
       "      <td>0.077965</td>\n",
       "      <td>0.129587</td>\n",
       "      <td>0.053630</td>\n",
       "      <td>0.005766</td>\n",
       "      <td>0.158125</td>\n",
       "      <td>0.159891</td>\n",
       "      <td>0.044405</td>\n",
       "      <td>1.000000</td>\n",
       "      <td>0.226154</td>\n",
       "      <td>0.073365</td>\n",
       "      <td>0.046167</td>\n",
       "      <td>0.022788</td>\n",
       "      <td>0.005008</td>\n",
       "      <td>0.226512</td>\n",
       "      <td>0.048497</td>\n",
       "      <td>0.078586</td>\n",
       "      <td>0.057555</td>\n",
       "      <td>0.082324</td>\n",
       "      <td>0.122519</td>\n",
       "      <td>0.040185</td>\n",
       "      <td>0.042135</td>\n",
       "      <td>0.104925</td>\n",
       "      <td>0.081494</td>\n",
       "      <td>0.080868</td>\n",
       "      <td>0.098213</td>\n",
       "    </tr>\n",
       "    <tr>\n",
       "      <th>Pop Chips</th>\n",
       "      <td>0.018774</td>\n",
       "      <td>0.081462</td>\n",
       "      <td>0.087545</td>\n",
       "      <td>0.048772</td>\n",
       "      <td>0.022716</td>\n",
       "      <td>0.020427</td>\n",
       "      <td>0.031040</td>\n",
       "      <td>0.043520</td>\n",
       "      <td>0.085626</td>\n",
       "      <td>0.025974</td>\n",
       "      <td>0.099326</td>\n",
       "      <td>0.090581</td>\n",
       "      <td>0.136034</td>\n",
       "      <td>0.073846</td>\n",
       "      <td>0.028763</td>\n",
       "      <td>0.165325</td>\n",
       "      <td>0.092393</td>\n",
       "      <td>0.022358</td>\n",
       "      <td>0.226154</td>\n",
       "      <td>1.000000</td>\n",
       "      <td>0.047275</td>\n",
       "      <td>0.028071</td>\n",
       "      <td>0.023859</td>\n",
       "      <td>0.004049</td>\n",
       "      <td>0.178076</td>\n",
       "      <td>0.052154</td>\n",
       "      <td>0.144857</td>\n",
       "      <td>0.068831</td>\n",
       "      <td>0.028940</td>\n",
       "      <td>0.080502</td>\n",
       "      <td>0.022382</td>\n",
       "      <td>0.019884</td>\n",
       "      <td>0.096090</td>\n",
       "      <td>0.075209</td>\n",
       "      <td>0.067137</td>\n",
       "      <td>0.067966</td>\n",
       "    </tr>\n",
       "    <tr>\n",
       "      <th>Juniper</th>\n",
       "      <td>-0.002741</td>\n",
       "      <td>0.025708</td>\n",
       "      <td>0.030956</td>\n",
       "      <td>0.001621</td>\n",
       "      <td>0.017840</td>\n",
       "      <td>0.014118</td>\n",
       "      <td>0.019580</td>\n",
       "      <td>0.015098</td>\n",
       "      <td>0.010213</td>\n",
       "      <td>0.009153</td>\n",
       "      <td>0.039703</td>\n",
       "      <td>0.041059</td>\n",
       "      <td>0.056610</td>\n",
       "      <td>0.025912</td>\n",
       "      <td>0.005914</td>\n",
       "      <td>0.046424</td>\n",
       "      <td>0.030605</td>\n",
       "      <td>-0.000654</td>\n",
       "      <td>0.073365</td>\n",
       "      <td>0.047275</td>\n",
       "      <td>1.000000</td>\n",
       "      <td>0.154999</td>\n",
       "      <td>0.329227</td>\n",
       "      <td>0.194419</td>\n",
       "      <td>0.075063</td>\n",
       "      <td>0.019086</td>\n",
       "      <td>0.020402</td>\n",
       "      <td>0.011408</td>\n",
       "      <td>0.017918</td>\n",
       "      <td>0.044653</td>\n",
       "      <td>0.007102</td>\n",
       "      <td>0.009669</td>\n",
       "      <td>0.102331</td>\n",
       "      <td>0.103653</td>\n",
       "      <td>0.052129</td>\n",
       "      <td>0.036420</td>\n",
       "    </tr>\n",
       "    <tr>\n",
       "      <th>Huawei</th>\n",
       "      <td>0.008031</td>\n",
       "      <td>0.051468</td>\n",
       "      <td>0.042281</td>\n",
       "      <td>0.024820</td>\n",
       "      <td>0.033468</td>\n",
       "      <td>0.024393</td>\n",
       "      <td>0.021313</td>\n",
       "      <td>0.030264</td>\n",
       "      <td>0.028003</td>\n",
       "      <td>0.023757</td>\n",
       "      <td>0.026713</td>\n",
       "      <td>0.049663</td>\n",
       "      <td>0.053474</td>\n",
       "      <td>0.000598</td>\n",
       "      <td>0.001760</td>\n",
       "      <td>0.029427</td>\n",
       "      <td>0.038770</td>\n",
       "      <td>0.003244</td>\n",
       "      <td>0.046167</td>\n",
       "      <td>0.028071</td>\n",
       "      <td>0.154999</td>\n",
       "      <td>1.000000</td>\n",
       "      <td>0.136360</td>\n",
       "      <td>0.083440</td>\n",
       "      <td>0.058004</td>\n",
       "      <td>0.034120</td>\n",
       "      <td>0.016837</td>\n",
       "      <td>0.073317</td>\n",
       "      <td>0.083139</td>\n",
       "      <td>0.062316</td>\n",
       "      <td>0.004598</td>\n",
       "      <td>-0.000885</td>\n",
       "      <td>0.019570</td>\n",
       "      <td>0.023523</td>\n",
       "      <td>0.013151</td>\n",
       "      <td>0.023222</td>\n",
       "    </tr>\n",
       "    <tr>\n",
       "      <th>Compaq</th>\n",
       "      <td>0.002765</td>\n",
       "      <td>0.007495</td>\n",
       "      <td>0.008773</td>\n",
       "      <td>0.004358</td>\n",
       "      <td>0.005892</td>\n",
       "      <td>0.002922</td>\n",
       "      <td>0.002441</td>\n",
       "      <td>-0.000865</td>\n",
       "      <td>0.015774</td>\n",
       "      <td>0.001063</td>\n",
       "      <td>0.003871</td>\n",
       "      <td>-0.001822</td>\n",
       "      <td>0.006400</td>\n",
       "      <td>-0.002851</td>\n",
       "      <td>-0.009222</td>\n",
       "      <td>0.004856</td>\n",
       "      <td>0.017109</td>\n",
       "      <td>-0.000866</td>\n",
       "      <td>0.022788</td>\n",
       "      <td>0.023859</td>\n",
       "      <td>0.329227</td>\n",
       "      <td>0.136360</td>\n",
       "      <td>1.000000</td>\n",
       "      <td>0.201648</td>\n",
       "      <td>0.009234</td>\n",
       "      <td>-0.000269</td>\n",
       "      <td>0.006385</td>\n",
       "      <td>-0.006872</td>\n",
       "      <td>0.000107</td>\n",
       "      <td>0.008042</td>\n",
       "      <td>-0.004034</td>\n",
       "      <td>-0.001167</td>\n",
       "      <td>0.036373</td>\n",
       "      <td>0.055256</td>\n",
       "      <td>0.001584</td>\n",
       "      <td>0.009977</td>\n",
       "    </tr>\n",
       "    <tr>\n",
       "      <th>IBM</th>\n",
       "      <td>-0.007647</td>\n",
       "      <td>0.001963</td>\n",
       "      <td>-0.009290</td>\n",
       "      <td>-0.005467</td>\n",
       "      <td>-0.007446</td>\n",
       "      <td>-0.003076</td>\n",
       "      <td>0.000471</td>\n",
       "      <td>-0.006730</td>\n",
       "      <td>-0.003649</td>\n",
       "      <td>-0.004363</td>\n",
       "      <td>-0.001441</td>\n",
       "      <td>-0.010884</td>\n",
       "      <td>0.010298</td>\n",
       "      <td>-0.013258</td>\n",
       "      <td>-0.009272</td>\n",
       "      <td>0.005674</td>\n",
       "      <td>-0.000329</td>\n",
       "      <td>-0.002268</td>\n",
       "      <td>0.005008</td>\n",
       "      <td>0.004049</td>\n",
       "      <td>0.194419</td>\n",
       "      <td>0.083440</td>\n",
       "      <td>0.201648</td>\n",
       "      <td>1.000000</td>\n",
       "      <td>-0.001317</td>\n",
       "      <td>-0.006673</td>\n",
       "      <td>0.003283</td>\n",
       "      <td>-0.020813</td>\n",
       "      <td>-0.017099</td>\n",
       "      <td>0.000136</td>\n",
       "      <td>-0.010350</td>\n",
       "      <td>-0.011333</td>\n",
       "      <td>0.005244</td>\n",
       "      <td>0.017330</td>\n",
       "      <td>-0.000765</td>\n",
       "      <td>0.011374</td>\n",
       "    </tr>\n",
       "    <tr>\n",
       "      <th>Burberry</th>\n",
       "      <td>0.015813</td>\n",
       "      <td>0.096492</td>\n",
       "      <td>0.102216</td>\n",
       "      <td>0.047852</td>\n",
       "      <td>0.047276</td>\n",
       "      <td>0.040914</td>\n",
       "      <td>0.065318</td>\n",
       "      <td>0.074666</td>\n",
       "      <td>0.058406</td>\n",
       "      <td>0.025138</td>\n",
       "      <td>0.168292</td>\n",
       "      <td>0.186730</td>\n",
       "      <td>0.262845</td>\n",
       "      <td>0.109910</td>\n",
       "      <td>0.056941</td>\n",
       "      <td>0.346426</td>\n",
       "      <td>0.083204</td>\n",
       "      <td>0.008487</td>\n",
       "      <td>0.226512</td>\n",
       "      <td>0.178076</td>\n",
       "      <td>0.075063</td>\n",
       "      <td>0.058004</td>\n",
       "      <td>0.009234</td>\n",
       "      <td>-0.001317</td>\n",
       "      <td>1.000000</td>\n",
       "      <td>0.120330</td>\n",
       "      <td>0.241705</td>\n",
       "      <td>0.162370</td>\n",
       "      <td>0.126864</td>\n",
       "      <td>0.258515</td>\n",
       "      <td>0.129031</td>\n",
       "      <td>0.127249</td>\n",
       "      <td>0.194740</td>\n",
       "      <td>0.130132</td>\n",
       "      <td>0.201300</td>\n",
       "      <td>0.245124</td>\n",
       "    </tr>\n",
       "    <tr>\n",
       "      <th>Mi</th>\n",
       "      <td>0.010369</td>\n",
       "      <td>0.022963</td>\n",
       "      <td>0.033103</td>\n",
       "      <td>0.004060</td>\n",
       "      <td>0.016904</td>\n",
       "      <td>0.013516</td>\n",
       "      <td>0.011150</td>\n",
       "      <td>0.024924</td>\n",
       "      <td>-0.009476</td>\n",
       "      <td>0.006529</td>\n",
       "      <td>0.018003</td>\n",
       "      <td>0.090594</td>\n",
       "      <td>0.047673</td>\n",
       "      <td>0.035778</td>\n",
       "      <td>0.013071</td>\n",
       "      <td>0.089979</td>\n",
       "      <td>0.035766</td>\n",
       "      <td>-0.001841</td>\n",
       "      <td>0.048497</td>\n",
       "      <td>0.052154</td>\n",
       "      <td>0.019086</td>\n",
       "      <td>0.034120</td>\n",
       "      <td>-0.000269</td>\n",
       "      <td>-0.006673</td>\n",
       "      <td>0.120330</td>\n",
       "      <td>1.000000</td>\n",
       "      <td>0.017854</td>\n",
       "      <td>0.078787</td>\n",
       "      <td>0.097718</td>\n",
       "      <td>0.086476</td>\n",
       "      <td>0.030370</td>\n",
       "      <td>0.034163</td>\n",
       "      <td>0.045079</td>\n",
       "      <td>0.037780</td>\n",
       "      <td>0.040187</td>\n",
       "      <td>0.031024</td>\n",
       "    </tr>\n",
       "    <tr>\n",
       "      <th>LG</th>\n",
       "      <td>-0.006382</td>\n",
       "      <td>0.070205</td>\n",
       "      <td>0.066443</td>\n",
       "      <td>0.058584</td>\n",
       "      <td>0.025722</td>\n",
       "      <td>0.030406</td>\n",
       "      <td>0.036895</td>\n",
       "      <td>0.079583</td>\n",
       "      <td>0.073194</td>\n",
       "      <td>0.019730</td>\n",
       "      <td>0.053219</td>\n",
       "      <td>0.089734</td>\n",
       "      <td>0.115990</td>\n",
       "      <td>0.071209</td>\n",
       "      <td>0.022828</td>\n",
       "      <td>0.113270</td>\n",
       "      <td>0.027281</td>\n",
       "      <td>-0.004623</td>\n",
       "      <td>0.078586</td>\n",
       "      <td>0.144857</td>\n",
       "      <td>0.020402</td>\n",
       "      <td>0.016837</td>\n",
       "      <td>0.006385</td>\n",
       "      <td>0.003283</td>\n",
       "      <td>0.241705</td>\n",
       "      <td>0.017854</td>\n",
       "      <td>1.000000</td>\n",
       "      <td>0.064059</td>\n",
       "      <td>0.054640</td>\n",
       "      <td>0.080416</td>\n",
       "      <td>0.057404</td>\n",
       "      <td>0.064325</td>\n",
       "      <td>0.041123</td>\n",
       "      <td>0.027633</td>\n",
       "      <td>0.059771</td>\n",
       "      <td>0.079136</td>\n",
       "    </tr>\n",
       "    <tr>\n",
       "      <th>Dior</th>\n",
       "      <td>0.009027</td>\n",
       "      <td>0.061185</td>\n",
       "      <td>0.056571</td>\n",
       "      <td>0.017369</td>\n",
       "      <td>0.028911</td>\n",
       "      <td>0.029567</td>\n",
       "      <td>0.034783</td>\n",
       "      <td>0.054262</td>\n",
       "      <td>0.014776</td>\n",
       "      <td>0.001074</td>\n",
       "      <td>0.030597</td>\n",
       "      <td>0.138741</td>\n",
       "      <td>0.047956</td>\n",
       "      <td>0.038278</td>\n",
       "      <td>0.044929</td>\n",
       "      <td>0.076033</td>\n",
       "      <td>0.012582</td>\n",
       "      <td>-0.013903</td>\n",
       "      <td>0.057555</td>\n",
       "      <td>0.068831</td>\n",
       "      <td>0.011408</td>\n",
       "      <td>0.073317</td>\n",
       "      <td>-0.006872</td>\n",
       "      <td>-0.020813</td>\n",
       "      <td>0.162370</td>\n",
       "      <td>0.078787</td>\n",
       "      <td>0.064059</td>\n",
       "      <td>1.000000</td>\n",
       "      <td>0.154839</td>\n",
       "      <td>0.124796</td>\n",
       "      <td>0.091280</td>\n",
       "      <td>0.082791</td>\n",
       "      <td>0.044994</td>\n",
       "      <td>0.034829</td>\n",
       "      <td>0.055948</td>\n",
       "      <td>0.064123</td>\n",
       "    </tr>\n",
       "    <tr>\n",
       "      <th>Scabal</th>\n",
       "      <td>0.020050</td>\n",
       "      <td>0.062582</td>\n",
       "      <td>0.045958</td>\n",
       "      <td>0.046561</td>\n",
       "      <td>0.043168</td>\n",
       "      <td>0.068091</td>\n",
       "      <td>0.100657</td>\n",
       "      <td>0.099995</td>\n",
       "      <td>-0.011961</td>\n",
       "      <td>0.021368</td>\n",
       "      <td>0.027999</td>\n",
       "      <td>0.149119</td>\n",
       "      <td>0.037345</td>\n",
       "      <td>0.021712</td>\n",
       "      <td>0.031425</td>\n",
       "      <td>0.053528</td>\n",
       "      <td>0.009692</td>\n",
       "      <td>-0.013835</td>\n",
       "      <td>0.082324</td>\n",
       "      <td>0.028940</td>\n",
       "      <td>0.017918</td>\n",
       "      <td>0.083139</td>\n",
       "      <td>0.000107</td>\n",
       "      <td>-0.017099</td>\n",
       "      <td>0.126864</td>\n",
       "      <td>0.097718</td>\n",
       "      <td>0.054640</td>\n",
       "      <td>0.154839</td>\n",
       "      <td>1.000000</td>\n",
       "      <td>0.155917</td>\n",
       "      <td>0.136622</td>\n",
       "      <td>0.117239</td>\n",
       "      <td>0.008717</td>\n",
       "      <td>0.019889</td>\n",
       "      <td>0.030452</td>\n",
       "      <td>0.014600</td>\n",
       "    </tr>\n",
       "    <tr>\n",
       "      <th>Tommy Hilfiger</th>\n",
       "      <td>0.003550</td>\n",
       "      <td>0.063739</td>\n",
       "      <td>0.058190</td>\n",
       "      <td>0.015502</td>\n",
       "      <td>0.039139</td>\n",
       "      <td>0.023367</td>\n",
       "      <td>0.056306</td>\n",
       "      <td>0.045565</td>\n",
       "      <td>0.021992</td>\n",
       "      <td>0.014916</td>\n",
       "      <td>0.073666</td>\n",
       "      <td>0.122545</td>\n",
       "      <td>0.102061</td>\n",
       "      <td>0.049765</td>\n",
       "      <td>0.038940</td>\n",
       "      <td>0.179508</td>\n",
       "      <td>0.040617</td>\n",
       "      <td>0.005160</td>\n",
       "      <td>0.122519</td>\n",
       "      <td>0.080502</td>\n",
       "      <td>0.044653</td>\n",
       "      <td>0.062316</td>\n",
       "      <td>0.008042</td>\n",
       "      <td>0.000136</td>\n",
       "      <td>0.258515</td>\n",
       "      <td>0.086476</td>\n",
       "      <td>0.080416</td>\n",
       "      <td>0.124796</td>\n",
       "      <td>0.155917</td>\n",
       "      <td>1.000000</td>\n",
       "      <td>0.110639</td>\n",
       "      <td>0.086943</td>\n",
       "      <td>0.082103</td>\n",
       "      <td>0.053958</td>\n",
       "      <td>0.069528</td>\n",
       "      <td>0.091546</td>\n",
       "    </tr>\n",
       "    <tr>\n",
       "      <th>Hollister</th>\n",
       "      <td>0.001680</td>\n",
       "      <td>0.026350</td>\n",
       "      <td>0.050302</td>\n",
       "      <td>0.021566</td>\n",
       "      <td>0.017283</td>\n",
       "      <td>0.032484</td>\n",
       "      <td>0.036270</td>\n",
       "      <td>0.075141</td>\n",
       "      <td>0.007039</td>\n",
       "      <td>0.016579</td>\n",
       "      <td>0.034223</td>\n",
       "      <td>0.074101</td>\n",
       "      <td>0.041828</td>\n",
       "      <td>0.025037</td>\n",
       "      <td>0.038044</td>\n",
       "      <td>0.063598</td>\n",
       "      <td>-0.006413</td>\n",
       "      <td>-0.020019</td>\n",
       "      <td>0.040185</td>\n",
       "      <td>0.022382</td>\n",
       "      <td>0.007102</td>\n",
       "      <td>0.004598</td>\n",
       "      <td>-0.004034</td>\n",
       "      <td>-0.010350</td>\n",
       "      <td>0.129031</td>\n",
       "      <td>0.030370</td>\n",
       "      <td>0.057404</td>\n",
       "      <td>0.091280</td>\n",
       "      <td>0.136622</td>\n",
       "      <td>0.110639</td>\n",
       "      <td>1.000000</td>\n",
       "      <td>0.394190</td>\n",
       "      <td>0.026327</td>\n",
       "      <td>0.021002</td>\n",
       "      <td>0.028502</td>\n",
       "      <td>0.044113</td>\n",
       "    </tr>\n",
       "    <tr>\n",
       "      <th>Forever 21</th>\n",
       "      <td>-0.003436</td>\n",
       "      <td>0.024710</td>\n",
       "      <td>0.031495</td>\n",
       "      <td>0.016170</td>\n",
       "      <td>0.014186</td>\n",
       "      <td>0.035360</td>\n",
       "      <td>0.044912</td>\n",
       "      <td>0.066978</td>\n",
       "      <td>0.002500</td>\n",
       "      <td>0.032152</td>\n",
       "      <td>0.052320</td>\n",
       "      <td>0.062511</td>\n",
       "      <td>0.041571</td>\n",
       "      <td>0.022392</td>\n",
       "      <td>0.035246</td>\n",
       "      <td>0.076888</td>\n",
       "      <td>-0.001429</td>\n",
       "      <td>-0.015961</td>\n",
       "      <td>0.042135</td>\n",
       "      <td>0.019884</td>\n",
       "      <td>0.009669</td>\n",
       "      <td>-0.000885</td>\n",
       "      <td>-0.001167</td>\n",
       "      <td>-0.011333</td>\n",
       "      <td>0.127249</td>\n",
       "      <td>0.034163</td>\n",
       "      <td>0.064325</td>\n",
       "      <td>0.082791</td>\n",
       "      <td>0.117239</td>\n",
       "      <td>0.086943</td>\n",
       "      <td>0.394190</td>\n",
       "      <td>1.000000</td>\n",
       "      <td>0.029519</td>\n",
       "      <td>0.024837</td>\n",
       "      <td>0.034939</td>\n",
       "      <td>0.054710</td>\n",
       "    </tr>\n",
       "    <tr>\n",
       "      <th>Colavita</th>\n",
       "      <td>0.007455</td>\n",
       "      <td>0.015564</td>\n",
       "      <td>0.018279</td>\n",
       "      <td>0.005584</td>\n",
       "      <td>0.009605</td>\n",
       "      <td>0.000437</td>\n",
       "      <td>0.014344</td>\n",
       "      <td>0.006188</td>\n",
       "      <td>0.000045</td>\n",
       "      <td>0.001512</td>\n",
       "      <td>0.051175</td>\n",
       "      <td>0.066392</td>\n",
       "      <td>0.130550</td>\n",
       "      <td>0.052381</td>\n",
       "      <td>0.005165</td>\n",
       "      <td>0.157013</td>\n",
       "      <td>0.046252</td>\n",
       "      <td>0.002125</td>\n",
       "      <td>0.104925</td>\n",
       "      <td>0.096090</td>\n",
       "      <td>0.102331</td>\n",
       "      <td>0.019570</td>\n",
       "      <td>0.036373</td>\n",
       "      <td>0.005244</td>\n",
       "      <td>0.194740</td>\n",
       "      <td>0.045079</td>\n",
       "      <td>0.041123</td>\n",
       "      <td>0.044994</td>\n",
       "      <td>0.008717</td>\n",
       "      <td>0.082103</td>\n",
       "      <td>0.026327</td>\n",
       "      <td>0.029519</td>\n",
       "      <td>1.000000</td>\n",
       "      <td>0.178203</td>\n",
       "      <td>0.112270</td>\n",
       "      <td>0.155997</td>\n",
       "    </tr>\n",
       "    <tr>\n",
       "      <th>Microsoft</th>\n",
       "      <td>0.015307</td>\n",
       "      <td>0.015804</td>\n",
       "      <td>0.016625</td>\n",
       "      <td>0.003640</td>\n",
       "      <td>0.019748</td>\n",
       "      <td>0.012679</td>\n",
       "      <td>0.013070</td>\n",
       "      <td>0.008203</td>\n",
       "      <td>-0.002454</td>\n",
       "      <td>0.006447</td>\n",
       "      <td>0.033545</td>\n",
       "      <td>0.075162</td>\n",
       "      <td>0.100870</td>\n",
       "      <td>0.036833</td>\n",
       "      <td>0.003406</td>\n",
       "      <td>0.082028</td>\n",
       "      <td>0.038810</td>\n",
       "      <td>0.001807</td>\n",
       "      <td>0.081494</td>\n",
       "      <td>0.075209</td>\n",
       "      <td>0.103653</td>\n",
       "      <td>0.023523</td>\n",
       "      <td>0.055256</td>\n",
       "      <td>0.017330</td>\n",
       "      <td>0.130132</td>\n",
       "      <td>0.037780</td>\n",
       "      <td>0.027633</td>\n",
       "      <td>0.034829</td>\n",
       "      <td>0.019889</td>\n",
       "      <td>0.053958</td>\n",
       "      <td>0.021002</td>\n",
       "      <td>0.024837</td>\n",
       "      <td>0.178203</td>\n",
       "      <td>1.000000</td>\n",
       "      <td>0.077523</td>\n",
       "      <td>0.073023</td>\n",
       "    </tr>\n",
       "    <tr>\n",
       "      <th>Jiffy mix</th>\n",
       "      <td>0.011268</td>\n",
       "      <td>0.021651</td>\n",
       "      <td>0.038655</td>\n",
       "      <td>0.009303</td>\n",
       "      <td>0.008001</td>\n",
       "      <td>0.004808</td>\n",
       "      <td>0.025066</td>\n",
       "      <td>0.015954</td>\n",
       "      <td>0.008639</td>\n",
       "      <td>0.003933</td>\n",
       "      <td>0.061100</td>\n",
       "      <td>0.063699</td>\n",
       "      <td>0.162004</td>\n",
       "      <td>0.070263</td>\n",
       "      <td>0.013187</td>\n",
       "      <td>0.196192</td>\n",
       "      <td>0.033426</td>\n",
       "      <td>-0.009105</td>\n",
       "      <td>0.080868</td>\n",
       "      <td>0.067137</td>\n",
       "      <td>0.052129</td>\n",
       "      <td>0.013151</td>\n",
       "      <td>0.001584</td>\n",
       "      <td>-0.000765</td>\n",
       "      <td>0.201300</td>\n",
       "      <td>0.040187</td>\n",
       "      <td>0.059771</td>\n",
       "      <td>0.055948</td>\n",
       "      <td>0.030452</td>\n",
       "      <td>0.069528</td>\n",
       "      <td>0.028502</td>\n",
       "      <td>0.034939</td>\n",
       "      <td>0.112270</td>\n",
       "      <td>0.077523</td>\n",
       "      <td>1.000000</td>\n",
       "      <td>0.165881</td>\n",
       "    </tr>\n",
       "    <tr>\n",
       "      <th>Kraft</th>\n",
       "      <td>-0.007160</td>\n",
       "      <td>0.018918</td>\n",
       "      <td>0.018553</td>\n",
       "      <td>0.006633</td>\n",
       "      <td>0.007530</td>\n",
       "      <td>0.006795</td>\n",
       "      <td>0.019727</td>\n",
       "      <td>0.014749</td>\n",
       "      <td>0.013326</td>\n",
       "      <td>0.005414</td>\n",
       "      <td>0.086964</td>\n",
       "      <td>0.037124</td>\n",
       "      <td>0.175720</td>\n",
       "      <td>0.034441</td>\n",
       "      <td>0.004169</td>\n",
       "      <td>0.191879</td>\n",
       "      <td>0.034429</td>\n",
       "      <td>-0.002851</td>\n",
       "      <td>0.098213</td>\n",
       "      <td>0.067966</td>\n",
       "      <td>0.036420</td>\n",
       "      <td>0.023222</td>\n",
       "      <td>0.009977</td>\n",
       "      <td>0.011374</td>\n",
       "      <td>0.245124</td>\n",
       "      <td>0.031024</td>\n",
       "      <td>0.079136</td>\n",
       "      <td>0.064123</td>\n",
       "      <td>0.014600</td>\n",
       "      <td>0.091546</td>\n",
       "      <td>0.044113</td>\n",
       "      <td>0.054710</td>\n",
       "      <td>0.155997</td>\n",
       "      <td>0.073023</td>\n",
       "      <td>0.165881</td>\n",
       "      <td>1.000000</td>\n",
       "    </tr>\n",
       "  </tbody>\n",
       "</table>\n",
       "</div>"
      ],
      "text/plain": [
       "                          Orders    Jordan  Gatorade   Samsung      Asus  \\\n",
       "Orders                  1.000000  0.016090  0.034310  0.017885  0.015584   \n",
       "Jordan                  0.016090  1.000000  0.177254  0.071258  0.123731   \n",
       "Gatorade                0.034310  0.177254  1.000000  0.063890  0.046215   \n",
       "Samsung                 0.017885  0.071258  0.063890  1.000000  0.012274   \n",
       "Asus                    0.015584  0.123731  0.046215  0.012274  1.000000   \n",
       "Udis                    0.009018  0.135673  0.058180  0.028785  0.114588   \n",
       "Mondelez International  0.008741  0.021950  0.031272  0.035807  0.018120   \n",
       "Wrangler                0.003856  0.040710  0.088166  0.014565  0.026668   \n",
       "Vans                    0.006343  0.115796  0.170620  0.029155  0.046990   \n",
       "Fila                   -0.009627  0.031611  0.026350  0.024847 -0.004766   \n",
       "Brooks                  0.015389  0.165471  0.154345  0.089334  0.114384   \n",
       "H&M                     0.030833  0.038302  0.066794  0.031444  0.025349   \n",
       "Dairy Queen            -0.002705  0.043857  0.055532  0.014086  0.028589   \n",
       "Fendi                   0.017077  0.030369  0.029120  0.015095  0.006580   \n",
       "Hewlett Packard         0.006867  0.008800  0.016680  0.011988  0.006500   \n",
       "Pladis                 -0.000602  0.062050  0.062749  0.025422  0.030216   \n",
       "Asics                   0.022064  0.009816  0.042912  0.004546  0.010339   \n",
       "Siemens                 0.007843 -0.011082  0.006296 -0.011741 -0.000218   \n",
       "J.M. Smucker            0.030807  0.054025  0.060775  0.026365  0.023046   \n",
       "Pop Chips               0.018774  0.081462  0.087545  0.048772  0.022716   \n",
       "Juniper                -0.002741  0.025708  0.030956  0.001621  0.017840   \n",
       "Huawei                  0.008031  0.051468  0.042281  0.024820  0.033468   \n",
       "Compaq                  0.002765  0.007495  0.008773  0.004358  0.005892   \n",
       "IBM                    -0.007647  0.001963 -0.009290 -0.005467 -0.007446   \n",
       "Burberry                0.015813  0.096492  0.102216  0.047852  0.047276   \n",
       "Mi                      0.010369  0.022963  0.033103  0.004060  0.016904   \n",
       "LG                     -0.006382  0.070205  0.066443  0.058584  0.025722   \n",
       "Dior                    0.009027  0.061185  0.056571  0.017369  0.028911   \n",
       "Scabal                  0.020050  0.062582  0.045958  0.046561  0.043168   \n",
       "Tommy Hilfiger          0.003550  0.063739  0.058190  0.015502  0.039139   \n",
       "Hollister               0.001680  0.026350  0.050302  0.021566  0.017283   \n",
       "Forever 21             -0.003436  0.024710  0.031495  0.016170  0.014186   \n",
       "Colavita                0.007455  0.015564  0.018279  0.005584  0.009605   \n",
       "Microsoft               0.015307  0.015804  0.016625  0.003640  0.019748   \n",
       "Jiffy mix               0.011268  0.021651  0.038655  0.009303  0.008001   \n",
       "Kraft                  -0.007160  0.018918  0.018553  0.006633  0.007530   \n",
       "\n",
       "                            Udis  Mondelez International  Wrangler      Vans  \\\n",
       "Orders                  0.009018                0.008741  0.003856  0.006343   \n",
       "Jordan                  0.135673                0.021950  0.040710  0.115796   \n",
       "Gatorade                0.058180                0.031272  0.088166  0.170620   \n",
       "Samsung                 0.028785                0.035807  0.014565  0.029155   \n",
       "Asus                    0.114588                0.018120  0.026668  0.046990   \n",
       "Udis                    1.000000                0.040251  0.023128  0.020696   \n",
       "Mondelez International  0.040251                1.000000  0.021211  0.020795   \n",
       "Wrangler                0.023128                0.021211  1.000000  0.028595   \n",
       "Vans                    0.020696                0.020795  0.028595  1.000000   \n",
       "Fila                    0.021717                0.026681 -0.002237  0.002731   \n",
       "Brooks                  0.089850                0.039200  0.021861  0.122174   \n",
       "H&M                     0.037187                0.043001  0.070330  0.024992   \n",
       "Dairy Queen             0.013806                0.022947  0.030978  0.031384   \n",
       "Fendi                   0.011772                0.001657  0.024073  0.012768   \n",
       "Hewlett Packard         0.014293                0.012106  0.034098  0.002760   \n",
       "Pladis                  0.022155                0.053772  0.040609  0.032070   \n",
       "Asics                  -0.008444                0.018303 -0.002145 -0.000852   \n",
       "Siemens                -0.014267               -0.002722 -0.010719 -0.008563   \n",
       "J.M. Smucker            0.013708                0.059322  0.020302  0.030542   \n",
       "Pop Chips               0.020427                0.031040  0.043520  0.085626   \n",
       "Juniper                 0.014118                0.019580  0.015098  0.010213   \n",
       "Huawei                  0.024393                0.021313  0.030264  0.028003   \n",
       "Compaq                  0.002922                0.002441 -0.000865  0.015774   \n",
       "IBM                    -0.003076                0.000471 -0.006730 -0.003649   \n",
       "Burberry                0.040914                0.065318  0.074666  0.058406   \n",
       "Mi                      0.013516                0.011150  0.024924 -0.009476   \n",
       "LG                      0.030406                0.036895  0.079583  0.073194   \n",
       "Dior                    0.029567                0.034783  0.054262  0.014776   \n",
       "Scabal                  0.068091                0.100657  0.099995 -0.011961   \n",
       "Tommy Hilfiger          0.023367                0.056306  0.045565  0.021992   \n",
       "Hollister               0.032484                0.036270  0.075141  0.007039   \n",
       "Forever 21              0.035360                0.044912  0.066978  0.002500   \n",
       "Colavita                0.000437                0.014344  0.006188  0.000045   \n",
       "Microsoft               0.012679                0.013070  0.008203 -0.002454   \n",
       "Jiffy mix               0.004808                0.025066  0.015954  0.008639   \n",
       "Kraft                   0.006795                0.019727  0.014749  0.013326   \n",
       "\n",
       "                            Fila    Brooks       H&M  Dairy Queen     Fendi  \\\n",
       "Orders                 -0.009627  0.015389  0.030833    -0.002705  0.017077   \n",
       "Jordan                  0.031611  0.165471  0.038302     0.043857  0.030369   \n",
       "Gatorade                0.026350  0.154345  0.066794     0.055532  0.029120   \n",
       "Samsung                 0.024847  0.089334  0.031444     0.014086  0.015095   \n",
       "Asus                   -0.004766  0.114384  0.025349     0.028589  0.006580   \n",
       "Udis                    0.021717  0.089850  0.037187     0.013806  0.011772   \n",
       "Mondelez International  0.026681  0.039200  0.043001     0.022947  0.001657   \n",
       "Wrangler               -0.002237  0.021861  0.070330     0.030978  0.024073   \n",
       "Vans                    0.002731  0.122174  0.024992     0.031384  0.012768   \n",
       "Fila                    1.000000  0.046930  0.010780     0.007973 -0.000600   \n",
       "Brooks                  0.046930  1.000000  0.023054     0.085054  0.029174   \n",
       "H&M                     0.010780  0.023054  1.000000     0.077973  0.135556   \n",
       "Dairy Queen             0.007973  0.085054  0.077973     1.000000  0.098790   \n",
       "Fendi                  -0.000600  0.029174  0.135556     0.098790  1.000000   \n",
       "Hewlett Packard        -0.004208  0.007570  0.064677     0.029623  0.055122   \n",
       "Pladis                  0.017112  0.121461  0.094318     0.313187  0.069843   \n",
       "Asics                   0.030645  0.028050  0.029979     0.055754  0.024641   \n",
       "Siemens                -0.003690 -0.010455 -0.008317    -0.001045 -0.011713   \n",
       "J.M. Smucker            0.031718  0.122213  0.077965     0.129587  0.053630   \n",
       "Pop Chips               0.025974  0.099326  0.090581     0.136034  0.073846   \n",
       "Juniper                 0.009153  0.039703  0.041059     0.056610  0.025912   \n",
       "Huawei                  0.023757  0.026713  0.049663     0.053474  0.000598   \n",
       "Compaq                  0.001063  0.003871 -0.001822     0.006400 -0.002851   \n",
       "IBM                    -0.004363 -0.001441 -0.010884     0.010298 -0.013258   \n",
       "Burberry                0.025138  0.168292  0.186730     0.262845  0.109910   \n",
       "Mi                      0.006529  0.018003  0.090594     0.047673  0.035778   \n",
       "LG                      0.019730  0.053219  0.089734     0.115990  0.071209   \n",
       "Dior                    0.001074  0.030597  0.138741     0.047956  0.038278   \n",
       "Scabal                  0.021368  0.027999  0.149119     0.037345  0.021712   \n",
       "Tommy Hilfiger          0.014916  0.073666  0.122545     0.102061  0.049765   \n",
       "Hollister               0.016579  0.034223  0.074101     0.041828  0.025037   \n",
       "Forever 21              0.032152  0.052320  0.062511     0.041571  0.022392   \n",
       "Colavita                0.001512  0.051175  0.066392     0.130550  0.052381   \n",
       "Microsoft               0.006447  0.033545  0.075162     0.100870  0.036833   \n",
       "Jiffy mix               0.003933  0.061100  0.063699     0.162004  0.070263   \n",
       "Kraft                   0.005414  0.086964  0.037124     0.175720  0.034441   \n",
       "\n",
       "                        Hewlett Packard    Pladis     Asics   Siemens  \\\n",
       "Orders                         0.006867 -0.000602  0.022064  0.007843   \n",
       "Jordan                         0.008800  0.062050  0.009816 -0.011082   \n",
       "Gatorade                       0.016680  0.062749  0.042912  0.006296   \n",
       "Samsung                        0.011988  0.025422  0.004546 -0.011741   \n",
       "Asus                           0.006500  0.030216  0.010339 -0.000218   \n",
       "Udis                           0.014293  0.022155 -0.008444 -0.014267   \n",
       "Mondelez International         0.012106  0.053772  0.018303 -0.002722   \n",
       "Wrangler                       0.034098  0.040609 -0.002145 -0.010719   \n",
       "Vans                           0.002760  0.032070 -0.000852 -0.008563   \n",
       "Fila                          -0.004208  0.017112  0.030645 -0.003690   \n",
       "Brooks                         0.007570  0.121461  0.028050 -0.010455   \n",
       "H&M                            0.064677  0.094318  0.029979 -0.008317   \n",
       "Dairy Queen                    0.029623  0.313187  0.055754 -0.001045   \n",
       "Fendi                          0.055122  0.069843  0.024641 -0.011713   \n",
       "Hewlett Packard                1.000000  0.022858 -0.007831 -0.017946   \n",
       "Pladis                         0.022858  1.000000  0.080349  0.004954   \n",
       "Asics                         -0.007831  0.080349  1.000000  0.417728   \n",
       "Siemens                       -0.017946  0.004954  0.417728  1.000000   \n",
       "J.M. Smucker                   0.005766  0.158125  0.159891  0.044405   \n",
       "Pop Chips                      0.028763  0.165325  0.092393  0.022358   \n",
       "Juniper                        0.005914  0.046424  0.030605 -0.000654   \n",
       "Huawei                         0.001760  0.029427  0.038770  0.003244   \n",
       "Compaq                        -0.009222  0.004856  0.017109 -0.000866   \n",
       "IBM                           -0.009272  0.005674 -0.000329 -0.002268   \n",
       "Burberry                       0.056941  0.346426  0.083204  0.008487   \n",
       "Mi                             0.013071  0.089979  0.035766 -0.001841   \n",
       "LG                             0.022828  0.113270  0.027281 -0.004623   \n",
       "Dior                           0.044929  0.076033  0.012582 -0.013903   \n",
       "Scabal                         0.031425  0.053528  0.009692 -0.013835   \n",
       "Tommy Hilfiger                 0.038940  0.179508  0.040617  0.005160   \n",
       "Hollister                      0.038044  0.063598 -0.006413 -0.020019   \n",
       "Forever 21                     0.035246  0.076888 -0.001429 -0.015961   \n",
       "Colavita                       0.005165  0.157013  0.046252  0.002125   \n",
       "Microsoft                      0.003406  0.082028  0.038810  0.001807   \n",
       "Jiffy mix                      0.013187  0.196192  0.033426 -0.009105   \n",
       "Kraft                          0.004169  0.191879  0.034429 -0.002851   \n",
       "\n",
       "                        J.M. Smucker  Pop Chips   Juniper    Huawei    Compaq  \\\n",
       "Orders                      0.030807   0.018774 -0.002741  0.008031  0.002765   \n",
       "Jordan                      0.054025   0.081462  0.025708  0.051468  0.007495   \n",
       "Gatorade                    0.060775   0.087545  0.030956  0.042281  0.008773   \n",
       "Samsung                     0.026365   0.048772  0.001621  0.024820  0.004358   \n",
       "Asus                        0.023046   0.022716  0.017840  0.033468  0.005892   \n",
       "Udis                        0.013708   0.020427  0.014118  0.024393  0.002922   \n",
       "Mondelez International      0.059322   0.031040  0.019580  0.021313  0.002441   \n",
       "Wrangler                    0.020302   0.043520  0.015098  0.030264 -0.000865   \n",
       "Vans                        0.030542   0.085626  0.010213  0.028003  0.015774   \n",
       "Fila                        0.031718   0.025974  0.009153  0.023757  0.001063   \n",
       "Brooks                      0.122213   0.099326  0.039703  0.026713  0.003871   \n",
       "H&M                         0.077965   0.090581  0.041059  0.049663 -0.001822   \n",
       "Dairy Queen                 0.129587   0.136034  0.056610  0.053474  0.006400   \n",
       "Fendi                       0.053630   0.073846  0.025912  0.000598 -0.002851   \n",
       "Hewlett Packard             0.005766   0.028763  0.005914  0.001760 -0.009222   \n",
       "Pladis                      0.158125   0.165325  0.046424  0.029427  0.004856   \n",
       "Asics                       0.159891   0.092393  0.030605  0.038770  0.017109   \n",
       "Siemens                     0.044405   0.022358 -0.000654  0.003244 -0.000866   \n",
       "J.M. Smucker                1.000000   0.226154  0.073365  0.046167  0.022788   \n",
       "Pop Chips                   0.226154   1.000000  0.047275  0.028071  0.023859   \n",
       "Juniper                     0.073365   0.047275  1.000000  0.154999  0.329227   \n",
       "Huawei                      0.046167   0.028071  0.154999  1.000000  0.136360   \n",
       "Compaq                      0.022788   0.023859  0.329227  0.136360  1.000000   \n",
       "IBM                         0.005008   0.004049  0.194419  0.083440  0.201648   \n",
       "Burberry                    0.226512   0.178076  0.075063  0.058004  0.009234   \n",
       "Mi                          0.048497   0.052154  0.019086  0.034120 -0.000269   \n",
       "LG                          0.078586   0.144857  0.020402  0.016837  0.006385   \n",
       "Dior                        0.057555   0.068831  0.011408  0.073317 -0.006872   \n",
       "Scabal                      0.082324   0.028940  0.017918  0.083139  0.000107   \n",
       "Tommy Hilfiger              0.122519   0.080502  0.044653  0.062316  0.008042   \n",
       "Hollister                   0.040185   0.022382  0.007102  0.004598 -0.004034   \n",
       "Forever 21                  0.042135   0.019884  0.009669 -0.000885 -0.001167   \n",
       "Colavita                    0.104925   0.096090  0.102331  0.019570  0.036373   \n",
       "Microsoft                   0.081494   0.075209  0.103653  0.023523  0.055256   \n",
       "Jiffy mix                   0.080868   0.067137  0.052129  0.013151  0.001584   \n",
       "Kraft                       0.098213   0.067966  0.036420  0.023222  0.009977   \n",
       "\n",
       "                             IBM  Burberry        Mi        LG      Dior  \\\n",
       "Orders                 -0.007647  0.015813  0.010369 -0.006382  0.009027   \n",
       "Jordan                  0.001963  0.096492  0.022963  0.070205  0.061185   \n",
       "Gatorade               -0.009290  0.102216  0.033103  0.066443  0.056571   \n",
       "Samsung                -0.005467  0.047852  0.004060  0.058584  0.017369   \n",
       "Asus                   -0.007446  0.047276  0.016904  0.025722  0.028911   \n",
       "Udis                   -0.003076  0.040914  0.013516  0.030406  0.029567   \n",
       "Mondelez International  0.000471  0.065318  0.011150  0.036895  0.034783   \n",
       "Wrangler               -0.006730  0.074666  0.024924  0.079583  0.054262   \n",
       "Vans                   -0.003649  0.058406 -0.009476  0.073194  0.014776   \n",
       "Fila                   -0.004363  0.025138  0.006529  0.019730  0.001074   \n",
       "Brooks                 -0.001441  0.168292  0.018003  0.053219  0.030597   \n",
       "H&M                    -0.010884  0.186730  0.090594  0.089734  0.138741   \n",
       "Dairy Queen             0.010298  0.262845  0.047673  0.115990  0.047956   \n",
       "Fendi                  -0.013258  0.109910  0.035778  0.071209  0.038278   \n",
       "Hewlett Packard        -0.009272  0.056941  0.013071  0.022828  0.044929   \n",
       "Pladis                  0.005674  0.346426  0.089979  0.113270  0.076033   \n",
       "Asics                  -0.000329  0.083204  0.035766  0.027281  0.012582   \n",
       "Siemens                -0.002268  0.008487 -0.001841 -0.004623 -0.013903   \n",
       "J.M. Smucker            0.005008  0.226512  0.048497  0.078586  0.057555   \n",
       "Pop Chips               0.004049  0.178076  0.052154  0.144857  0.068831   \n",
       "Juniper                 0.194419  0.075063  0.019086  0.020402  0.011408   \n",
       "Huawei                  0.083440  0.058004  0.034120  0.016837  0.073317   \n",
       "Compaq                  0.201648  0.009234 -0.000269  0.006385 -0.006872   \n",
       "IBM                     1.000000 -0.001317 -0.006673  0.003283 -0.020813   \n",
       "Burberry               -0.001317  1.000000  0.120330  0.241705  0.162370   \n",
       "Mi                     -0.006673  0.120330  1.000000  0.017854  0.078787   \n",
       "LG                      0.003283  0.241705  0.017854  1.000000  0.064059   \n",
       "Dior                   -0.020813  0.162370  0.078787  0.064059  1.000000   \n",
       "Scabal                 -0.017099  0.126864  0.097718  0.054640  0.154839   \n",
       "Tommy Hilfiger          0.000136  0.258515  0.086476  0.080416  0.124796   \n",
       "Hollister              -0.010350  0.129031  0.030370  0.057404  0.091280   \n",
       "Forever 21             -0.011333  0.127249  0.034163  0.064325  0.082791   \n",
       "Colavita                0.005244  0.194740  0.045079  0.041123  0.044994   \n",
       "Microsoft               0.017330  0.130132  0.037780  0.027633  0.034829   \n",
       "Jiffy mix              -0.000765  0.201300  0.040187  0.059771  0.055948   \n",
       "Kraft                   0.011374  0.245124  0.031024  0.079136  0.064123   \n",
       "\n",
       "                          Scabal  Tommy Hilfiger  Hollister  Forever 21  \\\n",
       "Orders                  0.020050        0.003550   0.001680   -0.003436   \n",
       "Jordan                  0.062582        0.063739   0.026350    0.024710   \n",
       "Gatorade                0.045958        0.058190   0.050302    0.031495   \n",
       "Samsung                 0.046561        0.015502   0.021566    0.016170   \n",
       "Asus                    0.043168        0.039139   0.017283    0.014186   \n",
       "Udis                    0.068091        0.023367   0.032484    0.035360   \n",
       "Mondelez International  0.100657        0.056306   0.036270    0.044912   \n",
       "Wrangler                0.099995        0.045565   0.075141    0.066978   \n",
       "Vans                   -0.011961        0.021992   0.007039    0.002500   \n",
       "Fila                    0.021368        0.014916   0.016579    0.032152   \n",
       "Brooks                  0.027999        0.073666   0.034223    0.052320   \n",
       "H&M                     0.149119        0.122545   0.074101    0.062511   \n",
       "Dairy Queen             0.037345        0.102061   0.041828    0.041571   \n",
       "Fendi                   0.021712        0.049765   0.025037    0.022392   \n",
       "Hewlett Packard         0.031425        0.038940   0.038044    0.035246   \n",
       "Pladis                  0.053528        0.179508   0.063598    0.076888   \n",
       "Asics                   0.009692        0.040617  -0.006413   -0.001429   \n",
       "Siemens                -0.013835        0.005160  -0.020019   -0.015961   \n",
       "J.M. Smucker            0.082324        0.122519   0.040185    0.042135   \n",
       "Pop Chips               0.028940        0.080502   0.022382    0.019884   \n",
       "Juniper                 0.017918        0.044653   0.007102    0.009669   \n",
       "Huawei                  0.083139        0.062316   0.004598   -0.000885   \n",
       "Compaq                  0.000107        0.008042  -0.004034   -0.001167   \n",
       "IBM                    -0.017099        0.000136  -0.010350   -0.011333   \n",
       "Burberry                0.126864        0.258515   0.129031    0.127249   \n",
       "Mi                      0.097718        0.086476   0.030370    0.034163   \n",
       "LG                      0.054640        0.080416   0.057404    0.064325   \n",
       "Dior                    0.154839        0.124796   0.091280    0.082791   \n",
       "Scabal                  1.000000        0.155917   0.136622    0.117239   \n",
       "Tommy Hilfiger          0.155917        1.000000   0.110639    0.086943   \n",
       "Hollister               0.136622        0.110639   1.000000    0.394190   \n",
       "Forever 21              0.117239        0.086943   0.394190    1.000000   \n",
       "Colavita                0.008717        0.082103   0.026327    0.029519   \n",
       "Microsoft               0.019889        0.053958   0.021002    0.024837   \n",
       "Jiffy mix               0.030452        0.069528   0.028502    0.034939   \n",
       "Kraft                   0.014600        0.091546   0.044113    0.054710   \n",
       "\n",
       "                        Colavita  Microsoft  Jiffy mix     Kraft  \n",
       "Orders                  0.007455   0.015307   0.011268 -0.007160  \n",
       "Jordan                  0.015564   0.015804   0.021651  0.018918  \n",
       "Gatorade                0.018279   0.016625   0.038655  0.018553  \n",
       "Samsung                 0.005584   0.003640   0.009303  0.006633  \n",
       "Asus                    0.009605   0.019748   0.008001  0.007530  \n",
       "Udis                    0.000437   0.012679   0.004808  0.006795  \n",
       "Mondelez International  0.014344   0.013070   0.025066  0.019727  \n",
       "Wrangler                0.006188   0.008203   0.015954  0.014749  \n",
       "Vans                    0.000045  -0.002454   0.008639  0.013326  \n",
       "Fila                    0.001512   0.006447   0.003933  0.005414  \n",
       "Brooks                  0.051175   0.033545   0.061100  0.086964  \n",
       "H&M                     0.066392   0.075162   0.063699  0.037124  \n",
       "Dairy Queen             0.130550   0.100870   0.162004  0.175720  \n",
       "Fendi                   0.052381   0.036833   0.070263  0.034441  \n",
       "Hewlett Packard         0.005165   0.003406   0.013187  0.004169  \n",
       "Pladis                  0.157013   0.082028   0.196192  0.191879  \n",
       "Asics                   0.046252   0.038810   0.033426  0.034429  \n",
       "Siemens                 0.002125   0.001807  -0.009105 -0.002851  \n",
       "J.M. Smucker            0.104925   0.081494   0.080868  0.098213  \n",
       "Pop Chips               0.096090   0.075209   0.067137  0.067966  \n",
       "Juniper                 0.102331   0.103653   0.052129  0.036420  \n",
       "Huawei                  0.019570   0.023523   0.013151  0.023222  \n",
       "Compaq                  0.036373   0.055256   0.001584  0.009977  \n",
       "IBM                     0.005244   0.017330  -0.000765  0.011374  \n",
       "Burberry                0.194740   0.130132   0.201300  0.245124  \n",
       "Mi                      0.045079   0.037780   0.040187  0.031024  \n",
       "LG                      0.041123   0.027633   0.059771  0.079136  \n",
       "Dior                    0.044994   0.034829   0.055948  0.064123  \n",
       "Scabal                  0.008717   0.019889   0.030452  0.014600  \n",
       "Tommy Hilfiger          0.082103   0.053958   0.069528  0.091546  \n",
       "Hollister               0.026327   0.021002   0.028502  0.044113  \n",
       "Forever 21              0.029519   0.024837   0.034939  0.054710  \n",
       "Colavita                1.000000   0.178203   0.112270  0.155997  \n",
       "Microsoft               0.178203   1.000000   0.077523  0.073023  \n",
       "Jiffy mix               0.112270   0.077523   1.000000  0.165881  \n",
       "Kraft                   0.155997   0.073023   0.165881  1.000000  "
      ]
     },
     "execution_count": 282,
     "metadata": {},
     "output_type": "execute_result"
    }
   ],
   "source": [
    "df_new.corr()"
   ]
  },
  {
   "cell_type": "code",
   "execution_count": 283,
   "metadata": {
    "scrolled": false
   },
   "outputs": [
    {
     "data": {
      "text/plain": [
       "<AxesSubplot:>"
      ]
     },
     "execution_count": 283,
     "metadata": {},
     "output_type": "execute_result"
    },
    {
     "data": {
      "image/png": "[encoded data removed]",
      "text/plain": [
       "<Figure size 864x648 with 2 Axes>"
      ]
     },
     "metadata": {
      "needs_background": "light"
     },
     "output_type": "display_data"
    }
   ],
   "source": [
    "plt.figure(figsize=(12,9))\n",
    "sns.heatmap(df_new.corr(), vmin=-1, cmap='coolwarm')"
   ]
  },
  {
   "cell_type": "code",
   "execution_count": 284,
   "metadata": {},
   "outputs": [],
   "source": [
    "from sklearn.preprocessing import StandardScaler"
   ]
  },
  {
   "cell_type": "code",
   "execution_count": 285,
   "metadata": {},
   "outputs": [],
   "source": [
    "# K-means clustering needs the data to be scaled.\n",
    "\n",
    "df_scale = StandardScaler().fit_transform(df_new)"
   ]
  },
  {
   "cell_type": "markdown",
   "metadata": {},
   "source": [
    "# K-Means Clustering"
   ]
  },
  {
   "cell_type": "code",
   "execution_count": 287,
   "metadata": {},
   "outputs": [],
   "source": [
    "from sklearn.cluster import KMeans"
   ]
  },
  {
   "cell_type": "code",
   "execution_count": 289,
   "metadata": {},
   "outputs": [
    {
     "data": {
      "image/png": "[encoded data removed]",
      "text/plain": [
       "<Figure size 720x648 with 1 Axes>"
      ]
     },
     "metadata": {
      "needs_background": "light"
     },
     "output_type": "display_data"
    }
   ],
   "source": [
    "# Finding the number of optimum number of clusters\n",
    "\n",
    "wcss = []\n",
    "# An ideal way to figure out the right number of clusters would be to calculate the Within-Cluster-Sum-of-Squares (WCSS).\n",
    "# WCSS is the sum of squares of the distances of each data point in all clusters to their respective centroids.\n",
    "\n",
    "plt.figure(figsize=(10,9))\n",
    "\n",
    "for i in range(1,7):\n",
    "    kmeans = KMeans(n_clusters=i, random_state=42)\n",
    "    kmeans.fit(df_scale)\n",
    "    wcss.append(kmeans.inertia_)\n",
    "\n",
    "plt.plot(range(1,7), wcss, 'bx-')\n",
    "plt.title('The Elbow method')\n",
    "plt.xlabel('No of Clusters')\n",
    "plt.ylabel('WCSS')\n",
    "plt.show()"
   ]
  },
  {
   "cell_type": "code",
   "execution_count": 288,
   "metadata": {},
   "outputs": [],
   "source": [
    "# Lets try 2 clusters"
   ]
  },
  {
   "cell_type": "code",
   "execution_count": 290,
   "metadata": {},
   "outputs": [],
   "source": [
    "kmeans = KMeans(n_clusters=2)"
   ]
  },
  {
   "cell_type": "code",
   "execution_count": 291,
   "metadata": {},
   "outputs": [],
   "source": [
    "clusters = kmeans.fit_predict(df_scale)"
   ]
  },
  {
   "cell_type": "code",
   "execution_count": 292,
   "metadata": {},
   "outputs": [
    {
     "data": {
      "text/plain": [
       "array([0, 1, 0, ..., 0, 0, 0])"
      ]
     },
     "execution_count": 292,
     "metadata": {},
     "output_type": "execute_result"
    }
   ],
   "source": [
    "clusters"
   ]
  },
  {
   "cell_type": "code",
   "execution_count": 293,
   "metadata": {},
   "outputs": [
    {
     "data": {
      "text/plain": [
       "30000"
      ]
     },
     "execution_count": 293,
     "metadata": {},
     "output_type": "execute_result"
    }
   ],
   "source": [
    "len(clusters)"
   ]
  },
  {
   "cell_type": "code",
   "execution_count": 294,
   "metadata": {},
   "outputs": [],
   "source": [
    "# Lets add column 'cluster' to the Data\n",
    "\n",
    "final_clusters = clusters + 1"
   ]
  },
  {
   "cell_type": "code",
   "execution_count": 295,
   "metadata": {},
   "outputs": [],
   "source": [
    "cluster = list(final_clusters)"
   ]
  },
  {
   "cell_type": "code",
   "execution_count": 296,
   "metadata": {},
   "outputs": [],
   "source": [
    "df['cluster'] = cluster"
   ]
  },
  {
   "cell_type": "code",
   "execution_count": 297,
   "metadata": {},
   "outputs": [
    {
     "data": {
      "text/html": [
       "<div>\n",
       "<style scoped>\n",
       "    .dataframe tbody tr th:only-of-type {\n",
       "        vertical-align: middle;\n",
       "    }\n",
       "\n",
       "    .dataframe tbody tr th {\n",
       "        vertical-align: top;\n",
       "    }\n",
       "\n",
       "    .dataframe thead th {\n",
       "        text-align: right;\n",
       "    }\n",
       "</style>\n",
       "<table border=\"1\" class=\"dataframe\">\n",
       "  <thead>\n",
       "    <tr style=\"text-align: right;\">\n",
       "      <th></th>\n",
       "      <th>Cust_ID</th>\n",
       "      <th>Gender</th>\n",
       "      <th>Orders</th>\n",
       "      <th>Jordan</th>\n",
       "      <th>Gatorade</th>\n",
       "      <th>Samsung</th>\n",
       "      <th>Asus</th>\n",
       "      <th>Udis</th>\n",
       "      <th>Mondelez International</th>\n",
       "      <th>Wrangler</th>\n",
       "      <th>Vans</th>\n",
       "      <th>Fila</th>\n",
       "      <th>Brooks</th>\n",
       "      <th>H&amp;M</th>\n",
       "      <th>Dairy Queen</th>\n",
       "      <th>Fendi</th>\n",
       "      <th>Hewlett Packard</th>\n",
       "      <th>Pladis</th>\n",
       "      <th>Asics</th>\n",
       "      <th>Siemens</th>\n",
       "      <th>J.M. Smucker</th>\n",
       "      <th>Pop Chips</th>\n",
       "      <th>Juniper</th>\n",
       "      <th>Huawei</th>\n",
       "      <th>Compaq</th>\n",
       "      <th>IBM</th>\n",
       "      <th>Burberry</th>\n",
       "      <th>Mi</th>\n",
       "      <th>LG</th>\n",
       "      <th>Dior</th>\n",
       "      <th>Scabal</th>\n",
       "      <th>Tommy Hilfiger</th>\n",
       "      <th>Hollister</th>\n",
       "      <th>Forever 21</th>\n",
       "      <th>Colavita</th>\n",
       "      <th>Microsoft</th>\n",
       "      <th>Jiffy mix</th>\n",
       "      <th>Kraft</th>\n",
       "      <th>Order_cat</th>\n",
       "      <th>cluster</th>\n",
       "    </tr>\n",
       "  </thead>\n",
       "  <tbody>\n",
       "    <tr>\n",
       "      <th>0</th>\n",
       "      <td>1</td>\n",
       "      <td>M</td>\n",
       "      <td>7</td>\n",
       "      <td>0</td>\n",
       "      <td>0</td>\n",
       "      <td>0</td>\n",
       "      <td>0</td>\n",
       "      <td>0</td>\n",
       "      <td>0</td>\n",
       "      <td>0</td>\n",
       "      <td>2</td>\n",
       "      <td>0</td>\n",
       "      <td>0</td>\n",
       "      <td>0</td>\n",
       "      <td>0</td>\n",
       "      <td>0</td>\n",
       "      <td>0</td>\n",
       "      <td>0</td>\n",
       "      <td>0</td>\n",
       "      <td>0</td>\n",
       "      <td>0</td>\n",
       "      <td>0</td>\n",
       "      <td>0</td>\n",
       "      <td>0</td>\n",
       "      <td>0</td>\n",
       "      <td>0</td>\n",
       "      <td>0</td>\n",
       "      <td>0</td>\n",
       "      <td>0</td>\n",
       "      <td>0</td>\n",
       "      <td>0</td>\n",
       "      <td>0</td>\n",
       "      <td>0</td>\n",
       "      <td>0</td>\n",
       "      <td>0</td>\n",
       "      <td>0</td>\n",
       "      <td>0</td>\n",
       "      <td>0</td>\n",
       "      <td>7 to 12 orders</td>\n",
       "      <td>1</td>\n",
       "    </tr>\n",
       "    <tr>\n",
       "      <th>1</th>\n",
       "      <td>2</td>\n",
       "      <td>F</td>\n",
       "      <td>0</td>\n",
       "      <td>0</td>\n",
       "      <td>1</td>\n",
       "      <td>0</td>\n",
       "      <td>0</td>\n",
       "      <td>0</td>\n",
       "      <td>0</td>\n",
       "      <td>0</td>\n",
       "      <td>0</td>\n",
       "      <td>0</td>\n",
       "      <td>0</td>\n",
       "      <td>1</td>\n",
       "      <td>0</td>\n",
       "      <td>0</td>\n",
       "      <td>0</td>\n",
       "      <td>0</td>\n",
       "      <td>0</td>\n",
       "      <td>0</td>\n",
       "      <td>2</td>\n",
       "      <td>2</td>\n",
       "      <td>1</td>\n",
       "      <td>0</td>\n",
       "      <td>0</td>\n",
       "      <td>0</td>\n",
       "      <td>6</td>\n",
       "      <td>4</td>\n",
       "      <td>0</td>\n",
       "      <td>1</td>\n",
       "      <td>0</td>\n",
       "      <td>0</td>\n",
       "      <td>0</td>\n",
       "      <td>0</td>\n",
       "      <td>0</td>\n",
       "      <td>0</td>\n",
       "      <td>0</td>\n",
       "      <td>0</td>\n",
       "      <td>0 order</td>\n",
       "      <td>2</td>\n",
       "    </tr>\n",
       "    <tr>\n",
       "      <th>2</th>\n",
       "      <td>3</td>\n",
       "      <td>M</td>\n",
       "      <td>7</td>\n",
       "      <td>0</td>\n",
       "      <td>1</td>\n",
       "      <td>0</td>\n",
       "      <td>0</td>\n",
       "      <td>0</td>\n",
       "      <td>0</td>\n",
       "      <td>0</td>\n",
       "      <td>0</td>\n",
       "      <td>0</td>\n",
       "      <td>0</td>\n",
       "      <td>0</td>\n",
       "      <td>0</td>\n",
       "      <td>0</td>\n",
       "      <td>0</td>\n",
       "      <td>0</td>\n",
       "      <td>2</td>\n",
       "      <td>0</td>\n",
       "      <td>1</td>\n",
       "      <td>0</td>\n",
       "      <td>0</td>\n",
       "      <td>0</td>\n",
       "      <td>0</td>\n",
       "      <td>0</td>\n",
       "      <td>0</td>\n",
       "      <td>0</td>\n",
       "      <td>0</td>\n",
       "      <td>0</td>\n",
       "      <td>0</td>\n",
       "      <td>0</td>\n",
       "      <td>0</td>\n",
       "      <td>0</td>\n",
       "      <td>0</td>\n",
       "      <td>1</td>\n",
       "      <td>0</td>\n",
       "      <td>0</td>\n",
       "      <td>7 to 12 orders</td>\n",
       "      <td>1</td>\n",
       "    </tr>\n",
       "    <tr>\n",
       "      <th>3</th>\n",
       "      <td>4</td>\n",
       "      <td>F</td>\n",
       "      <td>0</td>\n",
       "      <td>0</td>\n",
       "      <td>0</td>\n",
       "      <td>0</td>\n",
       "      <td>0</td>\n",
       "      <td>0</td>\n",
       "      <td>0</td>\n",
       "      <td>0</td>\n",
       "      <td>0</td>\n",
       "      <td>0</td>\n",
       "      <td>0</td>\n",
       "      <td>1</td>\n",
       "      <td>0</td>\n",
       "      <td>0</td>\n",
       "      <td>0</td>\n",
       "      <td>0</td>\n",
       "      <td>0</td>\n",
       "      <td>0</td>\n",
       "      <td>0</td>\n",
       "      <td>1</td>\n",
       "      <td>0</td>\n",
       "      <td>0</td>\n",
       "      <td>0</td>\n",
       "      <td>0</td>\n",
       "      <td>0</td>\n",
       "      <td>0</td>\n",
       "      <td>0</td>\n",
       "      <td>0</td>\n",
       "      <td>0</td>\n",
       "      <td>0</td>\n",
       "      <td>0</td>\n",
       "      <td>0</td>\n",
       "      <td>0</td>\n",
       "      <td>0</td>\n",
       "      <td>0</td>\n",
       "      <td>0</td>\n",
       "      <td>0 order</td>\n",
       "      <td>1</td>\n",
       "    </tr>\n",
       "    <tr>\n",
       "      <th>4</th>\n",
       "      <td>5</td>\n",
       "      <td>NaN</td>\n",
       "      <td>10</td>\n",
       "      <td>0</td>\n",
       "      <td>0</td>\n",
       "      <td>0</td>\n",
       "      <td>0</td>\n",
       "      <td>0</td>\n",
       "      <td>0</td>\n",
       "      <td>0</td>\n",
       "      <td>0</td>\n",
       "      <td>0</td>\n",
       "      <td>0</td>\n",
       "      <td>0</td>\n",
       "      <td>1</td>\n",
       "      <td>0</td>\n",
       "      <td>0</td>\n",
       "      <td>5</td>\n",
       "      <td>1</td>\n",
       "      <td>0</td>\n",
       "      <td>3</td>\n",
       "      <td>0</td>\n",
       "      <td>1</td>\n",
       "      <td>0</td>\n",
       "      <td>0</td>\n",
       "      <td>0</td>\n",
       "      <td>1</td>\n",
       "      <td>0</td>\n",
       "      <td>0</td>\n",
       "      <td>0</td>\n",
       "      <td>2</td>\n",
       "      <td>0</td>\n",
       "      <td>0</td>\n",
       "      <td>0</td>\n",
       "      <td>0</td>\n",
       "      <td>0</td>\n",
       "      <td>1</td>\n",
       "      <td>1</td>\n",
       "      <td>7 to 12 orders</td>\n",
       "      <td>2</td>\n",
       "    </tr>\n",
       "  </tbody>\n",
       "</table>\n",
       "</div>"
      ],
      "text/plain": [
       "   Cust_ID Gender  Orders  Jordan  Gatorade  Samsung  Asus  Udis  \\\n",
       "0        1      M       7       0         0        0     0     0   \n",
       "1        2      F       0       0         1        0     0     0   \n",
       "2        3      M       7       0         1        0     0     0   \n",
       "3        4      F       0       0         0        0     0     0   \n",
       "4        5    NaN      10       0         0        0     0     0   \n",
       "\n",
       "   Mondelez International  Wrangler  Vans  Fila  Brooks  H&M  Dairy Queen  \\\n",
       "0                       0         0     2     0       0    0            0   \n",
       "1                       0         0     0     0       0    1            0   \n",
       "2                       0         0     0     0       0    0            0   \n",
       "3                       0         0     0     0       0    1            0   \n",
       "4                       0         0     0     0       0    0            1   \n",
       "\n",
       "   Fendi  Hewlett Packard  Pladis  Asics  Siemens  J.M. Smucker  Pop Chips  \\\n",
       "0      0                0       0      0        0             0          0   \n",
       "1      0                0       0      0        0             2          2   \n",
       "2      0                0       0      2        0             1          0   \n",
       "3      0                0       0      0        0             0          1   \n",
       "4      0                0       5      1        0             3          0   \n",
       "\n",
       "   Juniper  Huawei  Compaq  IBM  Burberry  Mi  LG  Dior  Scabal  \\\n",
       "0        0       0       0    0         0   0   0     0       0   \n",
       "1        1       0       0    0         6   4   0     1       0   \n",
       "2        0       0       0    0         0   0   0     0       0   \n",
       "3        0       0       0    0         0   0   0     0       0   \n",
       "4        1       0       0    0         1   0   0     0       2   \n",
       "\n",
       "   Tommy Hilfiger  Hollister  Forever 21  Colavita  Microsoft  Jiffy mix  \\\n",
       "0               0          0           0         0          0          0   \n",
       "1               0          0           0         0          0          0   \n",
       "2               0          0           0         0          1          0   \n",
       "3               0          0           0         0          0          0   \n",
       "4               0          0           0         0          0          1   \n",
       "\n",
       "   Kraft       Order_cat  cluster  \n",
       "0      0  7 to 12 orders        1  \n",
       "1      0         0 order        2  \n",
       "2      0  7 to 12 orders        1  \n",
       "3      0         0 order        1  \n",
       "4      1  7 to 12 orders        2  "
      ]
     },
     "execution_count": 297,
     "metadata": {},
     "output_type": "execute_result"
    }
   ],
   "source": [
    "df.head()"
   ]
  },
  {
   "cell_type": "code",
   "execution_count": 298,
   "metadata": {},
   "outputs": [
    {
     "data": {
      "text/html": [
       "<div>\n",
       "<style scoped>\n",
       "    .dataframe tbody tr th:only-of-type {\n",
       "        vertical-align: middle;\n",
       "    }\n",
       "\n",
       "    .dataframe tbody tr th {\n",
       "        vertical-align: top;\n",
       "    }\n",
       "\n",
       "    .dataframe thead th {\n",
       "        text-align: right;\n",
       "    }\n",
       "</style>\n",
       "<table border=\"1\" class=\"dataframe\">\n",
       "  <thead>\n",
       "    <tr style=\"text-align: right;\">\n",
       "      <th></th>\n",
       "      <th>Cust_ID</th>\n",
       "      <th>Orders</th>\n",
       "      <th>Jordan</th>\n",
       "      <th>Gatorade</th>\n",
       "      <th>Samsung</th>\n",
       "      <th>Asus</th>\n",
       "      <th>Udis</th>\n",
       "      <th>Mondelez International</th>\n",
       "      <th>Wrangler</th>\n",
       "      <th>Vans</th>\n",
       "      <th>Fila</th>\n",
       "      <th>Brooks</th>\n",
       "      <th>H&amp;M</th>\n",
       "      <th>Dairy Queen</th>\n",
       "      <th>Fendi</th>\n",
       "      <th>Hewlett Packard</th>\n",
       "      <th>Pladis</th>\n",
       "      <th>Asics</th>\n",
       "      <th>Siemens</th>\n",
       "      <th>J.M. Smucker</th>\n",
       "      <th>Pop Chips</th>\n",
       "      <th>Juniper</th>\n",
       "      <th>Huawei</th>\n",
       "      <th>Compaq</th>\n",
       "      <th>IBM</th>\n",
       "      <th>Burberry</th>\n",
       "      <th>Mi</th>\n",
       "      <th>LG</th>\n",
       "      <th>Dior</th>\n",
       "      <th>Scabal</th>\n",
       "      <th>Tommy Hilfiger</th>\n",
       "      <th>Hollister</th>\n",
       "      <th>Forever 21</th>\n",
       "      <th>Colavita</th>\n",
       "      <th>Microsoft</th>\n",
       "      <th>Jiffy mix</th>\n",
       "      <th>Kraft</th>\n",
       "    </tr>\n",
       "    <tr>\n",
       "      <th>cluster</th>\n",
       "      <th></th>\n",
       "      <th></th>\n",
       "      <th></th>\n",
       "      <th></th>\n",
       "      <th></th>\n",
       "      <th></th>\n",
       "      <th></th>\n",
       "      <th></th>\n",
       "      <th></th>\n",
       "      <th></th>\n",
       "      <th></th>\n",
       "      <th></th>\n",
       "      <th></th>\n",
       "      <th></th>\n",
       "      <th></th>\n",
       "      <th></th>\n",
       "      <th></th>\n",
       "      <th></th>\n",
       "      <th></th>\n",
       "      <th></th>\n",
       "      <th></th>\n",
       "      <th></th>\n",
       "      <th></th>\n",
       "      <th></th>\n",
       "      <th></th>\n",
       "      <th></th>\n",
       "      <th></th>\n",
       "      <th></th>\n",
       "      <th></th>\n",
       "      <th></th>\n",
       "      <th></th>\n",
       "      <th></th>\n",
       "      <th></th>\n",
       "      <th></th>\n",
       "      <th></th>\n",
       "      <th></th>\n",
       "      <th></th>\n",
       "    </tr>\n",
       "  </thead>\n",
       "  <tbody>\n",
       "    <tr>\n",
       "      <th>1</th>\n",
       "      <td>14794.968897</td>\n",
       "      <td>4.137966</td>\n",
       "      <td>0.215107</td>\n",
       "      <td>0.208536</td>\n",
       "      <td>0.190912</td>\n",
       "      <td>0.137667</td>\n",
       "      <td>0.118960</td>\n",
       "      <td>0.118363</td>\n",
       "      <td>0.083862</td>\n",
       "      <td>0.092674</td>\n",
       "      <td>0.085206</td>\n",
       "      <td>0.107050</td>\n",
       "      <td>0.24845</td>\n",
       "      <td>0.100553</td>\n",
       "      <td>0.109477</td>\n",
       "      <td>0.141812</td>\n",
       "      <td>0.038011</td>\n",
       "      <td>0.24845</td>\n",
       "      <td>0.044694</td>\n",
       "      <td>0.64043</td>\n",
       "      <td>0.180308</td>\n",
       "      <td>0.393511</td>\n",
       "      <td>0.210253</td>\n",
       "      <td>0.098312</td>\n",
       "      <td>0.028639</td>\n",
       "      <td>0.232059</td>\n",
       "      <td>0.092525</td>\n",
       "      <td>0.058509</td>\n",
       "      <td>0.199724</td>\n",
       "      <td>0.310096</td>\n",
       "      <td>0.098611</td>\n",
       "      <td>0.047420</td>\n",
       "      <td>0.032709</td>\n",
       "      <td>0.136547</td>\n",
       "      <td>0.087447</td>\n",
       "      <td>0.050668</td>\n",
       "      <td>0.034650</td>\n",
       "    </tr>\n",
       "    <tr>\n",
       "      <th>2</th>\n",
       "      <td>16711.045059</td>\n",
       "      <td>4.434742</td>\n",
       "      <td>0.702921</td>\n",
       "      <td>0.616843</td>\n",
       "      <td>0.489434</td>\n",
       "      <td>0.358297</td>\n",
       "      <td>0.348042</td>\n",
       "      <td>0.317899</td>\n",
       "      <td>0.298943</td>\n",
       "      <td>0.267557</td>\n",
       "      <td>0.169671</td>\n",
       "      <td>0.415475</td>\n",
       "      <td>0.99192</td>\n",
       "      <td>1.114667</td>\n",
       "      <td>0.407707</td>\n",
       "      <td>0.321628</td>\n",
       "      <td>0.672778</td>\n",
       "      <td>0.73120</td>\n",
       "      <td>0.076134</td>\n",
       "      <td>1.70665</td>\n",
       "      <td>0.810441</td>\n",
       "      <td>1.114357</td>\n",
       "      <td>0.655376</td>\n",
       "      <td>0.288999</td>\n",
       "      <td>0.059664</td>\n",
       "      <td>2.059043</td>\n",
       "      <td>0.361094</td>\n",
       "      <td>0.468925</td>\n",
       "      <td>0.865444</td>\n",
       "      <td>0.869173</td>\n",
       "      <td>0.661280</td>\n",
       "      <td>0.329397</td>\n",
       "      <td>0.262275</td>\n",
       "      <td>0.655376</td>\n",
       "      <td>0.357054</td>\n",
       "      <td>0.399006</td>\n",
       "      <td>0.372592</td>\n",
       "    </tr>\n",
       "  </tbody>\n",
       "</table>\n",
       "</div>"
      ],
      "text/plain": [
       "              Cust_ID    Orders    Jordan  Gatorade   Samsung      Asus  \\\n",
       "cluster                                                                   \n",
       "1        14794.968897  4.137966  0.215107  0.208536  0.190912  0.137667   \n",
       "2        16711.045059  4.434742  0.702921  0.616843  0.489434  0.358297   \n",
       "\n",
       "             Udis  Mondelez International  Wrangler      Vans      Fila  \\\n",
       "cluster                                                                   \n",
       "1        0.118960                0.118363  0.083862  0.092674  0.085206   \n",
       "2        0.348042                0.317899  0.298943  0.267557  0.169671   \n",
       "\n",
       "           Brooks      H&M  Dairy Queen     Fendi  Hewlett Packard    Pladis  \\\n",
       "cluster                                                                        \n",
       "1        0.107050  0.24845     0.100553  0.109477         0.141812  0.038011   \n",
       "2        0.415475  0.99192     1.114667  0.407707         0.321628  0.672778   \n",
       "\n",
       "           Asics   Siemens  J.M. Smucker  Pop Chips   Juniper    Huawei  \\\n",
       "cluster                                                                   \n",
       "1        0.24845  0.044694       0.64043   0.180308  0.393511  0.210253   \n",
       "2        0.73120  0.076134       1.70665   0.810441  1.114357  0.655376   \n",
       "\n",
       "           Compaq       IBM  Burberry        Mi        LG      Dior    Scabal  \\\n",
       "cluster                                                                         \n",
       "1        0.098312  0.028639  0.232059  0.092525  0.058509  0.199724  0.310096   \n",
       "2        0.288999  0.059664  2.059043  0.361094  0.468925  0.865444  0.869173   \n",
       "\n",
       "         Tommy Hilfiger  Hollister  Forever 21  Colavita  Microsoft  \\\n",
       "cluster                                                               \n",
       "1              0.098611   0.047420    0.032709  0.136547   0.087447   \n",
       "2              0.661280   0.329397    0.262275  0.655376   0.357054   \n",
       "\n",
       "         Jiffy mix     Kraft  \n",
       "cluster                       \n",
       "1         0.050668  0.034650  \n",
       "2         0.399006  0.372592  "
      ]
     },
     "execution_count": 298,
     "metadata": {},
     "output_type": "execute_result"
    }
   ],
   "source": [
    "df.groupby('cluster').mean()"
   ]
  },
  {
   "cell_type": "code",
   "execution_count": 299,
   "metadata": {},
   "outputs": [
    {
     "data": {
      "text/html": [
       "<div>\n",
       "<style scoped>\n",
       "    .dataframe tbody tr th:only-of-type {\n",
       "        vertical-align: middle;\n",
       "    }\n",
       "\n",
       "    .dataframe tbody tr th {\n",
       "        vertical-align: top;\n",
       "    }\n",
       "\n",
       "    .dataframe thead th {\n",
       "        text-align: right;\n",
       "    }\n",
       "</style>\n",
       "<table border=\"1\" class=\"dataframe\">\n",
       "  <thead>\n",
       "    <tr style=\"text-align: right;\">\n",
       "      <th></th>\n",
       "      <th>Cust_ID</th>\n",
       "      <th>Gender</th>\n",
       "      <th>Orders</th>\n",
       "      <th>Jordan</th>\n",
       "      <th>Gatorade</th>\n",
       "      <th>Samsung</th>\n",
       "      <th>Asus</th>\n",
       "      <th>Udis</th>\n",
       "      <th>Mondelez International</th>\n",
       "      <th>Wrangler</th>\n",
       "      <th>Vans</th>\n",
       "      <th>Fila</th>\n",
       "      <th>Brooks</th>\n",
       "      <th>H&amp;M</th>\n",
       "      <th>Dairy Queen</th>\n",
       "      <th>Fendi</th>\n",
       "      <th>Hewlett Packard</th>\n",
       "      <th>Pladis</th>\n",
       "      <th>Asics</th>\n",
       "      <th>Siemens</th>\n",
       "      <th>J.M. Smucker</th>\n",
       "      <th>Pop Chips</th>\n",
       "      <th>Juniper</th>\n",
       "      <th>Huawei</th>\n",
       "      <th>Compaq</th>\n",
       "      <th>IBM</th>\n",
       "      <th>Burberry</th>\n",
       "      <th>Mi</th>\n",
       "      <th>LG</th>\n",
       "      <th>Dior</th>\n",
       "      <th>Scabal</th>\n",
       "      <th>Tommy Hilfiger</th>\n",
       "      <th>Hollister</th>\n",
       "      <th>Forever 21</th>\n",
       "      <th>Colavita</th>\n",
       "      <th>Microsoft</th>\n",
       "      <th>Jiffy mix</th>\n",
       "      <th>Kraft</th>\n",
       "      <th>Order_cat</th>\n",
       "    </tr>\n",
       "    <tr>\n",
       "      <th>cluster</th>\n",
       "      <th></th>\n",
       "      <th></th>\n",
       "      <th></th>\n",
       "      <th></th>\n",
       "      <th></th>\n",
       "      <th></th>\n",
       "      <th></th>\n",
       "      <th></th>\n",
       "      <th></th>\n",
       "      <th></th>\n",
       "      <th></th>\n",
       "      <th></th>\n",
       "      <th></th>\n",
       "      <th></th>\n",
       "      <th></th>\n",
       "      <th></th>\n",
       "      <th></th>\n",
       "      <th></th>\n",
       "      <th></th>\n",
       "      <th></th>\n",
       "      <th></th>\n",
       "      <th></th>\n",
       "      <th></th>\n",
       "      <th></th>\n",
       "      <th></th>\n",
       "      <th></th>\n",
       "      <th></th>\n",
       "      <th></th>\n",
       "      <th></th>\n",
       "      <th></th>\n",
       "      <th></th>\n",
       "      <th></th>\n",
       "      <th></th>\n",
       "      <th></th>\n",
       "      <th></th>\n",
       "      <th></th>\n",
       "      <th></th>\n",
       "      <th></th>\n",
       "      <th></th>\n",
       "    </tr>\n",
       "  </thead>\n",
       "  <tbody>\n",
       "    <tr>\n",
       "      <th>1</th>\n",
       "      <td>26782</td>\n",
       "      <td>24249</td>\n",
       "      <td>26782</td>\n",
       "      <td>26782</td>\n",
       "      <td>26782</td>\n",
       "      <td>26782</td>\n",
       "      <td>26782</td>\n",
       "      <td>26782</td>\n",
       "      <td>26782</td>\n",
       "      <td>26782</td>\n",
       "      <td>26782</td>\n",
       "      <td>26782</td>\n",
       "      <td>26782</td>\n",
       "      <td>26782</td>\n",
       "      <td>26782</td>\n",
       "      <td>26782</td>\n",
       "      <td>26782</td>\n",
       "      <td>26782</td>\n",
       "      <td>26782</td>\n",
       "      <td>26782</td>\n",
       "      <td>26782</td>\n",
       "      <td>26782</td>\n",
       "      <td>26782</td>\n",
       "      <td>26782</td>\n",
       "      <td>26782</td>\n",
       "      <td>26782</td>\n",
       "      <td>26782</td>\n",
       "      <td>26782</td>\n",
       "      <td>26782</td>\n",
       "      <td>26782</td>\n",
       "      <td>26782</td>\n",
       "      <td>26782</td>\n",
       "      <td>26782</td>\n",
       "      <td>26782</td>\n",
       "      <td>26782</td>\n",
       "      <td>26782</td>\n",
       "      <td>26782</td>\n",
       "      <td>26782</td>\n",
       "      <td>26782</td>\n",
       "    </tr>\n",
       "    <tr>\n",
       "      <th>2</th>\n",
       "      <td>3218</td>\n",
       "      <td>3027</td>\n",
       "      <td>3218</td>\n",
       "      <td>3218</td>\n",
       "      <td>3218</td>\n",
       "      <td>3218</td>\n",
       "      <td>3218</td>\n",
       "      <td>3218</td>\n",
       "      <td>3218</td>\n",
       "      <td>3218</td>\n",
       "      <td>3218</td>\n",
       "      <td>3218</td>\n",
       "      <td>3218</td>\n",
       "      <td>3218</td>\n",
       "      <td>3218</td>\n",
       "      <td>3218</td>\n",
       "      <td>3218</td>\n",
       "      <td>3218</td>\n",
       "      <td>3218</td>\n",
       "      <td>3218</td>\n",
       "      <td>3218</td>\n",
       "      <td>3218</td>\n",
       "      <td>3218</td>\n",
       "      <td>3218</td>\n",
       "      <td>3218</td>\n",
       "      <td>3218</td>\n",
       "      <td>3218</td>\n",
       "      <td>3218</td>\n",
       "      <td>3218</td>\n",
       "      <td>3218</td>\n",
       "      <td>3218</td>\n",
       "      <td>3218</td>\n",
       "      <td>3218</td>\n",
       "      <td>3218</td>\n",
       "      <td>3218</td>\n",
       "      <td>3218</td>\n",
       "      <td>3218</td>\n",
       "      <td>3218</td>\n",
       "      <td>3218</td>\n",
       "    </tr>\n",
       "  </tbody>\n",
       "</table>\n",
       "</div>"
      ],
      "text/plain": [
       "         Cust_ID  Gender  Orders  Jordan  Gatorade  Samsung   Asus   Udis  \\\n",
       "cluster                                                                     \n",
       "1          26782   24249   26782   26782     26782    26782  26782  26782   \n",
       "2           3218    3027    3218    3218      3218     3218   3218   3218   \n",
       "\n",
       "         Mondelez International  Wrangler   Vans   Fila  Brooks    H&M  \\\n",
       "cluster                                                                  \n",
       "1                         26782     26782  26782  26782   26782  26782   \n",
       "2                          3218      3218   3218   3218    3218   3218   \n",
       "\n",
       "         Dairy Queen  Fendi  Hewlett Packard  Pladis  Asics  Siemens  \\\n",
       "cluster                                                                \n",
       "1              26782  26782            26782   26782  26782    26782   \n",
       "2               3218   3218             3218    3218   3218     3218   \n",
       "\n",
       "         J.M. Smucker  Pop Chips  Juniper  Huawei  Compaq    IBM  Burberry  \\\n",
       "cluster                                                                      \n",
       "1               26782      26782    26782   26782   26782  26782     26782   \n",
       "2                3218       3218     3218    3218    3218   3218      3218   \n",
       "\n",
       "            Mi     LG   Dior  Scabal  Tommy Hilfiger  Hollister  Forever 21  \\\n",
       "cluster                                                                       \n",
       "1        26782  26782  26782   26782           26782      26782       26782   \n",
       "2         3218   3218   3218    3218            3218       3218        3218   \n",
       "\n",
       "         Colavita  Microsoft  Jiffy mix  Kraft  Order_cat  \n",
       "cluster                                                    \n",
       "1           26782      26782      26782  26782      26782  \n",
       "2            3218       3218       3218   3218       3218  "
      ]
     },
     "execution_count": 299,
     "metadata": {},
     "output_type": "execute_result"
    }
   ],
   "source": [
    "df.groupby('cluster').count()"
   ]
  },
  {
   "cell_type": "code",
   "execution_count": 300,
   "metadata": {},
   "outputs": [],
   "source": [
    "# The smallest cluster is 2 and the largest cluster is 1"
   ]
  },
  {
   "cell_type": "code",
   "execution_count": 301,
   "metadata": {},
   "outputs": [],
   "source": [
    "# Lets do PCA for visualization"
   ]
  },
  {
   "cell_type": "code",
   "execution_count": 302,
   "metadata": {},
   "outputs": [],
   "source": [
    "pca_vars = df.drop(['Gender', 'Order_cat', 'cluster'], axis=1)"
   ]
  },
  {
   "cell_type": "code",
   "execution_count": 303,
   "metadata": {},
   "outputs": [],
   "source": [
    "from sklearn.preprocessing import StandardScaler\n",
    "ss_pca = StandardScaler()"
   ]
  },
  {
   "cell_type": "code",
   "execution_count": 304,
   "metadata": {},
   "outputs": [],
   "source": [
    "pca_df_ss = pd.DataFrame(ss_pca.fit_transform(pca_vars),\n",
    "                        columns=pca_vars.columns)"
   ]
  },
  {
   "cell_type": "code",
   "execution_count": 305,
   "metadata": {},
   "outputs": [
    {
     "data": {
      "text/html": [
       "<div>\n",
       "<style scoped>\n",
       "    .dataframe tbody tr th:only-of-type {\n",
       "        vertical-align: middle;\n",
       "    }\n",
       "\n",
       "    .dataframe tbody tr th {\n",
       "        vertical-align: top;\n",
       "    }\n",
       "\n",
       "    .dataframe thead th {\n",
       "        text-align: right;\n",
       "    }\n",
       "</style>\n",
       "<table border=\"1\" class=\"dataframe\">\n",
       "  <thead>\n",
       "    <tr style=\"text-align: right;\">\n",
       "      <th></th>\n",
       "      <th>Cust_ID</th>\n",
       "      <th>Orders</th>\n",
       "      <th>Jordan</th>\n",
       "      <th>Gatorade</th>\n",
       "      <th>Samsung</th>\n",
       "      <th>Asus</th>\n",
       "      <th>Udis</th>\n",
       "      <th>Mondelez International</th>\n",
       "      <th>Wrangler</th>\n",
       "      <th>Vans</th>\n",
       "      <th>Fila</th>\n",
       "      <th>Brooks</th>\n",
       "      <th>H&amp;M</th>\n",
       "      <th>Dairy Queen</th>\n",
       "      <th>Fendi</th>\n",
       "      <th>Hewlett Packard</th>\n",
       "      <th>Pladis</th>\n",
       "      <th>Asics</th>\n",
       "      <th>Siemens</th>\n",
       "      <th>J.M. Smucker</th>\n",
       "      <th>Pop Chips</th>\n",
       "      <th>Juniper</th>\n",
       "      <th>Huawei</th>\n",
       "      <th>Compaq</th>\n",
       "      <th>IBM</th>\n",
       "      <th>Burberry</th>\n",
       "      <th>Mi</th>\n",
       "      <th>LG</th>\n",
       "      <th>Dior</th>\n",
       "      <th>Scabal</th>\n",
       "      <th>Tommy Hilfiger</th>\n",
       "      <th>Hollister</th>\n",
       "      <th>Forever 21</th>\n",
       "      <th>Colavita</th>\n",
       "      <th>Microsoft</th>\n",
       "      <th>Jiffy mix</th>\n",
       "      <th>Kraft</th>\n",
       "    </tr>\n",
       "  </thead>\n",
       "  <tbody>\n",
       "    <tr>\n",
       "      <th>0</th>\n",
       "      <td>-1.731993</td>\n",
       "      <td>0.788301</td>\n",
       "      <td>-0.332312</td>\n",
       "      <td>-0.357739</td>\n",
       "      <td>-0.242985</td>\n",
       "      <td>-0.21801</td>\n",
       "      <td>-0.223835</td>\n",
       "      <td>-0.265801</td>\n",
       "      <td>-0.20727</td>\n",
       "      <td>3.446412</td>\n",
       "      <td>-0.177332</td>\n",
       "      <td>-0.297352</td>\n",
       "      <td>-0.406368</td>\n",
       "      <td>-0.187440</td>\n",
       "      <td>-0.267321</td>\n",
       "      <td>-0.266358</td>\n",
       "      <td>-0.205420</td>\n",
       "      <td>-0.268269</td>\n",
       "      <td>-0.141891</td>\n",
       "      <td>-0.598029</td>\n",
       "      <td>-0.342359</td>\n",
       "      <td>-0.349766</td>\n",
       "      <td>-0.304147</td>\n",
       "      <td>-0.198739</td>\n",
       "      <td>-0.12087</td>\n",
       "      <td>-0.389526</td>\n",
       "      <td>-0.253322</td>\n",
       "      <td>-0.210814</td>\n",
       "      <td>-0.379382</td>\n",
       "      <td>-0.487923</td>\n",
       "      <td>-0.311382</td>\n",
       "      <td>-0.202593</td>\n",
       "      <td>-0.191062</td>\n",
       "      <td>-0.299706</td>\n",
       "      <td>-0.260578</td>\n",
       "      <td>-0.220486</td>\n",
       "      <td>-0.182775</td>\n",
       "    </tr>\n",
       "    <tr>\n",
       "      <th>1</th>\n",
       "      <td>-1.731878</td>\n",
       "      <td>-1.161423</td>\n",
       "      <td>-0.332312</td>\n",
       "      <td>1.059984</td>\n",
       "      <td>-0.242985</td>\n",
       "      <td>-0.21801</td>\n",
       "      <td>-0.223835</td>\n",
       "      <td>-0.265801</td>\n",
       "      <td>-0.20727</td>\n",
       "      <td>-0.203353</td>\n",
       "      <td>-0.177332</td>\n",
       "      <td>-0.297352</td>\n",
       "      <td>0.831805</td>\n",
       "      <td>-0.187440</td>\n",
       "      <td>-0.267321</td>\n",
       "      <td>-0.266358</td>\n",
       "      <td>-0.205420</td>\n",
       "      <td>-0.268269</td>\n",
       "      <td>-0.141891</td>\n",
       "      <td>0.986574</td>\n",
       "      <td>2.419713</td>\n",
       "      <td>0.393100</td>\n",
       "      <td>-0.304147</td>\n",
       "      <td>-0.198739</td>\n",
       "      <td>-0.12087</td>\n",
       "      <td>5.070692</td>\n",
       "      <td>8.097945</td>\n",
       "      <td>-0.210814</td>\n",
       "      <td>1.019864</td>\n",
       "      <td>-0.487923</td>\n",
       "      <td>-0.311382</td>\n",
       "      <td>-0.202593</td>\n",
       "      <td>-0.191062</td>\n",
       "      <td>-0.299706</td>\n",
       "      <td>-0.260578</td>\n",
       "      <td>-0.220486</td>\n",
       "      <td>-0.182775</td>\n",
       "    </tr>\n",
       "    <tr>\n",
       "      <th>2</th>\n",
       "      <td>-1.731762</td>\n",
       "      <td>0.788301</td>\n",
       "      <td>-0.332312</td>\n",
       "      <td>1.059984</td>\n",
       "      <td>-0.242985</td>\n",
       "      <td>-0.21801</td>\n",
       "      <td>-0.223835</td>\n",
       "      <td>-0.265801</td>\n",
       "      <td>-0.20727</td>\n",
       "      <td>-0.203353</td>\n",
       "      <td>-0.177332</td>\n",
       "      <td>-0.297352</td>\n",
       "      <td>-0.406368</td>\n",
       "      <td>-0.187440</td>\n",
       "      <td>-0.267321</td>\n",
       "      <td>-0.266358</td>\n",
       "      <td>-0.205420</td>\n",
       "      <td>1.518804</td>\n",
       "      <td>-0.141891</td>\n",
       "      <td>0.194272</td>\n",
       "      <td>-0.342359</td>\n",
       "      <td>-0.349766</td>\n",
       "      <td>-0.304147</td>\n",
       "      <td>-0.198739</td>\n",
       "      <td>-0.12087</td>\n",
       "      <td>-0.389526</td>\n",
       "      <td>-0.253322</td>\n",
       "      <td>-0.210814</td>\n",
       "      <td>-0.379382</td>\n",
       "      <td>-0.487923</td>\n",
       "      <td>-0.311382</td>\n",
       "      <td>-0.202593</td>\n",
       "      <td>-0.191062</td>\n",
       "      <td>-0.299706</td>\n",
       "      <td>1.978708</td>\n",
       "      <td>-0.220486</td>\n",
       "      <td>-0.182775</td>\n",
       "    </tr>\n",
       "    <tr>\n",
       "      <th>3</th>\n",
       "      <td>-1.731647</td>\n",
       "      <td>-1.161423</td>\n",
       "      <td>-0.332312</td>\n",
       "      <td>-0.357739</td>\n",
       "      <td>-0.242985</td>\n",
       "      <td>-0.21801</td>\n",
       "      <td>-0.223835</td>\n",
       "      <td>-0.265801</td>\n",
       "      <td>-0.20727</td>\n",
       "      <td>-0.203353</td>\n",
       "      <td>-0.177332</td>\n",
       "      <td>-0.297352</td>\n",
       "      <td>0.831805</td>\n",
       "      <td>-0.187440</td>\n",
       "      <td>-0.267321</td>\n",
       "      <td>-0.266358</td>\n",
       "      <td>-0.205420</td>\n",
       "      <td>-0.268269</td>\n",
       "      <td>-0.141891</td>\n",
       "      <td>-0.598029</td>\n",
       "      <td>1.038677</td>\n",
       "      <td>-0.349766</td>\n",
       "      <td>-0.304147</td>\n",
       "      <td>-0.198739</td>\n",
       "      <td>-0.12087</td>\n",
       "      <td>-0.389526</td>\n",
       "      <td>-0.253322</td>\n",
       "      <td>-0.210814</td>\n",
       "      <td>-0.379382</td>\n",
       "      <td>-0.487923</td>\n",
       "      <td>-0.311382</td>\n",
       "      <td>-0.202593</td>\n",
       "      <td>-0.191062</td>\n",
       "      <td>-0.299706</td>\n",
       "      <td>-0.260578</td>\n",
       "      <td>-0.220486</td>\n",
       "      <td>-0.182775</td>\n",
       "    </tr>\n",
       "    <tr>\n",
       "      <th>4</th>\n",
       "      <td>-1.731531</td>\n",
       "      <td>1.623898</td>\n",
       "      <td>-0.332312</td>\n",
       "      <td>-0.357739</td>\n",
       "      <td>-0.242985</td>\n",
       "      <td>-0.21801</td>\n",
       "      <td>-0.223835</td>\n",
       "      <td>-0.265801</td>\n",
       "      <td>-0.20727</td>\n",
       "      <td>-0.203353</td>\n",
       "      <td>-0.177332</td>\n",
       "      <td>-0.297352</td>\n",
       "      <td>-0.406368</td>\n",
       "      <td>0.707974</td>\n",
       "      <td>-0.267321</td>\n",
       "      <td>-0.266358</td>\n",
       "      <td>9.475052</td>\n",
       "      <td>0.625267</td>\n",
       "      <td>-0.141891</td>\n",
       "      <td>1.778876</td>\n",
       "      <td>-0.342359</td>\n",
       "      <td>0.393100</td>\n",
       "      <td>-0.304147</td>\n",
       "      <td>-0.198739</td>\n",
       "      <td>-0.12087</td>\n",
       "      <td>0.520510</td>\n",
       "      <td>-0.253322</td>\n",
       "      <td>-0.210814</td>\n",
       "      <td>-0.379382</td>\n",
       "      <td>2.149024</td>\n",
       "      <td>-0.311382</td>\n",
       "      <td>-0.202593</td>\n",
       "      <td>-0.191062</td>\n",
       "      <td>-0.299706</td>\n",
       "      <td>-0.260578</td>\n",
       "      <td>2.284083</td>\n",
       "      <td>2.395151</td>\n",
       "    </tr>\n",
       "  </tbody>\n",
       "</table>\n",
       "</div>"
      ],
      "text/plain": [
       "    Cust_ID    Orders    Jordan  Gatorade   Samsung     Asus      Udis  \\\n",
       "0 -1.731993  0.788301 -0.332312 -0.357739 -0.242985 -0.21801 -0.223835   \n",
       "1 -1.731878 -1.161423 -0.332312  1.059984 -0.242985 -0.21801 -0.223835   \n",
       "2 -1.731762  0.788301 -0.332312  1.059984 -0.242985 -0.21801 -0.223835   \n",
       "3 -1.731647 -1.161423 -0.332312 -0.357739 -0.242985 -0.21801 -0.223835   \n",
       "4 -1.731531  1.623898 -0.332312 -0.357739 -0.242985 -0.21801 -0.223835   \n",
       "\n",
       "   Mondelez International  Wrangler      Vans      Fila    Brooks       H&M  \\\n",
       "0               -0.265801  -0.20727  3.446412 -0.177332 -0.297352 -0.406368   \n",
       "1               -0.265801  -0.20727 -0.203353 -0.177332 -0.297352  0.831805   \n",
       "2               -0.265801  -0.20727 -0.203353 -0.177332 -0.297352 -0.406368   \n",
       "3               -0.265801  -0.20727 -0.203353 -0.177332 -0.297352  0.831805   \n",
       "4               -0.265801  -0.20727 -0.203353 -0.177332 -0.297352 -0.406368   \n",
       "\n",
       "   Dairy Queen     Fendi  Hewlett Packard    Pladis     Asics   Siemens  \\\n",
       "0    -0.187440 -0.267321        -0.266358 -0.205420 -0.268269 -0.141891   \n",
       "1    -0.187440 -0.267321        -0.266358 -0.205420 -0.268269 -0.141891   \n",
       "2    -0.187440 -0.267321        -0.266358 -0.205420  1.518804 -0.141891   \n",
       "3    -0.187440 -0.267321        -0.266358 -0.205420 -0.268269 -0.141891   \n",
       "4     0.707974 -0.267321        -0.266358  9.475052  0.625267 -0.141891   \n",
       "\n",
       "   J.M. Smucker  Pop Chips   Juniper    Huawei    Compaq      IBM  Burberry  \\\n",
       "0     -0.598029  -0.342359 -0.349766 -0.304147 -0.198739 -0.12087 -0.389526   \n",
       "1      0.986574   2.419713  0.393100 -0.304147 -0.198739 -0.12087  5.070692   \n",
       "2      0.194272  -0.342359 -0.349766 -0.304147 -0.198739 -0.12087 -0.389526   \n",
       "3     -0.598029   1.038677 -0.349766 -0.304147 -0.198739 -0.12087 -0.389526   \n",
       "4      1.778876  -0.342359  0.393100 -0.304147 -0.198739 -0.12087  0.520510   \n",
       "\n",
       "         Mi        LG      Dior    Scabal  Tommy Hilfiger  Hollister  \\\n",
       "0 -0.253322 -0.210814 -0.379382 -0.487923       -0.311382  -0.202593   \n",
       "1  8.097945 -0.210814  1.019864 -0.487923       -0.311382  -0.202593   \n",
       "2 -0.253322 -0.210814 -0.379382 -0.487923       -0.311382  -0.202593   \n",
       "3 -0.253322 -0.210814 -0.379382 -0.487923       -0.311382  -0.202593   \n",
       "4 -0.253322 -0.210814 -0.379382  2.149024       -0.311382  -0.202593   \n",
       "\n",
       "   Forever 21  Colavita  Microsoft  Jiffy mix     Kraft  \n",
       "0   -0.191062 -0.299706  -0.260578  -0.220486 -0.182775  \n",
       "1   -0.191062 -0.299706  -0.260578  -0.220486 -0.182775  \n",
       "2   -0.191062 -0.299706   1.978708  -0.220486 -0.182775  \n",
       "3   -0.191062 -0.299706  -0.260578  -0.220486 -0.182775  \n",
       "4   -0.191062 -0.299706  -0.260578   2.284083  2.395151  "
      ]
     },
     "execution_count": 305,
     "metadata": {},
     "output_type": "execute_result"
    }
   ],
   "source": [
    "pca_df_ss.head()"
   ]
  },
  {
   "cell_type": "code",
   "execution_count": 306,
   "metadata": {},
   "outputs": [],
   "source": [
    "from sklearn.decomposition import PCA\n",
    "pca = PCA(n_components=len(pca_df_ss.columns))"
   ]
  },
  {
   "cell_type": "code",
   "execution_count": 307,
   "metadata": {},
   "outputs": [],
   "source": [
    "pca_arr = pca.fit_transform(pca_df_ss)"
   ]
  },
  {
   "cell_type": "code",
   "execution_count": 308,
   "metadata": {},
   "outputs": [],
   "source": [
    "pca_df = pd.DataFrame(pca_arr)"
   ]
  },
  {
   "cell_type": "code",
   "execution_count": 309,
   "metadata": {},
   "outputs": [
    {
     "data": {
      "text/html": [
       "<div>\n",
       "<style scoped>\n",
       "    .dataframe tbody tr th:only-of-type {\n",
       "        vertical-align: middle;\n",
       "    }\n",
       "\n",
       "    .dataframe tbody tr th {\n",
       "        vertical-align: top;\n",
       "    }\n",
       "\n",
       "    .dataframe thead th {\n",
       "        text-align: right;\n",
       "    }\n",
       "</style>\n",
       "<table border=\"1\" class=\"dataframe\">\n",
       "  <thead>\n",
       "    <tr style=\"text-align: right;\">\n",
       "      <th></th>\n",
       "      <th>0</th>\n",
       "      <th>1</th>\n",
       "      <th>2</th>\n",
       "      <th>3</th>\n",
       "      <th>4</th>\n",
       "      <th>5</th>\n",
       "      <th>6</th>\n",
       "      <th>7</th>\n",
       "      <th>8</th>\n",
       "      <th>9</th>\n",
       "      <th>10</th>\n",
       "      <th>11</th>\n",
       "      <th>12</th>\n",
       "      <th>13</th>\n",
       "      <th>14</th>\n",
       "      <th>15</th>\n",
       "      <th>16</th>\n",
       "      <th>17</th>\n",
       "      <th>18</th>\n",
       "      <th>19</th>\n",
       "      <th>20</th>\n",
       "      <th>21</th>\n",
       "      <th>22</th>\n",
       "      <th>23</th>\n",
       "      <th>24</th>\n",
       "      <th>25</th>\n",
       "      <th>26</th>\n",
       "      <th>27</th>\n",
       "      <th>28</th>\n",
       "      <th>29</th>\n",
       "      <th>30</th>\n",
       "      <th>31</th>\n",
       "      <th>32</th>\n",
       "      <th>33</th>\n",
       "      <th>34</th>\n",
       "      <th>35</th>\n",
       "      <th>36</th>\n",
       "    </tr>\n",
       "  </thead>\n",
       "  <tbody>\n",
       "    <tr>\n",
       "      <th>0</th>\n",
       "      <td>-1.310530</td>\n",
       "      <td>0.101953</td>\n",
       "      <td>0.009977</td>\n",
       "      <td>-0.916934</td>\n",
       "      <td>-0.897014</td>\n",
       "      <td>0.373162</td>\n",
       "      <td>0.997439</td>\n",
       "      <td>-1.482602</td>\n",
       "      <td>-1.170936</td>\n",
       "      <td>-0.921344</td>\n",
       "      <td>-0.558475</td>\n",
       "      <td>-0.326079</td>\n",
       "      <td>0.411353</td>\n",
       "      <td>0.774936</td>\n",
       "      <td>0.389125</td>\n",
       "      <td>0.085661</td>\n",
       "      <td>0.746206</td>\n",
       "      <td>1.064145</td>\n",
       "      <td>0.326012</td>\n",
       "      <td>0.665701</td>\n",
       "      <td>0.555234</td>\n",
       "      <td>-0.039336</td>\n",
       "      <td>-0.620615</td>\n",
       "      <td>0.760551</td>\n",
       "      <td>-0.988992</td>\n",
       "      <td>-0.185912</td>\n",
       "      <td>-0.367051</td>\n",
       "      <td>1.549783</td>\n",
       "      <td>0.680843</td>\n",
       "      <td>-0.320198</td>\n",
       "      <td>0.490951</td>\n",
       "      <td>0.382286</td>\n",
       "      <td>-0.084808</td>\n",
       "      <td>0.212027</td>\n",
       "      <td>0.114327</td>\n",
       "      <td>-0.030792</td>\n",
       "      <td>0.227717</td>\n",
       "    </tr>\n",
       "    <tr>\n",
       "      <th>1</th>\n",
       "      <td>3.232383</td>\n",
       "      <td>0.479065</td>\n",
       "      <td>-1.146082</td>\n",
       "      <td>0.501000</td>\n",
       "      <td>0.353411</td>\n",
       "      <td>-2.884713</td>\n",
       "      <td>-0.372937</td>\n",
       "      <td>-3.664774</td>\n",
       "      <td>-1.152586</td>\n",
       "      <td>-1.931669</td>\n",
       "      <td>1.874264</td>\n",
       "      <td>0.297185</td>\n",
       "      <td>2.219648</td>\n",
       "      <td>-1.622143</td>\n",
       "      <td>-1.024953</td>\n",
       "      <td>1.937502</td>\n",
       "      <td>-2.713765</td>\n",
       "      <td>-1.143930</td>\n",
       "      <td>-3.703789</td>\n",
       "      <td>2.663519</td>\n",
       "      <td>-0.018858</td>\n",
       "      <td>-1.091620</td>\n",
       "      <td>-0.845025</td>\n",
       "      <td>-0.229979</td>\n",
       "      <td>0.233496</td>\n",
       "      <td>0.090145</td>\n",
       "      <td>0.611720</td>\n",
       "      <td>-0.743164</td>\n",
       "      <td>-1.127470</td>\n",
       "      <td>0.779483</td>\n",
       "      <td>0.089757</td>\n",
       "      <td>0.554003</td>\n",
       "      <td>0.175097</td>\n",
       "      <td>0.503183</td>\n",
       "      <td>0.797386</td>\n",
       "      <td>-3.800655</td>\n",
       "      <td>1.377861</td>\n",
       "    </tr>\n",
       "    <tr>\n",
       "      <th>2</th>\n",
       "      <td>-0.711100</td>\n",
       "      <td>1.097961</td>\n",
       "      <td>-0.623148</td>\n",
       "      <td>-0.729267</td>\n",
       "      <td>0.484369</td>\n",
       "      <td>0.206091</td>\n",
       "      <td>-0.077961</td>\n",
       "      <td>-0.223039</td>\n",
       "      <td>-0.895051</td>\n",
       "      <td>-1.739267</td>\n",
       "      <td>-0.161082</td>\n",
       "      <td>0.024751</td>\n",
       "      <td>-0.358848</td>\n",
       "      <td>0.678960</td>\n",
       "      <td>-0.113981</td>\n",
       "      <td>-0.017937</td>\n",
       "      <td>-0.304240</td>\n",
       "      <td>0.661305</td>\n",
       "      <td>0.429269</td>\n",
       "      <td>-0.496462</td>\n",
       "      <td>0.564553</td>\n",
       "      <td>0.225877</td>\n",
       "      <td>0.477393</td>\n",
       "      <td>-0.050267</td>\n",
       "      <td>0.565535</td>\n",
       "      <td>0.720570</td>\n",
       "      <td>0.677698</td>\n",
       "      <td>0.064340</td>\n",
       "      <td>-0.121585</td>\n",
       "      <td>1.057036</td>\n",
       "      <td>-0.417306</td>\n",
       "      <td>0.154891</td>\n",
       "      <td>-0.499921</td>\n",
       "      <td>0.051469</td>\n",
       "      <td>-0.000117</td>\n",
       "      <td>0.632098</td>\n",
       "      <td>1.029517</td>\n",
       "    </tr>\n",
       "    <tr>\n",
       "      <th>3</th>\n",
       "      <td>-1.128886</td>\n",
       "      <td>0.366531</td>\n",
       "      <td>-0.660052</td>\n",
       "      <td>0.145266</td>\n",
       "      <td>-0.319616</td>\n",
       "      <td>-0.224574</td>\n",
       "      <td>0.503300</td>\n",
       "      <td>-0.984530</td>\n",
       "      <td>-0.296091</td>\n",
       "      <td>-0.133453</td>\n",
       "      <td>1.046357</td>\n",
       "      <td>0.682842</td>\n",
       "      <td>0.168417</td>\n",
       "      <td>0.161240</td>\n",
       "      <td>-0.051105</td>\n",
       "      <td>0.587349</td>\n",
       "      <td>0.048966</td>\n",
       "      <td>0.157090</td>\n",
       "      <td>0.305674</td>\n",
       "      <td>-0.597250</td>\n",
       "      <td>0.587423</td>\n",
       "      <td>-0.464070</td>\n",
       "      <td>-0.026430</td>\n",
       "      <td>0.551718</td>\n",
       "      <td>0.003484</td>\n",
       "      <td>-0.436884</td>\n",
       "      <td>-0.284258</td>\n",
       "      <td>-0.475905</td>\n",
       "      <td>-0.337819</td>\n",
       "      <td>0.170547</td>\n",
       "      <td>0.686094</td>\n",
       "      <td>-0.970026</td>\n",
       "      <td>-0.048989</td>\n",
       "      <td>0.000778</td>\n",
       "      <td>0.122862</td>\n",
       "      <td>-0.112297</td>\n",
       "      <td>0.219152</td>\n",
       "    </tr>\n",
       "    <tr>\n",
       "      <th>4</th>\n",
       "      <td>4.174545</td>\n",
       "      <td>2.298100</td>\n",
       "      <td>-3.134992</td>\n",
       "      <td>0.711781</td>\n",
       "      <td>-1.276437</td>\n",
       "      <td>0.891600</td>\n",
       "      <td>-1.464561</td>\n",
       "      <td>-1.850404</td>\n",
       "      <td>0.526600</td>\n",
       "      <td>1.407527</td>\n",
       "      <td>-1.742566</td>\n",
       "      <td>-2.158650</td>\n",
       "      <td>1.253128</td>\n",
       "      <td>1.392900</td>\n",
       "      <td>-1.150720</td>\n",
       "      <td>-0.860978</td>\n",
       "      <td>-1.089656</td>\n",
       "      <td>-0.495002</td>\n",
       "      <td>0.480955</td>\n",
       "      <td>-1.119787</td>\n",
       "      <td>1.002584</td>\n",
       "      <td>0.264154</td>\n",
       "      <td>1.162423</td>\n",
       "      <td>0.317604</td>\n",
       "      <td>-1.212474</td>\n",
       "      <td>-0.909459</td>\n",
       "      <td>0.046919</td>\n",
       "      <td>-0.033558</td>\n",
       "      <td>1.979742</td>\n",
       "      <td>-0.355350</td>\n",
       "      <td>0.359641</td>\n",
       "      <td>0.456557</td>\n",
       "      <td>-4.900169</td>\n",
       "      <td>3.713693</td>\n",
       "      <td>0.342587</td>\n",
       "      <td>2.917752</td>\n",
       "      <td>-1.477485</td>\n",
       "    </tr>\n",
       "  </tbody>\n",
       "</table>\n",
       "</div>"
      ],
      "text/plain": [
       "         0         1         2         3         4         5         6   \\\n",
       "0 -1.310530  0.101953  0.009977 -0.916934 -0.897014  0.373162  0.997439   \n",
       "1  3.232383  0.479065 -1.146082  0.501000  0.353411 -2.884713 -0.372937   \n",
       "2 -0.711100  1.097961 -0.623148 -0.729267  0.484369  0.206091 -0.077961   \n",
       "3 -1.128886  0.366531 -0.660052  0.145266 -0.319616 -0.224574  0.503300   \n",
       "4  4.174545  2.298100 -3.134992  0.711781 -1.276437  0.891600 -1.464561   \n",
       "\n",
       "         7         8         9         10        11        12        13  \\\n",
       "0 -1.482602 -1.170936 -0.921344 -0.558475 -0.326079  0.411353  0.774936   \n",
       "1 -3.664774 -1.152586 -1.931669  1.874264  0.297185  2.219648 -1.622143   \n",
       "2 -0.223039 -0.895051 -1.739267 -0.161082  0.024751 -0.358848  0.678960   \n",
       "3 -0.984530 -0.296091 -0.133453  1.046357  0.682842  0.168417  0.161240   \n",
       "4 -1.850404  0.526600  1.407527 -1.742566 -2.158650  1.253128  1.392900   \n",
       "\n",
       "         14        15        16        17        18        19        20  \\\n",
       "0  0.389125  0.085661  0.746206  1.064145  0.326012  0.665701  0.555234   \n",
       "1 -1.024953  1.937502 -2.713765 -1.143930 -3.703789  2.663519 -0.018858   \n",
       "2 -0.113981 -0.017937 -0.304240  0.661305  0.429269 -0.496462  0.564553   \n",
       "3 -0.051105  0.587349  0.048966  0.157090  0.305674 -0.597250  0.587423   \n",
       "4 -1.150720 -0.860978 -1.089656 -0.495002  0.480955 -1.119787  1.002584   \n",
       "\n",
       "         21        22        23        24        25        26        27  \\\n",
       "0 -0.039336 -0.620615  0.760551 -0.988992 -0.185912 -0.367051  1.549783   \n",
       "1 -1.091620 -0.845025 -0.229979  0.233496  0.090145  0.611720 -0.743164   \n",
       "2  0.225877  0.477393 -0.050267  0.565535  0.720570  0.677698  0.064340   \n",
       "3 -0.464070 -0.026430  0.551718  0.003484 -0.436884 -0.284258 -0.475905   \n",
       "4  0.264154  1.162423  0.317604 -1.212474 -0.909459  0.046919 -0.033558   \n",
       "\n",
       "         28        29        30        31        32        33        34  \\\n",
       "0  0.680843 -0.320198  0.490951  0.382286 -0.084808  0.212027  0.114327   \n",
       "1 -1.127470  0.779483  0.089757  0.554003  0.175097  0.503183  0.797386   \n",
       "2 -0.121585  1.057036 -0.417306  0.154891 -0.499921  0.051469 -0.000117   \n",
       "3 -0.337819  0.170547  0.686094 -0.970026 -0.048989  0.000778  0.122862   \n",
       "4  1.979742 -0.355350  0.359641  0.456557 -4.900169  3.713693  0.342587   \n",
       "\n",
       "         35        36  \n",
       "0 -0.030792  0.227717  \n",
       "1 -3.800655  1.377861  \n",
       "2  0.632098  1.029517  \n",
       "3 -0.112297  0.219152  \n",
       "4  2.917752 -1.477485  "
      ]
     },
     "execution_count": 309,
     "metadata": {},
     "output_type": "execute_result"
    }
   ],
   "source": [
    "pca_df.head()"
   ]
  },
  {
   "cell_type": "code",
   "execution_count": 310,
   "metadata": {},
   "outputs": [
    {
     "data": {
      "text/plain": [
       "array([8.27859916, 4.48452671, 4.16225549, 3.98780006, 3.76768569,\n",
       "       3.24998676, 3.03514146, 2.95031366, 2.87301368, 2.82055125,\n",
       "       2.72675671, 2.6852461 , 2.65259843, 2.63793014, 2.61643185,\n",
       "       2.59041687, 2.55052018, 2.47198387, 2.43707755, 2.39941264,\n",
       "       2.39503816, 2.36348015, 2.2915177 , 2.25366345, 2.23378794,\n",
       "       2.19503357, 2.17923302, 2.1587746 , 2.13218111, 2.09392963,\n",
       "       2.08436406, 1.98980262, 1.80733646, 1.76032992, 1.62217254,\n",
       "       1.5588416 , 1.50226521])"
      ]
     },
     "execution_count": 310,
     "metadata": {},
     "output_type": "execute_result"
    }
   ],
   "source": [
    "#Percentage of variance explained by each of the selected components.\n",
    "pca.explained_variance_ratio_ * 100"
   ]
  },
  {
   "cell_type": "code",
   "execution_count": 311,
   "metadata": {},
   "outputs": [
    {
     "data": {
      "text/plain": [
       "array([  8.27859916,  12.76312587,  16.92538137,  20.91318142,\n",
       "        24.68086711,  27.93085387,  30.96599533,  33.91630899,\n",
       "        36.78932267,  39.60987392,  42.33663062,  45.02187673,\n",
       "        47.67447515,  50.31240529,  52.92883715,  55.51925402,\n",
       "        58.0697742 ,  60.54175807,  62.97883562,  65.37824827,\n",
       "        67.77328642,  70.13676657,  72.42828428,  74.68194773,\n",
       "        76.91573567,  79.11076923,  81.29000226,  83.44877685,\n",
       "        85.58095796,  87.67488759,  89.75925165,  91.74905427,\n",
       "        93.55639073,  95.31672065,  96.93889319,  98.49773479,\n",
       "       100.        ])"
      ]
     },
     "execution_count": 311,
     "metadata": {},
     "output_type": "execute_result"
    }
   ],
   "source": [
    "np.cumsum(pca.explained_variance_ratio_) * 100"
   ]
  },
  {
   "cell_type": "code",
   "execution_count": 312,
   "metadata": {},
   "outputs": [
    {
     "data": {
      "text/html": [
       "<div>\n",
       "<style scoped>\n",
       "    .dataframe tbody tr th:only-of-type {\n",
       "        vertical-align: middle;\n",
       "    }\n",
       "\n",
       "    .dataframe tbody tr th {\n",
       "        vertical-align: top;\n",
       "    }\n",
       "\n",
       "    .dataframe thead th {\n",
       "        text-align: right;\n",
       "    }\n",
       "</style>\n",
       "<table border=\"1\" class=\"dataframe\">\n",
       "  <thead>\n",
       "    <tr style=\"text-align: right;\">\n",
       "      <th></th>\n",
       "      <th>0</th>\n",
       "      <th>1</th>\n",
       "    </tr>\n",
       "  </thead>\n",
       "  <tbody>\n",
       "    <tr>\n",
       "      <th>0</th>\n",
       "      <td>-1.310530</td>\n",
       "      <td>0.101953</td>\n",
       "    </tr>\n",
       "    <tr>\n",
       "      <th>1</th>\n",
       "      <td>3.232383</td>\n",
       "      <td>0.479065</td>\n",
       "    </tr>\n",
       "    <tr>\n",
       "      <th>2</th>\n",
       "      <td>-0.711100</td>\n",
       "      <td>1.097961</td>\n",
       "    </tr>\n",
       "    <tr>\n",
       "      <th>3</th>\n",
       "      <td>-1.128886</td>\n",
       "      <td>0.366531</td>\n",
       "    </tr>\n",
       "    <tr>\n",
       "      <th>4</th>\n",
       "      <td>4.174545</td>\n",
       "      <td>2.298100</td>\n",
       "    </tr>\n",
       "    <tr>\n",
       "      <th>...</th>\n",
       "      <td>...</td>\n",
       "      <td>...</td>\n",
       "    </tr>\n",
       "    <tr>\n",
       "      <th>29995</th>\n",
       "      <td>-1.052437</td>\n",
       "      <td>-0.452125</td>\n",
       "    </tr>\n",
       "    <tr>\n",
       "      <th>29996</th>\n",
       "      <td>-1.225112</td>\n",
       "      <td>-0.491354</td>\n",
       "    </tr>\n",
       "    <tr>\n",
       "      <th>29997</th>\n",
       "      <td>-1.072282</td>\n",
       "      <td>-0.606113</td>\n",
       "    </tr>\n",
       "    <tr>\n",
       "      <th>29998</th>\n",
       "      <td>-1.139256</td>\n",
       "      <td>-0.207709</td>\n",
       "    </tr>\n",
       "    <tr>\n",
       "      <th>29999</th>\n",
       "      <td>-0.579108</td>\n",
       "      <td>-0.651046</td>\n",
       "    </tr>\n",
       "  </tbody>\n",
       "</table>\n",
       "<p>30000 rows × 2 columns</p>\n",
       "</div>"
      ],
      "text/plain": [
       "              0         1\n",
       "0     -1.310530  0.101953\n",
       "1      3.232383  0.479065\n",
       "2     -0.711100  1.097961\n",
       "3     -1.128886  0.366531\n",
       "4      4.174545  2.298100\n",
       "...         ...       ...\n",
       "29995 -1.052437 -0.452125\n",
       "29996 -1.225112 -0.491354\n",
       "29997 -1.072282 -0.606113\n",
       "29998 -1.139256 -0.207709\n",
       "29999 -0.579108 -0.651046\n",
       "\n",
       "[30000 rows x 2 columns]"
      ]
     },
     "execution_count": 312,
     "metadata": {},
     "output_type": "execute_result"
    }
   ],
   "source": [
    "pca_2 = pca_df.iloc[:, :2]\n",
    "pca_2"
   ]
  },
  {
   "cell_type": "code",
   "execution_count": 313,
   "metadata": {},
   "outputs": [
    {
     "data": {
      "text/plain": [
       "<AxesSubplot:xlabel='0', ylabel='1'>"
      ]
     },
     "execution_count": 313,
     "metadata": {},
     "output_type": "execute_result"
    },
    {
     "data": {
      "image/png": "[encoded data removed]",
      "text/plain": [
       "<Figure size 648x432 with 1 Axes>"
      ]
     },
     "metadata": {
      "needs_background": "light"
     },
     "output_type": "display_data"
    }
   ],
   "source": [
    "plt.figure(figsize=(9,6))\n",
    "sns.scatterplot(x=pca_2[0], y=pca_2[1], hue=df['cluster'], palette='viridis')"
   ]
  },
  {
   "cell_type": "code",
   "execution_count": 368,
   "metadata": {},
   "outputs": [],
   "source": [
    "# Silgouette Score\n",
    "\n",
    "from sklearn.metrics import silhouette_samples"
   ]
  },
  {
   "cell_type": "code",
   "execution_count": 369,
   "metadata": {},
   "outputs": [],
   "source": [
    "cluster_labels = np.unique(clusters)"
   ]
  },
  {
   "cell_type": "code",
   "execution_count": 371,
   "metadata": {},
   "outputs": [],
   "source": [
    "n_clusters = cluster_labels.shape[0]"
   ]
  },
  {
   "cell_type": "code",
   "execution_count": 372,
   "metadata": {},
   "outputs": [],
   "source": [
    "silhouette_vals = silhouette_samples(df_scale, clusters,\n",
    "                                    metric='euclidean')"
   ]
  },
  {
   "cell_type": "code",
   "execution_count": 373,
   "metadata": {},
   "outputs": [
    {
     "data": {
      "text/plain": [
       "array([ 0.40797271, -0.13030702,  0.4169014 , ...,  0.47147737,\n",
       "        0.51896934,  0.43645979])"
      ]
     },
     "execution_count": 373,
     "metadata": {},
     "output_type": "execute_result"
    }
   ],
   "source": [
    "silhouette_vals"
   ]
  },
  {
   "cell_type": "code",
   "execution_count": 374,
   "metadata": {},
   "outputs": [],
   "source": [
    "from sklearn.metrics import silhouette_score"
   ]
  },
  {
   "cell_type": "code",
   "execution_count": 375,
   "metadata": {},
   "outputs": [],
   "source": [
    "silhouette_avg = silhouette_score(df_scale, clusters)"
   ]
  },
  {
   "cell_type": "code",
   "execution_count": 376,
   "metadata": {},
   "outputs": [
    {
     "data": {
      "text/plain": [
       "0.26557833813660486"
      ]
     },
     "execution_count": 376,
     "metadata": {},
     "output_type": "execute_result"
    }
   ],
   "source": [
    "silhouette_avg"
   ]
  },
  {
   "cell_type": "code",
   "execution_count": null,
   "metadata": {},
   "outputs": [],
   "source": []
  }
 ],
 "metadata": {
  "kernelspec": {
   "display_name": "Python 3",
   "language": "python",
   "name": "python3"
  },
  "language_info": {
   "codemirror_mode": {
    "name": "ipython",
    "version": 3
   },
   "file_extension": ".py",
   "mimetype": "text/x-python",
   "name": "python",
   "nbconvert_exporter": "python",
   "pygments_lexer": "ipython3",
   "version": "3.8.3"
  }
 },
 "nbformat": 4,
 "nbformat_minor": 4
}
